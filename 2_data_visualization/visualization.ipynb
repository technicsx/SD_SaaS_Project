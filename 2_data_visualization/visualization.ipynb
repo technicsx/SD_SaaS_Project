{
 "cells": [
  {
   "attachments": {},
   "cell_type": "markdown",
   "metadata": {},
   "source": [
    "### Installing depencencies\n"
   ]
  },
  {
   "cell_type": "code",
   "execution_count": null,
   "metadata": {},
   "outputs": [],
   "source": [
    "ENV[\"PYTHON\"] = \"C:\\\\Users\\\\lap2r\\\\AppData\\\\Local\\\\Programs\\\\Python\\\\Python311\\\\python.exe\"\n",
    "ENV[\"PYTHON\"] = \"C:\\\\Users\\\\lap2r\\\\AppData\\\\Local\\\\Programs\\\\Python\\\\Python311\\\\python.exe\"\n",
    "\n",
    "# using Pkg\n",
    "# Pkg.add(\"PyCall\")\n",
    "# Pkg.build(\"PyCall\")\n",
    "\n",
    "\n",
    "# Pkg.add(\"OrderedCollections\")\n",
    "# Pkg.add(\"PrettyTables\")\n",
    "# Pkg.add(\"DataFrames\")\n",
    "# Pkg.add(\"DotEnv\")\n",
    "# Pkg.add(\"CSV\")\n",
    "# Pkg.add(\"Plots\")\n",
    "# Pkg.add(\"Dates\")\n",
    "# Pkg.add(\"Gadfly\")\n",
    "# Pkg.add(\"StatsPlots\")\n",
    "# Pkg.add(\"StatsBase\")\n",
    "# Pkg.add(\"JSON\")\n",
    "# Pkg.add(\"Makie\")\n",
    "\n",
    "\n",
    "# using Conda\n",
    "# Conda.add(\"nltk\")\n",
    "# Conda.add(\"num2words\")"
   ]
  },
  {
   "attachments": {},
   "cell_type": "markdown",
   "metadata": {},
   "source": [
    "### Environment configuration\n"
   ]
  },
  {
   "cell_type": "code",
   "execution_count": null,
   "metadata": {},
   "outputs": [],
   "source": [
    "using PyCall\n",
    "pushfirst!(PyVector(pyimport(\"sys\")[\"path\"]), joinpath(@__DIR__, \"..\"))\n",
    "paths_rel = pyimport(\"paths_rel\")\n",
    "\n",
    "alarms_data_file_path = \"../\" * paths_rel.REL_ALARMS_DATA_FILE\n",
    "regions_data_file_path = \"../\" * paths_rel.REL_REGIONS_DATA_FILE\n",
    "weather_data_file_path = \"../\" * paths_rel.REL_WEATHER_DATA_FILE\n",
    "tfidf_csv_path = \"../\" * paths_rel.REL_ISW_TF_IDF_RESULT"
   ]
  },
  {
   "attachments": {},
   "cell_type": "markdown",
   "metadata": {},
   "source": [
    "## Alarms dataset analysis\n"
   ]
  },
  {
   "attachments": {},
   "cell_type": "markdown",
   "metadata": {},
   "source": [
    "##### Viewing dataset parameters\n"
   ]
  },
  {
   "cell_type": "code",
   "execution_count": null,
   "metadata": {},
   "outputs": [],
   "source": [
    "using DataFrames\n",
    "using CSV\n",
    "using StatsPlots\n",
    "\n",
    "alarms = DataFrame(CSV.File(alarms_data_file_path))"
   ]
  },
  {
   "cell_type": "code",
   "execution_count": null,
   "metadata": {},
   "outputs": [],
   "source": [
    "size(alarms)"
   ]
  },
  {
   "cell_type": "code",
   "execution_count": null,
   "metadata": {},
   "outputs": [],
   "source": [
    "eltype.(eachcol(alarms))"
   ]
  },
  {
   "cell_type": "code",
   "execution_count": null,
   "metadata": {},
   "outputs": [],
   "source": [
    "describe(alarms)"
   ]
  },
  {
   "attachments": {},
   "cell_type": "markdown",
   "metadata": {},
   "source": [
    "##### Analysing dataset contents\n"
   ]
  },
  {
   "cell_type": "code",
   "execution_count": null,
   "metadata": {},
   "outputs": [],
   "source": [
    "# first event date\n",
    "println(\"First event date: \", minimum(alarms[!, :start]))\n",
    "\n",
    "# max event date\n",
    "println(\"Latest event date: \", maximum(alarms[!, :end]))"
   ]
  },
  {
   "cell_type": "code",
   "execution_count": null,
   "metadata": {},
   "outputs": [],
   "source": [
    "using Dates\n",
    "using Statistics\n",
    "\n",
    "transform!(alarms, [:start, :end] => ((x, y) -> DateTime.(y, \"yyyy-mm-dd HH:MM:SS\") - DateTime.(x, \"yyyy-mm-dd HH:MM:SS\")) => :duration)\n",
    "\n",
    "transform!(alarms, :duration => (x -> Minute.(round.(Int, Dates.value.(x) / (1000 * 60)))) => :duration)\n",
    "\n",
    "println(\"minimum duration: \", minimum(alarms[!, :duration]))\n",
    "println(\"maximum duration: \", maximum(alarms[!, :duration]))\n",
    "\n",
    "sort!(alarms, :duration, rev=false)\n",
    "println(\"Sorted by minimum duration:\")\n",
    "println(first(alarms, 10))\n",
    "println(\"Sorted by maximum duration:\")\n",
    "sort!(alarms, :duration, rev=true)\n",
    "println(first(alarms, 10))"
   ]
  },
  {
   "cell_type": "code",
   "execution_count": null,
   "metadata": {},
   "outputs": [],
   "source": [
    "using StatsBase;\n",
    "duration_counts_v1 = countmap(alarms.duration)\n",
    "# convert Dict{Minute, Int64} to Dict{Int64, Int64}\n",
    "duration_counts_v1 = Dict{Int64, Int64}(k.value => v for (k, v) in duration_counts_v1)"
   ]
  },
  {
   "cell_type": "code",
   "execution_count": null,
   "metadata": {},
   "outputs": [],
   "source": [
    "# PLOTS_DEFAULTS = Dict(:dpi => 600)\n",
    "\n",
    "# https://docs.juliaplots.org/latest/generated/attributes_axis/\n",
    "# https://docs.juliaplots.org/latest/generated/attributes_plot/\n",
    "# https://docs.juliaplots.org/latest/generated/attributes_subplot/\n",
    "\n",
    "using Plots.PlotMeasures\n",
    "\n",
    "default(\n",
    "    legend=true,\n",
    "    color=:orangered,\n",
    "    background_color=:white,\n",
    "    linecolor=:orangered,\n",
    "    left_margin=5mm,\n",
    "    right_margin=5mm,\n",
    "    top_margin=5mm,\n",
    "    bottom_margin=5mm,\n",
    "    xrotation=90,\n",
    "    draw_arrow=true,\n",
    "    grid=false,\n",
    "    minorgrid=false,\n",
    "    dpi=600,\n",
    "    size=(800, 800),\n",
    ")"
   ]
  },
  {
   "cell_type": "code",
   "execution_count": null,
   "metadata": {},
   "outputs": [],
   "source": [
    "using Plots;\n",
    "\n",
    "max_x = maximum(keys(duration_counts_v1))\n",
    "max_y = maximum(values(duration_counts_v1))\n",
    "\n",
    "bar(\n",
    "    duration_counts_v1,\n",
    "    title=\"\\nAlarm duration to count\",\n",
    "    xlabel=\"Duration (minutes)\",\n",
    "    ylabel=\"Count\",\n",
    "    label=\"Count\",\n",
    "    xticks=(0:60:max_x+15),\n",
    "    yticks=(0:15:max_y+15),\n",
    "    xlims=(-20, max_x + 15),\n",
    "    ylims=(-10, max_y + 15),\n",
    "    grid=true,\n",
    "    minorgrid=true,\n",
    ")"
   ]
  },
  {
   "cell_type": "code",
   "execution_count": null,
   "metadata": {},
   "outputs": [],
   "source": [
    "duration_counts = countmap(alarms.duration)\n",
    "\n",
    "# convert dictionary to double array\n",
    "duration_counts = [k => v for (k, v) in duration_counts]\n",
    "duration_counts = sort(duration_counts, by=x -> x[2], rev=true)\n",
    "duration_counts = duration_counts[1:50]\n",
    "\n",
    "# take each pair and seprate them into 2 arrays first value of pair to first array and second value of pair to second array\n",
    "duration, counts = [x[1] for x in duration_counts], [x[2] for x in duration_counts]\n",
    "# create dataframe from items\n",
    "duration_counts = DataFrame(duration=duration, counts=counts)"
   ]
  },
  {
   "cell_type": "code",
   "execution_count": null,
   "metadata": {},
   "outputs": [],
   "source": [
    "# create a vector of count to region_title\n",
    "region_counts = countmap(alarms.region_title)\n",
    "# convert dictionary to double array\n",
    "region_counts = [k => v for (k, v) in region_counts]\n",
    "# sort the array by count\n",
    "region_counts = sort(region_counts, by=x -> x[2], rev=true)\n",
    "# take each pair and seprate them into 2 arrays first value of pair to first array and second value of pair to second array\n",
    "region_title, counts = [x[1] for x in region_counts], [x[2] for x in region_counts]\n",
    "# create dataframe from items\n",
    "region_counts = DataFrame(region_title=region_title, counts=counts)"
   ]
  },
  {
   "cell_type": "code",
   "execution_count": null,
   "metadata": {},
   "outputs": [],
   "source": [
    "bar(\n",
    "    region_counts.region_title,\n",
    "    region_counts.counts,\n",
    "    xlabel=\"Region name\",\n",
    "    ylabel=\"Count\",\n",
    "    title=\"Alarms Count by region\",\n",
    "    label=\"Count\",\n",
    "    xrotation=90,\n",
    "    xticks=:all,\n",
    "    yticks=0:100:3500,\n",
    ")"
   ]
  },
  {
   "cell_type": "code",
   "execution_count": null,
   "metadata": {},
   "outputs": [],
   "source": [
    "alarms"
   ]
  },
  {
   "cell_type": "code",
   "execution_count": null,
   "metadata": {},
   "outputs": [],
   "source": [
    "using Dates\n",
    "\n",
    "transform!(alarms, :start => (x -> Dates.year.(DateTime.(x, \"yyyy-mm-dd HH:MM:SS\"))) => :year)\n",
    "transform!(alarms, :start => (x -> Dates.month.(DateTime.(x, \"yyyy-mm-dd HH:MM:SS\"))) => :month)\n",
    "transform!(alarms, :start => (x -> Dates.day.(DateTime.(x, \"yyyy-mm-dd HH:MM:SS\"))) => :day)\n",
    "transform!(alarms, :start => (x -> Dates.week.(DateTime.(x, \"yyyy-mm-dd HH:MM:SS\"))) => :week)\n",
    "\n",
    "alarms[alarms.day .== 1 .&& alarms.month .== 1 .&& alarms.year .== 2023, :week] .= 0\n",
    "alarms[alarms.day .== 1 .&& alarms.month .== 1 .&& alarms.year .== 2023, :]"
   ]
  },
  {
   "cell_type": "code",
   "execution_count": null,
   "metadata": {},
   "outputs": [],
   "source": [
    "alarms[alarms.year .== 2023, :]"
   ]
  },
  {
   "cell_type": "code",
   "execution_count": null,
   "metadata": {},
   "outputs": [],
   "source": [
    "week_counts_2022 = countmap(alarms[alarms.year .== 2022, :week])\n",
    "week_2022, counts_2022 = [x[1] for x in week_counts_2022], [x[2] for x in week_counts_2022]\n",
    "\n",
    "max_x = maximum(week_2022)\n",
    "max_y = maximum(counts_2022)\n",
    "\n",
    "bar(\n",
    "    week_2022,\n",
    "    counts_2022,\n",
    "    xlabel=\"Week\",\n",
    "    ylabel=\"Count\",\n",
    "    title=\"Alarms count by week in 2022\",\n",
    "    label=\"Count\",\n",
    "    xrotation=0,\n",
    "    xticks=0:1:max_x,\n",
    "    yticks=0:100:max_y,\n",
    "    bar_width=0.3,\n",
    "    size=(1400, 800),\n",
    ")"
   ]
  },
  {
   "cell_type": "code",
   "execution_count": null,
   "metadata": {},
   "outputs": [],
   "source": [
    "week_counts_2023 = countmap(alarms[alarms.year .== 2023, :week])\n",
    "week_2023, counts_2023 = [x[1] for x in week_counts_2023], [x[2] for x in week_counts_2023]\n",
    "\n",
    "max_x = maximum(week_2023)\n",
    "max_y = maximum(counts_2023)\n",
    "\n",
    "bar(\n",
    "    week_2023,\n",
    "    counts_2023,\n",
    "    xlabel=\"Week\",\n",
    "    ylabel=\"Count\",\n",
    "    title=\"Alarms count by week in 2023\",\n",
    "    label=\"Count\",\n",
    "    xrotation=0,\n",
    "    xticks=0:1:max_x,\n",
    "    yticks=0:25:max_y,\n",
    "    bar_width=0.3,\n",
    "    size=(600, 600),\n",
    ")"
   ]
  },
  {
   "cell_type": "code",
   "execution_count": null,
   "metadata": {},
   "outputs": [],
   "source": [
    "using Dates\n",
    "using DataFrames\n",
    "\n",
    "# copy alarms\n",
    "df = alarms\n",
    "\n",
    "# assuming your dataframe is called df\n",
    "df.duration = map(x -> Dates.Minute(x), df.duration) # convert duration to Minute\n",
    "# filter for the year 2022\n",
    "df_2022 = filter(row -> row.year == 2022, df)\n",
    "# group by week and sum the duration\n",
    "cumulative_duration = combine(groupby(df_2022, :week), :duration => sum)\n",
    "# visualize cumulative_duration\n",
    "bar(\n",
    "    cumulative_duration[!, :week],\n",
    "    cumulative_duration[!, :duration_sum],\n",
    "    xlabel=\"Week\",\n",
    "    ylabel=\"Count\",\n",
    "    title=\"Alarms cumulative duration by week in 2022\",\n",
    "    label=\"Count\",\n",
    "    bar_width=0.3,\n",
    "    xticks=0:1:52,\n",
    "    yticks=0:5000:100000,\n",
    "    size=(1400, 800),\n",
    ")"
   ]
  },
  {
   "cell_type": "code",
   "execution_count": null,
   "metadata": {},
   "outputs": [],
   "source": [
    "using Dates\n",
    "using DataFrames\n",
    "\n",
    "# copy alarms\n",
    "df = alarms\n",
    "\n",
    "# assuming your dataframe is called df\n",
    "df.duration = map(x -> Dates.Minute(x), df.duration) # convert duration to Minute\n",
    "# filter for the year 2022\n",
    "df_2023 = filter(row -> row.year == 2023, df)\n",
    "# group by week and sum the duration\n",
    "cumulative_duration = combine(groupby(df_2023, :week), :duration => sum)\n",
    "# visualize cumulative_duration\n",
    "bar(\n",
    "    cumulative_duration[!, :week],\n",
    "    cumulative_duration[!, :duration_sum],\n",
    "    xlabel=\"Week\",\n",
    "    ylabel=\"Count\",\n",
    "    title=\"Alarms cumulative duration by week in 2023\",\n",
    "    label=\"Count\",\n",
    "    bar_width=0.3,\n",
    "    xticks=0:1:52,\n",
    "    yticks=0:5000:100000,\n",
    "    size=(800, 800),\n",
    ")"
   ]
  },
  {
   "cell_type": "code",
   "execution_count": null,
   "metadata": {},
   "outputs": [],
   "source": [
    "grouped_alarms = combine(groupby(alarms, :region_title), :duration => sum => :duration_sum)\n",
    "duration_regions = sort(grouped_alarms, :duration_sum, rev=true)"
   ]
  },
  {
   "cell_type": "code",
   "execution_count": null,
   "metadata": {},
   "outputs": [],
   "source": [
    "# visualize duration_regions\n",
    "bar(\n",
    "    duration_regions.region_title,\n",
    "    duration_regions.duration_sum,\n",
    "    xlabel=\"Region name\",\n",
    "    ylabel=\"Duration (minutes)\",\n",
    "    title=\"Alarms duration by region\",\n",
    "    label=\"Duration\",\n",
    "    xrotation=90,\n",
    "    xticks=:all,\n",
    "    # yticks=0:100:3500,\n",
    ")"
   ]
  },
  {
   "attachments": {},
   "cell_type": "markdown",
   "metadata": {},
   "source": [
    "**TF-IDF**\n"
   ]
  },
  {
   "cell_type": "code",
   "execution_count": null,
   "metadata": {},
   "outputs": [],
   "source": [
    "tfidf = DataFrame(CSV.File(tfidf_csv_path))\n",
    "\n",
    "println(size(tfidf))\n",
    "println(names(tfidf))\n",
    "println(describe(tfidf))\n",
    "\n",
    "using JSON\n",
    "tfidf_keywords = tfidf[!, :Keywords]\n",
    "tfidf_keywords = [JSON.parse(replace(tfidf_keywords[i], \"'\" => \"\\\"\"), dicttype=Dict{String,Float64}) for i in 1:length(tfidf_keywords)]\n",
    "\n",
    "# append tfidf with :Count column which will contain number of items in :Keywords\n",
    "tfidf[!, :Count] = [length(tfidf_keywords[i]) for i in 1:length(tfidf_keywords)]\n",
    "\n",
    "# tfidf_keywords_count = Dict{String,Int64}()\n",
    "# for i in 1:length(tfidf_keywords)\n",
    "#     for (k, v) in tfidf_keywords[i]\n",
    "#         if haskey(tfidf_keywords_count, k)\n",
    "#             tfidf_keywords_count[k] += 1\n",
    "#         else\n",
    "#             tfidf_keywords_count[k] = 1\n",
    "#         end\n",
    "#     end\n",
    "# end\n",
    "# tfidf_keywords_count\n",
    "\n",
    "\n",
    "# show :Name to count of :Keywords like \"assessment-2022-02-24\" - 4343 where 4343 is a count of items in :Keywords\n",
    "\n",
    "sort!(tfidf, [:Count], rev=true)\n",
    "# show :Name :Date and :Count columns\n",
    "tfidf[!, [:Name, :Date, :Count]]\n",
    "\n",
    "\n",
    "start_date = Date.(\"2022-02-01\", \"yyyy-mm-dd\")\n",
    "end_date = Date.(Dates.now())\n",
    "\n",
    "p = plot(\n",
    "        tfidf[!, :Date],\n",
    "        tfidf[!, :Count],\n",
    "        seriestype=:scatter,\n",
    "        xlabel=\"Date\",\n",
    "        ylabel=\"Count\",\n",
    "        xlims=Dates.value.([start_date, end_date]),\n",
    "        title=\"Date vs Unique words count\",\n",
    "        legend=true,\n",
    "        label=\"count\",\n",
    "        grid=false,\n",
    "        size=(1200, 600),\n",
    "        \n",
    ");\n",
    "\n",
    "p"
   ]
  },
  {
   "attachments": {},
   "cell_type": "markdown",
   "metadata": {},
   "source": [
    "### ISW Data Analysis\n"
   ]
  },
  {
   "cell_type": "code",
   "execution_count": null,
   "metadata": {},
   "outputs": [],
   "source": [
    "wordFrequencyToDateFrame = DataFrame()\n",
    "# word_collection = Dict{String,Int64}()\n",
    "\n",
    "file_contents = \"\"\n",
    "for (root, dirs, files) in walkdir(\"../0_data_scrapping/results/isw/\")\n",
    "    for file in files\n",
    "        if endswith(file, \".txt\")\n",
    "            file_path = joinpath(root, file)\n",
    "            file_content = read(file_path, String)\n",
    "            file_contents = file_contents * \" \" * file_content\n",
    "\n",
    "            words_count = length(split(file_content))\n",
    "            date = replace(file, \"assessment-\" => \"\")\n",
    "            date = replace(date, \".txt\" => \"\")\n",
    "            date = Date.(date, \"yyyy-mm-dd\")\n",
    "            wordFrequencyToDateFrame = vcat(wordFrequencyToDateFrame, DataFrame(Date=date, Count=words_count))\n",
    "        end\n",
    "    end\n",
    "end\n",
    "\n",
    "# call do_processing() function in 2_data_prepartion/text_preprocessing.py using pycall\n",
    "\n",
    "# println(PyCall.python)\n",
    "\n",
    "# println(joinpath(@__DIR__, \"..\", \"2_data_preparation\"))\n",
    "\n",
    "\n",
    "\n",
    "using PyCall\n",
    "pushfirst!(PyVector(pyimport(\"sys\")[\"path\"]), joinpath(@__DIR__, \"..\", \"2_data_preparation\"))\n",
    "text_processing = pyimport(\"text_preprocessing\")\n",
    "file_contents = text_processing.do_preprocessing(file_contents)\n",
    "\n",
    "\n",
    "\n",
    "wordFrequency = countmap(file_contents)\n",
    "wordFrequencyToDateFrame = DataFrame(wordFrequency)\n",
    "# set name for dataframe\n",
    "rename!(wordFrequencyToDateFrame)\n",
    "# wordFrequencyToDateFrame\n",
    "describe(wordFrequencyToDateFrame)\n",
    "\n",
    "\n",
    "\n",
    "using OrderedCollections\n",
    "\n",
    "od = OrderedDict(wordFrequency)\n",
    "od_vector = sort!(od; byvalue=true, rev=true)\n",
    "\n",
    "\n",
    "od_vector = first(od_vector, 100)\n",
    "od_vector = map(x -> [x.first, string(x.second)], od_vector)\n",
    "\n",
    "words_for_table = map(x -> x[1], od_vector)\n",
    "counts_for_table = map(x -> x[2], od_vector)\n",
    "\n",
    "Base.displaysize(x::DataFrame) = (100, 100)\n",
    "dadasdasd = DataFrame(Word=words_for_table, Count=counts_for_table)\n",
    "show(dadasdasd, allrows=true)"
   ]
  },
  {
   "cell_type": "code",
   "execution_count": null,
   "metadata": {},
   "outputs": [],
   "source": [
    "# using Plots\n",
    "# Plots.plot(words_for_table, counts_for_table)\n",
    "\n",
    "\n",
    "\n",
    "# visualize this Vector{Vector{Any}} (od_vector)\n",
    "# using PrettyTables\n",
    "# pretty_table(od_vector)\n",
    "\n",
    "\n",
    "\n",
    "# # visualize it\n",
    "# using Plots\n",
    "\n",
    "# sortedWordFrequency = sort(collect(wordFrequency), by=x->x[2], rev=true)\n",
    "# arrr = map(x -> [x.first, x.second], sortedWordFrequency)\n",
    "\n",
    "# display large table of first 50 words in wordFrequency\n",
    "\n",
    "\n",
    "\n",
    "# convert it to dataframe\n",
    "# wordFrequencyToDateFrame = DataFrame(wordFrequency)\n",
    "# sort by :Count\n",
    "# sort!(wordFrequencyToDateFrame, :Count, rev=true)\n",
    "\n",
    "\n",
    "# using PrettyTables\n",
    "# # Sort the dictionary by keys\n",
    "# sorted_keys = sort(collect(keys(wordFrequency)))\n",
    "# sorted_values = [wordFrequency[k] for k in sorted_keys]\n",
    "# pretty_table([sorted_keys sorted_values], [\"Key\", \"Value\"])\n",
    "# # Sort the dictionary by values\n",
    "# sorted_pairs = sort(collect(wordFrequency), by = x -> x[2])\n",
    "# pretty_table(sorted_pairs, [\"Key\", \"Value\"])"
   ]
  },
  {
   "cell_type": "code",
   "execution_count": null,
   "metadata": {},
   "outputs": [],
   "source": [
    "# create dataframe\n",
    "# 3×7 DataFrame\n",
    "#  Row │ variable  mean     min                                median   max                                nmissing  eltype   \n",
    "#      │ Symbol    Nothing  Any                                Nothing  Any                                Int64     DataType \n",
    "# ─────┼──────────────────────────────────────────────────────────────────────────────────────────────────────────────────────\n",
    "#    1 │ Name               assessment-2022-02-24                       assessment-2023-04-03                     0  String31\n",
    "#    2 │ Date               2022-02-24                                  2023-04-03                                0  Date\n",
    "#    3 │ Keywords           {'agent': 0.20139877526758002, '…           {'znpp': 0.26604239982226846, 'c…         0  String\n",
    "\n",
    "# sort it\n",
    "\n",
    "\n",
    "# sort!(wordFrequencyToDateFrame, :Count, rev=true)\n",
    "\n",
    "# println(describe(wordFrequencyToDateFrame))\n",
    "\n",
    "# using Plots\n",
    "# start_date = Date.(\"2022-02-01\", \"yyyy-mm-dd\")\n",
    "# end_date = Date.(Dates.now())\n",
    "# p = plot(wordFrequencyToDateFrame[!, :Date], wordFrequencyToDateFrame[!, :Count], seriestype=:scatter, xlabel=\"Date\", ylabel=\"Count\",\n",
    "#     xlims=Dates.value.([start_date, end_date]), title=\"Date vs Total article words count\",\n",
    "#     legend=true, label=\"count\", color=\"white\", background_color=\"black\",\n",
    "#     grid=false);\n",
    "# println(p)\n",
    "# println(word_collection)"
   ]
  }
 ],
 "metadata": {
  "kernelspec": {
   "display_name": "Julia 1.9.0-rc2",
   "language": "julia",
   "name": "julia-1.9"
  },
  "language_info": {
   "file_extension": ".jl",
   "mimetype": "application/julia",
   "name": "julia",
   "version": "1.9.0-rc2"
  },
  "orig_nbformat": 4
 },
 "nbformat": 4,
 "nbformat_minor": 2
}
