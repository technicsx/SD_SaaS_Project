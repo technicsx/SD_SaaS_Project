{
 "cells": [
  {
   "cell_type": "code",
   "execution_count": 1,
   "metadata": {},
   "outputs": [],
   "source": [
    "# using Pkg\n",
    "# Pkg.add(\"OrderedCollections\")\n",
    "# Pkg.add(\"PrettyTables\")\n",
    "\n",
    "# ENV[\"PYTHON\"] = \"C:\\\\Users\\\\lap2r\\\\AppData\\\\Local\\\\Programs\\\\Python\\\\Python311\\\\python.exe\"\n",
    "# ENV[\"PYTHON\"] = \"C:\\\\Users\\\\lap2r\\\\AppData\\\\Local\\\\Programs\\\\Python\\\\Python311\\\\python.exe\"\n",
    "# ENV[\"COLUMNS\"] = 200\n",
    "# ENV[\"LINES\"] = 100\n",
    "# Pkg.build(\"PyCall\")\n",
    "\n",
    "# Pkg.add(\"PyCall\")\n",
    "# Pkg.add(\"DataFrames\")\n",
    "# Pkg.add(\"DotEnv\")\n",
    "# Pkg.add(\"CSV\")\n",
    "# Pkg.add(\"Plots\")\n",
    "# Pkg.add(\"Dates\")\n",
    "# Pkg.add(\"Gadfly\")\n",
    "# Pkg.add(\"StatsPlots\")\n",
    "# Pkg.add(\"StatsBase\")\n",
    "# Pkg.add(\"JSON\")\n",
    "# Pkg.add(\"Makie\")\n",
    "\n",
    "# using Conda\n",
    "# Conda.add(\"nltk\")\n",
    "# Conda.add(\"num2words\")\n",
    "\n"
   ]
  },
  {
   "attachments": {},
   "cell_type": "markdown",
   "metadata": {},
   "source": [
    "#### Environment configuration"
   ]
  },
  {
   "cell_type": "code",
   "execution_count": 2,
   "metadata": {},
   "outputs": [
    {
     "ename": "KeyError",
     "evalue": "KeyError: key :ALARMS_DATA_FILE not found",
     "output_type": "error",
     "traceback": [
      "KeyError: key :ALARMS_DATA_FILE not found\n",
      "\n",
      "Stacktrace:\n",
      " [1] __getproperty\n",
      "   @ C:\\Users\\lap2r\\.julia\\packages\\PyCall\\twYvK\\src\\PyCall.jl:313 [inlined]\n",
      " [2] getproperty(o::PyObject, s::Symbol)\n",
      "   @ PyCall C:\\Users\\lap2r\\.julia\\packages\\PyCall\\twYvK\\src\\PyCall.jl:318\n",
      " [3] top-level scope\n",
      "   @ c:\\Users\\lap2r\\Desktop\\SD_SaaS_Project\\1_data_visualization\\visualization.ipynb:5"
     ]
    }
   ],
   "source": [
    "using PyCall\n",
    "pushfirst!(PyVector(pyimport(\"sys\")[\"path\"]), joinpath(@__DIR__, \"..\"))\n",
    "paths_rel = pyimport(\"paths_rel\") \n",
    "\n",
    "alarms_data_file_path = \"../\" * paths_rel.REL_ALARMS_DATA_FILE\n",
    "regions_data_file_path = \"../\" * paths_rel.REL_REGIONS_DATA_FILE\n",
    "weather_data_file_path = \"../\" * paths_rel.REL_WEATHER_DATA_FILE\n",
    "tfidf_csv_path = \"../\" * paths_rel.REL_ISW_TF_IDF_RESULT"
   ]
  },
  {
   "attachments": {},
   "cell_type": "markdown",
   "metadata": {},
   "source": [
    "### Alarms"
   ]
  },
  {
   "cell_type": "code",
   "execution_count": 3,
   "metadata": {},
   "outputs": [
    {
     "ename": "UndefVarError",
     "evalue": "UndefVarError: `alarms_data_file_path` not defined",
     "output_type": "error",
     "traceback": [
      "UndefVarError: `alarms_data_file_path` not defined\n",
      "\n",
      "Stacktrace:\n",
      " [1] top-level scope\n",
      "   @ c:\\Users\\lap2r\\Desktop\\SD_SaaS_Project\\1_data_visualization\\visualization.ipynb:5"
     ]
    }
   ],
   "source": [
    "using DataFrames\n",
    "using CSV\n",
    "using StatsPlots\n",
    "\n",
    "alarms = DataFrame(CSV.File(alarms_data_file_path))\n",
    "\n",
    "println(size(alarms))\n",
    "\n",
    "eltype.(eachcol(alarms))\n",
    "\n",
    "\n",
    "# plot!(size=(800,600))"
   ]
  },
  {
   "cell_type": "code",
   "execution_count": 4,
   "metadata": {},
   "outputs": [
    {
     "ename": "UndefVarError",
     "evalue": "UndefVarError: `alarms` not defined",
     "output_type": "error",
     "traceback": [
      "UndefVarError: `alarms` not defined\n",
      "\n",
      "Stacktrace:\n",
      " [1] top-level scope\n",
      "   @ c:\\Users\\lap2r\\Desktop\\SD_SaaS_Project\\1_data_visualization\\visualization.ipynb:2"
     ]
    }
   ],
   "source": [
    "# first 10 rows of the alarms\n",
    "first(alarms, 10)"
   ]
  },
  {
   "cell_type": "code",
   "execution_count": 5,
   "metadata": {},
   "outputs": [
    {
     "ename": "UndefVarError",
     "evalue": "UndefVarError: `alarms` not defined",
     "output_type": "error",
     "traceback": [
      "UndefVarError: `alarms` not defined\n",
      "\n",
      "Stacktrace:\n",
      " [1] top-level scope\n",
      "   @ c:\\Users\\lap2r\\Desktop\\SD_SaaS_Project\\1_data_visualization\\visualization.ipynb:2"
     ]
    }
   ],
   "source": [
    "# describe dataset\n",
    "describe(alarms)"
   ]
  },
  {
   "cell_type": "code",
   "execution_count": 6,
   "metadata": {},
   "outputs": [
    {
     "ename": "UndefVarError",
     "evalue": "UndefVarError: `alarms` not defined",
     "output_type": "error",
     "traceback": [
      "UndefVarError: `alarms` not defined\n",
      "\n",
      "Stacktrace:\n",
      " [1] top-level scope\n",
      "   @ c:\\Users\\lap2r\\Desktop\\SD_SaaS_Project\\1_data_visualization\\visualization.ipynb:2"
     ]
    }
   ],
   "source": [
    "# first event date\n",
    "println(\"first event date: \", minimum(alarms[!, :start]))\n",
    "\n",
    "# max event date\n",
    "println(\"max event date: \", maximum(alarms[!, :end]))"
   ]
  },
  {
   "cell_type": "code",
   "execution_count": 7,
   "metadata": {},
   "outputs": [
    {
     "ename": "UndefVarError",
     "evalue": "UndefVarError: `alarms` not defined",
     "output_type": "error",
     "traceback": [
      "UndefVarError: `alarms` not defined\n",
      "\n",
      "Stacktrace:\n",
      " [1] top-level scope\n",
      "   @ c:\\Users\\lap2r\\Desktop\\SD_SaaS_Project\\1_data_visualization\\visualization.ipynb:4"
     ]
    }
   ],
   "source": [
    "using Dates\n",
    "using Statistics\n",
    "\n",
    "transform!(alarms, [:start, :end] => ((x, y) -> DateTime.(y, \"yyyy-mm-dd HH:MM:SS\") - DateTime.(x, \"yyyy-mm-dd HH:MM:SS\")) => :duration)\n",
    "\n",
    "transform!(alarms, :duration => (x -> Minute.(round.(Int, Dates.value.(x) / (1000 * 60)))) => :duration)\n",
    "\n",
    "println(\"minimum duration: \", minimum(alarms[!, :duration]))\n",
    "println(\"maximum duration: \", maximum(alarms[!, :duration]))\n",
    "\n",
    "sort!(alarms, :duration, rev=false)\n",
    "println(first(alarms, 10))\n",
    "sort!(alarms, :duration, rev=true)\n",
    "println(first(alarms, 10))"
   ]
  },
  {
   "cell_type": "code",
   "execution_count": 8,
   "metadata": {},
   "outputs": [
    {
     "ename": "UndefVarError",
     "evalue": "UndefVarError: `alarms` not defined",
     "output_type": "error",
     "traceback": [
      "UndefVarError: `alarms` not defined\n",
      "\n",
      "Stacktrace:\n",
      " [1] top-level scope\n",
      "   @ c:\\Users\\lap2r\\Desktop\\SD_SaaS_Project\\1_data_visualization\\visualization.ipynb:4"
     ]
    }
   ],
   "source": [
    "# visualize duration and corresponding counts using StatsPlots\n",
    "using StatsPlots\n",
    "using StatsBase\n",
    "histogram(alarms[!, :duration], bins=100, xlabel=\"duration (minutes)\", ylabel=\"counts\", title=\"duration histogram\")\n",
    "\n",
    "# create a vector of durations\n",
    "durations = alarms.duration\n",
    "# count the frequency of each duration\n",
    "duration_counts = countmap(durations)\n",
    "# create a bar plot of the duration counts\n",
    "bar(duration_counts, xlabel=\"Duration (minutes)\", ylabel=\"Count\", title=\"Duration Counts\", legend=true, label=\"count\", color=\"white\", background_color=\"black\", grid=true)\n",
    "\n",
    "bar!(size=(800,600))\n",
    "\n",
    "\n",
    "# working:\n",
    "# using Plots\n",
    "# plot(alarms[!,:duration], seriestype=:histogram, bins=100, xlabel=\"duration (minutes)\", ylabel=\"counts\", title=\"duration histogram\")"
   ]
  },
  {
   "cell_type": "code",
   "execution_count": 9,
   "metadata": {},
   "outputs": [
    {
     "ename": "UndefVarError",
     "evalue": "UndefVarError: `alarms` not defined",
     "output_type": "error",
     "traceback": [
      "UndefVarError: `alarms` not defined\n",
      "\n",
      "Stacktrace:\n",
      " [1] top-level scope\n",
      "   @ c:\\Users\\lap2r\\Desktop\\SD_SaaS_Project\\1_data_visualization\\visualization.ipynb:1"
     ]
    }
   ],
   "source": [
    "duration_counts = countmap(alarms.duration)\n",
    "\n",
    "# duration_counts_df = DataFrame(duration_counts, [:duration, :count])"
   ]
  },
  {
   "cell_type": "markdown",
   "metadata": {},
   "source": [
    "**TF-IDF**"
   ]
  },
  {
   "cell_type": "code",
   "execution_count": 10,
   "metadata": {},
   "outputs": [
    {
     "ename": "UndefVarError",
     "evalue": "UndefVarError: `tfidf_csv_path` not defined",
     "output_type": "error",
     "traceback": [
      "UndefVarError: `tfidf_csv_path` not defined\n",
      "\n",
      "Stacktrace:\n",
      " [1] top-level scope\n",
      "   @ c:\\Users\\lap2r\\Desktop\\SD_SaaS_Project\\1_data_visualization\\visualization.ipynb:1"
     ]
    }
   ],
   "source": [
    "tfidf = DataFrame(CSV.File(tfidf_csv_path))\n",
    "\n",
    "println(size(tfidf))\n",
    "println(names(tfidf))\n",
    "println(describe(tfidf))\n",
    "\n",
    "using JSON\n",
    "tfidf_keywords = tfidf[!, :Keywords]\n",
    "tfidf_keywords = [JSON.parse(replace(tfidf_keywords[i], \"'\" => \"\\\"\"), dicttype=Dict{String,Float64}) for i in 1:length(tfidf_keywords)]\n",
    "\n",
    "# append tfidf with :Count column which will contain number of items in :Keywords\n",
    "tfidf[!, :Count] = [length(tfidf_keywords[i]) for i in 1:length(tfidf_keywords)]\n",
    "\n",
    "# tfidf_keywords_count = Dict{String,Int64}()\n",
    "# for i in 1:length(tfidf_keywords)\n",
    "#     for (k, v) in tfidf_keywords[i]\n",
    "#         if haskey(tfidf_keywords_count, k)\n",
    "#             tfidf_keywords_count[k] += 1\n",
    "#         else\n",
    "#             tfidf_keywords_count[k] = 1\n",
    "#         end\n",
    "#     end\n",
    "# end\n",
    "# tfidf_keywords_count\n",
    "\n",
    "\n",
    "# show :Name to count of :Keywords like \"assessment-2022-02-24\" - 4343 where 4343 is a count of items in :Keywords\n",
    "\n",
    "sort!(tfidf, [:Count], rev=true)\n",
    "# show :Name :Date and :Count columns\n",
    "tfidf[!, [:Name, :Date, :Count]]\n",
    "\n",
    "# visualize :Date and :Count using StatsPlots with x - :Date and y - :Count\n",
    "using Plots\n",
    "gr()\n",
    "# set limit to historgram\n",
    "\n",
    "start_date = Date.(\"2022-02-01\", \"yyyy-mm-dd\")\n",
    "end_date = Date.(Dates.now())\n",
    "p = plot(tfidf[!, :Date], tfidf[!, :Count], seriestype=:scatter, xlabel=\"Date\", ylabel=\"Count\",\n",
    "        xlims=Dates.value.([start_date, end_date]), title=\"Date vs Unique words count\",\n",
    "        legend=true, label=\"count\", color=\"white\", background_color=\"black\",\n",
    "        grid=false);\n",
    "\n",
    "plot!(size=(800, 600))\n",
    "# savefig(p, \"plot.png\")\n",
    "p"
   ]
  },
  {
   "attachments": {},
   "cell_type": "markdown",
   "metadata": {},
   "source": [
    "### ISW Data Analysis"
   ]
  },
  {
   "cell_type": "code",
   "execution_count": 24,
   "metadata": {},
   "outputs": [],
   "source": [
    "wordFrequencyToDateFrame = DataFrame()\n",
    "# word_collection = Dict{String,Int64}()\n",
    "\n",
    "file_contents = \"\"\n",
    "for (root, dirs, files) in walkdir(\"../0_data_scrapping/results/isw/\")\n",
    "    for file in files\n",
    "        if endswith(file, \".txt\")\n",
    "            file_path = joinpath(root, file)\n",
    "            file_content = read(file_path, String)\n",
    "            file_contents = file_contents * \" \" * file_content\n",
    "\n",
    "            words_count = length(split(file_content))\n",
    "            date = replace(file, \"assessment-\" => \"\")\n",
    "            date = replace(date, \".txt\" => \"\")\n",
    "            date = Date.(date, \"yyyy-mm-dd\")\n",
    "            wordFrequencyToDateFrame = vcat(wordFrequencyToDateFrame, DataFrame(Date=date, Count=words_count))\n",
    "        end\n",
    "    end\n",
    "end\n",
    "\n",
    "# call do_processing() function in 2_data_prepartion/text_preprocessing.py using pycall\n",
    "\n",
    "# println(PyCall.python)\n",
    "\n",
    "# println(joinpath(@__DIR__, \"..\", \"2_data_preparation\"))\n",
    "\n",
    "\n",
    "\n",
    "using PyCall\n",
    "pushfirst!(PyVector(pyimport(\"sys\")[\"path\"]), joinpath(@__DIR__, \"..\", \"2_data_preparation\"))\n",
    "text_processing = pyimport(\"text_preprocessing\")\n",
    "file_contents = text_processing.do_preprocessing(file_contents)\n",
    "\n",
    "\n",
    "\n",
    "wordFrequency = countmap(file_contents)\n",
    "wordFrequencyToDateFrame = DataFrame(wordFrequency)\n",
    "# set name for dataframe\n",
    "rename!(wordFrequencyToDateFrame)\n",
    "# wordFrequencyToDateFrame\n",
    "describe(wordFrequencyToDateFrame)\n",
    "\n",
    "\n",
    "\n",
    "using OrderedCollections\n",
    "\n",
    "od = OrderedDict(wordFrequency)\n",
    "od_vector = sort!(od; byvalue=true, rev=true)\n",
    "\n",
    "\n",
    "od_vector = first(od_vector, 100)\n",
    "od_vector = map(x -> [x.first, string(x.second)], od_vector)\n",
    "\n",
    "words_for_table = map(x -> x[1], od_vector)\n",
    "counts_for_table = map(x -> x[2], od_vector)\n",
    "\n",
    "Base.displaysize(x::DataFrame) = (100, 100)\n",
    "dadasdasd = DataFrame(Word=words_for_table, Count=counts_for_table)\n",
    "show(dadasdasd, allrows=true)"
   ]
  },
  {
   "cell_type": "code",
   "execution_count": null,
   "metadata": {},
   "outputs": [],
   "source": [
    "# using Plots\n",
    "# Plots.plot(words_for_table, counts_for_table)\n",
    "\n",
    "\n",
    "\n",
    "# visualize this Vector{Vector{Any}} (od_vector)\n",
    "# using PrettyTables\n",
    "# pretty_table(od_vector)\n",
    "\n",
    "\n",
    "\n",
    "# # visualize it\n",
    "# using Plots\n",
    "\n",
    "# sortedWordFrequency = sort(collect(wordFrequency), by=x->x[2], rev=true)\n",
    "# arrr = map(x -> [x.first, x.second], sortedWordFrequency)\n",
    "\n",
    "# display large table of first 50 words in wordFrequency\n",
    "\n",
    "\n",
    "\n",
    "# convert it to dataframe\n",
    "# wordFrequencyToDateFrame = DataFrame(wordFrequency)\n",
    "# sort by :Count\n",
    "# sort!(wordFrequencyToDateFrame, :Count, rev=true)\n",
    "\n",
    "\n",
    "# using PrettyTables\n",
    "# # Sort the dictionary by keys\n",
    "# sorted_keys = sort(collect(keys(wordFrequency)))\n",
    "# sorted_values = [wordFrequency[k] for k in sorted_keys]\n",
    "# pretty_table([sorted_keys sorted_values], [\"Key\", \"Value\"])\n",
    "# # Sort the dictionary by values\n",
    "# sorted_pairs = sort(collect(wordFrequency), by = x -> x[2])\n",
    "# pretty_table(sorted_pairs, [\"Key\", \"Value\"])"
   ]
  },
  {
   "cell_type": "code",
   "execution_count": null,
   "metadata": {},
   "outputs": [],
   "source": [
    "# create dataframe\n",
    "# 3×7 DataFrame\n",
    "#  Row │ variable  mean     min                                median   max                                nmissing  eltype   \n",
    "#      │ Symbol    Nothing  Any                                Nothing  Any                                Int64     DataType \n",
    "# ─────┼──────────────────────────────────────────────────────────────────────────────────────────────────────────────────────\n",
    "#    1 │ Name               assessment-2022-02-24                       assessment-2023-04-03                     0  String31\n",
    "#    2 │ Date               2022-02-24                                  2023-04-03                                0  Date\n",
    "#    3 │ Keywords           {'agent': 0.20139877526758002, '…           {'znpp': 0.26604239982226846, 'c…         0  String\n",
    "\n",
    "# sort it\n",
    "\n",
    "\n",
    "# sort!(wordFrequencyToDateFrame, :Count, rev=true)\n",
    "\n",
    "# println(describe(wordFrequencyToDateFrame))\n",
    "\n",
    "# using Plots\n",
    "# start_date = Date.(\"2022-02-01\", \"yyyy-mm-dd\")\n",
    "# end_date = Date.(Dates.now())\n",
    "# p = plot(wordFrequencyToDateFrame[!, :Date], wordFrequencyToDateFrame[!, :Count], seriestype=:scatter, xlabel=\"Date\", ylabel=\"Count\",\n",
    "#     xlims=Dates.value.([start_date, end_date]), title=\"Date vs Total article words count\",\n",
    "#     legend=true, label=\"count\", color=\"white\", background_color=\"black\",\n",
    "#     grid=false);\n",
    "# println(p)\n",
    "# println(word_collection)"
   ]
  }
 ],
 "metadata": {
  "kernelspec": {
   "display_name": "Julia 1.9.0-rc2",
   "language": "julia",
   "name": "julia-1.9"
  },
  "language_info": {
   "file_extension": ".jl",
   "mimetype": "application/julia",
   "name": "julia",
   "version": "1.9.0-rc2"
  },
  "orig_nbformat": 4
 },
 "nbformat": 4,
 "nbformat_minor": 2
}
