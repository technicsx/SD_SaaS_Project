{
 "cells": [
  {
   "attachments": {},
   "cell_type": "markdown",
   "metadata": {},
   "source": [
    "### Installing depencencies"
   ]
  },
  {
   "cell_type": "code",
   "execution_count": null,
   "metadata": {},
   "outputs": [],
   "source": [
    "ENV[\"PYTHON\"] = \"C:\\\\Users\\\\lap2r\\\\AppData\\\\Local\\\\Programs\\\\Python\\\\Python311\\\\python.exe\"\n",
    "ENV[\"PYTHON\"] = \"C:\\\\Users\\\\lap2r\\\\AppData\\\\Local\\\\Programs\\\\Python\\\\Python311\\\\python.exe\""
   ]
  },
  {
   "attachments": {},
   "cell_type": "markdown",
   "metadata": {},
   "source": [
    "### Environment configuration"
   ]
  },
  {
   "cell_type": "code",
   "execution_count": null,
   "metadata": {},
   "outputs": [],
   "source": [
    "using PyCall\n",
    "pushfirst!(PyVector(pyimport(\"sys\")[\"path\"]), joinpath(@__DIR__, \"..\"))\n",
    "paths_rel = pyimport(\"paths_rel\")\n",
    "\n",
    "alarms_data_file_path = \"../\" * paths_rel.REL_ALARMS_DATA_FILE"
   ]
  },
  {
   "attachments": {},
   "cell_type": "markdown",
   "metadata": {},
   "source": [
    "## Alarms dataset EDA"
   ]
  },
  {
   "attachments": {},
   "cell_type": "markdown",
   "metadata": {},
   "source": [
    "##### Viewing dataset parameters\n"
   ]
  },
  {
   "cell_type": "code",
   "execution_count": null,
   "metadata": {},
   "outputs": [],
   "source": [
    "using DataFrames\n",
    "using CSV\n",
    "using StatsPlots\n",
    "\n",
    "alarms = DataFrame(CSV.File(alarms_data_file_path))"
   ]
  },
  {
   "cell_type": "code",
   "execution_count": null,
   "metadata": {},
   "outputs": [],
   "source": [
    "size(alarms)"
   ]
  },
  {
   "cell_type": "code",
   "execution_count": null,
   "metadata": {},
   "outputs": [],
   "source": [
    "eltype.(eachcol(alarms))"
   ]
  },
  {
   "cell_type": "code",
   "execution_count": null,
   "metadata": {},
   "outputs": [],
   "source": [
    "describe(alarms)"
   ]
  },
  {
   "attachments": {},
   "cell_type": "markdown",
   "metadata": {},
   "source": [
    "##### Analysing dataset contents\n"
   ]
  },
  {
   "cell_type": "code",
   "execution_count": null,
   "metadata": {},
   "outputs": [],
   "source": [
    "# first event date\n",
    "println(\"First event date: \", minimum(alarms[!, :start]))\n",
    "\n",
    "# max event date\n",
    "println(\"Latest event date: \", maximum(alarms[!, :end]))"
   ]
  },
  {
   "cell_type": "code",
   "execution_count": null,
   "metadata": {},
   "outputs": [],
   "source": [
    "using Dates\n",
    "using Statistics\n",
    "using StatsBase\n",
    "\n",
    "transform!(alarms, [:start, :end] => ((x, y) -> DateTime.(y, \"yyyy-mm-dd HH:MM:SS\") - DateTime.(x, \"yyyy-mm-dd HH:MM:SS\")) => :duration)\n",
    "\n",
    "transform!(alarms, :duration => (x -> Minute.(round.(Int, Dates.value.(x) / (1000 * 60)))) => :duration)\n",
    "\n",
    "println(\"minimum duration: \", minimum(alarms[!, :duration]))\n",
    "println(\"maximum duration: \", maximum(alarms[!, :duration]))\n",
    "\n",
    "sort!(alarms, :duration, rev=false)\n",
    "println(\"Sorted by minimum duration:\")\n",
    "println(first(alarms, 10))\n",
    "println(\"Sorted by maximum duration:\")\n",
    "sort!(alarms, :duration, rev=true)\n",
    "println(first(alarms, 10))"
   ]
  },
  {
   "cell_type": "code",
   "execution_count": null,
   "metadata": {},
   "outputs": [],
   "source": [
    "using StatsBase\n",
    "duration_counts_v1 = countmap(alarms.duration)\n",
    "# convert Dict{Minute, Int64} to Dict{Int64, Int64}\n",
    "duration_counts_v1 = Dict{Int64, Int64}(k.value => v for (k, v) in duration_counts_v1)"
   ]
  },
  {
   "cell_type": "code",
   "execution_count": null,
   "metadata": {},
   "outputs": [],
   "source": [
    "# PLOTS_DEFAULTS = Dict(:dpi => 600)\n",
    "\n",
    "# https://docs.juliaplots.org/latest/generated/attributes_axis/\n",
    "# https://docs.juliaplots.org/latest/generated/attributes_plot/\n",
    "# https://docs.juliaplots.org/latest/generated/attributes_subplot/\n",
    "\n",
    "using Plots.PlotMeasures\n",
    "\n",
    "default(\n",
    "    legend=true,\n",
    "    left_margin=5mm,\n",
    "    right_margin=5mm,\n",
    "    top_margin=5mm,\n",
    "    bottom_margin=5mm,\n",
    "    xrotation=90,\n",
    "    draw_arrow=true,\n",
    "    grid=false,\n",
    "    minorgrid=false,\n",
    "    dpi=600,\n",
    "    size=(800, 800),\n",
    "    color=RGB(250 / 255, 135 / 255, 117 / 255),\n",
    "    linecolor=RGB(250 / 255, 135 / 255, 117 / 255),\n",
    ")"
   ]
  },
  {
   "cell_type": "code",
   "execution_count": null,
   "metadata": {},
   "outputs": [],
   "source": [
    "using Plots;\n",
    "\n",
    "max_x = maximum(keys(duration_counts_v1))\n",
    "max_y = maximum(values(duration_counts_v1))\n",
    "\n",
    "bar(\n",
    "    duration_counts_v1,\n",
    "    title=\"\\nAlarm duration to count\",\n",
    "    xlabel=\"Duration (minutes)\",\n",
    "    ylabel=\"Count\",\n",
    "    label=\"Count\",\n",
    "    xticks=(0:60:max_x+50),\n",
    "    yticks=(0:15:max_y+15),\n",
    "    xlims=(-20, max_x + 50),\n",
    "    ylims=(-10, max_y + 15),\n",
    "    grid=true,\n",
    "    minorgrid=true,\n",
    "    size=(1200, 800),\n",
    ")"
   ]
  },
  {
   "cell_type": "code",
   "execution_count": null,
   "metadata": {},
   "outputs": [],
   "source": [
    "duration_counts = countmap(alarms.duration)\n",
    "\n",
    "# convert dictionary to double array\n",
    "duration_counts = [k => v for (k, v) in duration_counts]\n",
    "duration_counts = sort(duration_counts, by=x -> x[2], rev=true)\n",
    "duration_counts = duration_counts[1:50]\n",
    "\n",
    "# take each pair and seprate them into 2 arrays first value of pair to first array and second value of pair to second array\n",
    "duration, counts = [x[1] for x in duration_counts], [x[2] for x in duration_counts]\n",
    "# create dataframe from items\n",
    "duration_counts = DataFrame(duration=duration, counts=counts)"
   ]
  },
  {
   "cell_type": "code",
   "execution_count": null,
   "metadata": {},
   "outputs": [],
   "source": [
    "# create a vector of count to region_title\n",
    "region_counts = countmap(alarms.region_title)\n",
    "# convert dictionary to double array\n",
    "region_counts = [k => v for (k, v) in region_counts]\n",
    "# sort the array by count\n",
    "region_counts = sort(region_counts, by=x -> x[2], rev=true)\n",
    "# take each pair and seprate them into 2 arrays first value of pair to first array and second value of pair to second array\n",
    "region_title, counts = [x[1] for x in region_counts], [x[2] for x in region_counts]\n",
    "# create dataframe from items\n",
    "region_counts = DataFrame(region_title=region_title, counts=counts)"
   ]
  },
  {
   "cell_type": "code",
   "execution_count": null,
   "metadata": {},
   "outputs": [],
   "source": [
    "bar(\n",
    "    region_counts.region_title,\n",
    "    region_counts.counts,\n",
    "    xlabel=\"Region name\",\n",
    "    ylabel=\"Count\",\n",
    "    title=\"\\nAlarms Count by region\",\n",
    "    label=\"Count\",\n",
    "    xrotation=90,\n",
    "    xticks=:all,\n",
    "    yticks=0:100:3500,\n",
    ")"
   ]
  },
  {
   "cell_type": "code",
   "execution_count": null,
   "metadata": {},
   "outputs": [],
   "source": [
    "alarms"
   ]
  },
  {
   "cell_type": "code",
   "execution_count": null,
   "metadata": {},
   "outputs": [],
   "source": [
    "using Dates\n",
    "\n",
    "transform!(alarms, :start => (x -> Dates.year.(DateTime.(x, \"yyyy-mm-dd HH:MM:SS\"))) => :year)\n",
    "transform!(alarms, :start => (x -> Dates.month.(DateTime.(x, \"yyyy-mm-dd HH:MM:SS\"))) => :month)\n",
    "transform!(alarms, :start => (x -> Dates.day.(DateTime.(x, \"yyyy-mm-dd HH:MM:SS\"))) => :day)\n",
    "transform!(alarms, :start => (x -> Dates.week.(DateTime.(x, \"yyyy-mm-dd HH:MM:SS\"))) => :week)\n",
    "transform!(alarms, :start => (x -> Dates.dayname.(DateTime.(x, \"yyyy-mm-dd HH:MM:SS\"))) => :dayname)\n",
    "\n",
    "\n",
    "alarms[alarms.day .== 1 .&& alarms.month .== 1 .&& alarms.year .== 2023, :week] .= 0\n",
    "alarms[alarms.day .== 1 .&& alarms.month .== 1 .&& alarms.year .== 2023, :]"
   ]
  },
  {
   "cell_type": "code",
   "execution_count": null,
   "metadata": {},
   "outputs": [],
   "source": [
    "alarms[alarms.year .== 2023, :]"
   ]
  },
  {
   "cell_type": "code",
   "execution_count": null,
   "metadata": {},
   "outputs": [],
   "source": [
    "week_counts_2022 = countmap(alarms[alarms.year .== 2022, :week])\n",
    "week_2022, counts_2022 = [x[1] for x in week_counts_2022], [x[2] for x in week_counts_2022]\n",
    "\n",
    "max_x = maximum(week_2022)\n",
    "max_y = maximum(counts_2022)\n",
    "\n",
    "bar(\n",
    "    week_2022,\n",
    "    counts_2022,\n",
    "    xlabel=\"Week\",\n",
    "    ylabel=\"Count\",\n",
    "    title=\"\\nAlarms count by week in 2022\",\n",
    "    label=\"Count\",\n",
    "    xrotation=0,\n",
    "    xticks=0:1:max_x,\n",
    "    yticks=0:100:max_y,\n",
    "    bar_width=0.3,\n",
    "    size=(1400, 800),\n",
    ")"
   ]
  },
  {
   "cell_type": "code",
   "execution_count": null,
   "metadata": {},
   "outputs": [],
   "source": [
    "week_counts_2023 = countmap(alarms[alarms.year .== 2023, :week])\n",
    "week_2023, counts_2023 = [x[1] for x in week_counts_2023], [x[2] for x in week_counts_2023]\n",
    "\n",
    "max_x = maximum(week_2023)\n",
    "max_y = maximum(counts_2023)\n",
    "\n",
    "bar(\n",
    "    week_2023,\n",
    "    counts_2023,\n",
    "    xlabel=\"Week\",\n",
    "    ylabel=\"Count\",\n",
    "    title=\"\\nAlarms count by week in 2023\",\n",
    "    label=\"Count\",\n",
    "    xrotation=0,\n",
    "    xticks=0:1:max_x,\n",
    "    yticks=0:25:max_y,\n",
    "    bar_width=0.3,\n",
    "    size=(600, 600),\n",
    ")"
   ]
  },
  {
   "cell_type": "code",
   "execution_count": null,
   "metadata": {},
   "outputs": [],
   "source": [
    "using Dates\n",
    "using DataFrames\n",
    "\n",
    "# copy alarms\n",
    "df = alarms\n",
    "\n",
    "# assuming your dataframe is called df\n",
    "df.duration = map(x -> Dates.Minute(x), df.duration) # convert duration to Minute\n",
    "# filter for the year 2022\n",
    "df_2022 = filter(row -> row.year == 2022, df)\n",
    "# group by week and sum the duration\n",
    "cumulative_duration = combine(groupby(df_2022, :week), :duration => sum)\n",
    "# visualize cumulative_duration\n",
    "bar(\n",
    "    cumulative_duration[!, :week],\n",
    "    cumulative_duration[!, :duration_sum],\n",
    "    xlabel=\"Week\",\n",
    "    ylabel=\"Count\",\n",
    "    title=\"\\nAlarms cumulative duration by week in 2022\",\n",
    "    label=\"Count\",\n",
    "    bar_width=0.3,\n",
    "    xticks=0:1:52,\n",
    "    yticks=0:5000:100000,\n",
    "    size=(1400, 800),\n",
    ")"
   ]
  },
  {
   "cell_type": "code",
   "execution_count": null,
   "metadata": {},
   "outputs": [],
   "source": [
    "using Dates\n",
    "using DataFrames\n",
    "\n",
    "# copy alarms\n",
    "df = alarms\n",
    "\n",
    "# assuming your dataframe is called df\n",
    "df.duration = map(x -> Dates.Minute(x), df.duration) # convert duration to Minute\n",
    "# filter for the year 2022\n",
    "df_2023 = filter(row -> row.year == 2023, df)\n",
    "# group by week and sum the duration\n",
    "cumulative_duration = combine(groupby(df_2023, :week), :duration => sum)\n",
    "# visualize cumulative_duration\n",
    "bar(\n",
    "    cumulative_duration[!, :week],\n",
    "    cumulative_duration[!, :duration_sum],\n",
    "    xlabel=\"Week\",\n",
    "    ylabel=\"Count\",\n",
    "    title=\"\\nAlarms cumulative duration by week in 2023\",\n",
    "    label=\"Count\",\n",
    "    bar_width=0.3,\n",
    "    xticks=0:1:52,\n",
    "    yticks=0:5000:100000,\n",
    "    rotation=0,\n",
    "    size=(800, 800),\n",
    ")"
   ]
  },
  {
   "cell_type": "code",
   "execution_count": null,
   "metadata": {},
   "outputs": [],
   "source": [
    "grouped_alarms = combine(groupby(alarms, :region_title), :duration => sum => :duration_sum)\n",
    "duration_regions = sort(grouped_alarms, :duration_sum, rev=true)"
   ]
  },
  {
   "cell_type": "code",
   "execution_count": null,
   "metadata": {},
   "outputs": [],
   "source": [
    "# visualize duration_regions\n",
    "bar(\n",
    "    duration_regions.region_title,\n",
    "    duration_regions.duration_sum,\n",
    "    xlabel=\"Region name\",\n",
    "    ylabel=\"Duration (minutes)\",\n",
    "    title=\"\\nAlarms duration by region\",\n",
    "    label=\"Duration\",\n",
    "    xrotation=90,\n",
    "    xticks=:all,\n",
    "    # yticks=0:100:3500,\n",
    ")"
   ]
  },
  {
   "cell_type": "code",
   "execution_count": null,
   "metadata": {},
   "outputs": [],
   "source": [
    "dayofweek_order = [\"Monday\", \"Tuesday\", \"Wednesday\", \"Thursday\", \"Friday\", \"Saturday\", \"Sunday\"]\n",
    "\n",
    "# count number of alarms for each :dayofweek\n",
    "dayofweek_counts = countmap(alarms.dayname)\n",
    "# convert dictionary to double array\n",
    "dayofweek_counts = [k => v for (k, v) in dayofweek_counts]\n",
    "# sort the array by dayofweek_order\n",
    "dayofweek_counts = sort(dayofweek_counts, by=x -> findfirst(dayofweek_order .== x[1]))\n",
    "# take each pair and seprate them into 2 arrays first value of pair to first array and second value of pair to second array\n",
    "dayofweek_title, counts = [x[1] for x in dayofweek_counts], [x[2] for x in dayofweek_counts]"
   ]
  },
  {
   "cell_type": "code",
   "execution_count": null,
   "metadata": {},
   "outputs": [],
   "source": [
    "# visualize it converting :dayofweek to monday, tuesday, etc\n",
    "bar(\n",
    "    dayofweek_title,\n",
    "    counts,\n",
    "    xlabel=\"\\nDay of week\",\n",
    "    ylabel=\"Count\",\n",
    "    title=\"\\nAlarms count by day of week\",\n",
    "    label=\"Count\",\n",
    "    xrotation=0,\n",
    "    xticks=:all,\n",
    "    yticks=0:100:3500,\n",
    "    bar_width=0.3,\n",
    "    size=(600, 600),\n",
    "    legend=false,\n",
    ")"
   ]
  },
  {
   "cell_type": "code",
   "execution_count": null,
   "metadata": {},
   "outputs": [],
   "source": [
    "alarms_kyiv = filter(row -> row.region_city == \"Київ\", alarms)\n",
    "alarms_kyiv = filter(row -> row.year == 2023, alarms)\n",
    "\n",
    "city_title_counts = countmap(alarms_kyiv.dayname)\n",
    "city_title_counts = [k => v for (k, v) in city_title_counts]\n",
    "city_title_counts = sort(city_title_counts, by=x -> findfirst(dayofweek_order .== x[1]))\n",
    "city_title_title, counts = [x[1] for x in city_title_counts], [x[2] for x in city_title_counts]"
   ]
  },
  {
   "cell_type": "code",
   "execution_count": null,
   "metadata": {},
   "outputs": [],
   "source": [
    "bar(\n",
    "    city_title_title,\n",
    "    counts,\n",
    "    xlabel=\"\\nDay of week\",\n",
    "    ylabel=\"Count\",\n",
    "    title=\"\\nAlarms count by day of week in Kyiv 2023\",\n",
    "    label=\"Count\",\n",
    "    xrotation=0,\n",
    "    xticks=:all,\n",
    "    yticks=0:100:3500,\n",
    "    bar_width=0.3,\n",
    "    size=(600, 600),\n",
    "    legend=false,\n",
    ")"
   ]
  },
  {
   "cell_type": "code",
   "execution_count": null,
   "metadata": {},
   "outputs": [],
   "source": [
    "alarms_kyiv = filter(row -> row.region_city == \"Київ\", alarms)\n",
    "alarms_kyiv = filter(row -> row.year == 2022, alarms)\n",
    "alarms_kyiv = filter(row -> row.month in 9:12, alarms)\n",
    "\n",
    "city_title_counts = countmap(alarms_kyiv.dayname)\n",
    "city_title_counts = [k => v for (k, v) in city_title_counts]\n",
    "city_title_counts = sort(city_title_counts, by=x -> findfirst(dayofweek_order .== x[1]))\n",
    "city_title_title, counts = [x[1] for x in city_title_counts], [x[2] for x in city_title_counts]"
   ]
  },
  {
   "cell_type": "code",
   "execution_count": null,
   "metadata": {},
   "outputs": [],
   "source": [
    "bar(\n",
    "    city_title_title,\n",
    "    counts,\n",
    "    xlabel=\"\\nDay of week\",\n",
    "    ylabel=\"Count\",\n",
    "    title=\"\\nAlarms count by day of week\\nin Kyiv 2022 (September - December)\",\n",
    "    label=\"Count\",\n",
    "    xrotation=0,\n",
    "    xticks=:all,\n",
    "    yticks=0:100:3500,\n",
    "    bar_width=0.3,\n",
    "    size=(600, 600),\n",
    "    legend=false,\n",
    ")"
   ]
  },
  {
   "cell_type": "code",
   "execution_count": null,
   "metadata": {},
   "outputs": [],
   "source": [
    "alarms_kyiv = filter(row -> row.region_city == \"Київ\", alarms)\n",
    "alarms_kyiv = filter(row -> row.year == 2022, alarms)\n",
    "alarms_kyiv = filter(row -> row.month in 4:8, alarms)\n",
    "\n",
    "city_title_counts = countmap(alarms_kyiv.dayname)\n",
    "city_title_counts = [k => v for (k, v) in city_title_counts]\n",
    "city_title_counts = sort(city_title_counts, by=x -> findfirst(dayofweek_order .== x[1]))\n",
    "city_title_title, counts = [x[1] for x in city_title_counts], [x[2] for x in city_title_counts]"
   ]
  },
  {
   "cell_type": "code",
   "execution_count": null,
   "metadata": {},
   "outputs": [],
   "source": [
    "bar(\n",
    "    city_title_title,\n",
    "    counts,\n",
    "    xlabel=\"\\nDay of week\",\n",
    "    ylabel=\"Count\",\n",
    "    title=\"\\nAlarms count by day of week\\nin Kyiv 2022 (April - August)\",\n",
    "    label=\"Count\",\n",
    "    xrotation=0,\n",
    "    xticks=:all,\n",
    "    yticks=0:100:3500,\n",
    "    bar_width=0.3,\n",
    "    size=(600, 600),\n",
    "    legend=false,\n",
    ")"
   ]
  },
  {
   "cell_type": "code",
   "execution_count": null,
   "metadata": {},
   "outputs": [],
   "source": [
    "alarms_kyiv = filter(row -> row.region_city == \"Київ\", alarms)\n",
    "alarms_kyiv = filter(row -> row.year == 2022, alarms)\n",
    "alarms_kyiv = filter(row -> row.month in 2:3, alarms)\n",
    "\n",
    "city_title_counts = countmap(alarms_kyiv.dayname)\n",
    "city_title_counts = [k => v for (k, v) in city_title_counts]\n",
    "city_title_counts = sort(city_title_counts, by=x -> findfirst(dayofweek_order .== x[1]))\n",
    "city_title_title, counts = [x[1] for x in city_title_counts], [x[2] for x in city_title_counts]"
   ]
  },
  {
   "cell_type": "code",
   "execution_count": null,
   "metadata": {},
   "outputs": [],
   "source": [
    "bar(\n",
    "    city_title_title,\n",
    "    counts,\n",
    "    xlabel=\"\\nDay of week\",\n",
    "    ylabel=\"Count\",\n",
    "    title=\"\\nAlarms count by day of week\\nin Kyiv 2022 (February - March)\",\n",
    "    label=\"Count\",\n",
    "    xrotation=0,\n",
    "    xticks=:all,\n",
    "    yticks=0:100:3500,\n",
    "    bar_width=0.3,\n",
    "    size=(600, 600),\n",
    "    legend=false,\n",
    ")"
   ]
  }
 ],
 "metadata": {
  "kernelspec": {
   "display_name": "Julia 1.9.0-rc2",
   "language": "julia",
   "name": "julia-1.9"
  },
  "language_info": {
   "file_extension": ".jl",
   "mimetype": "application/julia",
   "name": "julia",
   "version": "1.9.0-rc2"
  },
  "orig_nbformat": 4
 },
 "nbformat": 4,
 "nbformat_minor": 2
}
