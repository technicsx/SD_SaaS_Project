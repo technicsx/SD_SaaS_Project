{
 "cells": [
  {
   "attachments": {},
   "cell_type": "markdown",
   "metadata": {},
   "source": [
    "### Installing depencencies"
   ]
  },
  {
   "cell_type": "code",
   "execution_count": null,
   "metadata": {},
   "outputs": [],
   "source": [
    "ENV[\"PYTHON\"] = \"C:\\\\Users\\\\lap2r\\\\AppData\\\\Local\\\\Programs\\\\Python\\\\Python311\\\\python.exe\"\n",
    "ENV[\"PYTHON\"] = \"C:\\\\Users\\\\lap2r\\\\AppData\\\\Local\\\\Programs\\\\Python\\\\Python311\\\\python.exe\"\n",
    "\n",
    "# using Pkg\n",
    "# Pkg.add(\"PyCall\")\n",
    "# Pkg.build(\"PyCall\")\n",
    "\n",
    "\n",
    "# Pkg.add(\"OrderedCollections\")\n",
    "# Pkg.add(\"PrettyTables\")\n",
    "# Pkg.add(\"DataFrames\")\n",
    "# Pkg.add(\"DotEnv\")\n",
    "# Pkg.add(\"CSV\")\n",
    "# Pkg.add(\"Plots\")\n",
    "# Pkg.add(\"Dates\")\n",
    "# Pkg.add(\"Gadfly\")\n",
    "# Pkg.add(\"StatsPlots\")\n",
    "# Pkg.add(\"StatsBase\")\n",
    "# Pkg.add(\"JSON\")\n",
    "# Pkg.add(\"Makie\")\n",
    "\n",
    "\n",
    "# using Conda\n",
    "# Conda.add(\"nltk\")\n",
    "# Conda.add(\"num2words\")"
   ]
  },
  {
   "attachments": {},
   "cell_type": "markdown",
   "metadata": {},
   "source": [
    "### Environment configuration"
   ]
  },
  {
   "cell_type": "code",
   "execution_count": null,
   "metadata": {},
   "outputs": [],
   "source": [
    "using PyCall\n",
    "pushfirst!(PyVector(pyimport(\"sys\")[\"path\"]), joinpath(@__DIR__, \"..\"))\n",
    "paths_rel = pyimport(\"paths_rel\")\n",
    "\n",
    "alarms_data_file_path = \"../\" * paths_rel.REL_ALARMS_DATA_FILE\n",
    "regions_data_file_path = \"../\" * paths_rel.REL_REGIONS_DATA_FILE\n",
    "weather_data_file_path = \"../\" * paths_rel.REL_WEATHER_DATA_FILE\n",
    "tfidf_csv_path = \"../\" * paths_rel.REL_ISW_TF_IDF_RESULT"
   ]
  },
  {
   "attachments": {},
   "cell_type": "markdown",
   "metadata": {},
   "source": [
    "## Weather EDA"
   ]
  },
  {
   "cell_type": "code",
   "execution_count": null,
   "metadata": {},
   "outputs": [],
   "source": [
    "# read weather CSV\n",
    "weatherDf = DataFrame(CSV.File(weather_data_file_path))\n",
    "first(weatherDf, 1)"
   ]
  },
  {
   "cell_type": "code",
   "execution_count": null,
   "metadata": {},
   "outputs": [],
   "source": [
    "using Dates\n",
    "\n",
    "\n",
    "\n",
    "weatherDf.year = Dates.year.(weatherDf.day_datetime)\n",
    "weatherDf.month = Dates.month.(weatherDf.day_datetime)\n",
    "weatherDf.day = Dates.day.(weatherDf.day_datetime)\n",
    "weatherDf.week = Dates.week.(weatherDf.day_datetime)\n",
    "weatherDf.dayofweek = Dates.dayofweekofmonth.(weatherDf.day_datetime)\n",
    "\n",
    "\n",
    "first(weatherDf, 1)"
   ]
  },
  {
   "cell_type": "code",
   "execution_count": null,
   "metadata": {},
   "outputs": [],
   "source": [
    "histogram(\n",
    "    weatherDf.day_temp,\n",
    "    bins=50,\n",
    "    xlabel=\"Temperature (Celsius)\",\n",
    "    ylabel=\"Frequency\",\n",
    "    title=\"Distribution of Daily Temperature\",\n",
    "    yformatter=y -> @sprintf(\"%d\", y),\n",
    "    bar_width=0.8,\n",
    "    xticks=-20:5:40,\n",
    ")"
   ]
  },
  {
   "cell_type": "code",
   "execution_count": null,
   "metadata": {},
   "outputs": [],
   "source": [
    "# bar(\n",
    "#     sort(unique(weatherDf.day_conditions)),\n",
    "#     counts(weatherDf.day_conditions),\n",
    "#     label=\"Conditions\",\n",
    "#     ylabel=\"Frequency\",\n",
    "#     title=\"Distribution of Daily Conditions\"\n",
    "# )"
   ]
  },
  {
   "cell_type": "code",
   "execution_count": null,
   "metadata": {},
   "outputs": [],
   "source": [
    "# scatter(\n",
    "#     weatherDf.day_tempmax,\n",
    "#     weatherDf.day_tempmin,\n",
    "#     xlabel=\"Maximum Temperature (Celsius)\",\n",
    "#     ylabel=\"Minimum Temperature (Celsius)\",\n",
    "#     title=\"Relationship between Maximum and Minimum Daily Temperature\"\n",
    "# )"
   ]
  },
  {
   "cell_type": "code",
   "execution_count": null,
   "metadata": {},
   "outputs": [],
   "source": [
    "@df weatherDf boxplot(\n",
    "    :day_conditions,\n",
    "    :day_temp,\n",
    "    xlabel=\"Conditions\",\n",
    "    ylabel=\"Temperature (Celsius)\",\n",
    "    title=\"Comparison of Daily Temperature across Conditions\"\n",
    ")"
   ]
  },
  {
   "cell_type": "code",
   "execution_count": null,
   "metadata": {},
   "outputs": [],
   "source": [
    "# bar(weatherDf.day_datetime, weatherDf.day_precipprob, xlabel=\"Date\", ylabel=\"Precipitation Probability\", title=\"Daily Precipitation Probability\")"
   ]
  },
  {
   "cell_type": "code",
   "execution_count": null,
   "metadata": {},
   "outputs": [],
   "source": [
    "# visualize :city_resolvedAddress and average :day_temp for each :month\n",
    "grouped_weather = combine(groupby(weatherDf, [:city_resolvedAddress, :month]), :day_temp => mean => :day_temp_mean)\n",
    "grouped_weather = sort(grouped_weather, :day_temp_mean, rev=true)\n",
    "# visualize it"
   ]
  },
  {
   "cell_type": "code",
   "execution_count": null,
   "metadata": {},
   "outputs": [],
   "source": [
    "# plot(weatherDf.day_datetime, [weatherDf.day_tempmax weatherDf.day_tempmin], xlabel=\"Date\", ylabel=\"Temperature (°C)\", title=\"Daily Temperature Range\", label=[\"Max Temp\" \"Min Temp\"])"
   ]
  },
  {
   "cell_type": "code",
   "execution_count": null,
   "metadata": {},
   "outputs": [],
   "source": [
    "boxplot(weatherDf.month, weatherDf.day_temp, label=\"\", xlabel=\"Month\", ylabel=\"Temperature (°C)\", title=\"Temperature by Month\")"
   ]
  },
  {
   "cell_type": "code",
   "execution_count": null,
   "metadata": {},
   "outputs": [],
   "source": [
    "# scatter(weatherDf.day_temp, weatherDf.day_humidity, label=\"Data\", xlabel=\"Temperature (°C)\", ylabel=\"Humidity (%)\", title=\"Temperature vs Humidity\")\n"
   ]
  },
  {
   "cell_type": "code",
   "execution_count": null,
   "metadata": {},
   "outputs": [],
   "source": [
    "# using StatsBase\n",
    "# temp_by_dow_hour = combine(groupby(weatherDf, [:dayofweek, :hour]), :day_temp => mean => :tempmean)\n",
    "# heatmap(temp_by_dow_hour.dayofweek, temp_by_dow_hour.hour, temp_by_dow_hour.tempmean, xlabel=\"Day of Week\", ylabel=\"Hour of Day\", title=\"Temperature by Day of Week and Hour of Day\")"
   ]
  },
  {
   "cell_type": "code",
   "execution_count": null,
   "metadata": {},
   "outputs": [],
   "source": [
    "temp_by_month = combine(groupby(weatherDf, :month), :day_temp => mean => :tempmean)\n",
    "bar(temp_by_month.month, temp_by_month.tempmean, label=\"\", xlabel=\"Month\", ylabel=\"Temperature (°C)\", title=\"Average Temperature by Month\")"
   ]
  },
  {
   "cell_type": "code",
   "execution_count": null,
   "metadata": {},
   "outputs": [],
   "source": [
    "# density(weatherDf.day_temp, label=\"Temperature\", xlabel=\"Temperature (°C)\", ylabel=\"Density\", title=\"Distribution of Temperature\")"
   ]
  },
  {
   "cell_type": "code",
   "execution_count": null,
   "metadata": {},
   "outputs": [],
   "source": [
    "# Violin plot of temperature by month to show the variation in temperature across different months.\n",
    "violin(weatherDf.month, weatherDf.day_temp, label=\"\", xlabel=\"Month\", ylabel=\"Temperature (°C)\", title=\"Temperature by Month\")"
   ]
  },
  {
   "cell_type": "code",
   "execution_count": null,
   "metadata": {},
   "outputs": [],
   "source": [
    "conditions_by_month = combine(groupby(weatherDf, [:month, :day_conditions]), nrow => :count)\n",
    "unstacked_conditions = unstack(conditions_by_month, :month, :day_conditions, :count)\n",
    "bar([unstacked_conditions[:, col] for col in names(unstacked_conditions)[2:end]], label=names(unstacked_conditions)[2:end], xlabel=\"Month\", ylabel=\"Count\", title=\"Proportion of Days with Different Weather Conditions by Month\", stacked=true)"
   ]
  },
  {
   "cell_type": "code",
   "execution_count": null,
   "metadata": {},
   "outputs": [],
   "source": [
    "plot(weatherDf.day_datetime, weatherDf.day_precip, seriestype = :line, label = \"Precipitation\")"
   ]
  },
  {
   "cell_type": "code",
   "execution_count": null,
   "metadata": {},
   "outputs": [],
   "source": [
    "density(weatherDf.day_temp, label=\"Temperature\", xlabel=\"Temperature (°C)\", ylabel=\"Density\", title=\"Distribution of Temperature\")"
   ]
  },
  {
   "cell_type": "code",
   "execution_count": null,
   "metadata": {},
   "outputs": [],
   "source": [
    "conditions_by_month = combine(groupby(weatherDf, [:month, :day_conditions]), nrow => :count)\n",
    "unstacked_conditions = unstack(conditions_by_month, :month, :day_conditions, :count)\n",
    "bar([unstacked_conditions[:, col] for col in names(unstacked_conditions)[2:end]], label=names(unstacked_conditions)[2:end], xlabel=\"Month\", ylabel=\"Count\", title=\"Proportion of Days with Different Weather Conditions by Month\", stacked=true)"
   ]
  }
 ],
 "metadata": {
  "kernelspec": {
   "display_name": "Julia 1.9.0-rc2",
   "language": "julia",
   "name": "julia-1.9"
  },
  "language_info": {
   "file_extension": ".jl",
   "mimetype": "application/julia",
   "name": "julia",
   "version": "1.9.0-rc2"
  },
  "orig_nbformat": 4
 },
 "nbformat": 4,
 "nbformat_minor": 2
}
