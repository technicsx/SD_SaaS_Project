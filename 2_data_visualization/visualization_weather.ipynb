{
 "cells": [
  {
   "attachments": {},
   "cell_type": "markdown",
   "metadata": {},
   "source": [
    "### Installing depencencies"
   ]
  },
  {
   "cell_type": "code",
   "execution_count": null,
   "metadata": {},
   "outputs": [],
   "source": [
    "ENV[\"PYTHON\"] = \"C:\\\\Users\\\\lap2r\\\\AppData\\\\Local\\\\Programs\\\\Python\\\\Python311\\\\python.exe\"\n",
    "ENV[\"PYTHON\"] = \"C:\\\\Users\\\\lap2r\\\\AppData\\\\Local\\\\Programs\\\\Python\\\\Python311\\\\python.exe\""
   ]
  },
  {
   "attachments": {},
   "cell_type": "markdown",
   "metadata": {},
   "source": [
    "### Environment configuration"
   ]
  },
  {
   "cell_type": "code",
   "execution_count": null,
   "metadata": {},
   "outputs": [],
   "source": [
    "using PyCall\n",
    "pushfirst!(PyVector(pyimport(\"sys\")[\"path\"]), joinpath(@__DIR__, \"..\"))\n",
    "paths_rel = pyimport(\"paths_rel\")\n",
    "\n",
    "weather_data_file_path = \"../\" * paths_rel.REL_WEATHER_DATA_FILE"
   ]
  },
  {
   "cell_type": "code",
   "execution_count": null,
   "metadata": {},
   "outputs": [],
   "source": [
    "# PLOTS_DEFAULTS = Dict(:dpi => 600)\n",
    "\n",
    "# https://docs.juliaplots.org/latest/generated/attributes_axis/\n",
    "# https://docs.juliaplots.org/latest/generated/attributes_plot/\n",
    "# https://docs.juliaplots.org/latest/generated/attributes_subplot/\n",
    "\n",
    "using Plots.PlotMeasures\n",
    "using ColorSchemes\n",
    "\n",
    "default(\n",
    "    legend=true,\n",
    "    left_margin=5mm,\n",
    "    right_margin=5mm,\n",
    "    top_margin=5mm,\n",
    "    bottom_margin=5mm,\n",
    "    xrotation=90,\n",
    "    draw_arrow=true,\n",
    "    grid=false,\n",
    "    minorgrid=false,\n",
    "    dpi=600,\n",
    "    size=(800, 800),\n",
    "    color=RGB(250 / 255, 135 / 255, 117 / 255),\n",
    "    linecolor=RGB(250 / 255, 135 / 255, 117 / 255),\n",
    "    markerstrokecolor=RGB(250 / 255, 135 / 255, 117 / 255),\n",
    "    palette=:matter,\n",
    ")"
   ]
  },
  {
   "attachments": {},
   "cell_type": "markdown",
   "metadata": {},
   "source": [
    "## Weather EDA"
   ]
  },
  {
   "cell_type": "code",
   "execution_count": null,
   "metadata": {},
   "outputs": [],
   "source": [
    "using CSV\n",
    "using DataFrames\n",
    "\n",
    "weatherDf = DataFrame(CSV.File(weather_data_file_path))\n",
    "\n",
    "first(weatherDf, 1)"
   ]
  },
  {
   "cell_type": "code",
   "execution_count": null,
   "metadata": {},
   "outputs": [],
   "source": [
    "using Dates\n",
    "\n",
    "\n",
    "weatherDf.year = Dates.year.(weatherDf.day_datetime)\n",
    "weatherDf.month = Dates.month.(weatherDf.day_datetime)\n",
    "weatherDf.day = Dates.day.(weatherDf.day_datetime)\n",
    "weatherDf.week = Dates.week.(weatherDf.day_datetime)\n",
    "weatherDf.dayofweek = Dates.dayofweekofmonth.(weatherDf.day_datetime)\n",
    "\n",
    "\n",
    "first(weatherDf, 1)"
   ]
  },
  {
   "cell_type": "code",
   "execution_count": null,
   "metadata": {},
   "outputs": [],
   "source": [
    "using Printf\n",
    "using Plots\n",
    "\n",
    "histogram(\n",
    "    weatherDf.day_temp,\n",
    "    bins=100,\n",
    "    xlabel=\"Temperature (Celsius)\",\n",
    "    ylabel=\"Frequency\",\n",
    "    title=\"\\nDistribution of Daily Temperature\",\n",
    "    yformatter=y -> @sprintf(\"%d\", y),\n",
    "    bar_width=0.3,\n",
    "    xticks=-20:5:40,\n",
    "    rotation=0\n",
    ")"
   ]
  },
  {
   "cell_type": "code",
   "execution_count": null,
   "metadata": {},
   "outputs": [],
   "source": [
    "using StatsPlots\n",
    "\n",
    "@df weatherDf boxplot(\n",
    "    :day_conditions,\n",
    "    :day_temp,\n",
    "    xlabel=\"Conditions\",\n",
    "    ylabel=\"Temperature (Celsius)\",\n",
    "    title=\"\\nComparison of Daily Temperature across Conditions\"\n",
    ")"
   ]
  },
  {
   "cell_type": "code",
   "execution_count": null,
   "metadata": {},
   "outputs": [],
   "source": [
    "# weatherDf.month convert to string from number to January, February, etc.\n",
    "norMonth = Dates.monthname.(weatherDf.month)\n",
    "\n",
    "boxplot(\n",
    "    norMonth,\n",
    "    weatherDf.day_temp,\n",
    "    label=\"°C\",\n",
    "    xlabel=\"Month\",\n",
    "    ylabel=\"Temperature (°C)\",\n",
    "    title=\"\\nTemperature by Month\",\n",
    "    xticks=:all,\n",
    "    boxpoints=\"all\", \n",
    "    kind=\"box\", \n",
    "    pointpos=0,\n",
    "    color=[:pink :black :orange]\n",
    "    # pointpos=0,\n",
    ")"
   ]
  },
  {
   "cell_type": "code",
   "execution_count": null,
   "metadata": {},
   "outputs": [],
   "source": [
    "# Violin plot of temperature by month to show the variation in temperature across different months.\n",
    "violin(weatherDf.month, weatherDf.day_temp, label=\"\", xlabel=\"Month\", ylabel=\"Temperature (°C)\", title=\"Temperature by Month\")"
   ]
  },
  {
   "cell_type": "code",
   "execution_count": null,
   "metadata": {},
   "outputs": [],
   "source": [
    "conditions_by_month = combine(groupby(weatherDf, [:month, :day_conditions]), nrow => :count)\n",
    "unstacked_conditions = unstack(conditions_by_month, :month, :day_conditions, :count)\n",
    "\n",
    "last_ind = length(names(unstacked_conditions)[2:end]) - 1\n",
    "\n",
    "# bar(\n",
    "#     [unstacked_conditions[:, col] for col in names(unstacked_conditions)[2:end]],\n",
    "#     label=names(unstacked_conditions)[2:end],\n",
    "#     xlabel=\"Month\",\n",
    "#     ylabel=\"Count\",\n",
    "#     title=\"\\nProportion of Days with Different\\nWeather Conditions by Month\",\n",
    "#     stacked=true,\n",
    "#     xticks=1:12,\n",
    "#     color=[ColorSchemes.rainbow[i] for i in 1:last_ind],\n",
    "#     linecolor=:black,\n",
    "#     rotation=0,\n",
    "# )\n",
    "println(Plots.backend())\n",
    "\n",
    "b = bar(\n",
    "    [unstacked_conditions[:, col] for col in names(unstacked_conditions)[2:end]],\n",
    "    label=[[names(unstacked_conditions)[2:end][i][1:3]] for i in 1:length(names(unstacked_conditions)[2:end])],\n",
    "    xlabel=\"Month\",\n",
    "    ylabel=\"Count\",\n",
    "    title=\"\\nProportion of Days with Different\\nWeather Conditions by Month\",\n",
    "    stacked=true,\n",
    "    xticks=1:last_ind,\n",
    "    color=[ColorSchemes.rainbow[i] for i in 1:last_ind],\n",
    "    linecolor=:black,\n",
    "    # legend=:outertopright,\n",
    "    rotation=0,\n",
    ")\n",
    "display(b)"
   ]
  },
  {
   "cell_type": "code",
   "execution_count": null,
   "metadata": {},
   "outputs": [],
   "source": [
    "[[names(unstacked_conditions)[2:end][i][1:3]] for i in 1:length(names(unstacked_conditions)[2:end])]"
   ]
  },
  {
   "cell_type": "code",
   "execution_count": null,
   "metadata": {},
   "outputs": [],
   "source": [
    "using Dates\n",
    "start_date = Date.(\"2022-02-01\", \"yyyy-mm-dd\")\n",
    "end_date = Date.(Dates.now())\n",
    "\n",
    "p = plot(weatherDf.day_datetime, weatherDf.day_precip, seriestype=:line, label=\"Precipitation\")\n",
    "xticks!(p, Dates.value.([start_date:Dates.Month(1):end_date;]), Dates.format.([start_date:Dates.Month(1):end_date;], \"yyyy-mm\"))\n"
   ]
  },
  {
   "cell_type": "code",
   "execution_count": null,
   "metadata": {},
   "outputs": [],
   "source": [
    "density(\n",
    "    weatherDf.day_temp,\n",
    "    label=\"°C\",\n",
    "    xlabel=\"Temperature (°C)\",\n",
    "    ylabel=\"Density\",\n",
    "    title=\"\\nDistribution of Temperature\",\n",
    "    rotation=0\n",
    ")"
   ]
  },
  {
   "cell_type": "code",
   "execution_count": null,
   "metadata": {},
   "outputs": [],
   "source": [
    "conditions_by_month = combine(groupby(weatherDf, [:month, :day_conditions]), nrow => :count)\n",
    "unstacked_conditions = unstack(conditions_by_month, :month, :day_conditions, :count)\n",
    "bar(\n",
    "    [unstacked_conditions[:, col] for col in names(unstacked_conditions)[2:end]], \n",
    "    label=names(unstacked_conditions)[2:end],\n",
    "    xlabel=\"Month\",\n",
    "    ylabel=\"Count\", \n",
    "    title=\"\\nProportion of Days with Different\\nWeather Conditions by Month\",\n",
    "    stacked=true,\n",
    "    palette=:matter,\n",
    ")"
   ]
  }
 ],
 "metadata": {
  "kernelspec": {
   "display_name": "Julia 1.9.0-rc2",
   "language": "julia",
   "name": "julia-1.9"
  },
  "language_info": {
   "file_extension": ".jl",
   "mimetype": "application/julia",
   "name": "julia",
   "version": "1.9.0-rc2"
  },
  "orig_nbformat": 4
 },
 "nbformat": 4,
 "nbformat_minor": 2
}
