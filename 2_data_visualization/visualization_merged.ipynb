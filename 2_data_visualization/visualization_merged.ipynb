{
 "cells": [
  {
   "attachments": {},
   "cell_type": "markdown",
   "metadata": {},
   "source": [
    "### Installing depencencies"
   ]
  },
  {
   "cell_type": "code",
   "execution_count": null,
   "metadata": {},
   "outputs": [],
   "source": [
    "ENV[\"PYTHON\"] = \"C:\\\\Users\\\\lap2r\\\\AppData\\\\Local\\\\Programs\\\\Python\\\\Python311\\\\python.exe\"\n",
    "ENV[\"PYTHON\"] = \"C:\\\\Users\\\\lap2r\\\\AppData\\\\Local\\\\Programs\\\\Python\\\\Python311\\\\python.exe\""
   ]
  },
  {
   "attachments": {},
   "cell_type": "markdown",
   "metadata": {},
   "source": [
    "### Environment configuration"
   ]
  },
  {
   "cell_type": "code",
   "execution_count": null,
   "metadata": {},
   "outputs": [],
   "source": [
    "using PyCall\n",
    "pushfirst!(PyVector(pyimport(\"sys\")[\"path\"]), joinpath(@__DIR__, \"..\"))\n",
    "paths_rel = pyimport(\"paths_rel\")\n",
    "\n",
    "alarms_data_file_path = \"../\" * paths_rel.REL_ALARMS_DATA_FILE\n",
    "regions_data_file_path = \"../\" * paths_rel.REL_REGIONS_DATA_FILE\n",
    "weather_data_file_path = \"../\" * paths_rel.REL_WEATHER_DATA_FILE\n",
    "tfidf_csv_path = \"../\" * paths_rel.REL_ISW_TF_IDF_RESULT"
   ]
  },
  {
   "cell_type": "code",
   "execution_count": null,
   "metadata": {},
   "outputs": [],
   "source": [
    "# PLOTS_DEFAULTS = Dict(:dpi => 600)\n",
    "\n",
    "# https://docs.juliaplots.org/latest/generated/attributes_axis/\n",
    "# https://docs.juliaplots.org/latest/generated/attributes_plot/\n",
    "# https://docs.juliaplots.org/latest/generated/attributes_subplot/\n",
    "\n",
    "using Plots.PlotMeasures\n",
    "\n",
    "default(\n",
    "    legend=true,\n",
    "    left_margin=5mm,\n",
    "    right_margin=5mm,\n",
    "    top_margin=5mm,\n",
    "    bottom_margin=5mm,\n",
    "    xrotation=90,\n",
    "    draw_arrow=true,\n",
    "    grid=false,\n",
    "    minorgrid=false,\n",
    "    dpi=600,\n",
    "    size=(800, 800),\n",
    "    color=RGB(250 / 255, 135 / 255, 117 / 255),\n",
    "    linecolor=RGB(250 / 255, 135 / 255, 117 / 255),\n",
    "    markerstrokecolor=RGB(250 / 255, 135 / 255, 117 / 255),\n",
    ")"
   ]
  },
  {
   "attachments": {},
   "cell_type": "markdown",
   "metadata": {},
   "source": [
    "## Merget set EDA"
   ]
  },
  {
   "cell_type": "code",
   "execution_count": null,
   "metadata": {},
   "outputs": [],
   "source": []
  }
 ],
 "metadata": {
  "kernelspec": {
   "display_name": "Julia 1.9.0-rc2",
   "language": "julia",
   "name": "julia-1.9"
  },
  "language_info": {
   "file_extension": ".jl",
   "mimetype": "application/julia",
   "name": "julia",
   "version": "1.9.0-rc2"
  },
  "orig_nbformat": 4
 },
 "nbformat": 4,
 "nbformat_minor": 2
}
