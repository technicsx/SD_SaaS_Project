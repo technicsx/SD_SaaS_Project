{
 "cells": [
  {
   "attachments": {},
   "cell_type": "markdown",
   "metadata": {},
   "source": [
    "### Installing depencencies"
   ]
  },
  {
   "cell_type": "code",
   "execution_count": null,
   "metadata": {},
   "outputs": [],
   "source": [
    "ENV[\"PYTHON\"] = \"C:\\\\Users\\\\lap2r\\\\AppData\\\\Local\\\\Programs\\\\Python\\\\Python311\\\\python.exe\"\n",
    "ENV[\"PYTHON\"] = \"C:\\\\Users\\\\lap2r\\\\AppData\\\\Local\\\\Programs\\\\Python\\\\Python311\\\\python.exe\""
   ]
  },
  {
   "attachments": {},
   "cell_type": "markdown",
   "metadata": {},
   "source": [
    "### Environment configuration"
   ]
  },
  {
   "cell_type": "code",
   "execution_count": null,
   "metadata": {},
   "outputs": [],
   "source": [
    "using PyCall\n",
    "pushfirst!(PyVector(pyimport(\"sys\")[\"path\"]), joinpath(@__DIR__, \"..\"))\n",
    "paths_rel = pyimport(\"paths_rel\")\n",
    "\n",
    "merged_csv_path = \"./df_merged_fin.csv\""
   ]
  },
  {
   "cell_type": "code",
   "execution_count": null,
   "metadata": {},
   "outputs": [],
   "source": [
    "# PLOTS_DEFAULTS = Dict(:dpi => 600)\n",
    "\n",
    "# https://docs.juliaplots.org/latest/generated/attributes_axis/\n",
    "# https://docs.juliaplots.org/latest/generated/attributes_plot/\n",
    "# https://docs.juliaplots.org/latest/generated/attributes_subplot/\n",
    "\n",
    "using Plots\n",
    "using Plots.PlotMeasures\n",
    "using ColorSchemes\n",
    "using Colors\n",
    "\n",
    "default(\n",
    "    legend=true,\n",
    "    left_margin=5mm,\n",
    "    right_margin=5mm,\n",
    "    top_margin=5mm,\n",
    "    bottom_margin=5mm,\n",
    "    xrotation=90,\n",
    "    draw_arrow=true,\n",
    "    grid=false,\n",
    "    minorgrid=false,\n",
    "    dpi=600,\n",
    "    size=(800, 800),\n",
    "    color=RGB(250 / 255, 135 / 255, 117 / 255),\n",
    "    linecolor=RGB(250 / 255, 135 / 255, 117 / 255),\n",
    "    markerstrokecolor=RGB(250 / 255, 135 / 255, 117 / 255),\n",
    ")"
   ]
  },
  {
   "attachments": {},
   "cell_type": "markdown",
   "metadata": {},
   "source": [
    "## Merget set EDA"
   ]
  },
  {
   "cell_type": "code",
   "execution_count": null,
   "metadata": {},
   "outputs": [],
   "source": [
    "using CSV\n",
    "using DataFrames\n",
    "\n",
    "df = DataFrame(CSV.File(merged_csv_path))\n",
    "\n",
    "size(df)\n",
    "first(df,1)"
   ]
  },
  {
   "cell_type": "code",
   "execution_count": null,
   "metadata": {},
   "outputs": [],
   "source": [
    "# Subset the DataFrame to include only rows where is_alarm = 0\n",
    "df_0 = filter(row -> row[:is_alarm] == 0, df)\n",
    "# Keep only one row for each day_datetimeEpoch value\n",
    "df_0 = unique(df_0, :day_datetimeEpoch)\n",
    "\n",
    "# Subset the DataFrame to include only rows where is_alarm = 0\n",
    "df_1 = filter(row -> row[:is_alarm] == 1, df)\n",
    "# Keep only one row for each day_datetimeEpoch value\n",
    "df_1 = unique(df_1, :day_datetimeEpoch)"
   ]
  },
  {
   "cell_type": "code",
   "execution_count": null,
   "metadata": {},
   "outputs": [],
   "source": [
    "using DataFrames, Plots, Statistics\n",
    "\n",
    "df_0_avg_day_humidity = mean(df_0.day_humidity)\n",
    "println(\"mean humidity when is_alarm=false: $df_0_avg_day_humidity\")\n",
    "df_1_avg_day_humidity = mean(df_1.day_humidity)\n",
    "println(\"mean humidity when is_alarm=true: $df_1_avg_day_humidity\")\n",
    "\n",
    "df_0_avg_day_temp = mean(df_0.day_temp)\n",
    "println(\"mean day_temp when is_alarm=false: $df_0_avg_day_temp\")\n",
    "df_1_avg_day_temp = mean(df_1.day_temp)\n",
    "println(\"mean day_temp when is_alarm=true: $df_1_avg_day_temp\")\n",
    "\n",
    "\n",
    "# select df_0 by city_Київ\n",
    "df_0_Київ = filter(row -> row[:military] == 0, df_0)\n",
    "\n",
    "\n",
    "# df_0_ukrainian_holiday = count(df_0_Київ.ukrainian_holiday)\n",
    "# println(\"ukrainian_holiday is_alarm=false: $df_0_ukrainian_holiday\")\n",
    "# df_1_Київ = filter(row -> row[:city_Київ] == 1, df_1)\n",
    "# df_1_ukrainian_holiday = count(df_1_Київ.ukrainian_holiday)\n",
    "# println(\"ukrainian_holiday is_alarm=true: $df_1_ukrainian_holiday\")\n",
    "\n",
    "# df_0_Київ"
   ]
  },
  {
   "cell_type": "code",
   "execution_count": null,
   "metadata": {},
   "outputs": [],
   "source": []
  }
 ],
 "metadata": {
  "kernelspec": {
   "display_name": "Julia 1.9.0-rc2",
   "language": "julia",
   "name": "julia-1.9"
  },
  "language_info": {
   "file_extension": ".jl",
   "mimetype": "application/julia",
   "name": "julia",
   "version": "1.9.0-rc2"
  },
  "orig_nbformat": 4
 },
 "nbformat": 4,
 "nbformat_minor": 2
}
