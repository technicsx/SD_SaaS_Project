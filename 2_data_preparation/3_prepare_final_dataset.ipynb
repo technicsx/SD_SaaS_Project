{
 "cells": [
  {
   "cell_type": "code",
   "execution_count": 2,
   "id": "4ba95462",
   "metadata": {
    "ExecuteTime": {
     "start_time": "2023-04-08T13:31:58.423833Z",
     "end_time": "2023-04-08T13:32:05.170144Z"
    }
   },
   "outputs": [
    {
     "name": "stdout",
     "output_type": "stream",
     "text": [
      "Requirement already satisfied: duckdb in c:\\users\\vadim\\pycharmprojects\\sd_saas_project\\venv\\lib\\site-packages (0.7.1)\n",
      "Note: you may need to restart the kernel to use updated packages.\n"
     ]
    },
    {
     "name": "stderr",
     "output_type": "stream",
     "text": [
      "\n",
      "[notice] A new release of pip available: 22.3.1 -> 23.0.1\n",
      "[notice] To update, run: python.exe -m pip install --upgrade pip\n"
     ]
    },
    {
     "name": "stdout",
     "output_type": "stream",
     "text": [
      "Requirement already satisfied: jupysql in c:\\users\\vadim\\pycharmprojects\\sd_saas_project\\venv\\lib\\site-packages (0.7.0)\n",
      "Requirement already satisfied: prettytable in c:\\users\\vadim\\pycharmprojects\\sd_saas_project\\venv\\lib\\site-packages (from jupysql) (3.6.0)\n",
      "Requirement already satisfied: ipython>=1.0 in c:\\users\\vadim\\pycharmprojects\\sd_saas_project\\venv\\lib\\site-packages (from jupysql) (8.12.0)\n",
      "Requirement already satisfied: sqlalchemy<2 in c:\\users\\vadim\\pycharmprojects\\sd_saas_project\\venv\\lib\\site-packages (from jupysql) (1.4.47)\n",
      "Requirement already satisfied: sqlparse in c:\\users\\vadim\\pycharmprojects\\sd_saas_project\\venv\\lib\\site-packages (from jupysql) (0.4.3)\n",
      "Requirement already satisfied: ipython-genutils>=0.1.0 in c:\\users\\vadim\\pycharmprojects\\sd_saas_project\\venv\\lib\\site-packages (from jupysql) (0.2.0)\n",
      "Requirement already satisfied: sqlglot in c:\\users\\vadim\\pycharmprojects\\sd_saas_project\\venv\\lib\\site-packages (from jupysql) (11.5.2)\n",
      "Requirement already satisfied: jinja2 in c:\\users\\vadim\\pycharmprojects\\sd_saas_project\\venv\\lib\\site-packages (from jupysql) (3.1.2)\n",
      "Requirement already satisfied: ploomber-core>=0.2.7 in c:\\users\\vadim\\pycharmprojects\\sd_saas_project\\venv\\lib\\site-packages (from jupysql) (0.2.9)\n",
      "Requirement already satisfied: backcall in c:\\users\\vadim\\pycharmprojects\\sd_saas_project\\venv\\lib\\site-packages (from ipython>=1.0->jupysql) (0.2.0)\n",
      "Requirement already satisfied: decorator in c:\\users\\vadim\\pycharmprojects\\sd_saas_project\\venv\\lib\\site-packages (from ipython>=1.0->jupysql) (5.1.1)\n",
      "Requirement already satisfied: jedi>=0.16 in c:\\users\\vadim\\pycharmprojects\\sd_saas_project\\venv\\lib\\site-packages (from ipython>=1.0->jupysql) (0.18.2)\n",
      "Requirement already satisfied: matplotlib-inline in c:\\users\\vadim\\pycharmprojects\\sd_saas_project\\venv\\lib\\site-packages (from ipython>=1.0->jupysql) (0.1.6)\n",
      "Requirement already satisfied: pickleshare in c:\\users\\vadim\\pycharmprojects\\sd_saas_project\\venv\\lib\\site-packages (from ipython>=1.0->jupysql) (0.7.5)\n",
      "Requirement already satisfied: prompt-toolkit!=3.0.37,<3.1.0,>=3.0.30 in c:\\users\\vadim\\pycharmprojects\\sd_saas_project\\venv\\lib\\site-packages (from ipython>=1.0->jupysql) (3.0.38)\n",
      "Requirement already satisfied: pygments>=2.4.0 in c:\\users\\vadim\\pycharmprojects\\sd_saas_project\\venv\\lib\\site-packages (from ipython>=1.0->jupysql) (2.14.0)\n",
      "Requirement already satisfied: stack-data in c:\\users\\vadim\\pycharmprojects\\sd_saas_project\\venv\\lib\\site-packages (from ipython>=1.0->jupysql) (0.6.2)\n",
      "Requirement already satisfied: traitlets>=5 in c:\\users\\vadim\\pycharmprojects\\sd_saas_project\\venv\\lib\\site-packages (from ipython>=1.0->jupysql) (5.9.0)\n",
      "Requirement already satisfied: colorama in c:\\users\\vadim\\pycharmprojects\\sd_saas_project\\venv\\lib\\site-packages (from ipython>=1.0->jupysql) (0.4.6)\n",
      "Requirement already satisfied: click in c:\\users\\vadim\\pycharmprojects\\sd_saas_project\\venv\\lib\\site-packages (from ploomber-core>=0.2.7->jupysql) (8.1.3)\n",
      "Requirement already satisfied: pyyaml in c:\\users\\vadim\\pycharmprojects\\sd_saas_project\\venv\\lib\\site-packages (from ploomber-core>=0.2.7->jupysql) (6.0)\n",
      "Requirement already satisfied: posthog in c:\\users\\vadim\\pycharmprojects\\sd_saas_project\\venv\\lib\\site-packages (from ploomber-core>=0.2.7->jupysql) (2.4.2)\n",
      "Requirement already satisfied: greenlet!=0.4.17 in c:\\users\\vadim\\pycharmprojects\\sd_saas_project\\venv\\lib\\site-packages (from sqlalchemy<2->jupysql) (2.0.2)\n",
      "Requirement already satisfied: MarkupSafe>=2.0 in c:\\users\\vadim\\pycharmprojects\\sd_saas_project\\venv\\lib\\site-packages (from jinja2->jupysql) (2.1.2)\n",
      "Requirement already satisfied: wcwidth in c:\\users\\vadim\\pycharmprojects\\sd_saas_project\\venv\\lib\\site-packages (from prettytable->jupysql) (0.2.6)\n",
      "Requirement already satisfied: parso<0.9.0,>=0.8.0 in c:\\users\\vadim\\pycharmprojects\\sd_saas_project\\venv\\lib\\site-packages (from jedi>=0.16->ipython>=1.0->jupysql) (0.8.3)\n",
      "Requirement already satisfied: requests<3.0,>=2.7 in c:\\users\\vadim\\pycharmprojects\\sd_saas_project\\venv\\lib\\site-packages (from posthog->ploomber-core>=0.2.7->jupysql) (2.28.2)\n",
      "Requirement already satisfied: six>=1.5 in c:\\users\\vadim\\pycharmprojects\\sd_saas_project\\venv\\lib\\site-packages (from posthog->ploomber-core>=0.2.7->jupysql) (1.16.0)\n",
      "Requirement already satisfied: monotonic>=1.5 in c:\\users\\vadim\\pycharmprojects\\sd_saas_project\\venv\\lib\\site-packages (from posthog->ploomber-core>=0.2.7->jupysql) (1.6)\n",
      "Requirement already satisfied: backoff>=1.10.0 in c:\\users\\vadim\\pycharmprojects\\sd_saas_project\\venv\\lib\\site-packages (from posthog->ploomber-core>=0.2.7->jupysql) (2.2.1)\n",
      "Requirement already satisfied: python-dateutil>2.1 in c:\\users\\vadim\\pycharmprojects\\sd_saas_project\\venv\\lib\\site-packages (from posthog->ploomber-core>=0.2.7->jupysql) (2.8.2)\n",
      "Requirement already satisfied: executing>=1.2.0 in c:\\users\\vadim\\pycharmprojects\\sd_saas_project\\venv\\lib\\site-packages (from stack-data->ipython>=1.0->jupysql) (1.2.0)\n",
      "Requirement already satisfied: asttokens>=2.1.0 in c:\\users\\vadim\\pycharmprojects\\sd_saas_project\\venv\\lib\\site-packages (from stack-data->ipython>=1.0->jupysql) (2.2.1)\n",
      "Requirement already satisfied: pure-eval in c:\\users\\vadim\\pycharmprojects\\sd_saas_project\\venv\\lib\\site-packages (from stack-data->ipython>=1.0->jupysql) (0.2.2)\n",
      "Requirement already satisfied: charset-normalizer<4,>=2 in c:\\users\\vadim\\pycharmprojects\\sd_saas_project\\venv\\lib\\site-packages (from requests<3.0,>=2.7->posthog->ploomber-core>=0.2.7->jupysql) (3.1.0)\n",
      "Requirement already satisfied: idna<4,>=2.5 in c:\\users\\vadim\\pycharmprojects\\sd_saas_project\\venv\\lib\\site-packages (from requests<3.0,>=2.7->posthog->ploomber-core>=0.2.7->jupysql) (3.4)\n",
      "Requirement already satisfied: urllib3<1.27,>=1.21.1 in c:\\users\\vadim\\pycharmprojects\\sd_saas_project\\venv\\lib\\site-packages (from requests<3.0,>=2.7->posthog->ploomber-core>=0.2.7->jupysql) (1.26.15)\n",
      "Requirement already satisfied: certifi>=2017.4.17 in c:\\users\\vadim\\pycharmprojects\\sd_saas_project\\venv\\lib\\site-packages (from requests<3.0,>=2.7->posthog->ploomber-core>=0.2.7->jupysql) (2022.12.7)\n",
      "Note: you may need to restart the kernel to use updated packages.\n"
     ]
    },
    {
     "name": "stderr",
     "output_type": "stream",
     "text": [
      "\n",
      "[notice] A new release of pip available: 22.3.1 -> 23.0.1\n",
      "[notice] To update, run: python.exe -m pip install --upgrade pip\n"
     ]
    },
    {
     "name": "stdout",
     "output_type": "stream",
     "text": [
      "Requirement already satisfied: duckdb-engine in c:\\users\\vadim\\pycharmprojects\\sd_saas_project\\venv\\lib\\site-packages (0.7.0)\n",
      "Requirement already satisfied: duckdb>=0.4.0 in c:\\users\\vadim\\pycharmprojects\\sd_saas_project\\venv\\lib\\site-packages (from duckdb-engine) (0.7.1)\n",
      "Requirement already satisfied: numpy in c:\\users\\vadim\\pycharmprojects\\sd_saas_project\\venv\\lib\\site-packages (from duckdb-engine) (1.24.2)\n",
      "Requirement already satisfied: sqlalchemy>=1.3.19 in c:\\users\\vadim\\pycharmprojects\\sd_saas_project\\venv\\lib\\site-packages (from duckdb-engine) (1.4.47)\n",
      "Requirement already satisfied: greenlet!=0.4.17 in c:\\users\\vadim\\pycharmprojects\\sd_saas_project\\venv\\lib\\site-packages (from sqlalchemy>=1.3.19->duckdb-engine) (2.0.2)\n",
      "Note: you may need to restart the kernel to use updated packages.\n"
     ]
    },
    {
     "name": "stderr",
     "output_type": "stream",
     "text": [
      "\n",
      "[notice] A new release of pip available: 22.3.1 -> 23.0.1\n",
      "[notice] To update, run: python.exe -m pip install --upgrade pip\n"
     ]
    },
    {
     "data": {
      "text/plain": "True"
     },
     "execution_count": 2,
     "metadata": {},
     "output_type": "execute_result"
    }
   ],
   "source": [
    "%pip install duckdb\n",
    "%pip install jupysql\n",
    "%pip install duckdb-engine\n",
    "\n",
    "import datetime\n",
    "import numpy as np\n",
    "import pandas as pd\n",
    "import pickle\n",
    "import os\n",
    "\n",
    "from dotenv import load_dotenv\n",
    "\n",
    "from holidays_feature.holidays_feature import add_ukrainian_holidays\n",
    "from holidays_feature.holidays_feature import add_russian_holidays\n",
    "\n",
    "import duckdb\n",
    "\n",
    "%load_ext sql\n",
    "%config SqlMagic.autopandas = True\n",
    "%config SqlMagic.feedback = False\n",
    "%config SqlMagic.displaycon = False\n",
    "\n",
    "%sql duckdb:///:memory:\n",
    "\n",
    "load_dotenv(\"../.path_env\")"
   ]
  },
  {
   "cell_type": "code",
   "execution_count": 3,
   "id": "c5f8b892",
   "metadata": {
    "ExecuteTime": {
     "start_time": "2023-04-08T13:32:05.171126Z",
     "end_time": "2023-04-08T13:32:05.173264Z"
    }
   },
   "outputs": [],
   "source": [
    "pd.set_option(\"display.max_columns\", None)\n",
    "pd.set_option(\"display.max_rows\", None)"
   ]
  },
  {
   "cell_type": "code",
   "execution_count": 4,
   "id": "c37b5162",
   "metadata": {
    "ExecuteTime": {
     "start_time": "2023-04-08T13:32:05.173264Z",
     "end_time": "2023-04-08T13:32:05.183599Z"
    }
   },
   "outputs": [],
   "source": [
    "REPORTS_DATA_FILE = \"./results/tfidf.csv\"\n",
    "\n",
    "# specifying the input folder\n",
    "REPORTS_DATA_FILE = \"../\" + os.getenv(\"ISW_TF_IDF_RESULT\")\n",
    "OUTPUT_FOLDER = \"results\"\n",
    "ISW_OUTPUT_DATA_FILE = \"all_isw.csv\"\n",
    "WEATHER_EVENTS_OUTPUT_DATA_FILE = \"all_hourly_weather_events.csv\"\n",
    "\n",
    "MODEL_FOLDER = \"model\"\n",
    "\n",
    "tfidf_transformer_model = \"tfidf_transformer\"\n",
    "count_vectorizer_model = \"count_vectorizer\"\n",
    "\n",
    "tfidf_transformer_version = \"v1\"\n",
    "count_vectorizer_version = \"v1\""
   ]
  },
  {
   "cell_type": "code",
   "execution_count": 5,
   "id": "699f3dc8",
   "metadata": {
    "ExecuteTime": {
     "start_time": "2023-04-08T13:32:05.183599Z",
     "end_time": "2023-04-08T13:32:05.193029Z"
    }
   },
   "outputs": [],
   "source": [
    "def isNaN(num):\n",
    "    return num != num"
   ]
  },
  {
   "cell_type": "markdown",
   "id": "c78b36e9",
   "metadata": {},
   "source": [
    "## reading data"
   ]
  },
  {
   "cell_type": "code",
   "execution_count": 6,
   "id": "f2dac73d",
   "metadata": {
    "ExecuteTime": {
     "start_time": "2023-04-08T13:32:05.195048Z",
     "end_time": "2023-04-08T13:32:05.259055Z"
    }
   },
   "outputs": [],
   "source": [
    "df_isw = pd.read_csv(f\"{REPORTS_DATA_FILE}\", sep=\",\")"
   ]
  },
  {
   "cell_type": "code",
   "execution_count": 7,
   "id": "028a3a1d",
   "metadata": {
    "ExecuteTime": {
     "start_time": "2023-04-08T13:32:05.259055Z",
     "end_time": "2023-04-08T13:32:05.266278Z"
    }
   },
   "outputs": [
    {
     "data": {
      "text/plain": "                    Name        Date   \n0  assessment-2023-03-01  2023-03-01  \\\n1  assessment-2023-03-02  2023-03-02   \n2  assessment-2023-03-03  2023-03-03   \n3  assessment-2023-03-04  2023-03-04   \n4  assessment-2023-03-05  2023-03-05   \n\n                                            Keywords  \n0  {'vučić': 0.24297900380426773, 'serbia': 0.213...  \n1  {'bakhmut': 0.1628544821285347, 'bryansk': 0.1...  \n2  {'election': 0.21089748677899847, 'bakhmut': 0...  \n3  {'kartapalov': 0.17017734958322397, 'bakhmut':...  \n4  {'bakhmut': 0.34564558640106186, 'offensive': ...  ",
      "text/html": "<div>\n<style scoped>\n    .dataframe tbody tr th:only-of-type {\n        vertical-align: middle;\n    }\n\n    .dataframe tbody tr th {\n        vertical-align: top;\n    }\n\n    .dataframe thead th {\n        text-align: right;\n    }\n</style>\n<table border=\"1\" class=\"dataframe\">\n  <thead>\n    <tr style=\"text-align: right;\">\n      <th></th>\n      <th>Name</th>\n      <th>Date</th>\n      <th>Keywords</th>\n    </tr>\n  </thead>\n  <tbody>\n    <tr>\n      <th>0</th>\n      <td>assessment-2023-03-01</td>\n      <td>2023-03-01</td>\n      <td>{'vučić': 0.24297900380426773, 'serbia': 0.213...</td>\n    </tr>\n    <tr>\n      <th>1</th>\n      <td>assessment-2023-03-02</td>\n      <td>2023-03-02</td>\n      <td>{'bakhmut': 0.1628544821285347, 'bryansk': 0.1...</td>\n    </tr>\n    <tr>\n      <th>2</th>\n      <td>assessment-2023-03-03</td>\n      <td>2023-03-03</td>\n      <td>{'election': 0.21089748677899847, 'bakhmut': 0...</td>\n    </tr>\n    <tr>\n      <th>3</th>\n      <td>assessment-2023-03-04</td>\n      <td>2023-03-04</td>\n      <td>{'kartapalov': 0.17017734958322397, 'bakhmut':...</td>\n    </tr>\n    <tr>\n      <th>4</th>\n      <td>assessment-2023-03-05</td>\n      <td>2023-03-05</td>\n      <td>{'bakhmut': 0.34564558640106186, 'offensive': ...</td>\n    </tr>\n  </tbody>\n</table>\n</div>"
     },
     "execution_count": 7,
     "metadata": {},
     "output_type": "execute_result"
    }
   ],
   "source": [
    "df_isw.head(5)"
   ]
  },
  {
   "cell_type": "markdown",
   "id": "a557a7ed",
   "metadata": {},
   "source": [
    "## preparing ISW reports"
   ]
  },
  {
   "cell_type": "markdown",
   "id": "b08a5bed",
   "metadata": {},
   "source": [
    "## reading models"
   ]
  },
  {
   "cell_type": "code",
   "execution_count": 8,
   "id": "d9ddffee",
   "metadata": {
    "ExecuteTime": {
     "start_time": "2023-04-08T13:32:05.267259Z",
     "end_time": "2023-04-08T13:32:05.273081Z"
    }
   },
   "outputs": [],
   "source": [
    "# #load the content\n",
    "# tfidf = pickle.load(open(f\"{MODEL_FOLDER}/{tfidf_transformer_model}_{tfidf_transformer_version}.pkl\", \"rb\"))\n",
    "# cv = pickle.load(open(f\"{MODEL_FOLDER}/{count_vectorizer_model}_{count_vectorizer_version}.pkl\", \"rb\"))"
   ]
  },
  {
   "cell_type": "code",
   "execution_count": 9,
   "id": "88a435a4",
   "metadata": {
    "ExecuteTime": {
     "start_time": "2023-04-08T13:32:05.273081Z",
     "end_time": "2023-04-08T13:32:05.285746Z"
    }
   },
   "outputs": [],
   "source": [
    "# df_isw['keywords'] = df_isw['text_preprocessed_lemm'].apply(lambda x: tf_idf.conver_doc_to_vector(x,cv,tfidf))"
   ]
  },
  {
   "cell_type": "code",
   "execution_count": 10,
   "id": "6fc96d61",
   "metadata": {
    "ExecuteTime": {
     "start_time": "2023-04-08T13:32:05.283747Z",
     "end_time": "2023-04-08T13:32:05.301111Z"
    }
   },
   "outputs": [],
   "source": [
    "# df_isw.head(5)"
   ]
  },
  {
   "cell_type": "code",
   "execution_count": 11,
   "id": "3d09da4f",
   "metadata": {
    "ExecuteTime": {
     "start_time": "2023-04-08T13:32:05.293751Z",
     "end_time": "2023-04-08T13:32:05.304622Z"
    }
   },
   "outputs": [],
   "source": [
    "df_isw[\"date_datetime\"] = pd.to_datetime(df_isw[\"Date\"])"
   ]
  },
  {
   "cell_type": "code",
   "execution_count": 12,
   "id": "84625aed",
   "metadata": {
    "ExecuteTime": {
     "start_time": "2023-04-08T13:32:05.303621Z",
     "end_time": "2023-04-08T13:32:05.359870Z"
    }
   },
   "outputs": [],
   "source": [
    "df_isw[\"date_tomorrow_datetime\"] = df_isw[\"date_datetime\"].apply(\n",
    "    lambda x: x + datetime.timedelta(days=1)\n",
    ")\n",
    "df_isw[\"event_time\"] = np.nan"
   ]
  },
  {
   "cell_type": "code",
   "execution_count": 13,
   "id": "6c9524e5",
   "metadata": {
    "ExecuteTime": {
     "start_time": "2023-04-08T13:32:05.314873Z",
     "end_time": "2023-04-08T13:32:05.458769Z"
    }
   },
   "outputs": [],
   "source": [
    "df_isw = df_isw.rename(columns={\"date_datetime\": \"report_date\"})\n",
    "df_isw.to_csv(f\"{OUTPUT_FOLDER}/{ISW_OUTPUT_DATA_FILE}\", sep=\";\", index=False)"
   ]
  },
  {
   "cell_type": "code",
   "execution_count": 14,
   "id": "f861134e",
   "metadata": {
    "ExecuteTime": {
     "start_time": "2023-04-08T13:32:05.456770Z",
     "end_time": "2023-04-08T13:32:05.515736Z"
    }
   },
   "outputs": [],
   "source": [
    "# Add holidays data to df_isw\n",
    "add_ukrainian_holidays(df_isw, day_datetime_column='report_date', column_name='ukrainian_holiday')\n",
    "add_russian_holidays(df_isw, day_datetime_column='report_date', column_name='russian_holiday')\n",
    "# df_isw.loc[df_isw['ukrainian_holiday'] == 1]"
   ]
  },
  {
   "cell_type": "code",
   "execution_count": 15,
   "outputs": [],
   "source": [
    "# df_isw.where(df_isw['ukrainian_holiday'] == 1)\n",
    "# df_isw.sample(5)\n",
    "# df_isw.loc[df_isw['ukrainian_holiday'] == 0].shape\n",
    "# df_isw.shape\n",
    "# df_isw.loc[df_isw['russian_holiday'] == 1]\n",
    "# df_isw.loc[df_isw['ukrainian_holiday'] == 1]"
   ],
   "metadata": {
    "collapsed": false,
    "ExecuteTime": {
     "start_time": "2023-04-08T13:32:05.518421Z",
     "end_time": "2023-04-08T13:32:05.521971Z"
    }
   }
  },
  {
   "cell_type": "markdown",
   "id": "3b306d5f",
   "metadata": {},
   "source": [
    "## prepare events data"
   ]
  },
  {
   "cell_type": "code",
   "execution_count": 16,
   "id": "43a0cf0e",
   "metadata": {
    "ExecuteTime": {
     "start_time": "2023-04-08T13:32:05.520971Z",
     "end_time": "2023-04-08T13:32:05.529866Z"
    }
   },
   "outputs": [],
   "source": [
    "EVENTS_DATA_FILE = \"../\" + os.getenv(\"ALARMS_DATA_FILE\")"
   ]
  },
  {
   "cell_type": "code",
   "execution_count": 17,
   "id": "25edb612",
   "metadata": {
    "ExecuteTime": {
     "start_time": "2023-04-08T13:32:05.530917Z",
     "end_time": "2023-04-08T13:32:05.574849Z"
    }
   },
   "outputs": [],
   "source": [
    "df_events = pd.read_csv(f\"{EVENTS_DATA_FILE}\", sep=\";\")"
   ]
  },
  {
   "cell_type": "code",
   "execution_count": 18,
   "id": "f1d9e1cd",
   "metadata": {
    "ExecuteTime": {
     "start_time": "2023-04-08T13:32:05.574849Z",
     "end_time": "2023-04-08T13:32:05.579836Z"
    }
   },
   "outputs": [],
   "source": [
    "df_events_v2 = df_events.drop([\"id\", \"region_id\"], axis=1)\n",
    "df_events_v2[\"event_time\"] = np.nan"
   ]
  },
  {
   "cell_type": "code",
   "execution_count": 19,
   "id": "07ff2ea6",
   "metadata": {
    "ExecuteTime": {
     "start_time": "2023-04-08T13:32:05.579836Z",
     "end_time": "2023-04-08T13:32:05.592436Z"
    }
   },
   "outputs": [
    {
     "data": {
      "text/plain": "(19933, 8)"
     },
     "execution_count": 19,
     "metadata": {},
     "output_type": "execute_result"
    }
   ],
   "source": [
    "df_events_v2.head(5)\n",
    "df_events_v2.shape"
   ]
  },
  {
   "cell_type": "code",
   "execution_count": 20,
   "id": "47131ae1",
   "metadata": {
    "ExecuteTime": {
     "start_time": "2023-04-08T13:32:05.592436Z",
     "end_time": "2023-04-08T13:32:05.601123Z"
    }
   },
   "outputs": [],
   "source": [
    "# df_events_v2[\"start_time\"] = df_events_v2.apply(lambda x: x[\"start\"] if not isNaN(x[\"start\"]) else x[\"event_time\"] , axis=1)\n",
    "# df_events_v2[\"end_time\"] = df_events_v2.apply(lambda x: x[\"end\"] if not isNaN(x[\"end\"]) else x[\"event_time\"], axis=1)"
   ]
  },
  {
   "cell_type": "code",
   "execution_count": 21,
   "id": "3b0a9a3e",
   "metadata": {
    "ExecuteTime": {
     "start_time": "2023-04-08T13:32:05.601123Z",
     "end_time": "2023-04-08T13:32:05.633121Z"
    }
   },
   "outputs": [],
   "source": [
    "df_events_v2[\"start_time\"] = pd.to_datetime(df_events_v2[\"start\"])\n",
    "df_events_v2[\"end_time\"] = pd.to_datetime(df_events_v2[\"end\"])\n",
    "df_events_v2[\"event_time\"] = pd.to_datetime(df_events_v2[\"event_time\"])"
   ]
  },
  {
   "cell_type": "code",
   "execution_count": 22,
   "id": "ef3ca6ca",
   "metadata": {
    "ExecuteTime": {
     "start_time": "2023-04-08T13:32:05.633121Z",
     "end_time": "2023-04-08T13:32:05.646769Z"
    }
   },
   "outputs": [],
   "source": [
    "df_events_v2[\"start_hour\"] = df_events_v2[\"start_time\"].dt.floor(\"H\")\n",
    "df_events_v2[\"end_hour\"] = df_events_v2[\"end_time\"].dt.ceil(\"H\")\n",
    "df_events_v2[\"event_hour\"] = df_events_v2[\"event_time\"].dt.round(\"H\")"
   ]
  },
  {
   "cell_type": "code",
   "execution_count": 23,
   "id": "a81033f5",
   "metadata": {
    "ExecuteTime": {
     "start_time": "2023-04-08T13:32:05.648770Z",
     "end_time": "2023-04-08T13:32:06.022026Z"
    }
   },
   "outputs": [],
   "source": [
    "df_events_v2[\"start_hour\"] = df_events_v2.apply(\n",
    "    lambda x: x[\"start_hour\"] if not isNaN(x[\"start_hour\"]) else x[\"event_hour\"], axis=1\n",
    ")\n",
    "df_events_v2[\"end_hour\"] = df_events_v2.apply(\n",
    "    lambda x: x[\"end_hour\"] if not isNaN(x[\"end_hour\"]) else x[\"event_hour\"], axis=1\n",
    ")"
   ]
  },
  {
   "cell_type": "code",
   "execution_count": 24,
   "id": "71b0f0d4",
   "metadata": {
    "ExecuteTime": {
     "start_time": "2023-04-08T13:32:06.023023Z",
     "end_time": "2023-04-08T13:32:06.088070Z"
    }
   },
   "outputs": [],
   "source": [
    "df_events_v2[\"day_date\"] = df_events_v2[\"start_time\"].dt.date\n",
    "\n",
    "df_events_v2.head(10)\n",
    "\n",
    "df_events_v2[\"start_hour_datetimeEpoch\"] = df_events_v2[\"start_hour\"].apply(\n",
    "    lambda x: int(x.timestamp()) if not isNaN(x) else None\n",
    ")\n",
    "df_events_v2[\"end_hour_datetimeEpoch\"] = df_events_v2[\"end_hour\"].apply(\n",
    "    lambda x: int(x.timestamp()) if not isNaN(x) else None\n",
    ")\n",
    "\n",
    "# df_events_v2.head(10)"
   ]
  },
  {
   "cell_type": "code",
   "execution_count": 25,
   "id": "eb0bcc6b",
   "metadata": {
    "ExecuteTime": {
     "start_time": "2023-04-08T13:32:06.089071Z",
     "end_time": "2023-04-08T13:32:06.091524Z"
    }
   },
   "outputs": [],
   "source": [
    "# df_events_v2[~(df_events_v2[\"type\"]==\"alarm\")].shape"
   ]
  },
  {
   "cell_type": "code",
   "execution_count": 26,
   "id": "1a38b3c1",
   "metadata": {
    "ExecuteTime": {
     "start_time": "2023-04-08T13:32:06.092525Z",
     "end_time": "2023-04-08T13:32:06.101451Z"
    }
   },
   "outputs": [],
   "source": [
    "# df_events_v2[~(df_events_v2[\"type\"]==\"alarm\")].head(5)"
   ]
  },
  {
   "cell_type": "code",
   "execution_count": 27,
   "id": "6e7ebd70",
   "metadata": {
    "ExecuteTime": {
     "start_time": "2023-04-08T13:32:06.101451Z",
     "end_time": "2023-04-08T13:32:06.110920Z"
    }
   },
   "outputs": [],
   "source": [
    "# df_events_v2[df_events_v2[\"type\"]==\"alarm\"].shape"
   ]
  },
  {
   "cell_type": "markdown",
   "id": "86c852f0",
   "metadata": {},
   "source": [
    "## prepare weather"
   ]
  },
  {
   "cell_type": "code",
   "execution_count": 28,
   "id": "79829a50",
   "metadata": {
    "ExecuteTime": {
     "start_time": "2023-04-08T13:32:06.110920Z",
     "end_time": "2023-04-08T13:32:06.119384Z"
    }
   },
   "outputs": [],
   "source": [
    "WEATHER_DATA_FILE = \"../\" + os.getenv(\"WEATHER_DATA_FILE\")"
   ]
  },
  {
   "cell_type": "code",
   "execution_count": 29,
   "id": "a0a04cfc",
   "metadata": {
    "ExecuteTime": {
     "start_time": "2023-04-08T13:32:06.119384Z",
     "end_time": "2023-04-08T13:32:07.061230Z"
    }
   },
   "outputs": [],
   "source": [
    "df_weather = pd.read_csv(f\"{WEATHER_DATA_FILE}\")\n",
    "df_weather[\"day_datetime\"] = pd.to_datetime(df_weather[\"day_datetime\"])"
   ]
  },
  {
   "cell_type": "code",
   "execution_count": 30,
   "id": "0e649d36",
   "metadata": {
    "ExecuteTime": {
     "start_time": "2023-04-08T13:32:07.061559Z",
     "end_time": "2023-04-08T13:32:07.064231Z"
    }
   },
   "outputs": [
    {
     "data": {
      "text/plain": "(182712, 67)"
     },
     "execution_count": 30,
     "metadata": {},
     "output_type": "execute_result"
    }
   ],
   "source": [
    "df_weather.shape"
   ]
  },
  {
   "cell_type": "code",
   "execution_count": 31,
   "id": "0f182f8e",
   "metadata": {
    "ExecuteTime": {
     "start_time": "2023-04-08T13:32:07.065230Z",
     "end_time": "2023-04-08T13:32:07.118267Z"
    }
   },
   "outputs": [
    {
     "data": {
      "text/plain": "    city_latitude  city_longitude           city_resolvedAddress   \n0         50.7469         25.3263  Луцьк, Луцький район, Україна  \\\n1         50.7469         25.3263  Луцьк, Луцький район, Україна   \n2         50.7469         25.3263  Луцьк, Луцький район, Україна   \n3         50.7469         25.3263  Луцьк, Луцький район, Україна   \n4         50.7469         25.3263  Луцьк, Луцький район, Україна   \n5         50.7469         25.3263  Луцьк, Луцький район, Україна   \n6         50.7469         25.3263  Луцьк, Луцький район, Україна   \n7         50.7469         25.3263  Луцьк, Луцький район, Україна   \n8         50.7469         25.3263  Луцьк, Луцький район, Україна   \n9         50.7469         25.3263  Луцьк, Луцький район, Україна   \n10        50.7469         25.3263  Луцьк, Луцький район, Україна   \n11        50.7469         25.3263  Луцьк, Луцький район, Україна   \n12        50.7469         25.3263  Луцьк, Луцький район, Україна   \n13        50.7469         25.3263  Луцьк, Луцький район, Україна   \n14        50.7469         25.3263  Луцьк, Луцький район, Україна   \n\n     city_address city_timezone  city_tzoffset day_datetime   \n0   Lutsk,Ukraine   Europe/Kiev            2.0   2022-02-24  \\\n1   Lutsk,Ukraine   Europe/Kiev            2.0   2022-02-24   \n2   Lutsk,Ukraine   Europe/Kiev            2.0   2022-02-24   \n3   Lutsk,Ukraine   Europe/Kiev            2.0   2022-02-24   \n4   Lutsk,Ukraine   Europe/Kiev            2.0   2022-02-24   \n5   Lutsk,Ukraine   Europe/Kiev            2.0   2022-02-24   \n6   Lutsk,Ukraine   Europe/Kiev            2.0   2022-02-24   \n7   Lutsk,Ukraine   Europe/Kiev            2.0   2022-02-24   \n8   Lutsk,Ukraine   Europe/Kiev            2.0   2022-02-24   \n9   Lutsk,Ukraine   Europe/Kiev            2.0   2022-02-24   \n10  Lutsk,Ukraine   Europe/Kiev            2.0   2022-02-24   \n11  Lutsk,Ukraine   Europe/Kiev            2.0   2022-02-24   \n12  Lutsk,Ukraine   Europe/Kiev            2.0   2022-02-24   \n13  Lutsk,Ukraine   Europe/Kiev            2.0   2022-02-24   \n14  Lutsk,Ukraine   Europe/Kiev            2.0   2022-02-24   \n\n    day_datetimeEpoch  day_tempmax  day_tempmin  day_temp  day_feelslikemax   \n0          1645653600          4.9          0.7       2.6               4.0  \\\n1          1645653600          4.9          0.7       2.6               4.0   \n2          1645653600          4.9          0.7       2.6               4.0   \n3          1645653600          4.9          0.7       2.6               4.0   \n4          1645653600          4.9          0.7       2.6               4.0   \n5          1645653600          4.9          0.7       2.6               4.0   \n6          1645653600          4.9          0.7       2.6               4.0   \n7          1645653600          4.9          0.7       2.6               4.0   \n8          1645653600          4.9          0.7       2.6               4.0   \n9          1645653600          4.9          0.7       2.6               4.0   \n10         1645653600          4.9          0.7       2.6               4.0   \n11         1645653600          4.9          0.7       2.6               4.0   \n12         1645653600          4.9          0.7       2.6               4.0   \n13         1645653600          4.9          0.7       2.6               4.0   \n14         1645653600          4.9          0.7       2.6               4.0   \n\n    day_feelslikemin  day_feelslike  day_dew  day_humidity  day_precip   \n0               -3.1           -0.2      0.0          83.7       0.118  \\\n1               -3.1           -0.2      0.0          83.7       0.118   \n2               -3.1           -0.2      0.0          83.7       0.118   \n3               -3.1           -0.2      0.0          83.7       0.118   \n4               -3.1           -0.2      0.0          83.7       0.118   \n5               -3.1           -0.2      0.0          83.7       0.118   \n6               -3.1           -0.2      0.0          83.7       0.118   \n7               -3.1           -0.2      0.0          83.7       0.118   \n8               -3.1           -0.2      0.0          83.7       0.118   \n9               -3.1           -0.2      0.0          83.7       0.118   \n10              -3.1           -0.2      0.0          83.7       0.118   \n11              -3.1           -0.2      0.0          83.7       0.118   \n12              -3.1           -0.2      0.0          83.7       0.118   \n13              -3.1           -0.2      0.0          83.7       0.118   \n14              -3.1           -0.2      0.0          83.7       0.118   \n\n    day_precipprob  day_precipcover  day_snow  day_snowdepth  day_windgust   \n0            100.0             4.17       0.1            0.1          32.4  \\\n1            100.0             4.17       0.1            0.1          32.4   \n2            100.0             4.17       0.1            0.1          32.4   \n3            100.0             4.17       0.1            0.1          32.4   \n4            100.0             4.17       0.1            0.1          32.4   \n5            100.0             4.17       0.1            0.1          32.4   \n6            100.0             4.17       0.1            0.1          32.4   \n7            100.0             4.17       0.1            0.1          32.4   \n8            100.0             4.17       0.1            0.1          32.4   \n9            100.0             4.17       0.1            0.1          32.4   \n10           100.0             4.17       0.1            0.1          32.4   \n11           100.0             4.17       0.1            0.1          32.4   \n12           100.0             4.17       0.1            0.1          32.4   \n13           100.0             4.17       0.1            0.1          32.4   \n14           100.0             4.17       0.1            0.1          32.4   \n\n    day_windspeed  day_winddir  day_pressure  day_cloudcover  day_visibility   \n0            15.5        252.7        1022.3            72.3            12.2  \\\n1            15.5        252.7        1022.3            72.3            12.2   \n2            15.5        252.7        1022.3            72.3            12.2   \n3            15.5        252.7        1022.3            72.3            12.2   \n4            15.5        252.7        1022.3            72.3            12.2   \n5            15.5        252.7        1022.3            72.3            12.2   \n6            15.5        252.7        1022.3            72.3            12.2   \n7            15.5        252.7        1022.3            72.3            12.2   \n8            15.5        252.7        1022.3            72.3            12.2   \n9            15.5        252.7        1022.3            72.3            12.2   \n10           15.5        252.7        1022.3            72.3            12.2   \n11           15.5        252.7        1022.3            72.3            12.2   \n12           15.5        252.7        1022.3            72.3            12.2   \n13           15.5        252.7        1022.3            72.3            12.2   \n14           15.5        252.7        1022.3            72.3            12.2   \n\n    day_solarradiation  day_solarenergy  day_uvindex  day_severerisk   \n0                 36.9              2.8          1.0            10.0  \\\n1                 36.9              2.8          1.0            10.0   \n2                 36.9              2.8          1.0            10.0   \n3                 36.9              2.8          1.0            10.0   \n4                 36.9              2.8          1.0            10.0   \n5                 36.9              2.8          1.0            10.0   \n6                 36.9              2.8          1.0            10.0   \n7                 36.9              2.8          1.0            10.0   \n8                 36.9              2.8          1.0            10.0   \n9                 36.9              2.8          1.0            10.0   \n10                36.9              2.8          1.0            10.0   \n11                36.9              2.8          1.0            10.0   \n12                36.9              2.8          1.0            10.0   \n13                36.9              2.8          1.0            10.0   \n14                36.9              2.8          1.0            10.0   \n\n   day_sunrise  day_sunriseEpoch day_sunset  day_sunsetEpoch  day_moonphase   \n0     07:13:36        1645679616   17:51:06       1645717866           0.77  \\\n1     07:13:36        1645679616   17:51:06       1645717866           0.77   \n2     07:13:36        1645679616   17:51:06       1645717866           0.77   \n3     07:13:36        1645679616   17:51:06       1645717866           0.77   \n4     07:13:36        1645679616   17:51:06       1645717866           0.77   \n5     07:13:36        1645679616   17:51:06       1645717866           0.77   \n6     07:13:36        1645679616   17:51:06       1645717866           0.77   \n7     07:13:36        1645679616   17:51:06       1645717866           0.77   \n8     07:13:36        1645679616   17:51:06       1645717866           0.77   \n9     07:13:36        1645679616   17:51:06       1645717866           0.77   \n10    07:13:36        1645679616   17:51:06       1645717866           0.77   \n11    07:13:36        1645679616   17:51:06       1645717866           0.77   \n12    07:13:36        1645679616   17:51:06       1645717866           0.77   \n13    07:13:36        1645679616   17:51:06       1645717866           0.77   \n14    07:13:36        1645679616   17:51:06       1645717866           0.77   \n\n            day_conditions                                    day_description   \n0   Snow, Partially cloudy  Partly cloudy throughout the day with morning ...  \\\n1   Snow, Partially cloudy  Partly cloudy throughout the day with morning ...   \n2   Snow, Partially cloudy  Partly cloudy throughout the day with morning ...   \n3   Snow, Partially cloudy  Partly cloudy throughout the day with morning ...   \n4   Snow, Partially cloudy  Partly cloudy throughout the day with morning ...   \n5   Snow, Partially cloudy  Partly cloudy throughout the day with morning ...   \n6   Snow, Partially cloudy  Partly cloudy throughout the day with morning ...   \n7   Snow, Partially cloudy  Partly cloudy throughout the day with morning ...   \n8   Snow, Partially cloudy  Partly cloudy throughout the day with morning ...   \n9   Snow, Partially cloudy  Partly cloudy throughout the day with morning ...   \n10  Snow, Partially cloudy  Partly cloudy throughout the day with morning ...   \n11  Snow, Partially cloudy  Partly cloudy throughout the day with morning ...   \n12  Snow, Partially cloudy  Partly cloudy throughout the day with morning ...   \n13  Snow, Partially cloudy  Partly cloudy throughout the day with morning ...   \n14  Snow, Partially cloudy  Partly cloudy throughout the day with morning ...   \n\n   day_icon day_source day_preciptype                         day_stations   \n0      snow        obs           snow  33177099999;UKLR;remote;33301099999  \\\n1      snow        obs           snow  33177099999;UKLR;remote;33301099999   \n2      snow        obs           snow  33177099999;UKLR;remote;33301099999   \n3      snow        obs           snow  33177099999;UKLR;remote;33301099999   \n4      snow        obs           snow  33177099999;UKLR;remote;33301099999   \n5      snow        obs           snow  33177099999;UKLR;remote;33301099999   \n6      snow        obs           snow  33177099999;UKLR;remote;33301099999   \n7      snow        obs           snow  33177099999;UKLR;remote;33301099999   \n8      snow        obs           snow  33177099999;UKLR;remote;33301099999   \n9      snow        obs           snow  33177099999;UKLR;remote;33301099999   \n10     snow        obs           snow  33177099999;UKLR;remote;33301099999   \n11     snow        obs           snow  33177099999;UKLR;remote;33301099999   \n12     snow        obs           snow  33177099999;UKLR;remote;33301099999   \n13     snow        obs           snow  33177099999;UKLR;remote;33301099999   \n14     snow        obs           snow  33177099999;UKLR;remote;33301099999   \n\n   hour_datetime  hour_datetimeEpoch  hour_temp  hour_feelslike   \n0       00:00:00          1645653600        2.4            -1.6  \\\n1       01:00:00          1645657200        2.4            -1.5   \n2       02:00:00          1645660800        2.9            -0.8   \n3       03:00:00          1645664400        2.3            -1.3   \n4       04:00:00          1645668000        1.9            -1.8   \n5       05:00:00          1645671600        1.9            -1.3   \n6       06:00:00          1645675200        2.0            -1.1   \n7       07:00:00          1645678800        2.0            -1.1   \n8       08:00:00          1645682400        1.8            -0.3   \n9       09:00:00          1645686000        2.0            -1.1   \n10      10:00:00          1645689600        2.0            -0.1   \n11      11:00:00          1645693200        2.2             0.4   \n12      12:00:00          1645696800        3.0             1.0   \n13      13:00:00          1645700400        4.0             4.0   \n14      14:00:00          1645704000        4.9             2.3   \n\n    hour_humidity  hour_dew  hour_precip  hour_precipprob  hour_snow   \n0           89.18       0.8        0.000              0.0        0.1  \\\n1           87.90       0.6        0.000              0.0        0.0   \n2           88.58       1.2        0.000              0.0        0.0   \n3           86.63       0.3        0.000              0.0        0.0   \n4           87.85       0.1        0.000              0.0        0.0   \n5           91.66       0.6        0.000              0.0        0.0   \n6           93.09       1.0        0.000              0.0        0.0   \n7           93.09       1.0        0.000              0.0        0.0   \n8           91.32       0.6        0.118            100.0        0.0   \n9           93.09       1.0        0.000              0.0        0.0   \n10         100.00       2.0        0.000              0.0        0.0   \n11          89.39       0.6        0.000              0.0        0.0   \n12          93.14       2.0        0.000              0.0        0.0   \n13          80.80       1.0        0.000              0.0        0.0   \n14          68.56      -0.4        0.000              0.0        0.0   \n\n    hour_snowdepth hour_preciptype  hour_windgust  hour_windspeed   \n0              0.2        ['snow']           31.3            15.5  \\\n1              0.2        ['snow']           27.7            14.8   \n2              0.1        ['snow']           29.2            14.4   \n3              0.1        ['snow']           23.8            13.3   \n4              0.1        ['snow']           24.5            13.3   \n5              0.1             NaN           23.4            10.8   \n6              0.1        ['snow']           20.9            10.8   \n7              0.1        ['snow']           19.1            10.8   \n8              0.1        ['snow']           16.9             7.2   \n9              0.1             NaN           15.5            10.8   \n10             0.1             NaN           15.5             7.2   \n11             0.1             NaN           13.7             6.3   \n12             0.1             NaN           11.5             7.2   \n13             0.1             NaN           14.0             3.6   \n14             0.1             NaN            7.6            10.8   \n\n    hour_winddir  hour_pressure  hour_visibility  hour_cloudcover   \n0          275.6         1020.0              0.0             91.5  \\\n1          280.3         1021.0              0.2             88.2   \n2          310.0         1022.0             10.0            100.0   \n3          295.1         1021.0              0.1             92.0   \n4          305.8         1021.0              0.0             93.8   \n5          296.0         1022.5             10.0            100.0   \n6          300.0         1021.0             10.0            100.0   \n7          300.0         1022.0             10.0            100.0   \n8          303.0         1024.2              4.4            100.0   \n9          300.0         1024.0              2.0            100.0   \n10         310.0         1024.0             10.0            100.0   \n11         286.0         1025.2             16.3            100.0   \n12         310.0         1024.0             10.0             50.0   \n13         248.9         1024.0             10.0             50.0   \n14         150.0         1023.8             20.0             80.0   \n\n    hour_solarradiation  hour_solarenergy  hour_uvindex  hour_severerisk   \n0                   0.0               NaN           0.0             10.0  \\\n1                   0.0               NaN           0.0             10.0   \n2                   NaN               NaN           NaN             10.0   \n3                   0.0               NaN           0.0             10.0   \n4                   0.0               NaN           0.0             10.0   \n5                   0.0               NaN           0.0             10.0   \n6                   0.0               NaN           0.0             10.0   \n7                   0.0               NaN           0.0             10.0   \n8                   NaN               NaN           NaN             10.0   \n9                  15.0               0.1           0.0             10.0   \n10                 31.0               0.1           0.0             10.0   \n11                 53.0               0.2           1.0             10.0   \n12                 67.0               0.2           1.0             10.0   \n13                 77.0               0.3           1.0             10.0   \n14                  NaN               NaN           NaN             10.0   \n\n     hour_conditions          hour_icon hour_source   \n0           Overcast               snow         obs  \\\n1   Partially cloudy                fog         obs   \n2           Overcast             cloudy         obs   \n3           Overcast                fog         obs   \n4           Overcast             cloudy         obs   \n5           Overcast             cloudy         obs   \n6           Overcast             cloudy         obs   \n7           Overcast             cloudy         obs   \n8     Snow, Overcast               rain         obs   \n9           Overcast             cloudy         obs   \n10          Overcast             cloudy         obs   \n11          Overcast             cloudy         obs   \n12  Partially cloudy  partly-cloudy-day         obs   \n13  Partially cloudy  partly-cloudy-day         obs   \n14  Partially cloudy  partly-cloudy-day         obs   \n\n                   hour_stations  \n0                         remote  \n1                         remote  \n2                    33177099999  \n3                         remote  \n4                         remote  \n5        33177099999;33301099999  \n6               UKLR;33301099999  \n7               UKLR;33301099999  \n8   33177099999;UKLR;33301099999  \n9               UKLR;33301099999  \n10              UKLR;33301099999  \n11  33177099999;UKLR;33301099999  \n12              UKLR;33301099999  \n13              UKLR;33301099999  \n14                   33177099999  ",
      "text/html": "<div>\n<style scoped>\n    .dataframe tbody tr th:only-of-type {\n        vertical-align: middle;\n    }\n\n    .dataframe tbody tr th {\n        vertical-align: top;\n    }\n\n    .dataframe thead th {\n        text-align: right;\n    }\n</style>\n<table border=\"1\" class=\"dataframe\">\n  <thead>\n    <tr style=\"text-align: right;\">\n      <th></th>\n      <th>city_latitude</th>\n      <th>city_longitude</th>\n      <th>city_resolvedAddress</th>\n      <th>city_address</th>\n      <th>city_timezone</th>\n      <th>city_tzoffset</th>\n      <th>day_datetime</th>\n      <th>day_datetimeEpoch</th>\n      <th>day_tempmax</th>\n      <th>day_tempmin</th>\n      <th>day_temp</th>\n      <th>day_feelslikemax</th>\n      <th>day_feelslikemin</th>\n      <th>day_feelslike</th>\n      <th>day_dew</th>\n      <th>day_humidity</th>\n      <th>day_precip</th>\n      <th>day_precipprob</th>\n      <th>day_precipcover</th>\n      <th>day_snow</th>\n      <th>day_snowdepth</th>\n      <th>day_windgust</th>\n      <th>day_windspeed</th>\n      <th>day_winddir</th>\n      <th>day_pressure</th>\n      <th>day_cloudcover</th>\n      <th>day_visibility</th>\n      <th>day_solarradiation</th>\n      <th>day_solarenergy</th>\n      <th>day_uvindex</th>\n      <th>day_severerisk</th>\n      <th>day_sunrise</th>\n      <th>day_sunriseEpoch</th>\n      <th>day_sunset</th>\n      <th>day_sunsetEpoch</th>\n      <th>day_moonphase</th>\n      <th>day_conditions</th>\n      <th>day_description</th>\n      <th>day_icon</th>\n      <th>day_source</th>\n      <th>day_preciptype</th>\n      <th>day_stations</th>\n      <th>hour_datetime</th>\n      <th>hour_datetimeEpoch</th>\n      <th>hour_temp</th>\n      <th>hour_feelslike</th>\n      <th>hour_humidity</th>\n      <th>hour_dew</th>\n      <th>hour_precip</th>\n      <th>hour_precipprob</th>\n      <th>hour_snow</th>\n      <th>hour_snowdepth</th>\n      <th>hour_preciptype</th>\n      <th>hour_windgust</th>\n      <th>hour_windspeed</th>\n      <th>hour_winddir</th>\n      <th>hour_pressure</th>\n      <th>hour_visibility</th>\n      <th>hour_cloudcover</th>\n      <th>hour_solarradiation</th>\n      <th>hour_solarenergy</th>\n      <th>hour_uvindex</th>\n      <th>hour_severerisk</th>\n      <th>hour_conditions</th>\n      <th>hour_icon</th>\n      <th>hour_source</th>\n      <th>hour_stations</th>\n    </tr>\n  </thead>\n  <tbody>\n    <tr>\n      <th>0</th>\n      <td>50.7469</td>\n      <td>25.3263</td>\n      <td>Луцьк, Луцький район, Україна</td>\n      <td>Lutsk,Ukraine</td>\n      <td>Europe/Kiev</td>\n      <td>2.0</td>\n      <td>2022-02-24</td>\n      <td>1645653600</td>\n      <td>4.9</td>\n      <td>0.7</td>\n      <td>2.6</td>\n      <td>4.0</td>\n      <td>-3.1</td>\n      <td>-0.2</td>\n      <td>0.0</td>\n      <td>83.7</td>\n      <td>0.118</td>\n      <td>100.0</td>\n      <td>4.17</td>\n      <td>0.1</td>\n      <td>0.1</td>\n      <td>32.4</td>\n      <td>15.5</td>\n      <td>252.7</td>\n      <td>1022.3</td>\n      <td>72.3</td>\n      <td>12.2</td>\n      <td>36.9</td>\n      <td>2.8</td>\n      <td>1.0</td>\n      <td>10.0</td>\n      <td>07:13:36</td>\n      <td>1645679616</td>\n      <td>17:51:06</td>\n      <td>1645717866</td>\n      <td>0.77</td>\n      <td>Snow, Partially cloudy</td>\n      <td>Partly cloudy throughout the day with morning ...</td>\n      <td>snow</td>\n      <td>obs</td>\n      <td>snow</td>\n      <td>33177099999;UKLR;remote;33301099999</td>\n      <td>00:00:00</td>\n      <td>1645653600</td>\n      <td>2.4</td>\n      <td>-1.6</td>\n      <td>89.18</td>\n      <td>0.8</td>\n      <td>0.000</td>\n      <td>0.0</td>\n      <td>0.1</td>\n      <td>0.2</td>\n      <td>['snow']</td>\n      <td>31.3</td>\n      <td>15.5</td>\n      <td>275.6</td>\n      <td>1020.0</td>\n      <td>0.0</td>\n      <td>91.5</td>\n      <td>0.0</td>\n      <td>NaN</td>\n      <td>0.0</td>\n      <td>10.0</td>\n      <td>Overcast</td>\n      <td>snow</td>\n      <td>obs</td>\n      <td>remote</td>\n    </tr>\n    <tr>\n      <th>1</th>\n      <td>50.7469</td>\n      <td>25.3263</td>\n      <td>Луцьк, Луцький район, Україна</td>\n      <td>Lutsk,Ukraine</td>\n      <td>Europe/Kiev</td>\n      <td>2.0</td>\n      <td>2022-02-24</td>\n      <td>1645653600</td>\n      <td>4.9</td>\n      <td>0.7</td>\n      <td>2.6</td>\n      <td>4.0</td>\n      <td>-3.1</td>\n      <td>-0.2</td>\n      <td>0.0</td>\n      <td>83.7</td>\n      <td>0.118</td>\n      <td>100.0</td>\n      <td>4.17</td>\n      <td>0.1</td>\n      <td>0.1</td>\n      <td>32.4</td>\n      <td>15.5</td>\n      <td>252.7</td>\n      <td>1022.3</td>\n      <td>72.3</td>\n      <td>12.2</td>\n      <td>36.9</td>\n      <td>2.8</td>\n      <td>1.0</td>\n      <td>10.0</td>\n      <td>07:13:36</td>\n      <td>1645679616</td>\n      <td>17:51:06</td>\n      <td>1645717866</td>\n      <td>0.77</td>\n      <td>Snow, Partially cloudy</td>\n      <td>Partly cloudy throughout the day with morning ...</td>\n      <td>snow</td>\n      <td>obs</td>\n      <td>snow</td>\n      <td>33177099999;UKLR;remote;33301099999</td>\n      <td>01:00:00</td>\n      <td>1645657200</td>\n      <td>2.4</td>\n      <td>-1.5</td>\n      <td>87.90</td>\n      <td>0.6</td>\n      <td>0.000</td>\n      <td>0.0</td>\n      <td>0.0</td>\n      <td>0.2</td>\n      <td>['snow']</td>\n      <td>27.7</td>\n      <td>14.8</td>\n      <td>280.3</td>\n      <td>1021.0</td>\n      <td>0.2</td>\n      <td>88.2</td>\n      <td>0.0</td>\n      <td>NaN</td>\n      <td>0.0</td>\n      <td>10.0</td>\n      <td>Partially cloudy</td>\n      <td>fog</td>\n      <td>obs</td>\n      <td>remote</td>\n    </tr>\n    <tr>\n      <th>2</th>\n      <td>50.7469</td>\n      <td>25.3263</td>\n      <td>Луцьк, Луцький район, Україна</td>\n      <td>Lutsk,Ukraine</td>\n      <td>Europe/Kiev</td>\n      <td>2.0</td>\n      <td>2022-02-24</td>\n      <td>1645653600</td>\n      <td>4.9</td>\n      <td>0.7</td>\n      <td>2.6</td>\n      <td>4.0</td>\n      <td>-3.1</td>\n      <td>-0.2</td>\n      <td>0.0</td>\n      <td>83.7</td>\n      <td>0.118</td>\n      <td>100.0</td>\n      <td>4.17</td>\n      <td>0.1</td>\n      <td>0.1</td>\n      <td>32.4</td>\n      <td>15.5</td>\n      <td>252.7</td>\n      <td>1022.3</td>\n      <td>72.3</td>\n      <td>12.2</td>\n      <td>36.9</td>\n      <td>2.8</td>\n      <td>1.0</td>\n      <td>10.0</td>\n      <td>07:13:36</td>\n      <td>1645679616</td>\n      <td>17:51:06</td>\n      <td>1645717866</td>\n      <td>0.77</td>\n      <td>Snow, Partially cloudy</td>\n      <td>Partly cloudy throughout the day with morning ...</td>\n      <td>snow</td>\n      <td>obs</td>\n      <td>snow</td>\n      <td>33177099999;UKLR;remote;33301099999</td>\n      <td>02:00:00</td>\n      <td>1645660800</td>\n      <td>2.9</td>\n      <td>-0.8</td>\n      <td>88.58</td>\n      <td>1.2</td>\n      <td>0.000</td>\n      <td>0.0</td>\n      <td>0.0</td>\n      <td>0.1</td>\n      <td>['snow']</td>\n      <td>29.2</td>\n      <td>14.4</td>\n      <td>310.0</td>\n      <td>1022.0</td>\n      <td>10.0</td>\n      <td>100.0</td>\n      <td>NaN</td>\n      <td>NaN</td>\n      <td>NaN</td>\n      <td>10.0</td>\n      <td>Overcast</td>\n      <td>cloudy</td>\n      <td>obs</td>\n      <td>33177099999</td>\n    </tr>\n    <tr>\n      <th>3</th>\n      <td>50.7469</td>\n      <td>25.3263</td>\n      <td>Луцьк, Луцький район, Україна</td>\n      <td>Lutsk,Ukraine</td>\n      <td>Europe/Kiev</td>\n      <td>2.0</td>\n      <td>2022-02-24</td>\n      <td>1645653600</td>\n      <td>4.9</td>\n      <td>0.7</td>\n      <td>2.6</td>\n      <td>4.0</td>\n      <td>-3.1</td>\n      <td>-0.2</td>\n      <td>0.0</td>\n      <td>83.7</td>\n      <td>0.118</td>\n      <td>100.0</td>\n      <td>4.17</td>\n      <td>0.1</td>\n      <td>0.1</td>\n      <td>32.4</td>\n      <td>15.5</td>\n      <td>252.7</td>\n      <td>1022.3</td>\n      <td>72.3</td>\n      <td>12.2</td>\n      <td>36.9</td>\n      <td>2.8</td>\n      <td>1.0</td>\n      <td>10.0</td>\n      <td>07:13:36</td>\n      <td>1645679616</td>\n      <td>17:51:06</td>\n      <td>1645717866</td>\n      <td>0.77</td>\n      <td>Snow, Partially cloudy</td>\n      <td>Partly cloudy throughout the day with morning ...</td>\n      <td>snow</td>\n      <td>obs</td>\n      <td>snow</td>\n      <td>33177099999;UKLR;remote;33301099999</td>\n      <td>03:00:00</td>\n      <td>1645664400</td>\n      <td>2.3</td>\n      <td>-1.3</td>\n      <td>86.63</td>\n      <td>0.3</td>\n      <td>0.000</td>\n      <td>0.0</td>\n      <td>0.0</td>\n      <td>0.1</td>\n      <td>['snow']</td>\n      <td>23.8</td>\n      <td>13.3</td>\n      <td>295.1</td>\n      <td>1021.0</td>\n      <td>0.1</td>\n      <td>92.0</td>\n      <td>0.0</td>\n      <td>NaN</td>\n      <td>0.0</td>\n      <td>10.0</td>\n      <td>Overcast</td>\n      <td>fog</td>\n      <td>obs</td>\n      <td>remote</td>\n    </tr>\n    <tr>\n      <th>4</th>\n      <td>50.7469</td>\n      <td>25.3263</td>\n      <td>Луцьк, Луцький район, Україна</td>\n      <td>Lutsk,Ukraine</td>\n      <td>Europe/Kiev</td>\n      <td>2.0</td>\n      <td>2022-02-24</td>\n      <td>1645653600</td>\n      <td>4.9</td>\n      <td>0.7</td>\n      <td>2.6</td>\n      <td>4.0</td>\n      <td>-3.1</td>\n      <td>-0.2</td>\n      <td>0.0</td>\n      <td>83.7</td>\n      <td>0.118</td>\n      <td>100.0</td>\n      <td>4.17</td>\n      <td>0.1</td>\n      <td>0.1</td>\n      <td>32.4</td>\n      <td>15.5</td>\n      <td>252.7</td>\n      <td>1022.3</td>\n      <td>72.3</td>\n      <td>12.2</td>\n      <td>36.9</td>\n      <td>2.8</td>\n      <td>1.0</td>\n      <td>10.0</td>\n      <td>07:13:36</td>\n      <td>1645679616</td>\n      <td>17:51:06</td>\n      <td>1645717866</td>\n      <td>0.77</td>\n      <td>Snow, Partially cloudy</td>\n      <td>Partly cloudy throughout the day with morning ...</td>\n      <td>snow</td>\n      <td>obs</td>\n      <td>snow</td>\n      <td>33177099999;UKLR;remote;33301099999</td>\n      <td>04:00:00</td>\n      <td>1645668000</td>\n      <td>1.9</td>\n      <td>-1.8</td>\n      <td>87.85</td>\n      <td>0.1</td>\n      <td>0.000</td>\n      <td>0.0</td>\n      <td>0.0</td>\n      <td>0.1</td>\n      <td>['snow']</td>\n      <td>24.5</td>\n      <td>13.3</td>\n      <td>305.8</td>\n      <td>1021.0</td>\n      <td>0.0</td>\n      <td>93.8</td>\n      <td>0.0</td>\n      <td>NaN</td>\n      <td>0.0</td>\n      <td>10.0</td>\n      <td>Overcast</td>\n      <td>cloudy</td>\n      <td>obs</td>\n      <td>remote</td>\n    </tr>\n    <tr>\n      <th>5</th>\n      <td>50.7469</td>\n      <td>25.3263</td>\n      <td>Луцьк, Луцький район, Україна</td>\n      <td>Lutsk,Ukraine</td>\n      <td>Europe/Kiev</td>\n      <td>2.0</td>\n      <td>2022-02-24</td>\n      <td>1645653600</td>\n      <td>4.9</td>\n      <td>0.7</td>\n      <td>2.6</td>\n      <td>4.0</td>\n      <td>-3.1</td>\n      <td>-0.2</td>\n      <td>0.0</td>\n      <td>83.7</td>\n      <td>0.118</td>\n      <td>100.0</td>\n      <td>4.17</td>\n      <td>0.1</td>\n      <td>0.1</td>\n      <td>32.4</td>\n      <td>15.5</td>\n      <td>252.7</td>\n      <td>1022.3</td>\n      <td>72.3</td>\n      <td>12.2</td>\n      <td>36.9</td>\n      <td>2.8</td>\n      <td>1.0</td>\n      <td>10.0</td>\n      <td>07:13:36</td>\n      <td>1645679616</td>\n      <td>17:51:06</td>\n      <td>1645717866</td>\n      <td>0.77</td>\n      <td>Snow, Partially cloudy</td>\n      <td>Partly cloudy throughout the day with morning ...</td>\n      <td>snow</td>\n      <td>obs</td>\n      <td>snow</td>\n      <td>33177099999;UKLR;remote;33301099999</td>\n      <td>05:00:00</td>\n      <td>1645671600</td>\n      <td>1.9</td>\n      <td>-1.3</td>\n      <td>91.66</td>\n      <td>0.6</td>\n      <td>0.000</td>\n      <td>0.0</td>\n      <td>0.0</td>\n      <td>0.1</td>\n      <td>NaN</td>\n      <td>23.4</td>\n      <td>10.8</td>\n      <td>296.0</td>\n      <td>1022.5</td>\n      <td>10.0</td>\n      <td>100.0</td>\n      <td>0.0</td>\n      <td>NaN</td>\n      <td>0.0</td>\n      <td>10.0</td>\n      <td>Overcast</td>\n      <td>cloudy</td>\n      <td>obs</td>\n      <td>33177099999;33301099999</td>\n    </tr>\n    <tr>\n      <th>6</th>\n      <td>50.7469</td>\n      <td>25.3263</td>\n      <td>Луцьк, Луцький район, Україна</td>\n      <td>Lutsk,Ukraine</td>\n      <td>Europe/Kiev</td>\n      <td>2.0</td>\n      <td>2022-02-24</td>\n      <td>1645653600</td>\n      <td>4.9</td>\n      <td>0.7</td>\n      <td>2.6</td>\n      <td>4.0</td>\n      <td>-3.1</td>\n      <td>-0.2</td>\n      <td>0.0</td>\n      <td>83.7</td>\n      <td>0.118</td>\n      <td>100.0</td>\n      <td>4.17</td>\n      <td>0.1</td>\n      <td>0.1</td>\n      <td>32.4</td>\n      <td>15.5</td>\n      <td>252.7</td>\n      <td>1022.3</td>\n      <td>72.3</td>\n      <td>12.2</td>\n      <td>36.9</td>\n      <td>2.8</td>\n      <td>1.0</td>\n      <td>10.0</td>\n      <td>07:13:36</td>\n      <td>1645679616</td>\n      <td>17:51:06</td>\n      <td>1645717866</td>\n      <td>0.77</td>\n      <td>Snow, Partially cloudy</td>\n      <td>Partly cloudy throughout the day with morning ...</td>\n      <td>snow</td>\n      <td>obs</td>\n      <td>snow</td>\n      <td>33177099999;UKLR;remote;33301099999</td>\n      <td>06:00:00</td>\n      <td>1645675200</td>\n      <td>2.0</td>\n      <td>-1.1</td>\n      <td>93.09</td>\n      <td>1.0</td>\n      <td>0.000</td>\n      <td>0.0</td>\n      <td>0.0</td>\n      <td>0.1</td>\n      <td>['snow']</td>\n      <td>20.9</td>\n      <td>10.8</td>\n      <td>300.0</td>\n      <td>1021.0</td>\n      <td>10.0</td>\n      <td>100.0</td>\n      <td>0.0</td>\n      <td>NaN</td>\n      <td>0.0</td>\n      <td>10.0</td>\n      <td>Overcast</td>\n      <td>cloudy</td>\n      <td>obs</td>\n      <td>UKLR;33301099999</td>\n    </tr>\n    <tr>\n      <th>7</th>\n      <td>50.7469</td>\n      <td>25.3263</td>\n      <td>Луцьк, Луцький район, Україна</td>\n      <td>Lutsk,Ukraine</td>\n      <td>Europe/Kiev</td>\n      <td>2.0</td>\n      <td>2022-02-24</td>\n      <td>1645653600</td>\n      <td>4.9</td>\n      <td>0.7</td>\n      <td>2.6</td>\n      <td>4.0</td>\n      <td>-3.1</td>\n      <td>-0.2</td>\n      <td>0.0</td>\n      <td>83.7</td>\n      <td>0.118</td>\n      <td>100.0</td>\n      <td>4.17</td>\n      <td>0.1</td>\n      <td>0.1</td>\n      <td>32.4</td>\n      <td>15.5</td>\n      <td>252.7</td>\n      <td>1022.3</td>\n      <td>72.3</td>\n      <td>12.2</td>\n      <td>36.9</td>\n      <td>2.8</td>\n      <td>1.0</td>\n      <td>10.0</td>\n      <td>07:13:36</td>\n      <td>1645679616</td>\n      <td>17:51:06</td>\n      <td>1645717866</td>\n      <td>0.77</td>\n      <td>Snow, Partially cloudy</td>\n      <td>Partly cloudy throughout the day with morning ...</td>\n      <td>snow</td>\n      <td>obs</td>\n      <td>snow</td>\n      <td>33177099999;UKLR;remote;33301099999</td>\n      <td>07:00:00</td>\n      <td>1645678800</td>\n      <td>2.0</td>\n      <td>-1.1</td>\n      <td>93.09</td>\n      <td>1.0</td>\n      <td>0.000</td>\n      <td>0.0</td>\n      <td>0.0</td>\n      <td>0.1</td>\n      <td>['snow']</td>\n      <td>19.1</td>\n      <td>10.8</td>\n      <td>300.0</td>\n      <td>1022.0</td>\n      <td>10.0</td>\n      <td>100.0</td>\n      <td>0.0</td>\n      <td>NaN</td>\n      <td>0.0</td>\n      <td>10.0</td>\n      <td>Overcast</td>\n      <td>cloudy</td>\n      <td>obs</td>\n      <td>UKLR;33301099999</td>\n    </tr>\n    <tr>\n      <th>8</th>\n      <td>50.7469</td>\n      <td>25.3263</td>\n      <td>Луцьк, Луцький район, Україна</td>\n      <td>Lutsk,Ukraine</td>\n      <td>Europe/Kiev</td>\n      <td>2.0</td>\n      <td>2022-02-24</td>\n      <td>1645653600</td>\n      <td>4.9</td>\n      <td>0.7</td>\n      <td>2.6</td>\n      <td>4.0</td>\n      <td>-3.1</td>\n      <td>-0.2</td>\n      <td>0.0</td>\n      <td>83.7</td>\n      <td>0.118</td>\n      <td>100.0</td>\n      <td>4.17</td>\n      <td>0.1</td>\n      <td>0.1</td>\n      <td>32.4</td>\n      <td>15.5</td>\n      <td>252.7</td>\n      <td>1022.3</td>\n      <td>72.3</td>\n      <td>12.2</td>\n      <td>36.9</td>\n      <td>2.8</td>\n      <td>1.0</td>\n      <td>10.0</td>\n      <td>07:13:36</td>\n      <td>1645679616</td>\n      <td>17:51:06</td>\n      <td>1645717866</td>\n      <td>0.77</td>\n      <td>Snow, Partially cloudy</td>\n      <td>Partly cloudy throughout the day with morning ...</td>\n      <td>snow</td>\n      <td>obs</td>\n      <td>snow</td>\n      <td>33177099999;UKLR;remote;33301099999</td>\n      <td>08:00:00</td>\n      <td>1645682400</td>\n      <td>1.8</td>\n      <td>-0.3</td>\n      <td>91.32</td>\n      <td>0.6</td>\n      <td>0.118</td>\n      <td>100.0</td>\n      <td>0.0</td>\n      <td>0.1</td>\n      <td>['snow']</td>\n      <td>16.9</td>\n      <td>7.2</td>\n      <td>303.0</td>\n      <td>1024.2</td>\n      <td>4.4</td>\n      <td>100.0</td>\n      <td>NaN</td>\n      <td>NaN</td>\n      <td>NaN</td>\n      <td>10.0</td>\n      <td>Snow, Overcast</td>\n      <td>rain</td>\n      <td>obs</td>\n      <td>33177099999;UKLR;33301099999</td>\n    </tr>\n    <tr>\n      <th>9</th>\n      <td>50.7469</td>\n      <td>25.3263</td>\n      <td>Луцьк, Луцький район, Україна</td>\n      <td>Lutsk,Ukraine</td>\n      <td>Europe/Kiev</td>\n      <td>2.0</td>\n      <td>2022-02-24</td>\n      <td>1645653600</td>\n      <td>4.9</td>\n      <td>0.7</td>\n      <td>2.6</td>\n      <td>4.0</td>\n      <td>-3.1</td>\n      <td>-0.2</td>\n      <td>0.0</td>\n      <td>83.7</td>\n      <td>0.118</td>\n      <td>100.0</td>\n      <td>4.17</td>\n      <td>0.1</td>\n      <td>0.1</td>\n      <td>32.4</td>\n      <td>15.5</td>\n      <td>252.7</td>\n      <td>1022.3</td>\n      <td>72.3</td>\n      <td>12.2</td>\n      <td>36.9</td>\n      <td>2.8</td>\n      <td>1.0</td>\n      <td>10.0</td>\n      <td>07:13:36</td>\n      <td>1645679616</td>\n      <td>17:51:06</td>\n      <td>1645717866</td>\n      <td>0.77</td>\n      <td>Snow, Partially cloudy</td>\n      <td>Partly cloudy throughout the day with morning ...</td>\n      <td>snow</td>\n      <td>obs</td>\n      <td>snow</td>\n      <td>33177099999;UKLR;remote;33301099999</td>\n      <td>09:00:00</td>\n      <td>1645686000</td>\n      <td>2.0</td>\n      <td>-1.1</td>\n      <td>93.09</td>\n      <td>1.0</td>\n      <td>0.000</td>\n      <td>0.0</td>\n      <td>0.0</td>\n      <td>0.1</td>\n      <td>NaN</td>\n      <td>15.5</td>\n      <td>10.8</td>\n      <td>300.0</td>\n      <td>1024.0</td>\n      <td>2.0</td>\n      <td>100.0</td>\n      <td>15.0</td>\n      <td>0.1</td>\n      <td>0.0</td>\n      <td>10.0</td>\n      <td>Overcast</td>\n      <td>cloudy</td>\n      <td>obs</td>\n      <td>UKLR;33301099999</td>\n    </tr>\n    <tr>\n      <th>10</th>\n      <td>50.7469</td>\n      <td>25.3263</td>\n      <td>Луцьк, Луцький район, Україна</td>\n      <td>Lutsk,Ukraine</td>\n      <td>Europe/Kiev</td>\n      <td>2.0</td>\n      <td>2022-02-24</td>\n      <td>1645653600</td>\n      <td>4.9</td>\n      <td>0.7</td>\n      <td>2.6</td>\n      <td>4.0</td>\n      <td>-3.1</td>\n      <td>-0.2</td>\n      <td>0.0</td>\n      <td>83.7</td>\n      <td>0.118</td>\n      <td>100.0</td>\n      <td>4.17</td>\n      <td>0.1</td>\n      <td>0.1</td>\n      <td>32.4</td>\n      <td>15.5</td>\n      <td>252.7</td>\n      <td>1022.3</td>\n      <td>72.3</td>\n      <td>12.2</td>\n      <td>36.9</td>\n      <td>2.8</td>\n      <td>1.0</td>\n      <td>10.0</td>\n      <td>07:13:36</td>\n      <td>1645679616</td>\n      <td>17:51:06</td>\n      <td>1645717866</td>\n      <td>0.77</td>\n      <td>Snow, Partially cloudy</td>\n      <td>Partly cloudy throughout the day with morning ...</td>\n      <td>snow</td>\n      <td>obs</td>\n      <td>snow</td>\n      <td>33177099999;UKLR;remote;33301099999</td>\n      <td>10:00:00</td>\n      <td>1645689600</td>\n      <td>2.0</td>\n      <td>-0.1</td>\n      <td>100.00</td>\n      <td>2.0</td>\n      <td>0.000</td>\n      <td>0.0</td>\n      <td>0.0</td>\n      <td>0.1</td>\n      <td>NaN</td>\n      <td>15.5</td>\n      <td>7.2</td>\n      <td>310.0</td>\n      <td>1024.0</td>\n      <td>10.0</td>\n      <td>100.0</td>\n      <td>31.0</td>\n      <td>0.1</td>\n      <td>0.0</td>\n      <td>10.0</td>\n      <td>Overcast</td>\n      <td>cloudy</td>\n      <td>obs</td>\n      <td>UKLR;33301099999</td>\n    </tr>\n    <tr>\n      <th>11</th>\n      <td>50.7469</td>\n      <td>25.3263</td>\n      <td>Луцьк, Луцький район, Україна</td>\n      <td>Lutsk,Ukraine</td>\n      <td>Europe/Kiev</td>\n      <td>2.0</td>\n      <td>2022-02-24</td>\n      <td>1645653600</td>\n      <td>4.9</td>\n      <td>0.7</td>\n      <td>2.6</td>\n      <td>4.0</td>\n      <td>-3.1</td>\n      <td>-0.2</td>\n      <td>0.0</td>\n      <td>83.7</td>\n      <td>0.118</td>\n      <td>100.0</td>\n      <td>4.17</td>\n      <td>0.1</td>\n      <td>0.1</td>\n      <td>32.4</td>\n      <td>15.5</td>\n      <td>252.7</td>\n      <td>1022.3</td>\n      <td>72.3</td>\n      <td>12.2</td>\n      <td>36.9</td>\n      <td>2.8</td>\n      <td>1.0</td>\n      <td>10.0</td>\n      <td>07:13:36</td>\n      <td>1645679616</td>\n      <td>17:51:06</td>\n      <td>1645717866</td>\n      <td>0.77</td>\n      <td>Snow, Partially cloudy</td>\n      <td>Partly cloudy throughout the day with morning ...</td>\n      <td>snow</td>\n      <td>obs</td>\n      <td>snow</td>\n      <td>33177099999;UKLR;remote;33301099999</td>\n      <td>11:00:00</td>\n      <td>1645693200</td>\n      <td>2.2</td>\n      <td>0.4</td>\n      <td>89.39</td>\n      <td>0.6</td>\n      <td>0.000</td>\n      <td>0.0</td>\n      <td>0.0</td>\n      <td>0.1</td>\n      <td>NaN</td>\n      <td>13.7</td>\n      <td>6.3</td>\n      <td>286.0</td>\n      <td>1025.2</td>\n      <td>16.3</td>\n      <td>100.0</td>\n      <td>53.0</td>\n      <td>0.2</td>\n      <td>1.0</td>\n      <td>10.0</td>\n      <td>Overcast</td>\n      <td>cloudy</td>\n      <td>obs</td>\n      <td>33177099999;UKLR;33301099999</td>\n    </tr>\n    <tr>\n      <th>12</th>\n      <td>50.7469</td>\n      <td>25.3263</td>\n      <td>Луцьк, Луцький район, Україна</td>\n      <td>Lutsk,Ukraine</td>\n      <td>Europe/Kiev</td>\n      <td>2.0</td>\n      <td>2022-02-24</td>\n      <td>1645653600</td>\n      <td>4.9</td>\n      <td>0.7</td>\n      <td>2.6</td>\n      <td>4.0</td>\n      <td>-3.1</td>\n      <td>-0.2</td>\n      <td>0.0</td>\n      <td>83.7</td>\n      <td>0.118</td>\n      <td>100.0</td>\n      <td>4.17</td>\n      <td>0.1</td>\n      <td>0.1</td>\n      <td>32.4</td>\n      <td>15.5</td>\n      <td>252.7</td>\n      <td>1022.3</td>\n      <td>72.3</td>\n      <td>12.2</td>\n      <td>36.9</td>\n      <td>2.8</td>\n      <td>1.0</td>\n      <td>10.0</td>\n      <td>07:13:36</td>\n      <td>1645679616</td>\n      <td>17:51:06</td>\n      <td>1645717866</td>\n      <td>0.77</td>\n      <td>Snow, Partially cloudy</td>\n      <td>Partly cloudy throughout the day with morning ...</td>\n      <td>snow</td>\n      <td>obs</td>\n      <td>snow</td>\n      <td>33177099999;UKLR;remote;33301099999</td>\n      <td>12:00:00</td>\n      <td>1645696800</td>\n      <td>3.0</td>\n      <td>1.0</td>\n      <td>93.14</td>\n      <td>2.0</td>\n      <td>0.000</td>\n      <td>0.0</td>\n      <td>0.0</td>\n      <td>0.1</td>\n      <td>NaN</td>\n      <td>11.5</td>\n      <td>7.2</td>\n      <td>310.0</td>\n      <td>1024.0</td>\n      <td>10.0</td>\n      <td>50.0</td>\n      <td>67.0</td>\n      <td>0.2</td>\n      <td>1.0</td>\n      <td>10.0</td>\n      <td>Partially cloudy</td>\n      <td>partly-cloudy-day</td>\n      <td>obs</td>\n      <td>UKLR;33301099999</td>\n    </tr>\n    <tr>\n      <th>13</th>\n      <td>50.7469</td>\n      <td>25.3263</td>\n      <td>Луцьк, Луцький район, Україна</td>\n      <td>Lutsk,Ukraine</td>\n      <td>Europe/Kiev</td>\n      <td>2.0</td>\n      <td>2022-02-24</td>\n      <td>1645653600</td>\n      <td>4.9</td>\n      <td>0.7</td>\n      <td>2.6</td>\n      <td>4.0</td>\n      <td>-3.1</td>\n      <td>-0.2</td>\n      <td>0.0</td>\n      <td>83.7</td>\n      <td>0.118</td>\n      <td>100.0</td>\n      <td>4.17</td>\n      <td>0.1</td>\n      <td>0.1</td>\n      <td>32.4</td>\n      <td>15.5</td>\n      <td>252.7</td>\n      <td>1022.3</td>\n      <td>72.3</td>\n      <td>12.2</td>\n      <td>36.9</td>\n      <td>2.8</td>\n      <td>1.0</td>\n      <td>10.0</td>\n      <td>07:13:36</td>\n      <td>1645679616</td>\n      <td>17:51:06</td>\n      <td>1645717866</td>\n      <td>0.77</td>\n      <td>Snow, Partially cloudy</td>\n      <td>Partly cloudy throughout the day with morning ...</td>\n      <td>snow</td>\n      <td>obs</td>\n      <td>snow</td>\n      <td>33177099999;UKLR;remote;33301099999</td>\n      <td>13:00:00</td>\n      <td>1645700400</td>\n      <td>4.0</td>\n      <td>4.0</td>\n      <td>80.80</td>\n      <td>1.0</td>\n      <td>0.000</td>\n      <td>0.0</td>\n      <td>0.0</td>\n      <td>0.1</td>\n      <td>NaN</td>\n      <td>14.0</td>\n      <td>3.6</td>\n      <td>248.9</td>\n      <td>1024.0</td>\n      <td>10.0</td>\n      <td>50.0</td>\n      <td>77.0</td>\n      <td>0.3</td>\n      <td>1.0</td>\n      <td>10.0</td>\n      <td>Partially cloudy</td>\n      <td>partly-cloudy-day</td>\n      <td>obs</td>\n      <td>UKLR;33301099999</td>\n    </tr>\n    <tr>\n      <th>14</th>\n      <td>50.7469</td>\n      <td>25.3263</td>\n      <td>Луцьк, Луцький район, Україна</td>\n      <td>Lutsk,Ukraine</td>\n      <td>Europe/Kiev</td>\n      <td>2.0</td>\n      <td>2022-02-24</td>\n      <td>1645653600</td>\n      <td>4.9</td>\n      <td>0.7</td>\n      <td>2.6</td>\n      <td>4.0</td>\n      <td>-3.1</td>\n      <td>-0.2</td>\n      <td>0.0</td>\n      <td>83.7</td>\n      <td>0.118</td>\n      <td>100.0</td>\n      <td>4.17</td>\n      <td>0.1</td>\n      <td>0.1</td>\n      <td>32.4</td>\n      <td>15.5</td>\n      <td>252.7</td>\n      <td>1022.3</td>\n      <td>72.3</td>\n      <td>12.2</td>\n      <td>36.9</td>\n      <td>2.8</td>\n      <td>1.0</td>\n      <td>10.0</td>\n      <td>07:13:36</td>\n      <td>1645679616</td>\n      <td>17:51:06</td>\n      <td>1645717866</td>\n      <td>0.77</td>\n      <td>Snow, Partially cloudy</td>\n      <td>Partly cloudy throughout the day with morning ...</td>\n      <td>snow</td>\n      <td>obs</td>\n      <td>snow</td>\n      <td>33177099999;UKLR;remote;33301099999</td>\n      <td>14:00:00</td>\n      <td>1645704000</td>\n      <td>4.9</td>\n      <td>2.3</td>\n      <td>68.56</td>\n      <td>-0.4</td>\n      <td>0.000</td>\n      <td>0.0</td>\n      <td>0.0</td>\n      <td>0.1</td>\n      <td>NaN</td>\n      <td>7.6</td>\n      <td>10.8</td>\n      <td>150.0</td>\n      <td>1023.8</td>\n      <td>20.0</td>\n      <td>80.0</td>\n      <td>NaN</td>\n      <td>NaN</td>\n      <td>NaN</td>\n      <td>10.0</td>\n      <td>Partially cloudy</td>\n      <td>partly-cloudy-day</td>\n      <td>obs</td>\n      <td>33177099999</td>\n    </tr>\n  </tbody>\n</table>\n</div>"
     },
     "execution_count": 31,
     "metadata": {},
     "output_type": "execute_result"
    }
   ],
   "source": [
    "df_weather.head(15)"
   ]
  },
  {
   "cell_type": "code",
   "execution_count": 32,
   "id": "defcbb4d",
   "metadata": {
    "ExecuteTime": {
     "start_time": "2023-04-08T13:32:07.119267Z",
     "end_time": "2023-04-08T13:32:07.121267Z"
    }
   },
   "outputs": [],
   "source": [
    "# len(clmns)"
   ]
  },
  {
   "cell_type": "code",
   "execution_count": 33,
   "id": "b2d92e99",
   "metadata": {
    "ExecuteTime": {
     "start_time": "2023-04-08T13:32:07.122267Z",
     "end_time": "2023-04-08T13:32:07.131031Z"
    }
   },
   "outputs": [],
   "source": [
    "# exclude\n",
    "weather_exclude = [\n",
    "    \"day_feelslikemax\",\n",
    "    \"day_feelslikemin\",\n",
    "    \"day_sunriseEpoch\",\n",
    "    \"day_sunsetEpoch\",\n",
    "    \"day_description\",\n",
    "    \"city_latitude\",\n",
    "    \"city_longitude\",\n",
    "    \"city_address\",\n",
    "    \"city_timezone\",\n",
    "    \"city_tzoffset\",\n",
    "    \"day_feelslike\",\n",
    "    \"day_precipprob\",\n",
    "    \"day_snow\",\n",
    "    \"day_snowdepth\",\n",
    "    \"day_windgust\",\n",
    "    \"day_windspeed\",\n",
    "    \"day_winddir\",\n",
    "    \"day_pressure\",\n",
    "    \"day_cloudcover\",\n",
    "    \"day_visibility\",\n",
    "    \"day_severerisk\",\n",
    "    \"day_conditions\",\n",
    "    \"day_icon\",\n",
    "    \"day_source\",\n",
    "    \"day_preciptype\",\n",
    "    \"day_stations\",\n",
    "    \"hour_icon\",\n",
    "    \"hour_source\",\n",
    "    \"hour_stations\",\n",
    "    \"hour_feelslike\",\n",
    "]"
   ]
  },
  {
   "cell_type": "code",
   "execution_count": 34,
   "id": "95e9c9b9",
   "metadata": {
    "ExecuteTime": {
     "start_time": "2023-04-08T13:32:07.131031Z",
     "end_time": "2023-04-08T13:32:07.139346Z"
    }
   },
   "outputs": [],
   "source": [
    "# new_list = [x for x in clmns if (x not in weather_exclude)]\n",
    "# new_list"
   ]
  },
  {
   "cell_type": "code",
   "execution_count": 35,
   "id": "0ce0ab81",
   "metadata": {
    "ExecuteTime": {
     "start_time": "2023-04-08T13:32:07.140346Z",
     "end_time": "2023-04-08T13:32:07.194379Z"
    }
   },
   "outputs": [],
   "source": [
    "df_weather_v2 = df_weather.drop(weather_exclude, axis=1)"
   ]
  },
  {
   "cell_type": "code",
   "execution_count": 36,
   "id": "9fd632b4",
   "metadata": {
    "ExecuteTime": {
     "start_time": "2023-04-08T13:32:07.164354Z",
     "end_time": "2023-04-08T13:32:07.221426Z"
    }
   },
   "outputs": [],
   "source": [
    "df_weather_v2[\"city\"] = df_weather_v2[\"city_resolvedAddress\"].apply(\n",
    "    lambda x: x.split(\",\")[0]\n",
    ")\n",
    "df_weather_v2[\"city\"] = df_weather_v2[\"city\"].replace(\n",
    "    \"Хмельницька область\", \"Хмельницький\"\n",
    ")"
   ]
  },
  {
   "cell_type": "code",
   "execution_count": 37,
   "id": "453ac798",
   "metadata": {
    "ExecuteTime": {
     "start_time": "2023-04-08T13:32:07.220407Z",
     "end_time": "2023-04-08T13:32:07.240962Z"
    },
    "scrolled": true
   },
   "outputs": [
    {
     "data": {
      "text/plain": "            city_resolvedAddress day_datetime  day_datetimeEpoch  day_tempmax   \n0  Луцьк, Луцький район, Україна   2022-02-24         1645653600          4.9  \\\n1  Луцьк, Луцький район, Україна   2022-02-24         1645653600          4.9   \n2  Луцьк, Луцький район, Україна   2022-02-24         1645653600          4.9   \n3  Луцьк, Луцький район, Україна   2022-02-24         1645653600          4.9   \n4  Луцьк, Луцький район, Україна   2022-02-24         1645653600          4.9   \n\n   day_tempmin  day_temp  day_dew  day_humidity  day_precip  day_precipcover   \n0          0.7       2.6      0.0          83.7       0.118             4.17  \\\n1          0.7       2.6      0.0          83.7       0.118             4.17   \n2          0.7       2.6      0.0          83.7       0.118             4.17   \n3          0.7       2.6      0.0          83.7       0.118             4.17   \n4          0.7       2.6      0.0          83.7       0.118             4.17   \n\n   day_solarradiation  day_solarenergy  day_uvindex day_sunrise day_sunset   \n0                36.9              2.8          1.0    07:13:36   17:51:06  \\\n1                36.9              2.8          1.0    07:13:36   17:51:06   \n2                36.9              2.8          1.0    07:13:36   17:51:06   \n3                36.9              2.8          1.0    07:13:36   17:51:06   \n4                36.9              2.8          1.0    07:13:36   17:51:06   \n\n   day_moonphase hour_datetime  hour_datetimeEpoch  hour_temp  hour_humidity   \n0           0.77      00:00:00          1645653600        2.4          89.18  \\\n1           0.77      01:00:00          1645657200        2.4          87.90   \n2           0.77      02:00:00          1645660800        2.9          88.58   \n3           0.77      03:00:00          1645664400        2.3          86.63   \n4           0.77      04:00:00          1645668000        1.9          87.85   \n\n   hour_dew  hour_precip  hour_precipprob  hour_snow  hour_snowdepth   \n0       0.8          0.0              0.0        0.1             0.2  \\\n1       0.6          0.0              0.0        0.0             0.2   \n2       1.2          0.0              0.0        0.0             0.1   \n3       0.3          0.0              0.0        0.0             0.1   \n4       0.1          0.0              0.0        0.0             0.1   \n\n  hour_preciptype  hour_windgust  hour_windspeed  hour_winddir  hour_pressure   \n0        ['snow']           31.3            15.5         275.6         1020.0  \\\n1        ['snow']           27.7            14.8         280.3         1021.0   \n2        ['snow']           29.2            14.4         310.0         1022.0   \n3        ['snow']           23.8            13.3         295.1         1021.0   \n4        ['snow']           24.5            13.3         305.8         1021.0   \n\n   hour_visibility  hour_cloudcover  hour_solarradiation  hour_solarenergy   \n0              0.0             91.5                  0.0               NaN  \\\n1              0.2             88.2                  0.0               NaN   \n2             10.0            100.0                  NaN               NaN   \n3              0.1             92.0                  0.0               NaN   \n4              0.0             93.8                  0.0               NaN   \n\n   hour_uvindex  hour_severerisk   hour_conditions   city  \n0           0.0             10.0          Overcast  Луцьк  \n1           0.0             10.0  Partially cloudy  Луцьк  \n2           NaN             10.0          Overcast  Луцьк  \n3           0.0             10.0          Overcast  Луцьк  \n4           0.0             10.0          Overcast  Луцьк  ",
      "text/html": "<div>\n<style scoped>\n    .dataframe tbody tr th:only-of-type {\n        vertical-align: middle;\n    }\n\n    .dataframe tbody tr th {\n        vertical-align: top;\n    }\n\n    .dataframe thead th {\n        text-align: right;\n    }\n</style>\n<table border=\"1\" class=\"dataframe\">\n  <thead>\n    <tr style=\"text-align: right;\">\n      <th></th>\n      <th>city_resolvedAddress</th>\n      <th>day_datetime</th>\n      <th>day_datetimeEpoch</th>\n      <th>day_tempmax</th>\n      <th>day_tempmin</th>\n      <th>day_temp</th>\n      <th>day_dew</th>\n      <th>day_humidity</th>\n      <th>day_precip</th>\n      <th>day_precipcover</th>\n      <th>day_solarradiation</th>\n      <th>day_solarenergy</th>\n      <th>day_uvindex</th>\n      <th>day_sunrise</th>\n      <th>day_sunset</th>\n      <th>day_moonphase</th>\n      <th>hour_datetime</th>\n      <th>hour_datetimeEpoch</th>\n      <th>hour_temp</th>\n      <th>hour_humidity</th>\n      <th>hour_dew</th>\n      <th>hour_precip</th>\n      <th>hour_precipprob</th>\n      <th>hour_snow</th>\n      <th>hour_snowdepth</th>\n      <th>hour_preciptype</th>\n      <th>hour_windgust</th>\n      <th>hour_windspeed</th>\n      <th>hour_winddir</th>\n      <th>hour_pressure</th>\n      <th>hour_visibility</th>\n      <th>hour_cloudcover</th>\n      <th>hour_solarradiation</th>\n      <th>hour_solarenergy</th>\n      <th>hour_uvindex</th>\n      <th>hour_severerisk</th>\n      <th>hour_conditions</th>\n      <th>city</th>\n    </tr>\n  </thead>\n  <tbody>\n    <tr>\n      <th>0</th>\n      <td>Луцьк, Луцький район, Україна</td>\n      <td>2022-02-24</td>\n      <td>1645653600</td>\n      <td>4.9</td>\n      <td>0.7</td>\n      <td>2.6</td>\n      <td>0.0</td>\n      <td>83.7</td>\n      <td>0.118</td>\n      <td>4.17</td>\n      <td>36.9</td>\n      <td>2.8</td>\n      <td>1.0</td>\n      <td>07:13:36</td>\n      <td>17:51:06</td>\n      <td>0.77</td>\n      <td>00:00:00</td>\n      <td>1645653600</td>\n      <td>2.4</td>\n      <td>89.18</td>\n      <td>0.8</td>\n      <td>0.0</td>\n      <td>0.0</td>\n      <td>0.1</td>\n      <td>0.2</td>\n      <td>['snow']</td>\n      <td>31.3</td>\n      <td>15.5</td>\n      <td>275.6</td>\n      <td>1020.0</td>\n      <td>0.0</td>\n      <td>91.5</td>\n      <td>0.0</td>\n      <td>NaN</td>\n      <td>0.0</td>\n      <td>10.0</td>\n      <td>Overcast</td>\n      <td>Луцьк</td>\n    </tr>\n    <tr>\n      <th>1</th>\n      <td>Луцьк, Луцький район, Україна</td>\n      <td>2022-02-24</td>\n      <td>1645653600</td>\n      <td>4.9</td>\n      <td>0.7</td>\n      <td>2.6</td>\n      <td>0.0</td>\n      <td>83.7</td>\n      <td>0.118</td>\n      <td>4.17</td>\n      <td>36.9</td>\n      <td>2.8</td>\n      <td>1.0</td>\n      <td>07:13:36</td>\n      <td>17:51:06</td>\n      <td>0.77</td>\n      <td>01:00:00</td>\n      <td>1645657200</td>\n      <td>2.4</td>\n      <td>87.90</td>\n      <td>0.6</td>\n      <td>0.0</td>\n      <td>0.0</td>\n      <td>0.0</td>\n      <td>0.2</td>\n      <td>['snow']</td>\n      <td>27.7</td>\n      <td>14.8</td>\n      <td>280.3</td>\n      <td>1021.0</td>\n      <td>0.2</td>\n      <td>88.2</td>\n      <td>0.0</td>\n      <td>NaN</td>\n      <td>0.0</td>\n      <td>10.0</td>\n      <td>Partially cloudy</td>\n      <td>Луцьк</td>\n    </tr>\n    <tr>\n      <th>2</th>\n      <td>Луцьк, Луцький район, Україна</td>\n      <td>2022-02-24</td>\n      <td>1645653600</td>\n      <td>4.9</td>\n      <td>0.7</td>\n      <td>2.6</td>\n      <td>0.0</td>\n      <td>83.7</td>\n      <td>0.118</td>\n      <td>4.17</td>\n      <td>36.9</td>\n      <td>2.8</td>\n      <td>1.0</td>\n      <td>07:13:36</td>\n      <td>17:51:06</td>\n      <td>0.77</td>\n      <td>02:00:00</td>\n      <td>1645660800</td>\n      <td>2.9</td>\n      <td>88.58</td>\n      <td>1.2</td>\n      <td>0.0</td>\n      <td>0.0</td>\n      <td>0.0</td>\n      <td>0.1</td>\n      <td>['snow']</td>\n      <td>29.2</td>\n      <td>14.4</td>\n      <td>310.0</td>\n      <td>1022.0</td>\n      <td>10.0</td>\n      <td>100.0</td>\n      <td>NaN</td>\n      <td>NaN</td>\n      <td>NaN</td>\n      <td>10.0</td>\n      <td>Overcast</td>\n      <td>Луцьк</td>\n    </tr>\n    <tr>\n      <th>3</th>\n      <td>Луцьк, Луцький район, Україна</td>\n      <td>2022-02-24</td>\n      <td>1645653600</td>\n      <td>4.9</td>\n      <td>0.7</td>\n      <td>2.6</td>\n      <td>0.0</td>\n      <td>83.7</td>\n      <td>0.118</td>\n      <td>4.17</td>\n      <td>36.9</td>\n      <td>2.8</td>\n      <td>1.0</td>\n      <td>07:13:36</td>\n      <td>17:51:06</td>\n      <td>0.77</td>\n      <td>03:00:00</td>\n      <td>1645664400</td>\n      <td>2.3</td>\n      <td>86.63</td>\n      <td>0.3</td>\n      <td>0.0</td>\n      <td>0.0</td>\n      <td>0.0</td>\n      <td>0.1</td>\n      <td>['snow']</td>\n      <td>23.8</td>\n      <td>13.3</td>\n      <td>295.1</td>\n      <td>1021.0</td>\n      <td>0.1</td>\n      <td>92.0</td>\n      <td>0.0</td>\n      <td>NaN</td>\n      <td>0.0</td>\n      <td>10.0</td>\n      <td>Overcast</td>\n      <td>Луцьк</td>\n    </tr>\n    <tr>\n      <th>4</th>\n      <td>Луцьк, Луцький район, Україна</td>\n      <td>2022-02-24</td>\n      <td>1645653600</td>\n      <td>4.9</td>\n      <td>0.7</td>\n      <td>2.6</td>\n      <td>0.0</td>\n      <td>83.7</td>\n      <td>0.118</td>\n      <td>4.17</td>\n      <td>36.9</td>\n      <td>2.8</td>\n      <td>1.0</td>\n      <td>07:13:36</td>\n      <td>17:51:06</td>\n      <td>0.77</td>\n      <td>04:00:00</td>\n      <td>1645668000</td>\n      <td>1.9</td>\n      <td>87.85</td>\n      <td>0.1</td>\n      <td>0.0</td>\n      <td>0.0</td>\n      <td>0.0</td>\n      <td>0.1</td>\n      <td>['snow']</td>\n      <td>24.5</td>\n      <td>13.3</td>\n      <td>305.8</td>\n      <td>1021.0</td>\n      <td>0.0</td>\n      <td>93.8</td>\n      <td>0.0</td>\n      <td>NaN</td>\n      <td>0.0</td>\n      <td>10.0</td>\n      <td>Overcast</td>\n      <td>Луцьк</td>\n    </tr>\n  </tbody>\n</table>\n</div>"
     },
     "execution_count": 37,
     "metadata": {},
     "output_type": "execute_result"
    }
   ],
   "source": [
    "df_weather_v2.head(5)"
   ]
  },
  {
   "cell_type": "code",
   "execution_count": 38,
   "id": "3136f5e6",
   "metadata": {
    "ExecuteTime": {
     "start_time": "2023-04-08T13:32:07.241962Z",
     "end_time": "2023-04-08T13:32:07.252094Z"
    }
   },
   "outputs": [
    {
     "data": {
      "text/plain": "(182712, 38)"
     },
     "execution_count": 38,
     "metadata": {},
     "output_type": "execute_result"
    }
   ],
   "source": [
    "df_weather_v2.shape"
   ]
  },
  {
   "cell_type": "markdown",
   "id": "0659498e",
   "metadata": {},
   "source": [
    "## merging data"
   ]
  },
  {
   "cell_type": "code",
   "execution_count": 39,
   "id": "a3ad87a3",
   "metadata": {
    "ExecuteTime": {
     "start_time": "2023-04-08T13:32:07.253054Z",
     "end_time": "2023-04-08T13:32:07.262341Z"
    }
   },
   "outputs": [],
   "source": [
    "REGIONS_DATA_FOLDER = \"../external_data/additions\"\n",
    "REGIONS_DATA_FILE = \"regions.csv\"\n",
    "df_regions = pd.read_csv(f\"{REGIONS_DATA_FOLDER}/{REGIONS_DATA_FILE}\")"
   ]
  },
  {
   "cell_type": "code",
   "execution_count": 40,
   "id": "7975da08",
   "metadata": {
    "ExecuteTime": {
     "start_time": "2023-04-08T13:32:07.263342Z",
     "end_time": "2023-04-08T13:32:07.272348Z"
    }
   },
   "outputs": [
    {
     "data": {
      "text/plain": "             region center_city_ua center_city_en        region_alt  region_id\n0           АР Крим    Сімферополь     Simferopol              Крим          1\n1         Вінницька        Вінниця      Vinnytsia        Вінниччина          2\n2         Волинська          Луцьк          Lutsk            Волинь          3\n3  Дніпропетровська         Дніпро         Dnipro  Дніпропетровщина          4\n4          Донецька        Донецьк        Donetsk         Донеччина          5",
      "text/html": "<div>\n<style scoped>\n    .dataframe tbody tr th:only-of-type {\n        vertical-align: middle;\n    }\n\n    .dataframe tbody tr th {\n        vertical-align: top;\n    }\n\n    .dataframe thead th {\n        text-align: right;\n    }\n</style>\n<table border=\"1\" class=\"dataframe\">\n  <thead>\n    <tr style=\"text-align: right;\">\n      <th></th>\n      <th>region</th>\n      <th>center_city_ua</th>\n      <th>center_city_en</th>\n      <th>region_alt</th>\n      <th>region_id</th>\n    </tr>\n  </thead>\n  <tbody>\n    <tr>\n      <th>0</th>\n      <td>АР Крим</td>\n      <td>Сімферополь</td>\n      <td>Simferopol</td>\n      <td>Крим</td>\n      <td>1</td>\n    </tr>\n    <tr>\n      <th>1</th>\n      <td>Вінницька</td>\n      <td>Вінниця</td>\n      <td>Vinnytsia</td>\n      <td>Вінниччина</td>\n      <td>2</td>\n    </tr>\n    <tr>\n      <th>2</th>\n      <td>Волинська</td>\n      <td>Луцьк</td>\n      <td>Lutsk</td>\n      <td>Волинь</td>\n      <td>3</td>\n    </tr>\n    <tr>\n      <th>3</th>\n      <td>Дніпропетровська</td>\n      <td>Дніпро</td>\n      <td>Dnipro</td>\n      <td>Дніпропетровщина</td>\n      <td>4</td>\n    </tr>\n    <tr>\n      <th>4</th>\n      <td>Донецька</td>\n      <td>Донецьк</td>\n      <td>Donetsk</td>\n      <td>Донеччина</td>\n      <td>5</td>\n    </tr>\n  </tbody>\n</table>\n</div>"
     },
     "execution_count": 40,
     "metadata": {},
     "output_type": "execute_result"
    }
   ],
   "source": [
    "df_regions.head(5)"
   ]
  },
  {
   "cell_type": "code",
   "execution_count": 41,
   "id": "9bdb0c29",
   "metadata": {
    "ExecuteTime": {
     "start_time": "2023-04-08T13:32:07.273347Z",
     "end_time": "2023-04-08T13:32:07.337301Z"
    }
   },
   "outputs": [],
   "source": [
    "df_weather_reg = pd.merge(\n",
    "    df_weather_v2, df_regions, left_on=\"city\", right_on=\"center_city_ua\"\n",
    ")"
   ]
  },
  {
   "cell_type": "code",
   "execution_count": 42,
   "id": "e732c138",
   "metadata": {
    "ExecuteTime": {
     "start_time": "2023-04-08T13:32:07.318302Z",
     "end_time": "2023-04-08T13:32:07.383953Z"
    }
   },
   "outputs": [
    {
     "data": {
      "text/plain": "            city_resolvedAddress day_datetime  day_datetimeEpoch  day_tempmax   \n0  Луцьк, Луцький район, Україна   2022-02-24         1645653600          4.9  \\\n1  Луцьк, Луцький район, Україна   2022-02-24         1645653600          4.9   \n2  Луцьк, Луцький район, Україна   2022-02-24         1645653600          4.9   \n3  Луцьк, Луцький район, Україна   2022-02-24         1645653600          4.9   \n4  Луцьк, Луцький район, Україна   2022-02-24         1645653600          4.9   \n5  Луцьк, Луцький район, Україна   2022-02-24         1645653600          4.9   \n6  Луцьк, Луцький район, Україна   2022-02-24         1645653600          4.9   \n7  Луцьк, Луцький район, Україна   2022-02-24         1645653600          4.9   \n8  Луцьк, Луцький район, Україна   2022-02-24         1645653600          4.9   \n9  Луцьк, Луцький район, Україна   2022-02-24         1645653600          4.9   \n\n   day_tempmin  day_temp  day_dew  day_humidity  day_precip  day_precipcover   \n0          0.7       2.6      0.0          83.7       0.118             4.17  \\\n1          0.7       2.6      0.0          83.7       0.118             4.17   \n2          0.7       2.6      0.0          83.7       0.118             4.17   \n3          0.7       2.6      0.0          83.7       0.118             4.17   \n4          0.7       2.6      0.0          83.7       0.118             4.17   \n5          0.7       2.6      0.0          83.7       0.118             4.17   \n6          0.7       2.6      0.0          83.7       0.118             4.17   \n7          0.7       2.6      0.0          83.7       0.118             4.17   \n8          0.7       2.6      0.0          83.7       0.118             4.17   \n9          0.7       2.6      0.0          83.7       0.118             4.17   \n\n   day_solarradiation  day_solarenergy  day_uvindex day_sunrise day_sunset   \n0                36.9              2.8          1.0    07:13:36   17:51:06  \\\n1                36.9              2.8          1.0    07:13:36   17:51:06   \n2                36.9              2.8          1.0    07:13:36   17:51:06   \n3                36.9              2.8          1.0    07:13:36   17:51:06   \n4                36.9              2.8          1.0    07:13:36   17:51:06   \n5                36.9              2.8          1.0    07:13:36   17:51:06   \n6                36.9              2.8          1.0    07:13:36   17:51:06   \n7                36.9              2.8          1.0    07:13:36   17:51:06   \n8                36.9              2.8          1.0    07:13:36   17:51:06   \n9                36.9              2.8          1.0    07:13:36   17:51:06   \n\n   day_moonphase hour_datetime  hour_datetimeEpoch  hour_temp  hour_humidity   \n0           0.77      00:00:00          1645653600        2.4          89.18  \\\n1           0.77      01:00:00          1645657200        2.4          87.90   \n2           0.77      02:00:00          1645660800        2.9          88.58   \n3           0.77      03:00:00          1645664400        2.3          86.63   \n4           0.77      04:00:00          1645668000        1.9          87.85   \n5           0.77      05:00:00          1645671600        1.9          91.66   \n6           0.77      06:00:00          1645675200        2.0          93.09   \n7           0.77      07:00:00          1645678800        2.0          93.09   \n8           0.77      08:00:00          1645682400        1.8          91.32   \n9           0.77      09:00:00          1645686000        2.0          93.09   \n\n   hour_dew  hour_precip  hour_precipprob  hour_snow  hour_snowdepth   \n0       0.8        0.000              0.0        0.1             0.2  \\\n1       0.6        0.000              0.0        0.0             0.2   \n2       1.2        0.000              0.0        0.0             0.1   \n3       0.3        0.000              0.0        0.0             0.1   \n4       0.1        0.000              0.0        0.0             0.1   \n5       0.6        0.000              0.0        0.0             0.1   \n6       1.0        0.000              0.0        0.0             0.1   \n7       1.0        0.000              0.0        0.0             0.1   \n8       0.6        0.118            100.0        0.0             0.1   \n9       1.0        0.000              0.0        0.0             0.1   \n\n  hour_preciptype  hour_windgust  hour_windspeed  hour_winddir  hour_pressure   \n0        ['snow']           31.3            15.5         275.6         1020.0  \\\n1        ['snow']           27.7            14.8         280.3         1021.0   \n2        ['snow']           29.2            14.4         310.0         1022.0   \n3        ['snow']           23.8            13.3         295.1         1021.0   \n4        ['snow']           24.5            13.3         305.8         1021.0   \n5             NaN           23.4            10.8         296.0         1022.5   \n6        ['snow']           20.9            10.8         300.0         1021.0   \n7        ['snow']           19.1            10.8         300.0         1022.0   \n8        ['snow']           16.9             7.2         303.0         1024.2   \n9             NaN           15.5            10.8         300.0         1024.0   \n\n   hour_visibility  hour_cloudcover  hour_solarradiation  hour_solarenergy   \n0              0.0             91.5                  0.0               NaN  \\\n1              0.2             88.2                  0.0               NaN   \n2             10.0            100.0                  NaN               NaN   \n3              0.1             92.0                  0.0               NaN   \n4              0.0             93.8                  0.0               NaN   \n5             10.0            100.0                  0.0               NaN   \n6             10.0            100.0                  0.0               NaN   \n7             10.0            100.0                  0.0               NaN   \n8              4.4            100.0                  NaN               NaN   \n9              2.0            100.0                 15.0               0.1   \n\n   hour_uvindex  hour_severerisk   hour_conditions   city     region   \n0           0.0             10.0          Overcast  Луцьк  Волинська  \\\n1           0.0             10.0  Partially cloudy  Луцьк  Волинська   \n2           NaN             10.0          Overcast  Луцьк  Волинська   \n3           0.0             10.0          Overcast  Луцьк  Волинська   \n4           0.0             10.0          Overcast  Луцьк  Волинська   \n5           0.0             10.0          Overcast  Луцьк  Волинська   \n6           0.0             10.0          Overcast  Луцьк  Волинська   \n7           0.0             10.0          Overcast  Луцьк  Волинська   \n8           NaN             10.0    Snow, Overcast  Луцьк  Волинська   \n9           0.0             10.0          Overcast  Луцьк  Волинська   \n\n  center_city_ua center_city_en region_alt  region_id  \n0          Луцьк          Lutsk     Волинь          3  \n1          Луцьк          Lutsk     Волинь          3  \n2          Луцьк          Lutsk     Волинь          3  \n3          Луцьк          Lutsk     Волинь          3  \n4          Луцьк          Lutsk     Волинь          3  \n5          Луцьк          Lutsk     Волинь          3  \n6          Луцьк          Lutsk     Волинь          3  \n7          Луцьк          Lutsk     Волинь          3  \n8          Луцьк          Lutsk     Волинь          3  \n9          Луцьк          Lutsk     Волинь          3  ",
      "text/html": "<div>\n<style scoped>\n    .dataframe tbody tr th:only-of-type {\n        vertical-align: middle;\n    }\n\n    .dataframe tbody tr th {\n        vertical-align: top;\n    }\n\n    .dataframe thead th {\n        text-align: right;\n    }\n</style>\n<table border=\"1\" class=\"dataframe\">\n  <thead>\n    <tr style=\"text-align: right;\">\n      <th></th>\n      <th>city_resolvedAddress</th>\n      <th>day_datetime</th>\n      <th>day_datetimeEpoch</th>\n      <th>day_tempmax</th>\n      <th>day_tempmin</th>\n      <th>day_temp</th>\n      <th>day_dew</th>\n      <th>day_humidity</th>\n      <th>day_precip</th>\n      <th>day_precipcover</th>\n      <th>day_solarradiation</th>\n      <th>day_solarenergy</th>\n      <th>day_uvindex</th>\n      <th>day_sunrise</th>\n      <th>day_sunset</th>\n      <th>day_moonphase</th>\n      <th>hour_datetime</th>\n      <th>hour_datetimeEpoch</th>\n      <th>hour_temp</th>\n      <th>hour_humidity</th>\n      <th>hour_dew</th>\n      <th>hour_precip</th>\n      <th>hour_precipprob</th>\n      <th>hour_snow</th>\n      <th>hour_snowdepth</th>\n      <th>hour_preciptype</th>\n      <th>hour_windgust</th>\n      <th>hour_windspeed</th>\n      <th>hour_winddir</th>\n      <th>hour_pressure</th>\n      <th>hour_visibility</th>\n      <th>hour_cloudcover</th>\n      <th>hour_solarradiation</th>\n      <th>hour_solarenergy</th>\n      <th>hour_uvindex</th>\n      <th>hour_severerisk</th>\n      <th>hour_conditions</th>\n      <th>city</th>\n      <th>region</th>\n      <th>center_city_ua</th>\n      <th>center_city_en</th>\n      <th>region_alt</th>\n      <th>region_id</th>\n    </tr>\n  </thead>\n  <tbody>\n    <tr>\n      <th>0</th>\n      <td>Луцьк, Луцький район, Україна</td>\n      <td>2022-02-24</td>\n      <td>1645653600</td>\n      <td>4.9</td>\n      <td>0.7</td>\n      <td>2.6</td>\n      <td>0.0</td>\n      <td>83.7</td>\n      <td>0.118</td>\n      <td>4.17</td>\n      <td>36.9</td>\n      <td>2.8</td>\n      <td>1.0</td>\n      <td>07:13:36</td>\n      <td>17:51:06</td>\n      <td>0.77</td>\n      <td>00:00:00</td>\n      <td>1645653600</td>\n      <td>2.4</td>\n      <td>89.18</td>\n      <td>0.8</td>\n      <td>0.000</td>\n      <td>0.0</td>\n      <td>0.1</td>\n      <td>0.2</td>\n      <td>['snow']</td>\n      <td>31.3</td>\n      <td>15.5</td>\n      <td>275.6</td>\n      <td>1020.0</td>\n      <td>0.0</td>\n      <td>91.5</td>\n      <td>0.0</td>\n      <td>NaN</td>\n      <td>0.0</td>\n      <td>10.0</td>\n      <td>Overcast</td>\n      <td>Луцьк</td>\n      <td>Волинська</td>\n      <td>Луцьк</td>\n      <td>Lutsk</td>\n      <td>Волинь</td>\n      <td>3</td>\n    </tr>\n    <tr>\n      <th>1</th>\n      <td>Луцьк, Луцький район, Україна</td>\n      <td>2022-02-24</td>\n      <td>1645653600</td>\n      <td>4.9</td>\n      <td>0.7</td>\n      <td>2.6</td>\n      <td>0.0</td>\n      <td>83.7</td>\n      <td>0.118</td>\n      <td>4.17</td>\n      <td>36.9</td>\n      <td>2.8</td>\n      <td>1.0</td>\n      <td>07:13:36</td>\n      <td>17:51:06</td>\n      <td>0.77</td>\n      <td>01:00:00</td>\n      <td>1645657200</td>\n      <td>2.4</td>\n      <td>87.90</td>\n      <td>0.6</td>\n      <td>0.000</td>\n      <td>0.0</td>\n      <td>0.0</td>\n      <td>0.2</td>\n      <td>['snow']</td>\n      <td>27.7</td>\n      <td>14.8</td>\n      <td>280.3</td>\n      <td>1021.0</td>\n      <td>0.2</td>\n      <td>88.2</td>\n      <td>0.0</td>\n      <td>NaN</td>\n      <td>0.0</td>\n      <td>10.0</td>\n      <td>Partially cloudy</td>\n      <td>Луцьк</td>\n      <td>Волинська</td>\n      <td>Луцьк</td>\n      <td>Lutsk</td>\n      <td>Волинь</td>\n      <td>3</td>\n    </tr>\n    <tr>\n      <th>2</th>\n      <td>Луцьк, Луцький район, Україна</td>\n      <td>2022-02-24</td>\n      <td>1645653600</td>\n      <td>4.9</td>\n      <td>0.7</td>\n      <td>2.6</td>\n      <td>0.0</td>\n      <td>83.7</td>\n      <td>0.118</td>\n      <td>4.17</td>\n      <td>36.9</td>\n      <td>2.8</td>\n      <td>1.0</td>\n      <td>07:13:36</td>\n      <td>17:51:06</td>\n      <td>0.77</td>\n      <td>02:00:00</td>\n      <td>1645660800</td>\n      <td>2.9</td>\n      <td>88.58</td>\n      <td>1.2</td>\n      <td>0.000</td>\n      <td>0.0</td>\n      <td>0.0</td>\n      <td>0.1</td>\n      <td>['snow']</td>\n      <td>29.2</td>\n      <td>14.4</td>\n      <td>310.0</td>\n      <td>1022.0</td>\n      <td>10.0</td>\n      <td>100.0</td>\n      <td>NaN</td>\n      <td>NaN</td>\n      <td>NaN</td>\n      <td>10.0</td>\n      <td>Overcast</td>\n      <td>Луцьк</td>\n      <td>Волинська</td>\n      <td>Луцьк</td>\n      <td>Lutsk</td>\n      <td>Волинь</td>\n      <td>3</td>\n    </tr>\n    <tr>\n      <th>3</th>\n      <td>Луцьк, Луцький район, Україна</td>\n      <td>2022-02-24</td>\n      <td>1645653600</td>\n      <td>4.9</td>\n      <td>0.7</td>\n      <td>2.6</td>\n      <td>0.0</td>\n      <td>83.7</td>\n      <td>0.118</td>\n      <td>4.17</td>\n      <td>36.9</td>\n      <td>2.8</td>\n      <td>1.0</td>\n      <td>07:13:36</td>\n      <td>17:51:06</td>\n      <td>0.77</td>\n      <td>03:00:00</td>\n      <td>1645664400</td>\n      <td>2.3</td>\n      <td>86.63</td>\n      <td>0.3</td>\n      <td>0.000</td>\n      <td>0.0</td>\n      <td>0.0</td>\n      <td>0.1</td>\n      <td>['snow']</td>\n      <td>23.8</td>\n      <td>13.3</td>\n      <td>295.1</td>\n      <td>1021.0</td>\n      <td>0.1</td>\n      <td>92.0</td>\n      <td>0.0</td>\n      <td>NaN</td>\n      <td>0.0</td>\n      <td>10.0</td>\n      <td>Overcast</td>\n      <td>Луцьк</td>\n      <td>Волинська</td>\n      <td>Луцьк</td>\n      <td>Lutsk</td>\n      <td>Волинь</td>\n      <td>3</td>\n    </tr>\n    <tr>\n      <th>4</th>\n      <td>Луцьк, Луцький район, Україна</td>\n      <td>2022-02-24</td>\n      <td>1645653600</td>\n      <td>4.9</td>\n      <td>0.7</td>\n      <td>2.6</td>\n      <td>0.0</td>\n      <td>83.7</td>\n      <td>0.118</td>\n      <td>4.17</td>\n      <td>36.9</td>\n      <td>2.8</td>\n      <td>1.0</td>\n      <td>07:13:36</td>\n      <td>17:51:06</td>\n      <td>0.77</td>\n      <td>04:00:00</td>\n      <td>1645668000</td>\n      <td>1.9</td>\n      <td>87.85</td>\n      <td>0.1</td>\n      <td>0.000</td>\n      <td>0.0</td>\n      <td>0.0</td>\n      <td>0.1</td>\n      <td>['snow']</td>\n      <td>24.5</td>\n      <td>13.3</td>\n      <td>305.8</td>\n      <td>1021.0</td>\n      <td>0.0</td>\n      <td>93.8</td>\n      <td>0.0</td>\n      <td>NaN</td>\n      <td>0.0</td>\n      <td>10.0</td>\n      <td>Overcast</td>\n      <td>Луцьк</td>\n      <td>Волинська</td>\n      <td>Луцьк</td>\n      <td>Lutsk</td>\n      <td>Волинь</td>\n      <td>3</td>\n    </tr>\n    <tr>\n      <th>5</th>\n      <td>Луцьк, Луцький район, Україна</td>\n      <td>2022-02-24</td>\n      <td>1645653600</td>\n      <td>4.9</td>\n      <td>0.7</td>\n      <td>2.6</td>\n      <td>0.0</td>\n      <td>83.7</td>\n      <td>0.118</td>\n      <td>4.17</td>\n      <td>36.9</td>\n      <td>2.8</td>\n      <td>1.0</td>\n      <td>07:13:36</td>\n      <td>17:51:06</td>\n      <td>0.77</td>\n      <td>05:00:00</td>\n      <td>1645671600</td>\n      <td>1.9</td>\n      <td>91.66</td>\n      <td>0.6</td>\n      <td>0.000</td>\n      <td>0.0</td>\n      <td>0.0</td>\n      <td>0.1</td>\n      <td>NaN</td>\n      <td>23.4</td>\n      <td>10.8</td>\n      <td>296.0</td>\n      <td>1022.5</td>\n      <td>10.0</td>\n      <td>100.0</td>\n      <td>0.0</td>\n      <td>NaN</td>\n      <td>0.0</td>\n      <td>10.0</td>\n      <td>Overcast</td>\n      <td>Луцьк</td>\n      <td>Волинська</td>\n      <td>Луцьк</td>\n      <td>Lutsk</td>\n      <td>Волинь</td>\n      <td>3</td>\n    </tr>\n    <tr>\n      <th>6</th>\n      <td>Луцьк, Луцький район, Україна</td>\n      <td>2022-02-24</td>\n      <td>1645653600</td>\n      <td>4.9</td>\n      <td>0.7</td>\n      <td>2.6</td>\n      <td>0.0</td>\n      <td>83.7</td>\n      <td>0.118</td>\n      <td>4.17</td>\n      <td>36.9</td>\n      <td>2.8</td>\n      <td>1.0</td>\n      <td>07:13:36</td>\n      <td>17:51:06</td>\n      <td>0.77</td>\n      <td>06:00:00</td>\n      <td>1645675200</td>\n      <td>2.0</td>\n      <td>93.09</td>\n      <td>1.0</td>\n      <td>0.000</td>\n      <td>0.0</td>\n      <td>0.0</td>\n      <td>0.1</td>\n      <td>['snow']</td>\n      <td>20.9</td>\n      <td>10.8</td>\n      <td>300.0</td>\n      <td>1021.0</td>\n      <td>10.0</td>\n      <td>100.0</td>\n      <td>0.0</td>\n      <td>NaN</td>\n      <td>0.0</td>\n      <td>10.0</td>\n      <td>Overcast</td>\n      <td>Луцьк</td>\n      <td>Волинська</td>\n      <td>Луцьк</td>\n      <td>Lutsk</td>\n      <td>Волинь</td>\n      <td>3</td>\n    </tr>\n    <tr>\n      <th>7</th>\n      <td>Луцьк, Луцький район, Україна</td>\n      <td>2022-02-24</td>\n      <td>1645653600</td>\n      <td>4.9</td>\n      <td>0.7</td>\n      <td>2.6</td>\n      <td>0.0</td>\n      <td>83.7</td>\n      <td>0.118</td>\n      <td>4.17</td>\n      <td>36.9</td>\n      <td>2.8</td>\n      <td>1.0</td>\n      <td>07:13:36</td>\n      <td>17:51:06</td>\n      <td>0.77</td>\n      <td>07:00:00</td>\n      <td>1645678800</td>\n      <td>2.0</td>\n      <td>93.09</td>\n      <td>1.0</td>\n      <td>0.000</td>\n      <td>0.0</td>\n      <td>0.0</td>\n      <td>0.1</td>\n      <td>['snow']</td>\n      <td>19.1</td>\n      <td>10.8</td>\n      <td>300.0</td>\n      <td>1022.0</td>\n      <td>10.0</td>\n      <td>100.0</td>\n      <td>0.0</td>\n      <td>NaN</td>\n      <td>0.0</td>\n      <td>10.0</td>\n      <td>Overcast</td>\n      <td>Луцьк</td>\n      <td>Волинська</td>\n      <td>Луцьк</td>\n      <td>Lutsk</td>\n      <td>Волинь</td>\n      <td>3</td>\n    </tr>\n    <tr>\n      <th>8</th>\n      <td>Луцьк, Луцький район, Україна</td>\n      <td>2022-02-24</td>\n      <td>1645653600</td>\n      <td>4.9</td>\n      <td>0.7</td>\n      <td>2.6</td>\n      <td>0.0</td>\n      <td>83.7</td>\n      <td>0.118</td>\n      <td>4.17</td>\n      <td>36.9</td>\n      <td>2.8</td>\n      <td>1.0</td>\n      <td>07:13:36</td>\n      <td>17:51:06</td>\n      <td>0.77</td>\n      <td>08:00:00</td>\n      <td>1645682400</td>\n      <td>1.8</td>\n      <td>91.32</td>\n      <td>0.6</td>\n      <td>0.118</td>\n      <td>100.0</td>\n      <td>0.0</td>\n      <td>0.1</td>\n      <td>['snow']</td>\n      <td>16.9</td>\n      <td>7.2</td>\n      <td>303.0</td>\n      <td>1024.2</td>\n      <td>4.4</td>\n      <td>100.0</td>\n      <td>NaN</td>\n      <td>NaN</td>\n      <td>NaN</td>\n      <td>10.0</td>\n      <td>Snow, Overcast</td>\n      <td>Луцьк</td>\n      <td>Волинська</td>\n      <td>Луцьк</td>\n      <td>Lutsk</td>\n      <td>Волинь</td>\n      <td>3</td>\n    </tr>\n    <tr>\n      <th>9</th>\n      <td>Луцьк, Луцький район, Україна</td>\n      <td>2022-02-24</td>\n      <td>1645653600</td>\n      <td>4.9</td>\n      <td>0.7</td>\n      <td>2.6</td>\n      <td>0.0</td>\n      <td>83.7</td>\n      <td>0.118</td>\n      <td>4.17</td>\n      <td>36.9</td>\n      <td>2.8</td>\n      <td>1.0</td>\n      <td>07:13:36</td>\n      <td>17:51:06</td>\n      <td>0.77</td>\n      <td>09:00:00</td>\n      <td>1645686000</td>\n      <td>2.0</td>\n      <td>93.09</td>\n      <td>1.0</td>\n      <td>0.000</td>\n      <td>0.0</td>\n      <td>0.0</td>\n      <td>0.1</td>\n      <td>NaN</td>\n      <td>15.5</td>\n      <td>10.8</td>\n      <td>300.0</td>\n      <td>1024.0</td>\n      <td>2.0</td>\n      <td>100.0</td>\n      <td>15.0</td>\n      <td>0.1</td>\n      <td>0.0</td>\n      <td>10.0</td>\n      <td>Overcast</td>\n      <td>Луцьк</td>\n      <td>Волинська</td>\n      <td>Луцьк</td>\n      <td>Lutsk</td>\n      <td>Волинь</td>\n      <td>3</td>\n    </tr>\n  </tbody>\n</table>\n</div>"
     },
     "execution_count": 42,
     "metadata": {},
     "output_type": "execute_result"
    }
   ],
   "source": [
    "df_weather_reg.head(10)"
   ]
  },
  {
   "cell_type": "code",
   "execution_count": 43,
   "id": "ad392ddf",
   "metadata": {
    "ExecuteTime": {
     "start_time": "2023-04-08T13:32:07.346672Z",
     "end_time": "2023-04-08T13:32:07.383953Z"
    }
   },
   "outputs": [
    {
     "data": {
      "text/plain": "(182712, 43)"
     },
     "execution_count": 43,
     "metadata": {},
     "output_type": "execute_result"
    }
   ],
   "source": [
    "df_weather_reg.shape"
   ]
  },
  {
   "cell_type": "code",
   "execution_count": 44,
   "id": "13e88911",
   "metadata": {
    "ExecuteTime": {
     "start_time": "2023-04-08T13:32:07.350790Z",
     "end_time": "2023-04-08T13:32:07.383953Z"
    }
   },
   "outputs": [
    {
     "data": {
      "text/plain": "(182712, 38)"
     },
     "execution_count": 44,
     "metadata": {},
     "output_type": "execute_result"
    }
   ],
   "source": [
    "df_weather_v2.shape"
   ]
  },
  {
   "cell_type": "markdown",
   "id": "fadce0fe",
   "metadata": {},
   "source": [
    "### Merging weather and events"
   ]
  },
  {
   "cell_type": "code",
   "execution_count": 45,
   "id": "84412a7d",
   "metadata": {
    "ExecuteTime": {
     "start_time": "2023-04-08T13:32:07.360307Z",
     "end_time": "2023-04-08T13:32:07.413884Z"
    }
   },
   "outputs": [],
   "source": [
    "# df_events_v2[\"start_hour_datetimeEpoch\"] = df_events_v2['start_hour'].apply(lambda x: int(x.strftime('%s'))  if not isNaN(x) else 0)\n",
    "# df_events_v2[\"end_hour_datetimeEpoch\"] = df_events_v2['end_hour'].apply(lambda x: int(x.strftime('%s'))  if not isNaN(x) else 0)"
   ]
  },
  {
   "cell_type": "code",
   "execution_count": 46,
   "id": "37b962b1",
   "metadata": {
    "ExecuteTime": {
     "start_time": "2023-04-08T13:32:07.369206Z",
     "end_time": "2023-04-08T13:32:07.445902Z"
    }
   },
   "outputs": [
    {
     "data": {
      "text/plain": "region_title                        object\nregion_city                         object\nall_region                           int64\nstart                               object\nend                                 object\nclean_end                           object\nintersection_alarm_id              float64\nevent_time                  datetime64[ns]\nstart_time                  datetime64[ns]\nend_time                    datetime64[ns]\nstart_hour                  datetime64[ns]\nend_hour                    datetime64[ns]\nevent_hour                  datetime64[ns]\nday_date                            object\nstart_hour_datetimeEpoch             int64\nend_hour_datetimeEpoch               int64\ndtype: object"
     },
     "execution_count": 46,
     "metadata": {},
     "output_type": "execute_result"
    }
   ],
   "source": [
    "df_events_v2.dtypes"
   ]
  },
  {
   "cell_type": "code",
   "execution_count": 47,
   "id": "fd62824f",
   "metadata": {
    "ExecuteTime": {
     "start_time": "2023-04-08T13:32:07.378953Z",
     "end_time": "2023-04-08T13:32:07.445902Z"
    }
   },
   "outputs": [
    {
     "data": {
      "text/plain": "(19933, 16)"
     },
     "execution_count": 47,
     "metadata": {},
     "output_type": "execute_result"
    }
   ],
   "source": [
    "df_events_v2.shape"
   ]
  },
  {
   "cell_type": "code",
   "execution_count": 48,
   "id": "29cb459c",
   "metadata": {
    "ExecuteTime": {
     "start_time": "2023-04-08T13:32:07.389106Z",
     "end_time": "2023-04-08T13:32:07.524980Z"
    }
   },
   "outputs": [
    {
     "data": {
      "text/plain": "   region_title      region_city  all_region                start   \n0    Вінниччина          Вінниця           0  2022-02-25 22:55:42  \\\n1     Львівщина            Львів           0  2022-02-26 06:26:17   \n2       Одещина            Одеса           0  2022-02-26 07:16:58   \n3   Житомирщина          Житомир           0  2022-02-26 08:05:54   \n4    Вінниччина          Вінниця           0  2022-02-26 08:39:39   \n5    Вінниччина          Вінниця           0  2022-02-26 10:58:23   \n6     Львівщина            Львів           0  2022-02-26 13:44:44   \n7    Рівненщина  Рівненська обл.           1  2022-02-26 15:54:53   \n8        Волинь   Волинська обл.           1  2022-02-26 16:08:26   \n9  Хмельниччина          Деражня           0  2022-02-26 16:10:29   \n\n                   end            clean_end  intersection_alarm_id event_time   \n0  2022-02-25 23:41:53  2022-02-25 23:41:53                    NaN        NaT  \\\n1  2022-02-26 07:15:28  2022-02-26 07:15:28                    NaN        NaT   \n2  2022-02-26 07:47:03  2022-02-26 07:47:03                    NaN        NaT   \n3  2022-02-26 09:36:36  2022-02-26 09:36:36                    NaN        NaT   \n4  2022-02-26 10:42:41  2022-02-26 10:42:41                    NaN        NaT   \n5  2022-02-26 11:59:40  2022-02-26 11:59:40                    NaN        NaT   \n6  2022-02-26 14:27:25  2022-02-26 14:27:25                    NaN        NaT   \n7  2022-02-26 16:14:46  2022-02-26 16:14:46                    NaN        NaT   \n8  2022-02-26 16:39:26  2022-02-26 16:39:26                    NaN        NaT   \n9  2022-02-26 17:19:57  2022-02-26 17:19:57                    NaN        NaT   \n\n           start_time            end_time          start_hour   \n0 2022-02-25 22:55:42 2022-02-25 23:41:53 2022-02-25 22:00:00  \\\n1 2022-02-26 06:26:17 2022-02-26 07:15:28 2022-02-26 06:00:00   \n2 2022-02-26 07:16:58 2022-02-26 07:47:03 2022-02-26 07:00:00   \n3 2022-02-26 08:05:54 2022-02-26 09:36:36 2022-02-26 08:00:00   \n4 2022-02-26 08:39:39 2022-02-26 10:42:41 2022-02-26 08:00:00   \n5 2022-02-26 10:58:23 2022-02-26 11:59:40 2022-02-26 10:00:00   \n6 2022-02-26 13:44:44 2022-02-26 14:27:25 2022-02-26 13:00:00   \n7 2022-02-26 15:54:53 2022-02-26 16:14:46 2022-02-26 15:00:00   \n8 2022-02-26 16:08:26 2022-02-26 16:39:26 2022-02-26 16:00:00   \n9 2022-02-26 16:10:29 2022-02-26 17:19:57 2022-02-26 16:00:00   \n\n             end_hour event_hour    day_date  start_hour_datetimeEpoch   \n0 2022-02-26 00:00:00        NaT  2022-02-25                1645826400  \\\n1 2022-02-26 08:00:00        NaT  2022-02-26                1645855200   \n2 2022-02-26 08:00:00        NaT  2022-02-26                1645858800   \n3 2022-02-26 10:00:00        NaT  2022-02-26                1645862400   \n4 2022-02-26 11:00:00        NaT  2022-02-26                1645862400   \n5 2022-02-26 12:00:00        NaT  2022-02-26                1645869600   \n6 2022-02-26 15:00:00        NaT  2022-02-26                1645880400   \n7 2022-02-26 17:00:00        NaT  2022-02-26                1645887600   \n8 2022-02-26 17:00:00        NaT  2022-02-26                1645891200   \n9 2022-02-26 18:00:00        NaT  2022-02-26                1645891200   \n\n   end_hour_datetimeEpoch  \n0              1645833600  \n1              1645862400  \n2              1645862400  \n3              1645869600  \n4              1645873200  \n5              1645876800  \n6              1645887600  \n7              1645894800  \n8              1645894800  \n9              1645898400  ",
      "text/html": "<div>\n<style scoped>\n    .dataframe tbody tr th:only-of-type {\n        vertical-align: middle;\n    }\n\n    .dataframe tbody tr th {\n        vertical-align: top;\n    }\n\n    .dataframe thead th {\n        text-align: right;\n    }\n</style>\n<table border=\"1\" class=\"dataframe\">\n  <thead>\n    <tr style=\"text-align: right;\">\n      <th></th>\n      <th>region_title</th>\n      <th>region_city</th>\n      <th>all_region</th>\n      <th>start</th>\n      <th>end</th>\n      <th>clean_end</th>\n      <th>intersection_alarm_id</th>\n      <th>event_time</th>\n      <th>start_time</th>\n      <th>end_time</th>\n      <th>start_hour</th>\n      <th>end_hour</th>\n      <th>event_hour</th>\n      <th>day_date</th>\n      <th>start_hour_datetimeEpoch</th>\n      <th>end_hour_datetimeEpoch</th>\n    </tr>\n  </thead>\n  <tbody>\n    <tr>\n      <th>0</th>\n      <td>Вінниччина</td>\n      <td>Вінниця</td>\n      <td>0</td>\n      <td>2022-02-25 22:55:42</td>\n      <td>2022-02-25 23:41:53</td>\n      <td>2022-02-25 23:41:53</td>\n      <td>NaN</td>\n      <td>NaT</td>\n      <td>2022-02-25 22:55:42</td>\n      <td>2022-02-25 23:41:53</td>\n      <td>2022-02-25 22:00:00</td>\n      <td>2022-02-26 00:00:00</td>\n      <td>NaT</td>\n      <td>2022-02-25</td>\n      <td>1645826400</td>\n      <td>1645833600</td>\n    </tr>\n    <tr>\n      <th>1</th>\n      <td>Львівщина</td>\n      <td>Львів</td>\n      <td>0</td>\n      <td>2022-02-26 06:26:17</td>\n      <td>2022-02-26 07:15:28</td>\n      <td>2022-02-26 07:15:28</td>\n      <td>NaN</td>\n      <td>NaT</td>\n      <td>2022-02-26 06:26:17</td>\n      <td>2022-02-26 07:15:28</td>\n      <td>2022-02-26 06:00:00</td>\n      <td>2022-02-26 08:00:00</td>\n      <td>NaT</td>\n      <td>2022-02-26</td>\n      <td>1645855200</td>\n      <td>1645862400</td>\n    </tr>\n    <tr>\n      <th>2</th>\n      <td>Одещина</td>\n      <td>Одеса</td>\n      <td>0</td>\n      <td>2022-02-26 07:16:58</td>\n      <td>2022-02-26 07:47:03</td>\n      <td>2022-02-26 07:47:03</td>\n      <td>NaN</td>\n      <td>NaT</td>\n      <td>2022-02-26 07:16:58</td>\n      <td>2022-02-26 07:47:03</td>\n      <td>2022-02-26 07:00:00</td>\n      <td>2022-02-26 08:00:00</td>\n      <td>NaT</td>\n      <td>2022-02-26</td>\n      <td>1645858800</td>\n      <td>1645862400</td>\n    </tr>\n    <tr>\n      <th>3</th>\n      <td>Житомирщина</td>\n      <td>Житомир</td>\n      <td>0</td>\n      <td>2022-02-26 08:05:54</td>\n      <td>2022-02-26 09:36:36</td>\n      <td>2022-02-26 09:36:36</td>\n      <td>NaN</td>\n      <td>NaT</td>\n      <td>2022-02-26 08:05:54</td>\n      <td>2022-02-26 09:36:36</td>\n      <td>2022-02-26 08:00:00</td>\n      <td>2022-02-26 10:00:00</td>\n      <td>NaT</td>\n      <td>2022-02-26</td>\n      <td>1645862400</td>\n      <td>1645869600</td>\n    </tr>\n    <tr>\n      <th>4</th>\n      <td>Вінниччина</td>\n      <td>Вінниця</td>\n      <td>0</td>\n      <td>2022-02-26 08:39:39</td>\n      <td>2022-02-26 10:42:41</td>\n      <td>2022-02-26 10:42:41</td>\n      <td>NaN</td>\n      <td>NaT</td>\n      <td>2022-02-26 08:39:39</td>\n      <td>2022-02-26 10:42:41</td>\n      <td>2022-02-26 08:00:00</td>\n      <td>2022-02-26 11:00:00</td>\n      <td>NaT</td>\n      <td>2022-02-26</td>\n      <td>1645862400</td>\n      <td>1645873200</td>\n    </tr>\n    <tr>\n      <th>5</th>\n      <td>Вінниччина</td>\n      <td>Вінниця</td>\n      <td>0</td>\n      <td>2022-02-26 10:58:23</td>\n      <td>2022-02-26 11:59:40</td>\n      <td>2022-02-26 11:59:40</td>\n      <td>NaN</td>\n      <td>NaT</td>\n      <td>2022-02-26 10:58:23</td>\n      <td>2022-02-26 11:59:40</td>\n      <td>2022-02-26 10:00:00</td>\n      <td>2022-02-26 12:00:00</td>\n      <td>NaT</td>\n      <td>2022-02-26</td>\n      <td>1645869600</td>\n      <td>1645876800</td>\n    </tr>\n    <tr>\n      <th>6</th>\n      <td>Львівщина</td>\n      <td>Львів</td>\n      <td>0</td>\n      <td>2022-02-26 13:44:44</td>\n      <td>2022-02-26 14:27:25</td>\n      <td>2022-02-26 14:27:25</td>\n      <td>NaN</td>\n      <td>NaT</td>\n      <td>2022-02-26 13:44:44</td>\n      <td>2022-02-26 14:27:25</td>\n      <td>2022-02-26 13:00:00</td>\n      <td>2022-02-26 15:00:00</td>\n      <td>NaT</td>\n      <td>2022-02-26</td>\n      <td>1645880400</td>\n      <td>1645887600</td>\n    </tr>\n    <tr>\n      <th>7</th>\n      <td>Рівненщина</td>\n      <td>Рівненська обл.</td>\n      <td>1</td>\n      <td>2022-02-26 15:54:53</td>\n      <td>2022-02-26 16:14:46</td>\n      <td>2022-02-26 16:14:46</td>\n      <td>NaN</td>\n      <td>NaT</td>\n      <td>2022-02-26 15:54:53</td>\n      <td>2022-02-26 16:14:46</td>\n      <td>2022-02-26 15:00:00</td>\n      <td>2022-02-26 17:00:00</td>\n      <td>NaT</td>\n      <td>2022-02-26</td>\n      <td>1645887600</td>\n      <td>1645894800</td>\n    </tr>\n    <tr>\n      <th>8</th>\n      <td>Волинь</td>\n      <td>Волинська обл.</td>\n      <td>1</td>\n      <td>2022-02-26 16:08:26</td>\n      <td>2022-02-26 16:39:26</td>\n      <td>2022-02-26 16:39:26</td>\n      <td>NaN</td>\n      <td>NaT</td>\n      <td>2022-02-26 16:08:26</td>\n      <td>2022-02-26 16:39:26</td>\n      <td>2022-02-26 16:00:00</td>\n      <td>2022-02-26 17:00:00</td>\n      <td>NaT</td>\n      <td>2022-02-26</td>\n      <td>1645891200</td>\n      <td>1645894800</td>\n    </tr>\n    <tr>\n      <th>9</th>\n      <td>Хмельниччина</td>\n      <td>Деражня</td>\n      <td>0</td>\n      <td>2022-02-26 16:10:29</td>\n      <td>2022-02-26 17:19:57</td>\n      <td>2022-02-26 17:19:57</td>\n      <td>NaN</td>\n      <td>NaT</td>\n      <td>2022-02-26 16:10:29</td>\n      <td>2022-02-26 17:19:57</td>\n      <td>2022-02-26 16:00:00</td>\n      <td>2022-02-26 18:00:00</td>\n      <td>NaT</td>\n      <td>2022-02-26</td>\n      <td>1645891200</td>\n      <td>1645898400</td>\n    </tr>\n  </tbody>\n</table>\n</div>"
     },
     "execution_count": 48,
     "metadata": {},
     "output_type": "execute_result"
    }
   ],
   "source": [
    "df_events_v2.head(10)"
   ]
  },
  {
   "cell_type": "code",
   "execution_count": 49,
   "id": "9991fde1",
   "metadata": {
    "ExecuteTime": {
     "start_time": "2023-04-08T13:32:07.404883Z",
     "end_time": "2023-04-08T13:32:07.618690Z"
    }
   },
   "outputs": [],
   "source": [
    "# df_events_v2_sample = df_events_v2.sample(10)\n",
    "# df_events_v2_sample.shape\n",
    "\n",
    "events_dict = df_events_v2.to_dict(\"records\")\n",
    "events_by_hour = []"
   ]
  },
  {
   "cell_type": "code",
   "execution_count": 50,
   "id": "4ed1ff39",
   "metadata": {
    "ExecuteTime": {
     "start_time": "2023-04-08T13:32:07.550257Z",
     "end_time": "2023-04-08T13:32:07.664690Z"
    }
   },
   "outputs": [
    {
     "data": {
      "text/plain": "{'region_title': 'Вінниччина',\n 'region_city': 'Вінниця',\n 'all_region': 0,\n 'start': '2022-02-25 22:55:42',\n 'end': '2022-02-25 23:41:53',\n 'clean_end': '2022-02-25 23:41:53',\n 'intersection_alarm_id': nan,\n 'event_time': NaT,\n 'start_time': Timestamp('2022-02-25 22:55:42'),\n 'end_time': Timestamp('2022-02-25 23:41:53'),\n 'start_hour': Timestamp('2022-02-25 22:00:00'),\n 'end_hour': Timestamp('2022-02-26 00:00:00'),\n 'event_hour': NaT,\n 'day_date': datetime.date(2022, 2, 25),\n 'start_hour_datetimeEpoch': 1645826400,\n 'end_hour_datetimeEpoch': 1645833600}"
     },
     "execution_count": 50,
     "metadata": {},
     "output_type": "execute_result"
    }
   ],
   "source": [
    "events_dict[0]"
   ]
  },
  {
   "cell_type": "code",
   "execution_count": 51,
   "metadata": {
    "ExecuteTime": {
     "start_time": "2023-04-08T13:32:07.553691Z",
     "end_time": "2023-04-08T13:32:09.604794Z"
    },
    "collapsed": false
   },
   "outputs": [],
   "source": [
    "for event in events_dict:\n",
    "    for d in pd.date_range(start=event[\"start_hour\"], end=event[\"end_hour\"], freq=\"1H\"):\n",
    "        et = event.copy()\n",
    "        et[\"hour_level_event_time\"] = d\n",
    "        events_by_hour.append(et)"
   ]
  },
  {
   "cell_type": "code",
   "execution_count": 52,
   "metadata": {
    "ExecuteTime": {
     "start_time": "2023-04-08T13:32:09.606778Z",
     "end_time": "2023-04-08T13:32:10.093768Z"
    },
    "collapsed": false
   },
   "outputs": [],
   "source": [
    "df_events_v3 = pd.DataFrame.from_dict(events_by_hour)\n",
    "df_events_v3[\"hour_level_event_datetimeEpoch\"] = df_events_v3[\n",
    "    \"hour_level_event_time\"\n",
    "].apply(lambda x: int(x.timestamp()) if not isNaN(x) else None)"
   ]
  },
  {
   "cell_type": "code",
   "execution_count": 53,
   "id": "33b3c316",
   "metadata": {
    "ExecuteTime": {
     "start_time": "2023-04-08T13:32:10.094769Z",
     "end_time": "2023-04-08T13:32:10.097709Z"
    }
   },
   "outputs": [
    {
     "data": {
      "text/plain": "(58860, 18)"
     },
     "execution_count": 53,
     "metadata": {},
     "output_type": "execute_result"
    }
   ],
   "source": [
    "df_events_v3.shape"
   ]
  },
  {
   "cell_type": "code",
   "execution_count": 54,
   "id": "85c85f84",
   "metadata": {
    "ExecuteTime": {
     "start_time": "2023-04-08T13:32:10.098709Z",
     "end_time": "2023-04-08T13:32:10.114451Z"
    }
   },
   "outputs": [
    {
     "data": {
      "text/plain": "   region_title region_city  all_region                start   \n0    Вінниччина     Вінниця           0  2022-02-25 22:55:42  \\\n1    Вінниччина     Вінниця           0  2022-02-25 22:55:42   \n2    Вінниччина     Вінниця           0  2022-02-25 22:55:42   \n3     Львівщина       Львів           0  2022-02-26 06:26:17   \n4     Львівщина       Львів           0  2022-02-26 06:26:17   \n5     Львівщина       Львів           0  2022-02-26 06:26:17   \n6       Одещина       Одеса           0  2022-02-26 07:16:58   \n7       Одещина       Одеса           0  2022-02-26 07:16:58   \n8   Житомирщина     Житомир           0  2022-02-26 08:05:54   \n9   Житомирщина     Житомир           0  2022-02-26 08:05:54   \n10  Житомирщина     Житомир           0  2022-02-26 08:05:54   \n11   Вінниччина     Вінниця           0  2022-02-26 08:39:39   \n12   Вінниччина     Вінниця           0  2022-02-26 08:39:39   \n13   Вінниччина     Вінниця           0  2022-02-26 08:39:39   \n14   Вінниччина     Вінниця           0  2022-02-26 08:39:39   \n\n                    end            clean_end  intersection_alarm_id   \n0   2022-02-25 23:41:53  2022-02-25 23:41:53                    NaN  \\\n1   2022-02-25 23:41:53  2022-02-25 23:41:53                    NaN   \n2   2022-02-25 23:41:53  2022-02-25 23:41:53                    NaN   \n3   2022-02-26 07:15:28  2022-02-26 07:15:28                    NaN   \n4   2022-02-26 07:15:28  2022-02-26 07:15:28                    NaN   \n5   2022-02-26 07:15:28  2022-02-26 07:15:28                    NaN   \n6   2022-02-26 07:47:03  2022-02-26 07:47:03                    NaN   \n7   2022-02-26 07:47:03  2022-02-26 07:47:03                    NaN   \n8   2022-02-26 09:36:36  2022-02-26 09:36:36                    NaN   \n9   2022-02-26 09:36:36  2022-02-26 09:36:36                    NaN   \n10  2022-02-26 09:36:36  2022-02-26 09:36:36                    NaN   \n11  2022-02-26 10:42:41  2022-02-26 10:42:41                    NaN   \n12  2022-02-26 10:42:41  2022-02-26 10:42:41                    NaN   \n13  2022-02-26 10:42:41  2022-02-26 10:42:41                    NaN   \n14  2022-02-26 10:42:41  2022-02-26 10:42:41                    NaN   \n\n   event_time          start_time            end_time          start_hour   \n0         NaT 2022-02-25 22:55:42 2022-02-25 23:41:53 2022-02-25 22:00:00  \\\n1         NaT 2022-02-25 22:55:42 2022-02-25 23:41:53 2022-02-25 22:00:00   \n2         NaT 2022-02-25 22:55:42 2022-02-25 23:41:53 2022-02-25 22:00:00   \n3         NaT 2022-02-26 06:26:17 2022-02-26 07:15:28 2022-02-26 06:00:00   \n4         NaT 2022-02-26 06:26:17 2022-02-26 07:15:28 2022-02-26 06:00:00   \n5         NaT 2022-02-26 06:26:17 2022-02-26 07:15:28 2022-02-26 06:00:00   \n6         NaT 2022-02-26 07:16:58 2022-02-26 07:47:03 2022-02-26 07:00:00   \n7         NaT 2022-02-26 07:16:58 2022-02-26 07:47:03 2022-02-26 07:00:00   \n8         NaT 2022-02-26 08:05:54 2022-02-26 09:36:36 2022-02-26 08:00:00   \n9         NaT 2022-02-26 08:05:54 2022-02-26 09:36:36 2022-02-26 08:00:00   \n10        NaT 2022-02-26 08:05:54 2022-02-26 09:36:36 2022-02-26 08:00:00   \n11        NaT 2022-02-26 08:39:39 2022-02-26 10:42:41 2022-02-26 08:00:00   \n12        NaT 2022-02-26 08:39:39 2022-02-26 10:42:41 2022-02-26 08:00:00   \n13        NaT 2022-02-26 08:39:39 2022-02-26 10:42:41 2022-02-26 08:00:00   \n14        NaT 2022-02-26 08:39:39 2022-02-26 10:42:41 2022-02-26 08:00:00   \n\n              end_hour event_hour    day_date  start_hour_datetimeEpoch   \n0  2022-02-26 00:00:00        NaT  2022-02-25                1645826400  \\\n1  2022-02-26 00:00:00        NaT  2022-02-25                1645826400   \n2  2022-02-26 00:00:00        NaT  2022-02-25                1645826400   \n3  2022-02-26 08:00:00        NaT  2022-02-26                1645855200   \n4  2022-02-26 08:00:00        NaT  2022-02-26                1645855200   \n5  2022-02-26 08:00:00        NaT  2022-02-26                1645855200   \n6  2022-02-26 08:00:00        NaT  2022-02-26                1645858800   \n7  2022-02-26 08:00:00        NaT  2022-02-26                1645858800   \n8  2022-02-26 10:00:00        NaT  2022-02-26                1645862400   \n9  2022-02-26 10:00:00        NaT  2022-02-26                1645862400   \n10 2022-02-26 10:00:00        NaT  2022-02-26                1645862400   \n11 2022-02-26 11:00:00        NaT  2022-02-26                1645862400   \n12 2022-02-26 11:00:00        NaT  2022-02-26                1645862400   \n13 2022-02-26 11:00:00        NaT  2022-02-26                1645862400   \n14 2022-02-26 11:00:00        NaT  2022-02-26                1645862400   \n\n    end_hour_datetimeEpoch hour_level_event_time   \n0               1645833600   2022-02-25 22:00:00  \\\n1               1645833600   2022-02-25 23:00:00   \n2               1645833600   2022-02-26 00:00:00   \n3               1645862400   2022-02-26 06:00:00   \n4               1645862400   2022-02-26 07:00:00   \n5               1645862400   2022-02-26 08:00:00   \n6               1645862400   2022-02-26 07:00:00   \n7               1645862400   2022-02-26 08:00:00   \n8               1645869600   2022-02-26 08:00:00   \n9               1645869600   2022-02-26 09:00:00   \n10              1645869600   2022-02-26 10:00:00   \n11              1645873200   2022-02-26 08:00:00   \n12              1645873200   2022-02-26 09:00:00   \n13              1645873200   2022-02-26 10:00:00   \n14              1645873200   2022-02-26 11:00:00   \n\n    hour_level_event_datetimeEpoch  \n0                       1645826400  \n1                       1645830000  \n2                       1645833600  \n3                       1645855200  \n4                       1645858800  \n5                       1645862400  \n6                       1645858800  \n7                       1645862400  \n8                       1645862400  \n9                       1645866000  \n10                      1645869600  \n11                      1645862400  \n12                      1645866000  \n13                      1645869600  \n14                      1645873200  ",
      "text/html": "<div>\n<style scoped>\n    .dataframe tbody tr th:only-of-type {\n        vertical-align: middle;\n    }\n\n    .dataframe tbody tr th {\n        vertical-align: top;\n    }\n\n    .dataframe thead th {\n        text-align: right;\n    }\n</style>\n<table border=\"1\" class=\"dataframe\">\n  <thead>\n    <tr style=\"text-align: right;\">\n      <th></th>\n      <th>region_title</th>\n      <th>region_city</th>\n      <th>all_region</th>\n      <th>start</th>\n      <th>end</th>\n      <th>clean_end</th>\n      <th>intersection_alarm_id</th>\n      <th>event_time</th>\n      <th>start_time</th>\n      <th>end_time</th>\n      <th>start_hour</th>\n      <th>end_hour</th>\n      <th>event_hour</th>\n      <th>day_date</th>\n      <th>start_hour_datetimeEpoch</th>\n      <th>end_hour_datetimeEpoch</th>\n      <th>hour_level_event_time</th>\n      <th>hour_level_event_datetimeEpoch</th>\n    </tr>\n  </thead>\n  <tbody>\n    <tr>\n      <th>0</th>\n      <td>Вінниччина</td>\n      <td>Вінниця</td>\n      <td>0</td>\n      <td>2022-02-25 22:55:42</td>\n      <td>2022-02-25 23:41:53</td>\n      <td>2022-02-25 23:41:53</td>\n      <td>NaN</td>\n      <td>NaT</td>\n      <td>2022-02-25 22:55:42</td>\n      <td>2022-02-25 23:41:53</td>\n      <td>2022-02-25 22:00:00</td>\n      <td>2022-02-26 00:00:00</td>\n      <td>NaT</td>\n      <td>2022-02-25</td>\n      <td>1645826400</td>\n      <td>1645833600</td>\n      <td>2022-02-25 22:00:00</td>\n      <td>1645826400</td>\n    </tr>\n    <tr>\n      <th>1</th>\n      <td>Вінниччина</td>\n      <td>Вінниця</td>\n      <td>0</td>\n      <td>2022-02-25 22:55:42</td>\n      <td>2022-02-25 23:41:53</td>\n      <td>2022-02-25 23:41:53</td>\n      <td>NaN</td>\n      <td>NaT</td>\n      <td>2022-02-25 22:55:42</td>\n      <td>2022-02-25 23:41:53</td>\n      <td>2022-02-25 22:00:00</td>\n      <td>2022-02-26 00:00:00</td>\n      <td>NaT</td>\n      <td>2022-02-25</td>\n      <td>1645826400</td>\n      <td>1645833600</td>\n      <td>2022-02-25 23:00:00</td>\n      <td>1645830000</td>\n    </tr>\n    <tr>\n      <th>2</th>\n      <td>Вінниччина</td>\n      <td>Вінниця</td>\n      <td>0</td>\n      <td>2022-02-25 22:55:42</td>\n      <td>2022-02-25 23:41:53</td>\n      <td>2022-02-25 23:41:53</td>\n      <td>NaN</td>\n      <td>NaT</td>\n      <td>2022-02-25 22:55:42</td>\n      <td>2022-02-25 23:41:53</td>\n      <td>2022-02-25 22:00:00</td>\n      <td>2022-02-26 00:00:00</td>\n      <td>NaT</td>\n      <td>2022-02-25</td>\n      <td>1645826400</td>\n      <td>1645833600</td>\n      <td>2022-02-26 00:00:00</td>\n      <td>1645833600</td>\n    </tr>\n    <tr>\n      <th>3</th>\n      <td>Львівщина</td>\n      <td>Львів</td>\n      <td>0</td>\n      <td>2022-02-26 06:26:17</td>\n      <td>2022-02-26 07:15:28</td>\n      <td>2022-02-26 07:15:28</td>\n      <td>NaN</td>\n      <td>NaT</td>\n      <td>2022-02-26 06:26:17</td>\n      <td>2022-02-26 07:15:28</td>\n      <td>2022-02-26 06:00:00</td>\n      <td>2022-02-26 08:00:00</td>\n      <td>NaT</td>\n      <td>2022-02-26</td>\n      <td>1645855200</td>\n      <td>1645862400</td>\n      <td>2022-02-26 06:00:00</td>\n      <td>1645855200</td>\n    </tr>\n    <tr>\n      <th>4</th>\n      <td>Львівщина</td>\n      <td>Львів</td>\n      <td>0</td>\n      <td>2022-02-26 06:26:17</td>\n      <td>2022-02-26 07:15:28</td>\n      <td>2022-02-26 07:15:28</td>\n      <td>NaN</td>\n      <td>NaT</td>\n      <td>2022-02-26 06:26:17</td>\n      <td>2022-02-26 07:15:28</td>\n      <td>2022-02-26 06:00:00</td>\n      <td>2022-02-26 08:00:00</td>\n      <td>NaT</td>\n      <td>2022-02-26</td>\n      <td>1645855200</td>\n      <td>1645862400</td>\n      <td>2022-02-26 07:00:00</td>\n      <td>1645858800</td>\n    </tr>\n    <tr>\n      <th>5</th>\n      <td>Львівщина</td>\n      <td>Львів</td>\n      <td>0</td>\n      <td>2022-02-26 06:26:17</td>\n      <td>2022-02-26 07:15:28</td>\n      <td>2022-02-26 07:15:28</td>\n      <td>NaN</td>\n      <td>NaT</td>\n      <td>2022-02-26 06:26:17</td>\n      <td>2022-02-26 07:15:28</td>\n      <td>2022-02-26 06:00:00</td>\n      <td>2022-02-26 08:00:00</td>\n      <td>NaT</td>\n      <td>2022-02-26</td>\n      <td>1645855200</td>\n      <td>1645862400</td>\n      <td>2022-02-26 08:00:00</td>\n      <td>1645862400</td>\n    </tr>\n    <tr>\n      <th>6</th>\n      <td>Одещина</td>\n      <td>Одеса</td>\n      <td>0</td>\n      <td>2022-02-26 07:16:58</td>\n      <td>2022-02-26 07:47:03</td>\n      <td>2022-02-26 07:47:03</td>\n      <td>NaN</td>\n      <td>NaT</td>\n      <td>2022-02-26 07:16:58</td>\n      <td>2022-02-26 07:47:03</td>\n      <td>2022-02-26 07:00:00</td>\n      <td>2022-02-26 08:00:00</td>\n      <td>NaT</td>\n      <td>2022-02-26</td>\n      <td>1645858800</td>\n      <td>1645862400</td>\n      <td>2022-02-26 07:00:00</td>\n      <td>1645858800</td>\n    </tr>\n    <tr>\n      <th>7</th>\n      <td>Одещина</td>\n      <td>Одеса</td>\n      <td>0</td>\n      <td>2022-02-26 07:16:58</td>\n      <td>2022-02-26 07:47:03</td>\n      <td>2022-02-26 07:47:03</td>\n      <td>NaN</td>\n      <td>NaT</td>\n      <td>2022-02-26 07:16:58</td>\n      <td>2022-02-26 07:47:03</td>\n      <td>2022-02-26 07:00:00</td>\n      <td>2022-02-26 08:00:00</td>\n      <td>NaT</td>\n      <td>2022-02-26</td>\n      <td>1645858800</td>\n      <td>1645862400</td>\n      <td>2022-02-26 08:00:00</td>\n      <td>1645862400</td>\n    </tr>\n    <tr>\n      <th>8</th>\n      <td>Житомирщина</td>\n      <td>Житомир</td>\n      <td>0</td>\n      <td>2022-02-26 08:05:54</td>\n      <td>2022-02-26 09:36:36</td>\n      <td>2022-02-26 09:36:36</td>\n      <td>NaN</td>\n      <td>NaT</td>\n      <td>2022-02-26 08:05:54</td>\n      <td>2022-02-26 09:36:36</td>\n      <td>2022-02-26 08:00:00</td>\n      <td>2022-02-26 10:00:00</td>\n      <td>NaT</td>\n      <td>2022-02-26</td>\n      <td>1645862400</td>\n      <td>1645869600</td>\n      <td>2022-02-26 08:00:00</td>\n      <td>1645862400</td>\n    </tr>\n    <tr>\n      <th>9</th>\n      <td>Житомирщина</td>\n      <td>Житомир</td>\n      <td>0</td>\n      <td>2022-02-26 08:05:54</td>\n      <td>2022-02-26 09:36:36</td>\n      <td>2022-02-26 09:36:36</td>\n      <td>NaN</td>\n      <td>NaT</td>\n      <td>2022-02-26 08:05:54</td>\n      <td>2022-02-26 09:36:36</td>\n      <td>2022-02-26 08:00:00</td>\n      <td>2022-02-26 10:00:00</td>\n      <td>NaT</td>\n      <td>2022-02-26</td>\n      <td>1645862400</td>\n      <td>1645869600</td>\n      <td>2022-02-26 09:00:00</td>\n      <td>1645866000</td>\n    </tr>\n    <tr>\n      <th>10</th>\n      <td>Житомирщина</td>\n      <td>Житомир</td>\n      <td>0</td>\n      <td>2022-02-26 08:05:54</td>\n      <td>2022-02-26 09:36:36</td>\n      <td>2022-02-26 09:36:36</td>\n      <td>NaN</td>\n      <td>NaT</td>\n      <td>2022-02-26 08:05:54</td>\n      <td>2022-02-26 09:36:36</td>\n      <td>2022-02-26 08:00:00</td>\n      <td>2022-02-26 10:00:00</td>\n      <td>NaT</td>\n      <td>2022-02-26</td>\n      <td>1645862400</td>\n      <td>1645869600</td>\n      <td>2022-02-26 10:00:00</td>\n      <td>1645869600</td>\n    </tr>\n    <tr>\n      <th>11</th>\n      <td>Вінниччина</td>\n      <td>Вінниця</td>\n      <td>0</td>\n      <td>2022-02-26 08:39:39</td>\n      <td>2022-02-26 10:42:41</td>\n      <td>2022-02-26 10:42:41</td>\n      <td>NaN</td>\n      <td>NaT</td>\n      <td>2022-02-26 08:39:39</td>\n      <td>2022-02-26 10:42:41</td>\n      <td>2022-02-26 08:00:00</td>\n      <td>2022-02-26 11:00:00</td>\n      <td>NaT</td>\n      <td>2022-02-26</td>\n      <td>1645862400</td>\n      <td>1645873200</td>\n      <td>2022-02-26 08:00:00</td>\n      <td>1645862400</td>\n    </tr>\n    <tr>\n      <th>12</th>\n      <td>Вінниччина</td>\n      <td>Вінниця</td>\n      <td>0</td>\n      <td>2022-02-26 08:39:39</td>\n      <td>2022-02-26 10:42:41</td>\n      <td>2022-02-26 10:42:41</td>\n      <td>NaN</td>\n      <td>NaT</td>\n      <td>2022-02-26 08:39:39</td>\n      <td>2022-02-26 10:42:41</td>\n      <td>2022-02-26 08:00:00</td>\n      <td>2022-02-26 11:00:00</td>\n      <td>NaT</td>\n      <td>2022-02-26</td>\n      <td>1645862400</td>\n      <td>1645873200</td>\n      <td>2022-02-26 09:00:00</td>\n      <td>1645866000</td>\n    </tr>\n    <tr>\n      <th>13</th>\n      <td>Вінниччина</td>\n      <td>Вінниця</td>\n      <td>0</td>\n      <td>2022-02-26 08:39:39</td>\n      <td>2022-02-26 10:42:41</td>\n      <td>2022-02-26 10:42:41</td>\n      <td>NaN</td>\n      <td>NaT</td>\n      <td>2022-02-26 08:39:39</td>\n      <td>2022-02-26 10:42:41</td>\n      <td>2022-02-26 08:00:00</td>\n      <td>2022-02-26 11:00:00</td>\n      <td>NaT</td>\n      <td>2022-02-26</td>\n      <td>1645862400</td>\n      <td>1645873200</td>\n      <td>2022-02-26 10:00:00</td>\n      <td>1645869600</td>\n    </tr>\n    <tr>\n      <th>14</th>\n      <td>Вінниччина</td>\n      <td>Вінниця</td>\n      <td>0</td>\n      <td>2022-02-26 08:39:39</td>\n      <td>2022-02-26 10:42:41</td>\n      <td>2022-02-26 10:42:41</td>\n      <td>NaN</td>\n      <td>NaT</td>\n      <td>2022-02-26 08:39:39</td>\n      <td>2022-02-26 10:42:41</td>\n      <td>2022-02-26 08:00:00</td>\n      <td>2022-02-26 11:00:00</td>\n      <td>NaT</td>\n      <td>2022-02-26</td>\n      <td>1645862400</td>\n      <td>1645873200</td>\n      <td>2022-02-26 11:00:00</td>\n      <td>1645873200</td>\n    </tr>\n  </tbody>\n</table>\n</div>"
     },
     "execution_count": 54,
     "metadata": {},
     "output_type": "execute_result"
    }
   ],
   "source": [
    "df_events_v3.head(15)"
   ]
  },
  {
   "cell_type": "code",
   "execution_count": 55,
   "id": "aa796999",
   "metadata": {
    "ExecuteTime": {
     "start_time": "2023-04-08T13:32:10.114451Z",
     "end_time": "2023-04-08T13:32:10.152956Z"
    }
   },
   "outputs": [
    {
     "data": {
      "text/plain": "            city_resolvedAddress day_datetime  day_datetimeEpoch  day_tempmax   \n0  Луцьк, Луцький район, Україна   2022-02-24         1645653600          4.9  \\\n1  Луцьк, Луцький район, Україна   2022-02-24         1645653600          4.9   \n2  Луцьк, Луцький район, Україна   2022-02-24         1645653600          4.9   \n3  Луцьк, Луцький район, Україна   2022-02-24         1645653600          4.9   \n4  Луцьк, Луцький район, Україна   2022-02-24         1645653600          4.9   \n\n   day_tempmin  day_temp  day_dew  day_humidity  day_precip  day_precipcover   \n0          0.7       2.6      0.0          83.7       0.118             4.17  \\\n1          0.7       2.6      0.0          83.7       0.118             4.17   \n2          0.7       2.6      0.0          83.7       0.118             4.17   \n3          0.7       2.6      0.0          83.7       0.118             4.17   \n4          0.7       2.6      0.0          83.7       0.118             4.17   \n\n   day_solarradiation  day_solarenergy  day_uvindex day_sunrise day_sunset   \n0                36.9              2.8          1.0    07:13:36   17:51:06  \\\n1                36.9              2.8          1.0    07:13:36   17:51:06   \n2                36.9              2.8          1.0    07:13:36   17:51:06   \n3                36.9              2.8          1.0    07:13:36   17:51:06   \n4                36.9              2.8          1.0    07:13:36   17:51:06   \n\n   day_moonphase hour_datetime  hour_datetimeEpoch  hour_temp  hour_humidity   \n0           0.77      00:00:00          1645653600        2.4          89.18  \\\n1           0.77      01:00:00          1645657200        2.4          87.90   \n2           0.77      02:00:00          1645660800        2.9          88.58   \n3           0.77      03:00:00          1645664400        2.3          86.63   \n4           0.77      04:00:00          1645668000        1.9          87.85   \n\n   hour_dew  hour_precip  hour_precipprob  hour_snow  hour_snowdepth   \n0       0.8          0.0              0.0        0.1             0.2  \\\n1       0.6          0.0              0.0        0.0             0.2   \n2       1.2          0.0              0.0        0.0             0.1   \n3       0.3          0.0              0.0        0.0             0.1   \n4       0.1          0.0              0.0        0.0             0.1   \n\n  hour_preciptype  hour_windgust  hour_windspeed  hour_winddir  hour_pressure   \n0        ['snow']           31.3            15.5         275.6         1020.0  \\\n1        ['snow']           27.7            14.8         280.3         1021.0   \n2        ['snow']           29.2            14.4         310.0         1022.0   \n3        ['snow']           23.8            13.3         295.1         1021.0   \n4        ['snow']           24.5            13.3         305.8         1021.0   \n\n   hour_visibility  hour_cloudcover  hour_solarradiation  hour_solarenergy   \n0              0.0             91.5                  0.0               NaN  \\\n1              0.2             88.2                  0.0               NaN   \n2             10.0            100.0                  NaN               NaN   \n3              0.1             92.0                  0.0               NaN   \n4              0.0             93.8                  0.0               NaN   \n\n   hour_uvindex  hour_severerisk   hour_conditions   city     region   \n0           0.0             10.0          Overcast  Луцьк  Волинська  \\\n1           0.0             10.0  Partially cloudy  Луцьк  Волинська   \n2           NaN             10.0          Overcast  Луцьк  Волинська   \n3           0.0             10.0          Overcast  Луцьк  Волинська   \n4           0.0             10.0          Overcast  Луцьк  Волинська   \n\n  center_city_ua center_city_en region_alt  region_id  \n0          Луцьк          Lutsk     Волинь          3  \n1          Луцьк          Lutsk     Волинь          3  \n2          Луцьк          Lutsk     Волинь          3  \n3          Луцьк          Lutsk     Волинь          3  \n4          Луцьк          Lutsk     Волинь          3  ",
      "text/html": "<div>\n<style scoped>\n    .dataframe tbody tr th:only-of-type {\n        vertical-align: middle;\n    }\n\n    .dataframe tbody tr th {\n        vertical-align: top;\n    }\n\n    .dataframe thead th {\n        text-align: right;\n    }\n</style>\n<table border=\"1\" class=\"dataframe\">\n  <thead>\n    <tr style=\"text-align: right;\">\n      <th></th>\n      <th>city_resolvedAddress</th>\n      <th>day_datetime</th>\n      <th>day_datetimeEpoch</th>\n      <th>day_tempmax</th>\n      <th>day_tempmin</th>\n      <th>day_temp</th>\n      <th>day_dew</th>\n      <th>day_humidity</th>\n      <th>day_precip</th>\n      <th>day_precipcover</th>\n      <th>day_solarradiation</th>\n      <th>day_solarenergy</th>\n      <th>day_uvindex</th>\n      <th>day_sunrise</th>\n      <th>day_sunset</th>\n      <th>day_moonphase</th>\n      <th>hour_datetime</th>\n      <th>hour_datetimeEpoch</th>\n      <th>hour_temp</th>\n      <th>hour_humidity</th>\n      <th>hour_dew</th>\n      <th>hour_precip</th>\n      <th>hour_precipprob</th>\n      <th>hour_snow</th>\n      <th>hour_snowdepth</th>\n      <th>hour_preciptype</th>\n      <th>hour_windgust</th>\n      <th>hour_windspeed</th>\n      <th>hour_winddir</th>\n      <th>hour_pressure</th>\n      <th>hour_visibility</th>\n      <th>hour_cloudcover</th>\n      <th>hour_solarradiation</th>\n      <th>hour_solarenergy</th>\n      <th>hour_uvindex</th>\n      <th>hour_severerisk</th>\n      <th>hour_conditions</th>\n      <th>city</th>\n      <th>region</th>\n      <th>center_city_ua</th>\n      <th>center_city_en</th>\n      <th>region_alt</th>\n      <th>region_id</th>\n    </tr>\n  </thead>\n  <tbody>\n    <tr>\n      <th>0</th>\n      <td>Луцьк, Луцький район, Україна</td>\n      <td>2022-02-24</td>\n      <td>1645653600</td>\n      <td>4.9</td>\n      <td>0.7</td>\n      <td>2.6</td>\n      <td>0.0</td>\n      <td>83.7</td>\n      <td>0.118</td>\n      <td>4.17</td>\n      <td>36.9</td>\n      <td>2.8</td>\n      <td>1.0</td>\n      <td>07:13:36</td>\n      <td>17:51:06</td>\n      <td>0.77</td>\n      <td>00:00:00</td>\n      <td>1645653600</td>\n      <td>2.4</td>\n      <td>89.18</td>\n      <td>0.8</td>\n      <td>0.0</td>\n      <td>0.0</td>\n      <td>0.1</td>\n      <td>0.2</td>\n      <td>['snow']</td>\n      <td>31.3</td>\n      <td>15.5</td>\n      <td>275.6</td>\n      <td>1020.0</td>\n      <td>0.0</td>\n      <td>91.5</td>\n      <td>0.0</td>\n      <td>NaN</td>\n      <td>0.0</td>\n      <td>10.0</td>\n      <td>Overcast</td>\n      <td>Луцьк</td>\n      <td>Волинська</td>\n      <td>Луцьк</td>\n      <td>Lutsk</td>\n      <td>Волинь</td>\n      <td>3</td>\n    </tr>\n    <tr>\n      <th>1</th>\n      <td>Луцьк, Луцький район, Україна</td>\n      <td>2022-02-24</td>\n      <td>1645653600</td>\n      <td>4.9</td>\n      <td>0.7</td>\n      <td>2.6</td>\n      <td>0.0</td>\n      <td>83.7</td>\n      <td>0.118</td>\n      <td>4.17</td>\n      <td>36.9</td>\n      <td>2.8</td>\n      <td>1.0</td>\n      <td>07:13:36</td>\n      <td>17:51:06</td>\n      <td>0.77</td>\n      <td>01:00:00</td>\n      <td>1645657200</td>\n      <td>2.4</td>\n      <td>87.90</td>\n      <td>0.6</td>\n      <td>0.0</td>\n      <td>0.0</td>\n      <td>0.0</td>\n      <td>0.2</td>\n      <td>['snow']</td>\n      <td>27.7</td>\n      <td>14.8</td>\n      <td>280.3</td>\n      <td>1021.0</td>\n      <td>0.2</td>\n      <td>88.2</td>\n      <td>0.0</td>\n      <td>NaN</td>\n      <td>0.0</td>\n      <td>10.0</td>\n      <td>Partially cloudy</td>\n      <td>Луцьк</td>\n      <td>Волинська</td>\n      <td>Луцьк</td>\n      <td>Lutsk</td>\n      <td>Волинь</td>\n      <td>3</td>\n    </tr>\n    <tr>\n      <th>2</th>\n      <td>Луцьк, Луцький район, Україна</td>\n      <td>2022-02-24</td>\n      <td>1645653600</td>\n      <td>4.9</td>\n      <td>0.7</td>\n      <td>2.6</td>\n      <td>0.0</td>\n      <td>83.7</td>\n      <td>0.118</td>\n      <td>4.17</td>\n      <td>36.9</td>\n      <td>2.8</td>\n      <td>1.0</td>\n      <td>07:13:36</td>\n      <td>17:51:06</td>\n      <td>0.77</td>\n      <td>02:00:00</td>\n      <td>1645660800</td>\n      <td>2.9</td>\n      <td>88.58</td>\n      <td>1.2</td>\n      <td>0.0</td>\n      <td>0.0</td>\n      <td>0.0</td>\n      <td>0.1</td>\n      <td>['snow']</td>\n      <td>29.2</td>\n      <td>14.4</td>\n      <td>310.0</td>\n      <td>1022.0</td>\n      <td>10.0</td>\n      <td>100.0</td>\n      <td>NaN</td>\n      <td>NaN</td>\n      <td>NaN</td>\n      <td>10.0</td>\n      <td>Overcast</td>\n      <td>Луцьк</td>\n      <td>Волинська</td>\n      <td>Луцьк</td>\n      <td>Lutsk</td>\n      <td>Волинь</td>\n      <td>3</td>\n    </tr>\n    <tr>\n      <th>3</th>\n      <td>Луцьк, Луцький район, Україна</td>\n      <td>2022-02-24</td>\n      <td>1645653600</td>\n      <td>4.9</td>\n      <td>0.7</td>\n      <td>2.6</td>\n      <td>0.0</td>\n      <td>83.7</td>\n      <td>0.118</td>\n      <td>4.17</td>\n      <td>36.9</td>\n      <td>2.8</td>\n      <td>1.0</td>\n      <td>07:13:36</td>\n      <td>17:51:06</td>\n      <td>0.77</td>\n      <td>03:00:00</td>\n      <td>1645664400</td>\n      <td>2.3</td>\n      <td>86.63</td>\n      <td>0.3</td>\n      <td>0.0</td>\n      <td>0.0</td>\n      <td>0.0</td>\n      <td>0.1</td>\n      <td>['snow']</td>\n      <td>23.8</td>\n      <td>13.3</td>\n      <td>295.1</td>\n      <td>1021.0</td>\n      <td>0.1</td>\n      <td>92.0</td>\n      <td>0.0</td>\n      <td>NaN</td>\n      <td>0.0</td>\n      <td>10.0</td>\n      <td>Overcast</td>\n      <td>Луцьк</td>\n      <td>Волинська</td>\n      <td>Луцьк</td>\n      <td>Lutsk</td>\n      <td>Волинь</td>\n      <td>3</td>\n    </tr>\n    <tr>\n      <th>4</th>\n      <td>Луцьк, Луцький район, Україна</td>\n      <td>2022-02-24</td>\n      <td>1645653600</td>\n      <td>4.9</td>\n      <td>0.7</td>\n      <td>2.6</td>\n      <td>0.0</td>\n      <td>83.7</td>\n      <td>0.118</td>\n      <td>4.17</td>\n      <td>36.9</td>\n      <td>2.8</td>\n      <td>1.0</td>\n      <td>07:13:36</td>\n      <td>17:51:06</td>\n      <td>0.77</td>\n      <td>04:00:00</td>\n      <td>1645668000</td>\n      <td>1.9</td>\n      <td>87.85</td>\n      <td>0.1</td>\n      <td>0.0</td>\n      <td>0.0</td>\n      <td>0.0</td>\n      <td>0.1</td>\n      <td>['snow']</td>\n      <td>24.5</td>\n      <td>13.3</td>\n      <td>305.8</td>\n      <td>1021.0</td>\n      <td>0.0</td>\n      <td>93.8</td>\n      <td>0.0</td>\n      <td>NaN</td>\n      <td>0.0</td>\n      <td>10.0</td>\n      <td>Overcast</td>\n      <td>Луцьк</td>\n      <td>Волинська</td>\n      <td>Луцьк</td>\n      <td>Lutsk</td>\n      <td>Волинь</td>\n      <td>3</td>\n    </tr>\n  </tbody>\n</table>\n</div>"
     },
     "execution_count": 55,
     "metadata": {},
     "output_type": "execute_result"
    }
   ],
   "source": [
    "df_weather_reg.head(5)"
   ]
  },
  {
   "cell_type": "code",
   "execution_count": 56,
   "id": "7be3ae80",
   "metadata": {
    "ExecuteTime": {
     "start_time": "2023-04-08T13:32:10.141883Z",
     "end_time": "2023-04-08T13:32:10.168960Z"
    }
   },
   "outputs": [
    {
     "data": {
      "text/plain": "(182712, 43)"
     },
     "execution_count": 56,
     "metadata": {},
     "output_type": "execute_result"
    }
   ],
   "source": [
    "df_weather_reg.shape"
   ]
  },
  {
   "cell_type": "code",
   "execution_count": 57,
   "id": "85b4f508",
   "metadata": {
    "ExecuteTime": {
     "start_time": "2023-04-08T13:32:10.146959Z",
     "end_time": "2023-04-08T13:32:10.190315Z"
    }
   },
   "outputs": [
    {
     "data": {
      "text/plain": "            city_resolvedAddress day_datetime  day_datetimeEpoch  day_tempmax   \n0  Луцьк, Луцький район, Україна   2022-02-24         1645653600          4.9  \\\n1  Луцьк, Луцький район, Україна   2022-02-24         1645653600          4.9   \n2  Луцьк, Луцький район, Україна   2022-02-24         1645653600          4.9   \n3  Луцьк, Луцький район, Україна   2022-02-24         1645653600          4.9   \n4  Луцьк, Луцький район, Україна   2022-02-24         1645653600          4.9   \n5  Луцьк, Луцький район, Україна   2022-02-24         1645653600          4.9   \n6  Луцьк, Луцький район, Україна   2022-02-24         1645653600          4.9   \n7  Луцьк, Луцький район, Україна   2022-02-24         1645653600          4.9   \n8  Луцьк, Луцький район, Україна   2022-02-24         1645653600          4.9   \n9  Луцьк, Луцький район, Україна   2022-02-24         1645653600          4.9   \n\n   day_tempmin  day_temp  day_dew  day_humidity  day_precip  day_precipcover   \n0          0.7       2.6      0.0          83.7       0.118             4.17  \\\n1          0.7       2.6      0.0          83.7       0.118             4.17   \n2          0.7       2.6      0.0          83.7       0.118             4.17   \n3          0.7       2.6      0.0          83.7       0.118             4.17   \n4          0.7       2.6      0.0          83.7       0.118             4.17   \n5          0.7       2.6      0.0          83.7       0.118             4.17   \n6          0.7       2.6      0.0          83.7       0.118             4.17   \n7          0.7       2.6      0.0          83.7       0.118             4.17   \n8          0.7       2.6      0.0          83.7       0.118             4.17   \n9          0.7       2.6      0.0          83.7       0.118             4.17   \n\n   day_solarradiation  day_solarenergy  day_uvindex day_sunrise day_sunset   \n0                36.9              2.8          1.0    07:13:36   17:51:06  \\\n1                36.9              2.8          1.0    07:13:36   17:51:06   \n2                36.9              2.8          1.0    07:13:36   17:51:06   \n3                36.9              2.8          1.0    07:13:36   17:51:06   \n4                36.9              2.8          1.0    07:13:36   17:51:06   \n5                36.9              2.8          1.0    07:13:36   17:51:06   \n6                36.9              2.8          1.0    07:13:36   17:51:06   \n7                36.9              2.8          1.0    07:13:36   17:51:06   \n8                36.9              2.8          1.0    07:13:36   17:51:06   \n9                36.9              2.8          1.0    07:13:36   17:51:06   \n\n   day_moonphase hour_datetime  hour_datetimeEpoch  hour_temp  hour_humidity   \n0           0.77      00:00:00          1645653600        2.4          89.18  \\\n1           0.77      01:00:00          1645657200        2.4          87.90   \n2           0.77      02:00:00          1645660800        2.9          88.58   \n3           0.77      03:00:00          1645664400        2.3          86.63   \n4           0.77      04:00:00          1645668000        1.9          87.85   \n5           0.77      05:00:00          1645671600        1.9          91.66   \n6           0.77      06:00:00          1645675200        2.0          93.09   \n7           0.77      07:00:00          1645678800        2.0          93.09   \n8           0.77      08:00:00          1645682400        1.8          91.32   \n9           0.77      09:00:00          1645686000        2.0          93.09   \n\n   hour_dew  hour_precip  hour_precipprob  hour_snow  hour_snowdepth   \n0       0.8        0.000              0.0        0.1             0.2  \\\n1       0.6        0.000              0.0        0.0             0.2   \n2       1.2        0.000              0.0        0.0             0.1   \n3       0.3        0.000              0.0        0.0             0.1   \n4       0.1        0.000              0.0        0.0             0.1   \n5       0.6        0.000              0.0        0.0             0.1   \n6       1.0        0.000              0.0        0.0             0.1   \n7       1.0        0.000              0.0        0.0             0.1   \n8       0.6        0.118            100.0        0.0             0.1   \n9       1.0        0.000              0.0        0.0             0.1   \n\n  hour_preciptype  hour_windgust  hour_windspeed  hour_winddir  hour_pressure   \n0        ['snow']           31.3            15.5         275.6         1020.0  \\\n1        ['snow']           27.7            14.8         280.3         1021.0   \n2        ['snow']           29.2            14.4         310.0         1022.0   \n3        ['snow']           23.8            13.3         295.1         1021.0   \n4        ['snow']           24.5            13.3         305.8         1021.0   \n5             NaN           23.4            10.8         296.0         1022.5   \n6        ['snow']           20.9            10.8         300.0         1021.0   \n7        ['snow']           19.1            10.8         300.0         1022.0   \n8        ['snow']           16.9             7.2         303.0         1024.2   \n9             NaN           15.5            10.8         300.0         1024.0   \n\n   hour_visibility  hour_cloudcover  hour_solarradiation  hour_solarenergy   \n0              0.0             91.5                  0.0               NaN  \\\n1              0.2             88.2                  0.0               NaN   \n2             10.0            100.0                  NaN               NaN   \n3              0.1             92.0                  0.0               NaN   \n4              0.0             93.8                  0.0               NaN   \n5             10.0            100.0                  0.0               NaN   \n6             10.0            100.0                  0.0               NaN   \n7             10.0            100.0                  0.0               NaN   \n8              4.4            100.0                  NaN               NaN   \n9              2.0            100.0                 15.0               0.1   \n\n   hour_uvindex  hour_severerisk   hour_conditions   city     region   \n0           0.0             10.0          Overcast  Луцьк  Волинська  \\\n1           0.0             10.0  Partially cloudy  Луцьк  Волинська   \n2           NaN             10.0          Overcast  Луцьк  Волинська   \n3           0.0             10.0          Overcast  Луцьк  Волинська   \n4           0.0             10.0          Overcast  Луцьк  Волинська   \n5           0.0             10.0          Overcast  Луцьк  Волинська   \n6           0.0             10.0          Overcast  Луцьк  Волинська   \n7           0.0             10.0          Overcast  Луцьк  Волинська   \n8           NaN             10.0    Snow, Overcast  Луцьк  Волинська   \n9           0.0             10.0          Overcast  Луцьк  Волинська   \n\n  center_city_ua center_city_en region_alt  region_id  \n0          Луцьк          Lutsk     Волинь          3  \n1          Луцьк          Lutsk     Волинь          3  \n2          Луцьк          Lutsk     Волинь          3  \n3          Луцьк          Lutsk     Волинь          3  \n4          Луцьк          Lutsk     Волинь          3  \n5          Луцьк          Lutsk     Волинь          3  \n6          Луцьк          Lutsk     Волинь          3  \n7          Луцьк          Lutsk     Волинь          3  \n8          Луцьк          Lutsk     Волинь          3  \n9          Луцьк          Lutsk     Волинь          3  ",
      "text/html": "<div>\n<style scoped>\n    .dataframe tbody tr th:only-of-type {\n        vertical-align: middle;\n    }\n\n    .dataframe tbody tr th {\n        vertical-align: top;\n    }\n\n    .dataframe thead th {\n        text-align: right;\n    }\n</style>\n<table border=\"1\" class=\"dataframe\">\n  <thead>\n    <tr style=\"text-align: right;\">\n      <th></th>\n      <th>city_resolvedAddress</th>\n      <th>day_datetime</th>\n      <th>day_datetimeEpoch</th>\n      <th>day_tempmax</th>\n      <th>day_tempmin</th>\n      <th>day_temp</th>\n      <th>day_dew</th>\n      <th>day_humidity</th>\n      <th>day_precip</th>\n      <th>day_precipcover</th>\n      <th>day_solarradiation</th>\n      <th>day_solarenergy</th>\n      <th>day_uvindex</th>\n      <th>day_sunrise</th>\n      <th>day_sunset</th>\n      <th>day_moonphase</th>\n      <th>hour_datetime</th>\n      <th>hour_datetimeEpoch</th>\n      <th>hour_temp</th>\n      <th>hour_humidity</th>\n      <th>hour_dew</th>\n      <th>hour_precip</th>\n      <th>hour_precipprob</th>\n      <th>hour_snow</th>\n      <th>hour_snowdepth</th>\n      <th>hour_preciptype</th>\n      <th>hour_windgust</th>\n      <th>hour_windspeed</th>\n      <th>hour_winddir</th>\n      <th>hour_pressure</th>\n      <th>hour_visibility</th>\n      <th>hour_cloudcover</th>\n      <th>hour_solarradiation</th>\n      <th>hour_solarenergy</th>\n      <th>hour_uvindex</th>\n      <th>hour_severerisk</th>\n      <th>hour_conditions</th>\n      <th>city</th>\n      <th>region</th>\n      <th>center_city_ua</th>\n      <th>center_city_en</th>\n      <th>region_alt</th>\n      <th>region_id</th>\n    </tr>\n  </thead>\n  <tbody>\n    <tr>\n      <th>0</th>\n      <td>Луцьк, Луцький район, Україна</td>\n      <td>2022-02-24</td>\n      <td>1645653600</td>\n      <td>4.9</td>\n      <td>0.7</td>\n      <td>2.6</td>\n      <td>0.0</td>\n      <td>83.7</td>\n      <td>0.118</td>\n      <td>4.17</td>\n      <td>36.9</td>\n      <td>2.8</td>\n      <td>1.0</td>\n      <td>07:13:36</td>\n      <td>17:51:06</td>\n      <td>0.77</td>\n      <td>00:00:00</td>\n      <td>1645653600</td>\n      <td>2.4</td>\n      <td>89.18</td>\n      <td>0.8</td>\n      <td>0.000</td>\n      <td>0.0</td>\n      <td>0.1</td>\n      <td>0.2</td>\n      <td>['snow']</td>\n      <td>31.3</td>\n      <td>15.5</td>\n      <td>275.6</td>\n      <td>1020.0</td>\n      <td>0.0</td>\n      <td>91.5</td>\n      <td>0.0</td>\n      <td>NaN</td>\n      <td>0.0</td>\n      <td>10.0</td>\n      <td>Overcast</td>\n      <td>Луцьк</td>\n      <td>Волинська</td>\n      <td>Луцьк</td>\n      <td>Lutsk</td>\n      <td>Волинь</td>\n      <td>3</td>\n    </tr>\n    <tr>\n      <th>1</th>\n      <td>Луцьк, Луцький район, Україна</td>\n      <td>2022-02-24</td>\n      <td>1645653600</td>\n      <td>4.9</td>\n      <td>0.7</td>\n      <td>2.6</td>\n      <td>0.0</td>\n      <td>83.7</td>\n      <td>0.118</td>\n      <td>4.17</td>\n      <td>36.9</td>\n      <td>2.8</td>\n      <td>1.0</td>\n      <td>07:13:36</td>\n      <td>17:51:06</td>\n      <td>0.77</td>\n      <td>01:00:00</td>\n      <td>1645657200</td>\n      <td>2.4</td>\n      <td>87.90</td>\n      <td>0.6</td>\n      <td>0.000</td>\n      <td>0.0</td>\n      <td>0.0</td>\n      <td>0.2</td>\n      <td>['snow']</td>\n      <td>27.7</td>\n      <td>14.8</td>\n      <td>280.3</td>\n      <td>1021.0</td>\n      <td>0.2</td>\n      <td>88.2</td>\n      <td>0.0</td>\n      <td>NaN</td>\n      <td>0.0</td>\n      <td>10.0</td>\n      <td>Partially cloudy</td>\n      <td>Луцьк</td>\n      <td>Волинська</td>\n      <td>Луцьк</td>\n      <td>Lutsk</td>\n      <td>Волинь</td>\n      <td>3</td>\n    </tr>\n    <tr>\n      <th>2</th>\n      <td>Луцьк, Луцький район, Україна</td>\n      <td>2022-02-24</td>\n      <td>1645653600</td>\n      <td>4.9</td>\n      <td>0.7</td>\n      <td>2.6</td>\n      <td>0.0</td>\n      <td>83.7</td>\n      <td>0.118</td>\n      <td>4.17</td>\n      <td>36.9</td>\n      <td>2.8</td>\n      <td>1.0</td>\n      <td>07:13:36</td>\n      <td>17:51:06</td>\n      <td>0.77</td>\n      <td>02:00:00</td>\n      <td>1645660800</td>\n      <td>2.9</td>\n      <td>88.58</td>\n      <td>1.2</td>\n      <td>0.000</td>\n      <td>0.0</td>\n      <td>0.0</td>\n      <td>0.1</td>\n      <td>['snow']</td>\n      <td>29.2</td>\n      <td>14.4</td>\n      <td>310.0</td>\n      <td>1022.0</td>\n      <td>10.0</td>\n      <td>100.0</td>\n      <td>NaN</td>\n      <td>NaN</td>\n      <td>NaN</td>\n      <td>10.0</td>\n      <td>Overcast</td>\n      <td>Луцьк</td>\n      <td>Волинська</td>\n      <td>Луцьк</td>\n      <td>Lutsk</td>\n      <td>Волинь</td>\n      <td>3</td>\n    </tr>\n    <tr>\n      <th>3</th>\n      <td>Луцьк, Луцький район, Україна</td>\n      <td>2022-02-24</td>\n      <td>1645653600</td>\n      <td>4.9</td>\n      <td>0.7</td>\n      <td>2.6</td>\n      <td>0.0</td>\n      <td>83.7</td>\n      <td>0.118</td>\n      <td>4.17</td>\n      <td>36.9</td>\n      <td>2.8</td>\n      <td>1.0</td>\n      <td>07:13:36</td>\n      <td>17:51:06</td>\n      <td>0.77</td>\n      <td>03:00:00</td>\n      <td>1645664400</td>\n      <td>2.3</td>\n      <td>86.63</td>\n      <td>0.3</td>\n      <td>0.000</td>\n      <td>0.0</td>\n      <td>0.0</td>\n      <td>0.1</td>\n      <td>['snow']</td>\n      <td>23.8</td>\n      <td>13.3</td>\n      <td>295.1</td>\n      <td>1021.0</td>\n      <td>0.1</td>\n      <td>92.0</td>\n      <td>0.0</td>\n      <td>NaN</td>\n      <td>0.0</td>\n      <td>10.0</td>\n      <td>Overcast</td>\n      <td>Луцьк</td>\n      <td>Волинська</td>\n      <td>Луцьк</td>\n      <td>Lutsk</td>\n      <td>Волинь</td>\n      <td>3</td>\n    </tr>\n    <tr>\n      <th>4</th>\n      <td>Луцьк, Луцький район, Україна</td>\n      <td>2022-02-24</td>\n      <td>1645653600</td>\n      <td>4.9</td>\n      <td>0.7</td>\n      <td>2.6</td>\n      <td>0.0</td>\n      <td>83.7</td>\n      <td>0.118</td>\n      <td>4.17</td>\n      <td>36.9</td>\n      <td>2.8</td>\n      <td>1.0</td>\n      <td>07:13:36</td>\n      <td>17:51:06</td>\n      <td>0.77</td>\n      <td>04:00:00</td>\n      <td>1645668000</td>\n      <td>1.9</td>\n      <td>87.85</td>\n      <td>0.1</td>\n      <td>0.000</td>\n      <td>0.0</td>\n      <td>0.0</td>\n      <td>0.1</td>\n      <td>['snow']</td>\n      <td>24.5</td>\n      <td>13.3</td>\n      <td>305.8</td>\n      <td>1021.0</td>\n      <td>0.0</td>\n      <td>93.8</td>\n      <td>0.0</td>\n      <td>NaN</td>\n      <td>0.0</td>\n      <td>10.0</td>\n      <td>Overcast</td>\n      <td>Луцьк</td>\n      <td>Волинська</td>\n      <td>Луцьк</td>\n      <td>Lutsk</td>\n      <td>Волинь</td>\n      <td>3</td>\n    </tr>\n    <tr>\n      <th>5</th>\n      <td>Луцьк, Луцький район, Україна</td>\n      <td>2022-02-24</td>\n      <td>1645653600</td>\n      <td>4.9</td>\n      <td>0.7</td>\n      <td>2.6</td>\n      <td>0.0</td>\n      <td>83.7</td>\n      <td>0.118</td>\n      <td>4.17</td>\n      <td>36.9</td>\n      <td>2.8</td>\n      <td>1.0</td>\n      <td>07:13:36</td>\n      <td>17:51:06</td>\n      <td>0.77</td>\n      <td>05:00:00</td>\n      <td>1645671600</td>\n      <td>1.9</td>\n      <td>91.66</td>\n      <td>0.6</td>\n      <td>0.000</td>\n      <td>0.0</td>\n      <td>0.0</td>\n      <td>0.1</td>\n      <td>NaN</td>\n      <td>23.4</td>\n      <td>10.8</td>\n      <td>296.0</td>\n      <td>1022.5</td>\n      <td>10.0</td>\n      <td>100.0</td>\n      <td>0.0</td>\n      <td>NaN</td>\n      <td>0.0</td>\n      <td>10.0</td>\n      <td>Overcast</td>\n      <td>Луцьк</td>\n      <td>Волинська</td>\n      <td>Луцьк</td>\n      <td>Lutsk</td>\n      <td>Волинь</td>\n      <td>3</td>\n    </tr>\n    <tr>\n      <th>6</th>\n      <td>Луцьк, Луцький район, Україна</td>\n      <td>2022-02-24</td>\n      <td>1645653600</td>\n      <td>4.9</td>\n      <td>0.7</td>\n      <td>2.6</td>\n      <td>0.0</td>\n      <td>83.7</td>\n      <td>0.118</td>\n      <td>4.17</td>\n      <td>36.9</td>\n      <td>2.8</td>\n      <td>1.0</td>\n      <td>07:13:36</td>\n      <td>17:51:06</td>\n      <td>0.77</td>\n      <td>06:00:00</td>\n      <td>1645675200</td>\n      <td>2.0</td>\n      <td>93.09</td>\n      <td>1.0</td>\n      <td>0.000</td>\n      <td>0.0</td>\n      <td>0.0</td>\n      <td>0.1</td>\n      <td>['snow']</td>\n      <td>20.9</td>\n      <td>10.8</td>\n      <td>300.0</td>\n      <td>1021.0</td>\n      <td>10.0</td>\n      <td>100.0</td>\n      <td>0.0</td>\n      <td>NaN</td>\n      <td>0.0</td>\n      <td>10.0</td>\n      <td>Overcast</td>\n      <td>Луцьк</td>\n      <td>Волинська</td>\n      <td>Луцьк</td>\n      <td>Lutsk</td>\n      <td>Волинь</td>\n      <td>3</td>\n    </tr>\n    <tr>\n      <th>7</th>\n      <td>Луцьк, Луцький район, Україна</td>\n      <td>2022-02-24</td>\n      <td>1645653600</td>\n      <td>4.9</td>\n      <td>0.7</td>\n      <td>2.6</td>\n      <td>0.0</td>\n      <td>83.7</td>\n      <td>0.118</td>\n      <td>4.17</td>\n      <td>36.9</td>\n      <td>2.8</td>\n      <td>1.0</td>\n      <td>07:13:36</td>\n      <td>17:51:06</td>\n      <td>0.77</td>\n      <td>07:00:00</td>\n      <td>1645678800</td>\n      <td>2.0</td>\n      <td>93.09</td>\n      <td>1.0</td>\n      <td>0.000</td>\n      <td>0.0</td>\n      <td>0.0</td>\n      <td>0.1</td>\n      <td>['snow']</td>\n      <td>19.1</td>\n      <td>10.8</td>\n      <td>300.0</td>\n      <td>1022.0</td>\n      <td>10.0</td>\n      <td>100.0</td>\n      <td>0.0</td>\n      <td>NaN</td>\n      <td>0.0</td>\n      <td>10.0</td>\n      <td>Overcast</td>\n      <td>Луцьк</td>\n      <td>Волинська</td>\n      <td>Луцьк</td>\n      <td>Lutsk</td>\n      <td>Волинь</td>\n      <td>3</td>\n    </tr>\n    <tr>\n      <th>8</th>\n      <td>Луцьк, Луцький район, Україна</td>\n      <td>2022-02-24</td>\n      <td>1645653600</td>\n      <td>4.9</td>\n      <td>0.7</td>\n      <td>2.6</td>\n      <td>0.0</td>\n      <td>83.7</td>\n      <td>0.118</td>\n      <td>4.17</td>\n      <td>36.9</td>\n      <td>2.8</td>\n      <td>1.0</td>\n      <td>07:13:36</td>\n      <td>17:51:06</td>\n      <td>0.77</td>\n      <td>08:00:00</td>\n      <td>1645682400</td>\n      <td>1.8</td>\n      <td>91.32</td>\n      <td>0.6</td>\n      <td>0.118</td>\n      <td>100.0</td>\n      <td>0.0</td>\n      <td>0.1</td>\n      <td>['snow']</td>\n      <td>16.9</td>\n      <td>7.2</td>\n      <td>303.0</td>\n      <td>1024.2</td>\n      <td>4.4</td>\n      <td>100.0</td>\n      <td>NaN</td>\n      <td>NaN</td>\n      <td>NaN</td>\n      <td>10.0</td>\n      <td>Snow, Overcast</td>\n      <td>Луцьк</td>\n      <td>Волинська</td>\n      <td>Луцьк</td>\n      <td>Lutsk</td>\n      <td>Волинь</td>\n      <td>3</td>\n    </tr>\n    <tr>\n      <th>9</th>\n      <td>Луцьк, Луцький район, Україна</td>\n      <td>2022-02-24</td>\n      <td>1645653600</td>\n      <td>4.9</td>\n      <td>0.7</td>\n      <td>2.6</td>\n      <td>0.0</td>\n      <td>83.7</td>\n      <td>0.118</td>\n      <td>4.17</td>\n      <td>36.9</td>\n      <td>2.8</td>\n      <td>1.0</td>\n      <td>07:13:36</td>\n      <td>17:51:06</td>\n      <td>0.77</td>\n      <td>09:00:00</td>\n      <td>1645686000</td>\n      <td>2.0</td>\n      <td>93.09</td>\n      <td>1.0</td>\n      <td>0.000</td>\n      <td>0.0</td>\n      <td>0.0</td>\n      <td>0.1</td>\n      <td>NaN</td>\n      <td>15.5</td>\n      <td>10.8</td>\n      <td>300.0</td>\n      <td>1024.0</td>\n      <td>2.0</td>\n      <td>100.0</td>\n      <td>15.0</td>\n      <td>0.1</td>\n      <td>0.0</td>\n      <td>10.0</td>\n      <td>Overcast</td>\n      <td>Луцьк</td>\n      <td>Волинська</td>\n      <td>Луцьк</td>\n      <td>Lutsk</td>\n      <td>Волинь</td>\n      <td>3</td>\n    </tr>\n  </tbody>\n</table>\n</div>"
     },
     "execution_count": 57,
     "metadata": {},
     "output_type": "execute_result"
    }
   ],
   "source": [
    "df_events_v3.head(10)\n",
    "df_weather_reg.head(10)"
   ]
  },
  {
   "cell_type": "code",
   "execution_count": 58,
   "id": "cfc7e841",
   "metadata": {
    "ExecuteTime": {
     "start_time": "2023-04-08T13:32:10.180313Z",
     "end_time": "2023-04-08T13:32:10.217458Z"
    }
   },
   "outputs": [
    {
     "data": {
      "text/plain": "  event_region_title event_region_city  event_all_region          event_start   \n0         Вінниччина           Вінниця                 0  2022-02-25 22:55:42  \\\n1         Вінниччина           Вінниця                 0  2022-02-25 22:55:42   \n2         Вінниччина           Вінниця                 0  2022-02-25 22:55:42   \n3          Львівщина             Львів                 0  2022-02-26 06:26:17   \n4          Львівщина             Львів                 0  2022-02-26 06:26:17   \n5          Львівщина             Львів                 0  2022-02-26 06:26:17   \n6            Одещина             Одеса                 0  2022-02-26 07:16:58   \n7            Одещина             Одеса                 0  2022-02-26 07:16:58   \n8        Житомирщина           Житомир                 0  2022-02-26 08:05:54   \n9        Житомирщина           Житомир                 0  2022-02-26 08:05:54   \n\n             event_end      event_clean_end  event_intersection_alarm_id   \n0  2022-02-25 23:41:53  2022-02-25 23:41:53                          NaN  \\\n1  2022-02-25 23:41:53  2022-02-25 23:41:53                          NaN   \n2  2022-02-25 23:41:53  2022-02-25 23:41:53                          NaN   \n3  2022-02-26 07:15:28  2022-02-26 07:15:28                          NaN   \n4  2022-02-26 07:15:28  2022-02-26 07:15:28                          NaN   \n5  2022-02-26 07:15:28  2022-02-26 07:15:28                          NaN   \n6  2022-02-26 07:47:03  2022-02-26 07:47:03                          NaN   \n7  2022-02-26 07:47:03  2022-02-26 07:47:03                          NaN   \n8  2022-02-26 09:36:36  2022-02-26 09:36:36                          NaN   \n9  2022-02-26 09:36:36  2022-02-26 09:36:36                          NaN   \n\n  event_event_time    event_start_time      event_end_time   \n0              NaT 2022-02-25 22:55:42 2022-02-25 23:41:53  \\\n1              NaT 2022-02-25 22:55:42 2022-02-25 23:41:53   \n2              NaT 2022-02-25 22:55:42 2022-02-25 23:41:53   \n3              NaT 2022-02-26 06:26:17 2022-02-26 07:15:28   \n4              NaT 2022-02-26 06:26:17 2022-02-26 07:15:28   \n5              NaT 2022-02-26 06:26:17 2022-02-26 07:15:28   \n6              NaT 2022-02-26 07:16:58 2022-02-26 07:47:03   \n7              NaT 2022-02-26 07:16:58 2022-02-26 07:47:03   \n8              NaT 2022-02-26 08:05:54 2022-02-26 09:36:36   \n9              NaT 2022-02-26 08:05:54 2022-02-26 09:36:36   \n\n     event_start_hour      event_end_hour event_event_hour event_day_date   \n0 2022-02-25 22:00:00 2022-02-26 00:00:00              NaT     2022-02-25  \\\n1 2022-02-25 22:00:00 2022-02-26 00:00:00              NaT     2022-02-25   \n2 2022-02-25 22:00:00 2022-02-26 00:00:00              NaT     2022-02-25   \n3 2022-02-26 06:00:00 2022-02-26 08:00:00              NaT     2022-02-26   \n4 2022-02-26 06:00:00 2022-02-26 08:00:00              NaT     2022-02-26   \n5 2022-02-26 06:00:00 2022-02-26 08:00:00              NaT     2022-02-26   \n6 2022-02-26 07:00:00 2022-02-26 08:00:00              NaT     2022-02-26   \n7 2022-02-26 07:00:00 2022-02-26 08:00:00              NaT     2022-02-26   \n8 2022-02-26 08:00:00 2022-02-26 10:00:00              NaT     2022-02-26   \n9 2022-02-26 08:00:00 2022-02-26 10:00:00              NaT     2022-02-26   \n\n   event_start_hour_datetimeEpoch  event_end_hour_datetimeEpoch   \n0                      1645826400                    1645833600  \\\n1                      1645826400                    1645833600   \n2                      1645826400                    1645833600   \n3                      1645855200                    1645862400   \n4                      1645855200                    1645862400   \n5                      1645855200                    1645862400   \n6                      1645858800                    1645862400   \n7                      1645858800                    1645862400   \n8                      1645862400                    1645869600   \n9                      1645862400                    1645869600   \n\n  event_hour_level_event_time  event_hour_level_event_datetimeEpoch  \n0         2022-02-25 22:00:00                            1645826400  \n1         2022-02-25 23:00:00                            1645830000  \n2         2022-02-26 00:00:00                            1645833600  \n3         2022-02-26 06:00:00                            1645855200  \n4         2022-02-26 07:00:00                            1645858800  \n5         2022-02-26 08:00:00                            1645862400  \n6         2022-02-26 07:00:00                            1645858800  \n7         2022-02-26 08:00:00                            1645862400  \n8         2022-02-26 08:00:00                            1645862400  \n9         2022-02-26 09:00:00                            1645866000  ",
      "text/html": "<div>\n<style scoped>\n    .dataframe tbody tr th:only-of-type {\n        vertical-align: middle;\n    }\n\n    .dataframe tbody tr th {\n        vertical-align: top;\n    }\n\n    .dataframe thead th {\n        text-align: right;\n    }\n</style>\n<table border=\"1\" class=\"dataframe\">\n  <thead>\n    <tr style=\"text-align: right;\">\n      <th></th>\n      <th>event_region_title</th>\n      <th>event_region_city</th>\n      <th>event_all_region</th>\n      <th>event_start</th>\n      <th>event_end</th>\n      <th>event_clean_end</th>\n      <th>event_intersection_alarm_id</th>\n      <th>event_event_time</th>\n      <th>event_start_time</th>\n      <th>event_end_time</th>\n      <th>event_start_hour</th>\n      <th>event_end_hour</th>\n      <th>event_event_hour</th>\n      <th>event_day_date</th>\n      <th>event_start_hour_datetimeEpoch</th>\n      <th>event_end_hour_datetimeEpoch</th>\n      <th>event_hour_level_event_time</th>\n      <th>event_hour_level_event_datetimeEpoch</th>\n    </tr>\n  </thead>\n  <tbody>\n    <tr>\n      <th>0</th>\n      <td>Вінниччина</td>\n      <td>Вінниця</td>\n      <td>0</td>\n      <td>2022-02-25 22:55:42</td>\n      <td>2022-02-25 23:41:53</td>\n      <td>2022-02-25 23:41:53</td>\n      <td>NaN</td>\n      <td>NaT</td>\n      <td>2022-02-25 22:55:42</td>\n      <td>2022-02-25 23:41:53</td>\n      <td>2022-02-25 22:00:00</td>\n      <td>2022-02-26 00:00:00</td>\n      <td>NaT</td>\n      <td>2022-02-25</td>\n      <td>1645826400</td>\n      <td>1645833600</td>\n      <td>2022-02-25 22:00:00</td>\n      <td>1645826400</td>\n    </tr>\n    <tr>\n      <th>1</th>\n      <td>Вінниччина</td>\n      <td>Вінниця</td>\n      <td>0</td>\n      <td>2022-02-25 22:55:42</td>\n      <td>2022-02-25 23:41:53</td>\n      <td>2022-02-25 23:41:53</td>\n      <td>NaN</td>\n      <td>NaT</td>\n      <td>2022-02-25 22:55:42</td>\n      <td>2022-02-25 23:41:53</td>\n      <td>2022-02-25 22:00:00</td>\n      <td>2022-02-26 00:00:00</td>\n      <td>NaT</td>\n      <td>2022-02-25</td>\n      <td>1645826400</td>\n      <td>1645833600</td>\n      <td>2022-02-25 23:00:00</td>\n      <td>1645830000</td>\n    </tr>\n    <tr>\n      <th>2</th>\n      <td>Вінниччина</td>\n      <td>Вінниця</td>\n      <td>0</td>\n      <td>2022-02-25 22:55:42</td>\n      <td>2022-02-25 23:41:53</td>\n      <td>2022-02-25 23:41:53</td>\n      <td>NaN</td>\n      <td>NaT</td>\n      <td>2022-02-25 22:55:42</td>\n      <td>2022-02-25 23:41:53</td>\n      <td>2022-02-25 22:00:00</td>\n      <td>2022-02-26 00:00:00</td>\n      <td>NaT</td>\n      <td>2022-02-25</td>\n      <td>1645826400</td>\n      <td>1645833600</td>\n      <td>2022-02-26 00:00:00</td>\n      <td>1645833600</td>\n    </tr>\n    <tr>\n      <th>3</th>\n      <td>Львівщина</td>\n      <td>Львів</td>\n      <td>0</td>\n      <td>2022-02-26 06:26:17</td>\n      <td>2022-02-26 07:15:28</td>\n      <td>2022-02-26 07:15:28</td>\n      <td>NaN</td>\n      <td>NaT</td>\n      <td>2022-02-26 06:26:17</td>\n      <td>2022-02-26 07:15:28</td>\n      <td>2022-02-26 06:00:00</td>\n      <td>2022-02-26 08:00:00</td>\n      <td>NaT</td>\n      <td>2022-02-26</td>\n      <td>1645855200</td>\n      <td>1645862400</td>\n      <td>2022-02-26 06:00:00</td>\n      <td>1645855200</td>\n    </tr>\n    <tr>\n      <th>4</th>\n      <td>Львівщина</td>\n      <td>Львів</td>\n      <td>0</td>\n      <td>2022-02-26 06:26:17</td>\n      <td>2022-02-26 07:15:28</td>\n      <td>2022-02-26 07:15:28</td>\n      <td>NaN</td>\n      <td>NaT</td>\n      <td>2022-02-26 06:26:17</td>\n      <td>2022-02-26 07:15:28</td>\n      <td>2022-02-26 06:00:00</td>\n      <td>2022-02-26 08:00:00</td>\n      <td>NaT</td>\n      <td>2022-02-26</td>\n      <td>1645855200</td>\n      <td>1645862400</td>\n      <td>2022-02-26 07:00:00</td>\n      <td>1645858800</td>\n    </tr>\n    <tr>\n      <th>5</th>\n      <td>Львівщина</td>\n      <td>Львів</td>\n      <td>0</td>\n      <td>2022-02-26 06:26:17</td>\n      <td>2022-02-26 07:15:28</td>\n      <td>2022-02-26 07:15:28</td>\n      <td>NaN</td>\n      <td>NaT</td>\n      <td>2022-02-26 06:26:17</td>\n      <td>2022-02-26 07:15:28</td>\n      <td>2022-02-26 06:00:00</td>\n      <td>2022-02-26 08:00:00</td>\n      <td>NaT</td>\n      <td>2022-02-26</td>\n      <td>1645855200</td>\n      <td>1645862400</td>\n      <td>2022-02-26 08:00:00</td>\n      <td>1645862400</td>\n    </tr>\n    <tr>\n      <th>6</th>\n      <td>Одещина</td>\n      <td>Одеса</td>\n      <td>0</td>\n      <td>2022-02-26 07:16:58</td>\n      <td>2022-02-26 07:47:03</td>\n      <td>2022-02-26 07:47:03</td>\n      <td>NaN</td>\n      <td>NaT</td>\n      <td>2022-02-26 07:16:58</td>\n      <td>2022-02-26 07:47:03</td>\n      <td>2022-02-26 07:00:00</td>\n      <td>2022-02-26 08:00:00</td>\n      <td>NaT</td>\n      <td>2022-02-26</td>\n      <td>1645858800</td>\n      <td>1645862400</td>\n      <td>2022-02-26 07:00:00</td>\n      <td>1645858800</td>\n    </tr>\n    <tr>\n      <th>7</th>\n      <td>Одещина</td>\n      <td>Одеса</td>\n      <td>0</td>\n      <td>2022-02-26 07:16:58</td>\n      <td>2022-02-26 07:47:03</td>\n      <td>2022-02-26 07:47:03</td>\n      <td>NaN</td>\n      <td>NaT</td>\n      <td>2022-02-26 07:16:58</td>\n      <td>2022-02-26 07:47:03</td>\n      <td>2022-02-26 07:00:00</td>\n      <td>2022-02-26 08:00:00</td>\n      <td>NaT</td>\n      <td>2022-02-26</td>\n      <td>1645858800</td>\n      <td>1645862400</td>\n      <td>2022-02-26 08:00:00</td>\n      <td>1645862400</td>\n    </tr>\n    <tr>\n      <th>8</th>\n      <td>Житомирщина</td>\n      <td>Житомир</td>\n      <td>0</td>\n      <td>2022-02-26 08:05:54</td>\n      <td>2022-02-26 09:36:36</td>\n      <td>2022-02-26 09:36:36</td>\n      <td>NaN</td>\n      <td>NaT</td>\n      <td>2022-02-26 08:05:54</td>\n      <td>2022-02-26 09:36:36</td>\n      <td>2022-02-26 08:00:00</td>\n      <td>2022-02-26 10:00:00</td>\n      <td>NaT</td>\n      <td>2022-02-26</td>\n      <td>1645862400</td>\n      <td>1645869600</td>\n      <td>2022-02-26 08:00:00</td>\n      <td>1645862400</td>\n    </tr>\n    <tr>\n      <th>9</th>\n      <td>Житомирщина</td>\n      <td>Житомир</td>\n      <td>0</td>\n      <td>2022-02-26 08:05:54</td>\n      <td>2022-02-26 09:36:36</td>\n      <td>2022-02-26 09:36:36</td>\n      <td>NaN</td>\n      <td>NaT</td>\n      <td>2022-02-26 08:05:54</td>\n      <td>2022-02-26 09:36:36</td>\n      <td>2022-02-26 08:00:00</td>\n      <td>2022-02-26 10:00:00</td>\n      <td>NaT</td>\n      <td>2022-02-26</td>\n      <td>1645862400</td>\n      <td>1645869600</td>\n      <td>2022-02-26 09:00:00</td>\n      <td>1645866000</td>\n    </tr>\n  </tbody>\n</table>\n</div>"
     },
     "execution_count": 58,
     "metadata": {},
     "output_type": "execute_result"
    }
   ],
   "source": [
    "df_events_v4 = df_events_v3.copy().add_prefix(\"event_\")\n",
    "df_events_v4.head(10)"
   ]
  },
  {
   "cell_type": "code",
   "execution_count": 59,
   "id": "7c35dc66",
   "metadata": {
    "ExecuteTime": {
     "start_time": "2023-04-08T13:32:10.202459Z",
     "end_time": "2023-04-08T13:32:10.305560Z"
    }
   },
   "outputs": [],
   "source": [
    "df_weather_v4 = df_weather_reg.merge(\n",
    "    df_events_v4,\n",
    "    how=\"left\",\n",
    "    left_on=[\"region_alt\", \"hour_datetimeEpoch\"],\n",
    "    right_on=[\"event_region_title\", \"event_hour_level_event_datetimeEpoch\"],\n",
    ")"
   ]
  },
  {
   "cell_type": "code",
   "execution_count": 60,
   "id": "ea0266bb",
   "metadata": {
    "ExecuteTime": {
     "start_time": "2023-04-08T13:32:10.299563Z",
     "end_time": "2023-04-08T13:32:11.578767Z"
    }
   },
   "outputs": [
    {
     "name": "stdout",
     "output_type": "stream",
     "text": [
      "(49249, 61)\n",
      "(145835, 61)\n",
      "Alarm chane: 0.2524502265690677\n",
      "No alarm: 0.7475497734309323\n"
     ]
    }
   ],
   "source": [
    "# Alarm data\n",
    "print(df_weather_v4.loc[~ isNaN(df_weather_v4['event_start'])].shape)\n",
    "print(df_weather_v4.loc[isNaN(df_weather_v4['event_start'])].shape)\n",
    "df_weather_v4['is_alarm'] = df_weather_v4.apply(lambda x: 0 if isNaN(x['event_start']) else 1, axis=1)\n",
    "no_alarms = df_weather_v4.loc[df_weather_v4['is_alarm'] == 0].size\n",
    "alarms = df_weather_v4.loc[df_weather_v4['is_alarm'] == 1].size\n",
    "print(f\"Alarm chane: {alarms / df_weather_v4.size}\")\n",
    "print(f\"No alarm: {no_alarms / df_weather_v4.size}\")\n",
    "# df_weather_v4.sample(5)"
   ]
  },
  {
   "cell_type": "code",
   "execution_count": 61,
   "outputs": [
    {
     "data": {
      "text/plain": "            city_resolvedAddress day_datetime  day_datetimeEpoch  day_tempmax   \n0  Луцьк, Луцький район, Україна   2022-02-24         1645653600          4.9  \\\n1  Луцьк, Луцький район, Україна   2022-02-24         1645653600          4.9   \n2  Луцьк, Луцький район, Україна   2022-02-24         1645653600          4.9   \n3  Луцьк, Луцький район, Україна   2022-02-24         1645653600          4.9   \n4  Луцьк, Луцький район, Україна   2022-02-24         1645653600          4.9   \n\n   day_tempmin  day_temp  day_dew  day_humidity  day_precip  day_precipcover   \n0          0.7       2.6      0.0          83.7       0.118             4.17  \\\n1          0.7       2.6      0.0          83.7       0.118             4.17   \n2          0.7       2.6      0.0          83.7       0.118             4.17   \n3          0.7       2.6      0.0          83.7       0.118             4.17   \n4          0.7       2.6      0.0          83.7       0.118             4.17   \n\n   day_solarradiation  day_solarenergy  day_uvindex day_sunrise day_sunset   \n0                36.9              2.8          1.0    07:13:36   17:51:06  \\\n1                36.9              2.8          1.0    07:13:36   17:51:06   \n2                36.9              2.8          1.0    07:13:36   17:51:06   \n3                36.9              2.8          1.0    07:13:36   17:51:06   \n4                36.9              2.8          1.0    07:13:36   17:51:06   \n\n   day_moonphase hour_datetime  hour_datetimeEpoch  hour_temp  hour_humidity   \n0           0.77      00:00:00          1645653600        2.4          89.18  \\\n1           0.77      01:00:00          1645657200        2.4          87.90   \n2           0.77      02:00:00          1645660800        2.9          88.58   \n3           0.77      03:00:00          1645664400        2.3          86.63   \n4           0.77      04:00:00          1645668000        1.9          87.85   \n\n   hour_dew  hour_precip  hour_precipprob  hour_snow  hour_snowdepth   \n0       0.8          0.0              0.0        0.1             0.2  \\\n1       0.6          0.0              0.0        0.0             0.2   \n2       1.2          0.0              0.0        0.0             0.1   \n3       0.3          0.0              0.0        0.0             0.1   \n4       0.1          0.0              0.0        0.0             0.1   \n\n  hour_preciptype  hour_windgust  hour_windspeed  hour_winddir  hour_pressure   \n0        ['snow']           31.3            15.5         275.6         1020.0  \\\n1        ['snow']           27.7            14.8         280.3         1021.0   \n2        ['snow']           29.2            14.4         310.0         1022.0   \n3        ['snow']           23.8            13.3         295.1         1021.0   \n4        ['snow']           24.5            13.3         305.8         1021.0   \n\n   hour_visibility  hour_cloudcover  hour_solarradiation  hour_solarenergy   \n0              0.0             91.5                  0.0               NaN  \\\n1              0.2             88.2                  0.0               NaN   \n2             10.0            100.0                  NaN               NaN   \n3              0.1             92.0                  0.0               NaN   \n4              0.0             93.8                  0.0               NaN   \n\n   hour_uvindex  hour_severerisk   hour_conditions   city     region   \n0           0.0             10.0          Overcast  Луцьк  Волинська  \\\n1           0.0             10.0  Partially cloudy  Луцьк  Волинська   \n2           NaN             10.0          Overcast  Луцьк  Волинська   \n3           0.0             10.0          Overcast  Луцьк  Волинська   \n4           0.0             10.0          Overcast  Луцьк  Волинська   \n\n  center_city_ua center_city_en region_alt  region_id event_region_title   \n0          Луцьк          Lutsk     Волинь          3                NaN  \\\n1          Луцьк          Lutsk     Волинь          3                NaN   \n2          Луцьк          Lutsk     Волинь          3                NaN   \n3          Луцьк          Lutsk     Волинь          3                NaN   \n4          Луцьк          Lutsk     Волинь          3                NaN   \n\n  event_region_city  event_all_region event_start event_end event_clean_end   \n0               NaN               NaN         NaN       NaN             NaN  \\\n1               NaN               NaN         NaN       NaN             NaN   \n2               NaN               NaN         NaN       NaN             NaN   \n3               NaN               NaN         NaN       NaN             NaN   \n4               NaN               NaN         NaN       NaN             NaN   \n\n   event_intersection_alarm_id event_event_time event_start_time   \n0                          NaN              NaT              NaT  \\\n1                          NaN              NaT              NaT   \n2                          NaN              NaT              NaT   \n3                          NaN              NaT              NaT   \n4                          NaN              NaT              NaT   \n\n  event_end_time event_start_hour event_end_hour event_event_hour   \n0            NaT              NaT            NaT              NaT  \\\n1            NaT              NaT            NaT              NaT   \n2            NaT              NaT            NaT              NaT   \n3            NaT              NaT            NaT              NaT   \n4            NaT              NaT            NaT              NaT   \n\n  event_day_date  event_start_hour_datetimeEpoch   \n0            NaN                             NaN  \\\n1            NaN                             NaN   \n2            NaN                             NaN   \n3            NaN                             NaN   \n4            NaN                             NaN   \n\n   event_end_hour_datetimeEpoch event_hour_level_event_time   \n0                           NaN                         NaT  \\\n1                           NaN                         NaT   \n2                           NaN                         NaT   \n3                           NaN                         NaT   \n4                           NaN                         NaT   \n\n   event_hour_level_event_datetimeEpoch  is_alarm   \n0                                   NaN         0  \\\n1                                   NaN         0   \n2                                   NaN         0   \n3                                   NaN         0   \n4                                   NaN         0   \n\n                                            Keywords report_date   \n0  {'pm': 0.36407798258176394, 'airport': 0.27611...  2022-02-24  \\\n1  {'pm': 0.36407798258176394, 'airport': 0.27611...  2022-02-24   \n2  {'pm': 0.36407798258176394, 'airport': 0.27611...  2022-02-24   \n3  {'pm': 0.36407798258176394, 'airport': 0.27611...  2022-02-24   \n4  {'pm': 0.36407798258176394, 'airport': 0.27611...  2022-02-24   \n\n  date_tomorrow_datetime  ukrainian_holiday  russian_holiday  \n0             2022-02-25                  0                0  \n1             2022-02-25                  0                0  \n2             2022-02-25                  0                0  \n3             2022-02-25                  0                0  \n4             2022-02-25                  0                0  ",
      "text/html": "<div>\n<style scoped>\n    .dataframe tbody tr th:only-of-type {\n        vertical-align: middle;\n    }\n\n    .dataframe tbody tr th {\n        vertical-align: top;\n    }\n\n    .dataframe thead th {\n        text-align: right;\n    }\n</style>\n<table border=\"1\" class=\"dataframe\">\n  <thead>\n    <tr style=\"text-align: right;\">\n      <th></th>\n      <th>city_resolvedAddress</th>\n      <th>day_datetime</th>\n      <th>day_datetimeEpoch</th>\n      <th>day_tempmax</th>\n      <th>day_tempmin</th>\n      <th>day_temp</th>\n      <th>day_dew</th>\n      <th>day_humidity</th>\n      <th>day_precip</th>\n      <th>day_precipcover</th>\n      <th>day_solarradiation</th>\n      <th>day_solarenergy</th>\n      <th>day_uvindex</th>\n      <th>day_sunrise</th>\n      <th>day_sunset</th>\n      <th>day_moonphase</th>\n      <th>hour_datetime</th>\n      <th>hour_datetimeEpoch</th>\n      <th>hour_temp</th>\n      <th>hour_humidity</th>\n      <th>hour_dew</th>\n      <th>hour_precip</th>\n      <th>hour_precipprob</th>\n      <th>hour_snow</th>\n      <th>hour_snowdepth</th>\n      <th>hour_preciptype</th>\n      <th>hour_windgust</th>\n      <th>hour_windspeed</th>\n      <th>hour_winddir</th>\n      <th>hour_pressure</th>\n      <th>hour_visibility</th>\n      <th>hour_cloudcover</th>\n      <th>hour_solarradiation</th>\n      <th>hour_solarenergy</th>\n      <th>hour_uvindex</th>\n      <th>hour_severerisk</th>\n      <th>hour_conditions</th>\n      <th>city</th>\n      <th>region</th>\n      <th>center_city_ua</th>\n      <th>center_city_en</th>\n      <th>region_alt</th>\n      <th>region_id</th>\n      <th>event_region_title</th>\n      <th>event_region_city</th>\n      <th>event_all_region</th>\n      <th>event_start</th>\n      <th>event_end</th>\n      <th>event_clean_end</th>\n      <th>event_intersection_alarm_id</th>\n      <th>event_event_time</th>\n      <th>event_start_time</th>\n      <th>event_end_time</th>\n      <th>event_start_hour</th>\n      <th>event_end_hour</th>\n      <th>event_event_hour</th>\n      <th>event_day_date</th>\n      <th>event_start_hour_datetimeEpoch</th>\n      <th>event_end_hour_datetimeEpoch</th>\n      <th>event_hour_level_event_time</th>\n      <th>event_hour_level_event_datetimeEpoch</th>\n      <th>is_alarm</th>\n      <th>Keywords</th>\n      <th>report_date</th>\n      <th>date_tomorrow_datetime</th>\n      <th>ukrainian_holiday</th>\n      <th>russian_holiday</th>\n    </tr>\n  </thead>\n  <tbody>\n    <tr>\n      <th>0</th>\n      <td>Луцьк, Луцький район, Україна</td>\n      <td>2022-02-24</td>\n      <td>1645653600</td>\n      <td>4.9</td>\n      <td>0.7</td>\n      <td>2.6</td>\n      <td>0.0</td>\n      <td>83.7</td>\n      <td>0.118</td>\n      <td>4.17</td>\n      <td>36.9</td>\n      <td>2.8</td>\n      <td>1.0</td>\n      <td>07:13:36</td>\n      <td>17:51:06</td>\n      <td>0.77</td>\n      <td>00:00:00</td>\n      <td>1645653600</td>\n      <td>2.4</td>\n      <td>89.18</td>\n      <td>0.8</td>\n      <td>0.0</td>\n      <td>0.0</td>\n      <td>0.1</td>\n      <td>0.2</td>\n      <td>['snow']</td>\n      <td>31.3</td>\n      <td>15.5</td>\n      <td>275.6</td>\n      <td>1020.0</td>\n      <td>0.0</td>\n      <td>91.5</td>\n      <td>0.0</td>\n      <td>NaN</td>\n      <td>0.0</td>\n      <td>10.0</td>\n      <td>Overcast</td>\n      <td>Луцьк</td>\n      <td>Волинська</td>\n      <td>Луцьк</td>\n      <td>Lutsk</td>\n      <td>Волинь</td>\n      <td>3</td>\n      <td>NaN</td>\n      <td>NaN</td>\n      <td>NaN</td>\n      <td>NaN</td>\n      <td>NaN</td>\n      <td>NaN</td>\n      <td>NaN</td>\n      <td>NaT</td>\n      <td>NaT</td>\n      <td>NaT</td>\n      <td>NaT</td>\n      <td>NaT</td>\n      <td>NaT</td>\n      <td>NaN</td>\n      <td>NaN</td>\n      <td>NaN</td>\n      <td>NaT</td>\n      <td>NaN</td>\n      <td>0</td>\n      <td>{'pm': 0.36407798258176394, 'airport': 0.27611...</td>\n      <td>2022-02-24</td>\n      <td>2022-02-25</td>\n      <td>0</td>\n      <td>0</td>\n    </tr>\n    <tr>\n      <th>1</th>\n      <td>Луцьк, Луцький район, Україна</td>\n      <td>2022-02-24</td>\n      <td>1645653600</td>\n      <td>4.9</td>\n      <td>0.7</td>\n      <td>2.6</td>\n      <td>0.0</td>\n      <td>83.7</td>\n      <td>0.118</td>\n      <td>4.17</td>\n      <td>36.9</td>\n      <td>2.8</td>\n      <td>1.0</td>\n      <td>07:13:36</td>\n      <td>17:51:06</td>\n      <td>0.77</td>\n      <td>01:00:00</td>\n      <td>1645657200</td>\n      <td>2.4</td>\n      <td>87.90</td>\n      <td>0.6</td>\n      <td>0.0</td>\n      <td>0.0</td>\n      <td>0.0</td>\n      <td>0.2</td>\n      <td>['snow']</td>\n      <td>27.7</td>\n      <td>14.8</td>\n      <td>280.3</td>\n      <td>1021.0</td>\n      <td>0.2</td>\n      <td>88.2</td>\n      <td>0.0</td>\n      <td>NaN</td>\n      <td>0.0</td>\n      <td>10.0</td>\n      <td>Partially cloudy</td>\n      <td>Луцьк</td>\n      <td>Волинська</td>\n      <td>Луцьк</td>\n      <td>Lutsk</td>\n      <td>Волинь</td>\n      <td>3</td>\n      <td>NaN</td>\n      <td>NaN</td>\n      <td>NaN</td>\n      <td>NaN</td>\n      <td>NaN</td>\n      <td>NaN</td>\n      <td>NaN</td>\n      <td>NaT</td>\n      <td>NaT</td>\n      <td>NaT</td>\n      <td>NaT</td>\n      <td>NaT</td>\n      <td>NaT</td>\n      <td>NaN</td>\n      <td>NaN</td>\n      <td>NaN</td>\n      <td>NaT</td>\n      <td>NaN</td>\n      <td>0</td>\n      <td>{'pm': 0.36407798258176394, 'airport': 0.27611...</td>\n      <td>2022-02-24</td>\n      <td>2022-02-25</td>\n      <td>0</td>\n      <td>0</td>\n    </tr>\n    <tr>\n      <th>2</th>\n      <td>Луцьк, Луцький район, Україна</td>\n      <td>2022-02-24</td>\n      <td>1645653600</td>\n      <td>4.9</td>\n      <td>0.7</td>\n      <td>2.6</td>\n      <td>0.0</td>\n      <td>83.7</td>\n      <td>0.118</td>\n      <td>4.17</td>\n      <td>36.9</td>\n      <td>2.8</td>\n      <td>1.0</td>\n      <td>07:13:36</td>\n      <td>17:51:06</td>\n      <td>0.77</td>\n      <td>02:00:00</td>\n      <td>1645660800</td>\n      <td>2.9</td>\n      <td>88.58</td>\n      <td>1.2</td>\n      <td>0.0</td>\n      <td>0.0</td>\n      <td>0.0</td>\n      <td>0.1</td>\n      <td>['snow']</td>\n      <td>29.2</td>\n      <td>14.4</td>\n      <td>310.0</td>\n      <td>1022.0</td>\n      <td>10.0</td>\n      <td>100.0</td>\n      <td>NaN</td>\n      <td>NaN</td>\n      <td>NaN</td>\n      <td>10.0</td>\n      <td>Overcast</td>\n      <td>Луцьк</td>\n      <td>Волинська</td>\n      <td>Луцьк</td>\n      <td>Lutsk</td>\n      <td>Волинь</td>\n      <td>3</td>\n      <td>NaN</td>\n      <td>NaN</td>\n      <td>NaN</td>\n      <td>NaN</td>\n      <td>NaN</td>\n      <td>NaN</td>\n      <td>NaN</td>\n      <td>NaT</td>\n      <td>NaT</td>\n      <td>NaT</td>\n      <td>NaT</td>\n      <td>NaT</td>\n      <td>NaT</td>\n      <td>NaN</td>\n      <td>NaN</td>\n      <td>NaN</td>\n      <td>NaT</td>\n      <td>NaN</td>\n      <td>0</td>\n      <td>{'pm': 0.36407798258176394, 'airport': 0.27611...</td>\n      <td>2022-02-24</td>\n      <td>2022-02-25</td>\n      <td>0</td>\n      <td>0</td>\n    </tr>\n    <tr>\n      <th>3</th>\n      <td>Луцьк, Луцький район, Україна</td>\n      <td>2022-02-24</td>\n      <td>1645653600</td>\n      <td>4.9</td>\n      <td>0.7</td>\n      <td>2.6</td>\n      <td>0.0</td>\n      <td>83.7</td>\n      <td>0.118</td>\n      <td>4.17</td>\n      <td>36.9</td>\n      <td>2.8</td>\n      <td>1.0</td>\n      <td>07:13:36</td>\n      <td>17:51:06</td>\n      <td>0.77</td>\n      <td>03:00:00</td>\n      <td>1645664400</td>\n      <td>2.3</td>\n      <td>86.63</td>\n      <td>0.3</td>\n      <td>0.0</td>\n      <td>0.0</td>\n      <td>0.0</td>\n      <td>0.1</td>\n      <td>['snow']</td>\n      <td>23.8</td>\n      <td>13.3</td>\n      <td>295.1</td>\n      <td>1021.0</td>\n      <td>0.1</td>\n      <td>92.0</td>\n      <td>0.0</td>\n      <td>NaN</td>\n      <td>0.0</td>\n      <td>10.0</td>\n      <td>Overcast</td>\n      <td>Луцьк</td>\n      <td>Волинська</td>\n      <td>Луцьк</td>\n      <td>Lutsk</td>\n      <td>Волинь</td>\n      <td>3</td>\n      <td>NaN</td>\n      <td>NaN</td>\n      <td>NaN</td>\n      <td>NaN</td>\n      <td>NaN</td>\n      <td>NaN</td>\n      <td>NaN</td>\n      <td>NaT</td>\n      <td>NaT</td>\n      <td>NaT</td>\n      <td>NaT</td>\n      <td>NaT</td>\n      <td>NaT</td>\n      <td>NaN</td>\n      <td>NaN</td>\n      <td>NaN</td>\n      <td>NaT</td>\n      <td>NaN</td>\n      <td>0</td>\n      <td>{'pm': 0.36407798258176394, 'airport': 0.27611...</td>\n      <td>2022-02-24</td>\n      <td>2022-02-25</td>\n      <td>0</td>\n      <td>0</td>\n    </tr>\n    <tr>\n      <th>4</th>\n      <td>Луцьк, Луцький район, Україна</td>\n      <td>2022-02-24</td>\n      <td>1645653600</td>\n      <td>4.9</td>\n      <td>0.7</td>\n      <td>2.6</td>\n      <td>0.0</td>\n      <td>83.7</td>\n      <td>0.118</td>\n      <td>4.17</td>\n      <td>36.9</td>\n      <td>2.8</td>\n      <td>1.0</td>\n      <td>07:13:36</td>\n      <td>17:51:06</td>\n      <td>0.77</td>\n      <td>04:00:00</td>\n      <td>1645668000</td>\n      <td>1.9</td>\n      <td>87.85</td>\n      <td>0.1</td>\n      <td>0.0</td>\n      <td>0.0</td>\n      <td>0.0</td>\n      <td>0.1</td>\n      <td>['snow']</td>\n      <td>24.5</td>\n      <td>13.3</td>\n      <td>305.8</td>\n      <td>1021.0</td>\n      <td>0.0</td>\n      <td>93.8</td>\n      <td>0.0</td>\n      <td>NaN</td>\n      <td>0.0</td>\n      <td>10.0</td>\n      <td>Overcast</td>\n      <td>Луцьк</td>\n      <td>Волинська</td>\n      <td>Луцьк</td>\n      <td>Lutsk</td>\n      <td>Волинь</td>\n      <td>3</td>\n      <td>NaN</td>\n      <td>NaN</td>\n      <td>NaN</td>\n      <td>NaN</td>\n      <td>NaN</td>\n      <td>NaN</td>\n      <td>NaN</td>\n      <td>NaT</td>\n      <td>NaT</td>\n      <td>NaT</td>\n      <td>NaT</td>\n      <td>NaT</td>\n      <td>NaT</td>\n      <td>NaN</td>\n      <td>NaN</td>\n      <td>NaN</td>\n      <td>NaT</td>\n      <td>NaN</td>\n      <td>0</td>\n      <td>{'pm': 0.36407798258176394, 'airport': 0.27611...</td>\n      <td>2022-02-24</td>\n      <td>2022-02-25</td>\n      <td>0</td>\n      <td>0</td>\n    </tr>\n  </tbody>\n</table>\n</div>"
     },
     "execution_count": 61,
     "metadata": {},
     "output_type": "execute_result"
    }
   ],
   "source": [
    "# Merge isw data to df_weather_v4\n",
    "df_weather_v5 = pd.merge(\n",
    "    df_weather_v4, df_isw[['Keywords','report_date', 'date_tomorrow_datetime', 'ukrainian_holiday', 'russian_holiday']], left_on=\"day_datetime\", right_on=\"report_date\"\n",
    ")\n",
    "df_weather_v5.head(5)"
   ],
   "metadata": {
    "collapsed": false,
    "ExecuteTime": {
     "start_time": "2023-04-08T13:32:11.580765Z",
     "end_time": "2023-04-08T13:32:11.693663Z"
    }
   }
  },
  {
   "cell_type": "code",
   "execution_count": 62,
   "id": "87a10851",
   "metadata": {
    "ExecuteTime": {
     "start_time": "2023-04-08T13:32:11.695662Z",
     "end_time": "2023-04-08T13:32:35.652881Z"
    }
   },
   "outputs": [],
   "source": [
    "# Add holidays to df_weather_v4\n",
    "add_ukrainian_holidays(df_weather_v4, day_datetime_column='day_datetime', column_name='ukrainian_holiday')\n",
    "add_russian_holidays(df_weather_v4, day_datetime_column='day_datetime', column_name='russian_holiday')\n",
    "# add_regions_number_with_alarm(df_weather_v4, column_name='alarmed_regions_count', df_events=df_events_v2)\n",
    "\n",
    "\n",
    "df_weather_v4.head(5)\n",
    "\n",
    "# print(df_weather_v4.shape)\n",
    "# print(df_weather_v4.loc[df_weather_v4['ukrainian_holiday'] == 1].shape)\n",
    "# print(df_weather_v4.loc[df_weather_v4['russian_holiday'] == 1].shape)\n",
    "# #\n",
    "# print(df_weather_v5.shape)\n",
    "# print(df_weather_v5.loc[df_weather_v5['ukrainian_holiday'] == 1].shape)\n",
    "# print(df_weather_v5.loc[df_weather_v5['russian_holiday'] == 1].shape)\n",
    "\n",
    "df_weather_v6 = None\n"
   ]
  },
  {
   "cell_type": "markdown",
   "source": [
    "### Handle categorical data"
   ],
   "metadata": {
    "collapsed": false
   }
  },
  {
   "cell_type": "code",
   "execution_count": 63,
   "outputs": [],
   "source": [
    "%%sql\n",
    "df_weather_v6 << select df.*, alarmed_count.alarmed_regions_count\n",
    "from df_weather_v5 df\n",
    "         inner join (select out.day_datetimeEpoch,\n",
    "                                            out.hour_datetimeEpoch,\n",
    "                                            count(*) as alarmed_regions_count\n",
    "                                    from df_weather_v5 out inner join df_weather_v5 inn\n",
    "                                         on out.day_datetimeEpoch = inn.day_datetimeEpoch and out.hour_datetimeEpoch = inn.hour_datetimeEpoch\n",
    "                                    where inn.is_alarm = 1 and inn.hour_datetimeEpoch\n",
    "                                                               between out.event_start_hour_datetimeEpoch and out.event_start_hour_datetimeEpoch\n",
    "                                    group by out.day_datetimeEpoch, out.hour_datetimeEpoch) as alarmed_count\n",
    "        on df.day_datetimeEpoch = alarmed_count.day_datetimeEpoch and df.hour_datetimeEpoch = alarmed_count.hour_datetimeEpoch;\n"
   ],
   "metadata": {
    "collapsed": false
   }
  },
  {
   "cell_type": "code",
   "execution_count": 64,
   "outputs": [],
   "source": [
    "df_weather_v6.head(10)"
   ],
   "metadata": {
    "collapsed": false
   }
  },
  {
   "cell_type": "code",
   "execution_count": 65,
   "outputs": [
    {
     "data": {
      "text/plain": "    hour_conditions  hour_conditions_code\n0          Overcast                     3\n1  Partially cloudy                     4\n2          Overcast                     3\n3          Overcast                     3\n4          Overcast                     3",
      "text/html": "<div>\n<style scoped>\n    .dataframe tbody tr th:only-of-type {\n        vertical-align: middle;\n    }\n\n    .dataframe tbody tr th {\n        vertical-align: top;\n    }\n\n    .dataframe thead th {\n        text-align: right;\n    }\n</style>\n<table border=\"1\" class=\"dataframe\">\n  <thead>\n    <tr style=\"text-align: right;\">\n      <th></th>\n      <th>hour_conditions</th>\n      <th>hour_conditions_code</th>\n    </tr>\n  </thead>\n  <tbody>\n    <tr>\n      <th>0</th>\n      <td>Overcast</td>\n      <td>3</td>\n    </tr>\n    <tr>\n      <th>1</th>\n      <td>Partially cloudy</td>\n      <td>4</td>\n    </tr>\n    <tr>\n      <th>2</th>\n      <td>Overcast</td>\n      <td>3</td>\n    </tr>\n    <tr>\n      <th>3</th>\n      <td>Overcast</td>\n      <td>3</td>\n    </tr>\n    <tr>\n      <th>4</th>\n      <td>Overcast</td>\n      <td>3</td>\n    </tr>\n  </tbody>\n</table>\n</div>"
     },
     "execution_count": 65,
     "metadata": {},
     "output_type": "execute_result"
    }
   ],
   "source": [
    "\n",
    "df_weather_v4[\"hour_conditions\"] = pd.Categorical(df_weather_v4['hour_conditions'])\n",
    "df_weather_v4[\"hour_conditions_code\"] = df_weather_v4[\"hour_conditions\"].cat.codes\n",
    "#\n",
    "df_weather_v5[\"hour_conditions\"] = pd.Categorical(df_weather_v5['hour_conditions'])\n",
    "# df_weather_v5[\"hour_conditions\"].astype('category')\n",
    "# weather_condition_categories = df_weather_v5[\"hour_conditions\"].cat.categories.values\n",
    "# weather_condition_categories\n",
    "df_weather_v5[\"hour_conditions_code\"] = df_weather_v5[\"hour_conditions\"].cat.codes\n",
    "df_weather_v5[[\"hour_conditions\", \"hour_conditions_code\"]].head(5)"
   ],
   "metadata": {
    "collapsed": false,
    "ExecuteTime": {
     "start_time": "2023-04-08T13:32:40.861410Z",
     "end_time": "2023-04-08T13:32:40.922797Z"
    }
   }
  },
  {
   "cell_type": "markdown",
   "source": [
    "### Save final merged dataframe"
   ],
   "metadata": {
    "collapsed": false
   }
  },
  {
   "cell_type": "code",
   "execution_count": 66,
   "id": "f1a432d4",
   "metadata": {
    "ExecuteTime": {
     "start_time": "2023-04-08T13:32:40.885795Z",
     "end_time": "2023-04-08T13:32:45.661014Z"
    }
   },
   "outputs": [],
   "source": [
    "df_weather_v4.to_csv(\n",
    "    f\"{OUTPUT_FOLDER}/{WEATHER_EVENTS_OUTPUT_DATA_FILE}\", sep=\";\", index=False\n",
    ")"
   ]
  },
  {
   "cell_type": "code",
   "execution_count": 67,
   "outputs": [],
   "source": [
    "# Uncomment to save final merged dataset ~4G\n",
    "# df_weather_v5.to_csv(\n",
    "#     f\"{OUTPUT_FOLDER}/all_hourly_weather_events_final.csv\", sep=\";\", index=False\n",
    "# )"
   ],
   "metadata": {
    "collapsed": false,
    "ExecuteTime": {
     "start_time": "2023-04-08T13:32:44.747546Z",
     "end_time": "2023-04-08T13:32:45.661014Z"
    }
   }
  },
  {
   "cell_type": "markdown",
   "source": [
    "### Test LinearRegression"
   ],
   "metadata": {
    "collapsed": false
   }
  },
  {
   "cell_type": "code",
   "execution_count": 68,
   "outputs": [
    {
     "name": "stdout",
     "output_type": "stream",
     "text": [
      "0.7357812097367479\n"
     ]
    }
   ],
   "source": [
    "import numpy as np\n",
    "\n",
    "from sklearn.model_selection import train_test_split\n",
    "\n",
    "from sklearn.linear_model import LinearRegression\n",
    "\n",
    "df_final = df_weather_v4\n",
    "\n",
    "# Fill NaN values\n",
    "df_final[['event_all_region']] = df_final[['event_all_region']].fillna(value=0)\n",
    "\n",
    "# Separating the data into independent and dependent variables\n",
    "# Converting each dataframe into a numpy array\n",
    "X = np.array(df_final[['region_id', 'event_all_region', 'day_datetimeEpoch', 'hour_datetimeEpoch', 'ukrainian_holiday', 'russian_holiday', 'hour_temp', 'hour_snow', 'hour_visibility', 'hour_conditions_code']])\n",
    "y = np.array(df_final['is_alarm'])\n",
    "\n",
    "# Dropping any rows with Nan values\n",
    "# df_final.dropna(inplace = True)\n",
    "\n",
    "# Splitting the data into training and testing data\n",
    "X_train, X_test, y_train, y_test = train_test_split(X, y, test_size=0.25, random_state=101)\n",
    "\n",
    "# LinerRegression\n",
    "regr = LinearRegression()\n",
    "#\n",
    "regr.fit(X_train, y_train)\n",
    "#\n",
    "print(regr.score(X_test, y_test))\n",
    "# df_weather_v4 -      0.7357812097367479\n",
    "# df_weather_v5 -      0.728836911878402\n",
    "# hours with no alarm - 0.7475497734309323\n"
   ],
   "metadata": {
    "collapsed": false,
    "ExecuteTime": {
     "start_time": "2023-04-08T13:32:44.749059Z",
     "end_time": "2023-04-08T13:32:45.661014Z"
    }
   }
  },
  {
   "cell_type": "code",
   "execution_count": 68,
   "outputs": [],
   "source": [],
   "metadata": {
    "collapsed": false,
    "ExecuteTime": {
     "start_time": "2023-04-08T13:32:45.408399Z",
     "end_time": "2023-04-08T13:32:45.661014Z"
    }
   }
  }
 ],
 "metadata": {
  "kernelspec": {
   "display_name": "Python 3 (ipykernel)",
   "language": "python",
   "name": "python3"
  },
  "language_info": {
   "codemirror_mode": {
    "name": "ipython",
    "version": 3
   },
   "file_extension": ".py",
   "mimetype": "text/x-python",
   "name": "python",
   "nbconvert_exporter": "python",
   "pygments_lexer": "ipython3",
   "version": "3.11.2"
  }
 },
 "nbformat": 4,
 "nbformat_minor": 5
}
