{
 "cells": [
  {
   "cell_type": "code",
   "execution_count": null,
   "id": "4ba95462",
   "metadata": {
    "ExecuteTime": {
     "start_time": "2023-04-08T16:24:58.590849Z",
     "end_time": "2023-04-08T16:25:00.432495Z"
    }
   },
   "outputs": [],
   "source": [
    "import datetime\n",
    "import numpy as np\n",
    "import pandas as pd\n",
    "import pickle\n",
    "import os\n",
    "import duckdb\n",
    "\n",
    "from datetime import timedelta\n",
    "\n",
    "from paths_full import *\n",
    "\n",
    "from holidays_feature.holidays_feature import add_ukrainian_holidays\n",
    "from holidays_feature.holidays_feature import add_russian_holidays\n",
    "\n",
    "\n",
    "%load_ext sql\n",
    "%config SqlMagic.autopandas = True\n",
    "%config SqlMagic.feedback = False\n",
    "%config SqlMagic.displaycon = False\n",
    "\n",
    "%sql duckdb:///:memory:"
   ]
  },
  {
   "cell_type": "code",
   "execution_count": null,
   "id": "c5f8b892",
   "metadata": {
    "ExecuteTime": {
     "start_time": "2023-04-08T16:25:00.436690Z",
     "end_time": "2023-04-08T16:25:00.440852Z"
    }
   },
   "outputs": [],
   "source": [
    "pd.set_option(\"display.max_columns\", None)\n",
    "pd.set_option(\"display.max_rows\", None)"
   ]
  },
  {
   "cell_type": "code",
   "execution_count": null,
   "id": "c37b5162",
   "metadata": {
    "ExecuteTime": {
     "start_time": "2023-04-08T16:25:00.444052Z",
     "end_time": "2023-04-08T16:25:00.446002Z"
    }
   },
   "outputs": [],
   "source": [
    "REPORTS_DATA_FILE = \"./results/tfidf.csv\"\n",
    "\n",
    "OUTPUT_FOLDER = \"results\"\n",
    "ISW_OUTPUT_DATA_FILE = \"all_isw.csv\"\n",
    "WEATHER_EVENTS_OUTPUT_DATA_FILE = \"all_hourly_weather_events.csv\"\n",
    "\n",
    "MODEL_FOLDER = \"model\"\n",
    "\n",
    "tfidf_transformer_model = \"tfidf_transformer\"\n",
    "count_vectorizer_model = \"count_vectorizer\"\n",
    "\n",
    "tfidf_transformer_version = \"v1\"\n",
    "count_vectorizer_version = \"v1\""
   ]
  },
  {
   "cell_type": "code",
   "execution_count": null,
   "id": "699f3dc8",
   "metadata": {
    "ExecuteTime": {
     "start_time": "2023-04-08T16:25:00.449351Z",
     "end_time": "2023-04-08T16:25:00.451338Z"
    }
   },
   "outputs": [],
   "source": [
    "def isNaN(num):\n",
    "    return num != num"
   ]
  },
  {
   "cell_type": "markdown",
   "id": "c78b36e9",
   "metadata": {},
   "source": [
    "## reading data"
   ]
  },
  {
   "cell_type": "code",
   "execution_count": null,
   "id": "f2dac73d",
   "metadata": {
    "ExecuteTime": {
     "start_time": "2023-04-08T16:25:00.453971Z",
     "end_time": "2023-04-08T16:25:00.550919Z"
    }
   },
   "outputs": [],
   "source": [
    "df_isw = pd.read_csv(f\"{REPORTS_DATA_FILE}\", sep=\",\")"
   ]
  },
  {
   "cell_type": "code",
   "execution_count": null,
   "id": "028a3a1d",
   "metadata": {
    "ExecuteTime": {
     "start_time": "2023-04-08T16:25:00.598823Z",
     "end_time": "2023-04-08T16:25:00.599856Z"
    }
   },
   "outputs": [],
   "source": [
    "df_isw.head(5)"
   ]
  },
  {
   "cell_type": "markdown",
   "id": "a557a7ed",
   "metadata": {},
   "source": [
    "## preparing ISW reports"
   ]
  },
  {
   "cell_type": "markdown",
   "id": "b08a5bed",
   "metadata": {},
   "source": [
    "## reading models"
   ]
  },
  {
   "cell_type": "code",
   "execution_count": null,
   "id": "d9ddffee",
   "metadata": {
    "ExecuteTime": {
     "start_time": "2023-04-08T16:25:00.599027Z",
     "end_time": "2023-04-08T16:25:00.600002Z"
    }
   },
   "outputs": [],
   "source": [
    "# #load the content\n",
    "# tfidf = pickle.load(open(f\"{MODEL_FOLDER}/{tfidf_transformer_model}_{tfidf_transformer_version}.pkl\", \"rb\"))\n",
    "# cv = pickle.load(open(f\"{MODEL_FOLDER}/{count_vectorizer_model}_{count_vectorizer_version}.pkl\", \"rb\"))"
   ]
  },
  {
   "cell_type": "code",
   "execution_count": null,
   "id": "88a435a4",
   "metadata": {
    "ExecuteTime": {
     "start_time": "2023-04-08T16:25:00.599147Z",
     "end_time": "2023-04-08T16:25:00.600102Z"
    }
   },
   "outputs": [],
   "source": [
    "# df_isw['keywords'] = df_isw['text_preprocessed_lemm'].apply(lambda x: tf_idf.conver_doc_to_vector(x,cv,tfidf))"
   ]
  },
  {
   "cell_type": "code",
   "execution_count": null,
   "id": "6fc96d61",
   "metadata": {
    "ExecuteTime": {
     "start_time": "2023-04-08T16:25:00.599215Z",
     "end_time": "2023-04-08T16:25:00.600197Z"
    }
   },
   "outputs": [],
   "source": [
    "# df_isw.head(5)"
   ]
  },
  {
   "cell_type": "code",
   "execution_count": null,
   "id": "3d09da4f",
   "metadata": {
    "ExecuteTime": {
     "start_time": "2023-04-08T16:25:00.599288Z",
     "end_time": "2023-04-08T16:25:00.600298Z"
    }
   },
   "outputs": [],
   "source": [
    "df_isw[\"date_datetime\"] = pd.to_datetime(df_isw[\"Date\"])"
   ]
  },
  {
   "cell_type": "code",
   "execution_count": null,
   "id": "84625aed",
   "metadata": {
    "ExecuteTime": {
     "start_time": "2023-04-08T16:25:00.599388Z",
     "end_time": "2023-04-08T16:25:00.676413Z"
    }
   },
   "outputs": [],
   "source": [
    "df_isw[\"date_tomorrow_datetime\"] = df_isw[\"date_datetime\"].apply(\n",
    "    lambda x: x + datetime.timedelta(days=1)\n",
    ")\n",
    "df_isw[\"event_time\"] = np.nan"
   ]
  },
  {
   "cell_type": "code",
   "execution_count": null,
   "id": "6c9524e5",
   "metadata": {
    "ExecuteTime": {
     "start_time": "2023-04-08T16:25:00.642901Z",
     "end_time": "2023-04-08T16:25:00.729291Z"
    }
   },
   "outputs": [],
   "source": [
    "df_isw = df_isw.rename(columns={\"date_datetime\": \"report_date\"})\n",
    "df_isw.to_csv(f\"{OUTPUT_FOLDER}/{ISW_OUTPUT_DATA_FILE}\", sep=\";\", index=False)"
   ]
  },
  {
   "cell_type": "code",
   "execution_count": null,
   "id": "f861134e",
   "metadata": {
    "ExecuteTime": {
     "start_time": "2023-04-08T16:25:00.730739Z",
     "end_time": "2023-04-08T16:25:00.828718Z"
    }
   },
   "outputs": [],
   "source": [
    "# Add holidays data to df_isw\n",
    "add_ukrainian_holidays(df_isw, day_datetime_column='report_date', column_name='ukrainian_holiday')\n",
    "add_russian_holidays(df_isw, day_datetime_column='report_date', column_name='russian_holiday')\n",
    "# df_isw.loc[df_isw['ukrainian_holiday'] == 1]"
   ]
  },
  {
   "cell_type": "code",
   "execution_count": null,
   "id": "26f97f8d",
   "metadata": {
    "ExecuteTime": {
     "start_time": "2023-04-08T16:25:00.828633Z",
     "end_time": "2023-04-08T16:25:00.828888Z"
    },
    "collapsed": false
   },
   "outputs": [],
   "source": [
    "# df_isw.where(df_isw['ukrainian_holiday'] == 1)\n",
    "# df_isw.sample(5)\n",
    "# df_isw.loc[df_isw['ukrainian_holiday'] == 0].shape\n",
    "# df_isw.shape\n",
    "# df_isw.loc[df_isw['russian_holiday'] == 1]\n",
    "# df_isw.loc[df_isw['ukrainian_holiday'] == 1]"
   ]
  },
  {
   "cell_type": "markdown",
   "id": "3b306d5f",
   "metadata": {},
   "source": [
    "## prepare events data"
   ]
  },
  {
   "cell_type": "code",
   "execution_count": null,
   "id": "25edb612",
   "metadata": {
    "ExecuteTime": {
     "start_time": "2023-04-08T16:25:00.828699Z",
     "end_time": "2023-04-08T16:25:00.878731Z"
    }
   },
   "outputs": [],
   "source": [
    "df_events = pd.read_csv(f\"{ALARMS_DATA_FILE}\", sep=\";\")"
   ]
  },
  {
   "cell_type": "code",
   "execution_count": null,
   "id": "f1d9e1cd",
   "metadata": {
    "ExecuteTime": {
     "start_time": "2023-04-08T16:25:00.875531Z",
     "end_time": "2023-04-08T16:25:00.878979Z"
    }
   },
   "outputs": [],
   "source": [
    "df_events_v2 = df_events.drop([\"id\", \"region_id\"], axis=1)\n",
    "df_events_v2[\"event_time\"] = np.nan"
   ]
  },
  {
   "cell_type": "code",
   "execution_count": null,
   "id": "07ff2ea6",
   "metadata": {
    "ExecuteTime": {
     "start_time": "2023-04-08T16:25:00.878377Z",
     "end_time": "2023-04-08T16:25:00.924150Z"
    }
   },
   "outputs": [],
   "source": [
    "df_events_v2.head(5)\n",
    "df_events_v2.shape"
   ]
  },
  {
   "cell_type": "code",
   "execution_count": null,
   "id": "47131ae1",
   "metadata": {
    "ExecuteTime": {
     "start_time": "2023-04-08T16:25:00.918961Z",
     "end_time": "2023-04-08T16:25:00.924279Z"
    }
   },
   "outputs": [],
   "source": [
    "# df_events_v2[\"start_time\"] = df_events_v2.apply(lambda x: x[\"start\"] if not isNaN(x[\"start\"]) else x[\"event_time\"] , axis=1)\n",
    "# df_events_v2[\"end_time\"] = df_events_v2.apply(lambda x: x[\"end\"] if not isNaN(x[\"end\"]) else x[\"event_time\"], axis=1)"
   ]
  },
  {
   "cell_type": "code",
   "execution_count": null,
   "id": "3b0a9a3e",
   "metadata": {
    "ExecuteTime": {
     "start_time": "2023-04-08T16:25:00.919066Z",
     "end_time": "2023-04-08T16:25:00.924357Z"
    }
   },
   "outputs": [],
   "source": [
    "df_events_v2[\"start_time\"] = pd.to_datetime(df_events_v2[\"start\"])\n",
    "df_events_v2[\"end_time\"] = pd.to_datetime(df_events_v2[\"end\"])\n",
    "df_events_v2[\"event_time\"] = pd.to_datetime(df_events_v2[\"event_time\"])"
   ]
  },
  {
   "cell_type": "code",
   "execution_count": null,
   "id": "ef3ca6ca",
   "metadata": {
    "ExecuteTime": {
     "start_time": "2023-04-08T16:25:00.966731Z",
     "end_time": "2023-04-08T16:25:00.986945Z"
    }
   },
   "outputs": [],
   "source": [
    "df_events_v2[\"start_hour\"] = df_events_v2[\"start_time\"].dt.floor(\"H\")\n",
    "df_events_v2[\"end_hour\"] = df_events_v2[\"end_time\"].dt.ceil(\"H\")\n",
    "df_events_v2[\"event_hour\"] = df_events_v2[\"event_time\"].dt.round(\"H\")"
   ]
  },
  {
   "cell_type": "code",
   "execution_count": null,
   "id": "a81033f5",
   "metadata": {
    "ExecuteTime": {
     "start_time": "2023-04-08T16:25:00.966923Z",
     "end_time": "2023-04-08T16:25:01.756278Z"
    }
   },
   "outputs": [],
   "source": [
    "df_events_v2[\"start_hour\"] = df_events_v2.apply(\n",
    "    lambda x: x[\"start_hour\"] if not isNaN(x[\"start_hour\"]) else x[\"event_hour\"], axis=1\n",
    ")\n",
    "df_events_v2[\"end_hour\"] = df_events_v2.apply(\n",
    "    lambda x: x[\"end_hour\"] if not isNaN(x[\"end_hour\"]) else x[\"event_hour\"], axis=1\n",
    ")"
   ]
  },
  {
   "cell_type": "code",
   "execution_count": null,
   "id": "71b0f0d4",
   "metadata": {
    "ExecuteTime": {
     "start_time": "2023-04-08T16:25:01.797016Z",
     "end_time": "2023-04-08T16:25:01.893038Z"
    }
   },
   "outputs": [],
   "source": [
    "df_events_v2[\"day_date\"] = df_events_v2[\"start_time\"].dt.date\n",
    "\n",
    "df_events_v2.head(10)\n",
    "\n",
    "df_events_v2[\"start_hour_datetimeEpoch\"] = df_events_v2[\"start_hour\"].apply(\n",
    "    lambda x: int(x.timestamp()) if not isNaN(x) else None\n",
    ")\n",
    "df_events_v2[\"end_hour_datetimeEpoch\"] = df_events_v2[\"end_hour\"].apply(\n",
    "    lambda x: int(x.timestamp()) if not isNaN(x) else None\n",
    ")\n",
    "\n",
    "# df_events_v2.head(10)"
   ]
  },
  {
   "cell_type": "code",
   "execution_count": null,
   "id": "eb0bcc6b",
   "metadata": {
    "ExecuteTime": {
     "start_time": "2023-04-08T16:25:01.893524Z",
     "end_time": "2023-04-08T16:25:01.897892Z"
    }
   },
   "outputs": [],
   "source": [
    "# df_events_v2[~(df_events_v2[\"type\"]==\"alarm\")].shape"
   ]
  },
  {
   "cell_type": "code",
   "execution_count": null,
   "id": "1a38b3c1",
   "metadata": {
    "ExecuteTime": {
     "start_time": "2023-04-08T16:25:01.900526Z",
     "end_time": "2023-04-08T16:25:01.971030Z"
    }
   },
   "outputs": [],
   "source": [
    "# df_events_v2[~(df_events_v2[\"type\"]==\"alarm\")].head(5)"
   ]
  },
  {
   "cell_type": "code",
   "execution_count": null,
   "id": "6e7ebd70",
   "metadata": {
    "ExecuteTime": {
     "start_time": "2023-04-08T16:25:01.945421Z",
     "end_time": "2023-04-08T16:25:01.971265Z"
    }
   },
   "outputs": [],
   "source": [
    "# df_events_v2[df_events_v2[\"type\"]==\"alarm\"].shape"
   ]
  },
  {
   "cell_type": "markdown",
   "id": "86c852f0",
   "metadata": {},
   "source": [
    "## prepare weather"
   ]
  },
  {
   "cell_type": "code",
   "execution_count": null,
   "id": "a0a04cfc",
   "metadata": {
    "ExecuteTime": {
     "start_time": "2023-04-08T16:25:01.945527Z",
     "end_time": "2023-04-08T16:25:03.345936Z"
    }
   },
   "outputs": [],
   "source": [
    "df_weather = pd.read_csv(f\"{WEATHER_DATA_FILE}\")\n",
    "df_weather[\"day_datetime\"] = pd.to_datetime(df_weather[\"day_datetime\"])"
   ]
  },
  {
   "cell_type": "code",
   "execution_count": null,
   "id": "0e649d36",
   "metadata": {
    "ExecuteTime": {
     "start_time": "2023-04-08T16:25:03.347567Z",
     "end_time": "2023-04-08T16:25:03.350849Z"
    }
   },
   "outputs": [],
   "source": [
    "df_weather.shape"
   ]
  },
  {
   "cell_type": "code",
   "execution_count": null,
   "id": "0f182f8e",
   "metadata": {
    "ExecuteTime": {
     "start_time": "2023-04-08T16:25:03.367258Z",
     "end_time": "2023-04-08T16:25:03.435273Z"
    }
   },
   "outputs": [],
   "source": [
    "df_weather.head(15)"
   ]
  },
  {
   "cell_type": "code",
   "execution_count": null,
   "id": "defcbb4d",
   "metadata": {
    "ExecuteTime": {
     "start_time": "2023-04-08T16:25:03.433917Z",
     "end_time": "2023-04-08T16:25:03.435436Z"
    }
   },
   "outputs": [],
   "source": [
    "# len(clmns)"
   ]
  },
  {
   "cell_type": "code",
   "execution_count": null,
   "id": "b2d92e99",
   "metadata": {
    "ExecuteTime": {
     "start_time": "2023-04-08T16:24:36.461455Z",
     "end_time": "2023-04-08T16:25:03.435500Z"
    }
   },
   "outputs": [],
   "source": [
    "# exclude\n",
    "weather_exclude = [\n",
    "    \"day_feelslikemax\",\n",
    "    \"day_feelslikemin\",\n",
    "    \"day_sunriseEpoch\",\n",
    "    \"day_sunsetEpoch\",\n",
    "    \"day_description\",\n",
    "    \"city_latitude\",\n",
    "    \"city_longitude\",\n",
    "    \"city_address\",\n",
    "    \"city_timezone\",\n",
    "    \"city_tzoffset\",\n",
    "    \"day_feelslike\",\n",
    "    \"day_precipprob\",\n",
    "    \"day_snow\",\n",
    "    \"day_snowdepth\",\n",
    "    \"day_windgust\",\n",
    "    \"day_windspeed\",\n",
    "    \"day_winddir\",\n",
    "    \"day_pressure\",\n",
    "    \"day_cloudcover\",\n",
    "    \"day_visibility\",\n",
    "    \"day_severerisk\",\n",
    "    \"day_conditions\",\n",
    "    \"day_icon\",\n",
    "    \"day_source\",\n",
    "    \"day_preciptype\",\n",
    "    \"day_stations\",\n",
    "    \"hour_icon\",\n",
    "    \"hour_source\",\n",
    "    \"hour_stations\",\n",
    "    \"hour_feelslike\",\n",
    "]"
   ]
  },
  {
   "cell_type": "code",
   "execution_count": null,
   "id": "95e9c9b9",
   "metadata": {
    "ExecuteTime": {
     "start_time": "2023-04-08T16:24:36.461466Z",
     "end_time": "2023-04-08T16:25:03.437334Z"
    }
   },
   "outputs": [],
   "source": [
    "# new_list = [x for x in clmns if (x not in weather_exclude)]\n",
    "# new_list"
   ]
  },
  {
   "cell_type": "code",
   "execution_count": null,
   "id": "0ce0ab81",
   "metadata": {
    "ExecuteTime": {
     "start_time": "2023-04-08T16:25:03.486825Z",
     "end_time": "2023-04-08T16:25:03.537114Z"
    }
   },
   "outputs": [],
   "source": [
    "df_weather_v2 = df_weather.drop(weather_exclude, axis=1)"
   ]
  },
  {
   "cell_type": "code",
   "execution_count": null,
   "id": "9fd632b4",
   "metadata": {
    "ExecuteTime": {
     "start_time": "2023-04-08T16:25:03.486887Z",
     "end_time": "2023-04-08T16:25:03.557731Z"
    }
   },
   "outputs": [],
   "source": [
    "df_weather_v2[\"city\"] = df_weather_v2[\"city_resolvedAddress\"].apply(\n",
    "    lambda x: x.split(\",\")[0]\n",
    ")\n",
    "df_weather_v2[\"city\"] = df_weather_v2[\"city\"].replace(\n",
    "    \"Хмельницька область\", \"Хмельницький\"\n",
    ")"
   ]
  },
  {
   "cell_type": "code",
   "execution_count": null,
   "id": "453ac798",
   "metadata": {
    "ExecuteTime": {
     "start_time": "2023-04-08T16:25:03.560443Z",
     "end_time": "2023-04-08T16:25:03.603276Z"
    },
    "scrolled": true
   },
   "outputs": [],
   "source": [
    "df_weather_v2.head(5)"
   ]
  },
  {
   "cell_type": "code",
   "execution_count": null,
   "id": "3136f5e6",
   "metadata": {
    "ExecuteTime": {
     "start_time": "2023-04-08T16:25:03.602946Z",
     "end_time": "2023-04-08T16:25:03.603489Z"
    }
   },
   "outputs": [],
   "source": [
    "df_weather_v2.shape"
   ]
  },
  {
   "cell_type": "markdown",
   "id": "0659498e",
   "metadata": {},
   "source": [
    "## merging data"
   ]
  },
  {
   "cell_type": "code",
   "execution_count": null,
   "id": "a3ad87a3",
   "metadata": {
    "ExecuteTime": {
     "start_time": "2023-04-08T16:25:03.603062Z",
     "end_time": "2023-04-08T16:25:03.603609Z"
    }
   },
   "outputs": [],
   "source": [
    "REGIONS_DATA_FOLDER = \"../external_data/additions\"\n",
    "REGIONS_DATA_FILE = \"regions.csv\"\n",
    "df_regions = pd.read_csv(f\"{REGIONS_DATA_FOLDER}/{REGIONS_DATA_FILE}\")"
   ]
  },
  {
   "cell_type": "code",
   "execution_count": null,
   "id": "7975da08",
   "metadata": {
    "ExecuteTime": {
     "start_time": "2023-04-08T16:25:03.603107Z",
     "end_time": "2023-04-08T16:25:03.603749Z"
    }
   },
   "outputs": [],
   "source": [
    "df_regions.head(5)"
   ]
  },
  {
   "cell_type": "code",
   "execution_count": null,
   "id": "9bdb0c29",
   "metadata": {
    "ExecuteTime": {
     "start_time": "2023-04-08T16:25:03.603198Z",
     "end_time": "2023-04-08T16:25:03.695041Z"
    }
   },
   "outputs": [],
   "source": [
    "df_weather_reg = pd.merge(\n",
    "    df_weather_v2, df_regions, left_on=\"city\", right_on=\"center_city_ua\"\n",
    ")"
   ]
  },
  {
   "cell_type": "code",
   "execution_count": null,
   "id": "e732c138",
   "metadata": {
    "ExecuteTime": {
     "start_time": "2023-04-08T16:25:03.666367Z",
     "end_time": "2023-04-08T16:25:03.756844Z"
    }
   },
   "outputs": [],
   "source": [
    "df_weather_reg.head(10)"
   ]
  },
  {
   "cell_type": "code",
   "execution_count": null,
   "id": "ad392ddf",
   "metadata": {
    "ExecuteTime": {
     "start_time": "2023-04-08T16:25:03.691814Z",
     "end_time": "2023-04-08T16:25:03.757099Z"
    }
   },
   "outputs": [],
   "source": [
    "df_weather_reg.shape"
   ]
  },
  {
   "cell_type": "code",
   "execution_count": null,
   "id": "13e88911",
   "metadata": {
    "ExecuteTime": {
     "start_time": "2023-04-08T16:25:03.691924Z",
     "end_time": "2023-04-08T16:25:03.757301Z"
    }
   },
   "outputs": [],
   "source": [
    "df_weather_v2.shape"
   ]
  },
  {
   "cell_type": "markdown",
   "id": "fadce0fe",
   "metadata": {},
   "source": [
    "### Merging weather and events"
   ]
  },
  {
   "cell_type": "code",
   "execution_count": null,
   "id": "84412a7d",
   "metadata": {
    "ExecuteTime": {
     "start_time": "2023-04-08T16:25:03.693417Z",
     "end_time": "2023-04-08T16:25:03.803883Z"
    }
   },
   "outputs": [],
   "source": [
    "# df_events_v2[\"start_hour_datetimeEpoch\"] = df_events_v2['start_hour'].apply(lambda x: int(x.strftime('%s'))  if not isNaN(x) else 0)\n",
    "# df_events_v2[\"end_hour_datetimeEpoch\"] = df_events_v2['end_hour'].apply(lambda x: int(x.strftime('%s'))  if not isNaN(x) else 0)"
   ]
  },
  {
   "cell_type": "code",
   "execution_count": null,
   "id": "37b962b1",
   "metadata": {
    "ExecuteTime": {
     "start_time": "2023-04-08T16:25:03.734884Z",
     "end_time": "2023-04-08T16:25:03.804353Z"
    }
   },
   "outputs": [],
   "source": [
    "df_events_v2.dtypes"
   ]
  },
  {
   "cell_type": "code",
   "execution_count": null,
   "id": "fd62824f",
   "metadata": {
    "ExecuteTime": {
     "start_time": "2023-04-08T16:25:03.735003Z",
     "end_time": "2023-04-08T16:25:03.804643Z"
    }
   },
   "outputs": [],
   "source": [
    "df_events_v2.shape"
   ]
  },
  {
   "cell_type": "code",
   "execution_count": null,
   "id": "29cb459c",
   "metadata": {
    "ExecuteTime": {
     "start_time": "2023-04-08T16:25:03.735113Z",
     "end_time": "2023-04-08T16:25:03.804897Z"
    }
   },
   "outputs": [],
   "source": [
    "df_events_v2.head(10)"
   ]
  },
  {
   "cell_type": "code",
   "execution_count": null,
   "id": "9991fde1",
   "metadata": {
    "ExecuteTime": {
     "start_time": "2023-04-08T16:25:03.735371Z",
     "end_time": "2023-04-08T16:25:04.025858Z"
    }
   },
   "outputs": [],
   "source": [
    "# df_events_v2_sample = df_events_v2.sample(10)\n",
    "# df_events_v2_sample.shape\n",
    "\n",
    "events_dict = df_events_v2.to_dict(\"records\")\n",
    "events_by_hour = []"
   ]
  },
  {
   "cell_type": "code",
   "execution_count": null,
   "id": "4ed1ff39",
   "metadata": {
    "ExecuteTime": {
     "start_time": "2023-04-08T16:25:03.984703Z",
     "end_time": "2023-04-08T16:25:04.027618Z"
    }
   },
   "outputs": [],
   "source": [
    "events_dict[0]"
   ]
  },
  {
   "cell_type": "code",
   "execution_count": null,
   "id": "a3af9259",
   "metadata": {
    "ExecuteTime": {
     "start_time": "2023-04-08T16:25:04.343485Z",
     "end_time": "2023-04-08T16:25:06.902271Z"
    },
    "collapsed": false
   },
   "outputs": [],
   "source": [
    "for event in events_dict:\n",
    "    for d in pd.date_range(start=event[\"start_hour\"], end=event[\"end_hour\"], freq=\"1H\"):\n",
    "        et = event.copy()\n",
    "        et[\"hour_level_event_time\"] = d\n",
    "        events_by_hour.append(et)"
   ]
  },
  {
   "cell_type": "code",
   "execution_count": null,
   "id": "5af28792",
   "metadata": {
    "ExecuteTime": {
     "start_time": "2023-04-08T16:25:06.934041Z",
     "end_time": "2023-04-08T16:25:07.571939Z"
    },
    "collapsed": false
   },
   "outputs": [],
   "source": [
    "df_events_v3 = pd.DataFrame.from_dict(events_by_hour)\n",
    "df_events_v3[\"hour_level_event_datetimeEpoch\"] = df_events_v3[\n",
    "    \"hour_level_event_time\"\n",
    "].apply(lambda x: int(x.timestamp()) if not isNaN(x) else None)"
   ]
  },
  {
   "cell_type": "code",
   "execution_count": null,
   "id": "33b3c316",
   "metadata": {
    "ExecuteTime": {
     "start_time": "2023-04-08T16:25:07.574380Z",
     "end_time": "2023-04-08T16:25:07.579068Z"
    }
   },
   "outputs": [],
   "source": [
    "df_events_v3.shape"
   ]
  },
  {
   "cell_type": "code",
   "execution_count": null,
   "id": "85c85f84",
   "metadata": {
    "ExecuteTime": {
     "start_time": "2023-04-08T16:25:07.580003Z",
     "end_time": "2023-04-08T16:25:07.625086Z"
    }
   },
   "outputs": [],
   "source": [
    "df_events_v3.head(15)"
   ]
  },
  {
   "cell_type": "code",
   "execution_count": null,
   "id": "aa796999",
   "metadata": {
    "ExecuteTime": {
     "start_time": "2023-04-08T16:25:07.599327Z",
     "end_time": "2023-04-08T16:25:07.635541Z"
    }
   },
   "outputs": [],
   "source": [
    "df_weather_reg.head(5)"
   ]
  },
  {
   "cell_type": "code",
   "execution_count": null,
   "id": "7be3ae80",
   "metadata": {
    "ExecuteTime": {
     "start_time": "2023-04-08T16:25:07.638856Z",
     "end_time": "2023-04-08T16:25:07.734100Z"
    }
   },
   "outputs": [],
   "source": [
    "df_weather_reg.shape"
   ]
  },
  {
   "cell_type": "code",
   "execution_count": null,
   "id": "85b4f508",
   "metadata": {
    "ExecuteTime": {
     "start_time": "2023-04-08T16:25:07.682805Z",
     "end_time": "2023-04-08T16:25:07.789238Z"
    }
   },
   "outputs": [],
   "source": [
    "df_events_v3.head(10)\n",
    "df_weather_reg.head(10)"
   ]
  },
  {
   "cell_type": "code",
   "execution_count": null,
   "id": "cfc7e841",
   "metadata": {
    "ExecuteTime": {
     "start_time": "2023-04-08T16:25:07.718315Z",
     "end_time": "2023-04-08T16:25:07.789442Z"
    }
   },
   "outputs": [],
   "source": [
    "df_events_v4 = df_events_v3.copy().add_prefix(\"event_\")\n",
    "df_events_v4.head(10)"
   ]
  },
  {
   "cell_type": "code",
   "execution_count": null,
   "id": "7c35dc66",
   "metadata": {
    "ExecuteTime": {
     "start_time": "2023-04-08T16:25:07.733400Z",
     "end_time": "2023-04-08T16:25:07.928551Z"
    }
   },
   "outputs": [],
   "source": [
    "df_weather_v4 = df_weather_reg.merge(\n",
    "    df_events_v4,\n",
    "    how=\"left\",\n",
    "    left_on=[\"region_alt\", \"hour_datetimeEpoch\"],\n",
    "    right_on=[\"event_region_title\", \"event_hour_level_event_datetimeEpoch\"],\n",
    ")"
   ]
  },
  {
   "cell_type": "code",
   "execution_count": null,
   "id": "ea0266bb",
   "metadata": {
    "ExecuteTime": {
     "start_time": "2023-04-08T16:25:07.867024Z",
     "end_time": "2023-04-08T16:25:10.467036Z"
    }
   },
   "outputs": [],
   "source": [
    "# Alarm data\n",
    "print(df_weather_v4.loc[~ isNaN(df_weather_v4['event_start'])].shape)\n",
    "print(df_weather_v4.loc[isNaN(df_weather_v4['event_start'])].shape)\n",
    "df_weather_v4['is_alarm'] = df_weather_v4.apply(lambda x: 0 if isNaN(x['event_start']) else 1, axis=1)\n",
    "no_alarms = df_weather_v4.loc[df_weather_v4['is_alarm'] == 0].size\n",
    "alarms = df_weather_v4.loc[df_weather_v4['is_alarm'] == 1].size\n",
    "print(f\"Alarm chane: {alarms / df_weather_v4.size}\")\n",
    "print(f\"No alarm: {no_alarms / df_weather_v4.size}\")\n",
    "# df_weather_v4.sample(5)"
   ]
  },
  {
   "cell_type": "code",
   "execution_count": null,
   "id": "de89b6e1",
   "metadata": {
    "ExecuteTime": {
     "start_time": "2023-04-08T16:25:10.494186Z",
     "end_time": "2023-04-08T16:25:10.652924Z"
    }
   },
   "outputs": [],
   "source": [
    "# Merge isw data to df_weather_v4\n",
    "df_weather_v5 = pd.merge(\n",
    "    df_weather_v4,\n",
    "    df_isw[\n",
    "        [\n",
    "            \"Keywords\",\n",
    "            \"report_date\",\n",
    "            \"date_tomorrow_datetime\",\n",
    "            \"ukrainian_holiday\",\n",
    "            \"russian_holiday\",\n",
    "        ]\n",
    "    ],\n",
    "    left_on=\"day_datetime\",\n",
    "    right_on=\"report_date\",\n",
    ")\n",
    "\n",
    "print(df_weather_v5.shape)\n",
    "\n",
    "df_weather_v6 = None\n",
    "df_weather_v5[df_weather_v5[\"event_start_time\"] > pd.to_datetime(0)].head(5)"
   ]
  },
  {
   "cell_type": "code",
   "execution_count": null,
   "outputs": [],
   "source": [
    "df_weather_v5.to_csv(f\"./results/df_v5.csv\")"
   ],
   "metadata": {
    "collapsed": false,
    "ExecuteTime": {
     "start_time": "2023-04-08T16:25:10.653779Z",
     "end_time": "2023-04-08T16:26:17.014435Z"
    }
   }
  },
  {
   "attachments": {},
   "cell_type": "markdown",
   "id": "971ff2a9",
   "metadata": {},
   "source": [
    "## Feature engineering"
   ]
  },
  {
   "attachments": {},
   "cell_type": "markdown",
   "id": "1762cfc0",
   "metadata": {},
   "source": [
    "### Number of alarms for this region during the last 24 hours"
   ]
  },
  {
   "attachments": {},
   "cell_type": "markdown",
   "id": "f1cddc4d",
   "metadata": {},
   "source": [
    "Use DuckDB for analytics as running with Pandas and Python taking too long."
   ]
  },
  {
   "cell_type": "code",
   "execution_count": null,
   "id": "687ca005",
   "metadata": {
    "ExecuteTime": {
     "start_time": "2023-04-08T16:28:44.586762Z",
     "end_time": "2023-04-08T16:29:51.671425Z"
    }
   },
   "outputs": [],
   "source": [
    "%%sql\n",
    "df_weather_v6 << select df.*, coalesce(alarm_count.events_last_24_hrs, 0) as events_last_24_hrs\n",
    "from df_weather_v5 df\n",
    "         left join (select out.region_id,\n",
    "                            out.hour_datetimeEpoch,\n",
    "                            count(inn.event_start_time) as events_last_24_hrs\n",
    "                     from df_weather_v5 out\n",
    "                              left join df_weather_v5 inn\n",
    "                                         on out.region_id = inn.region_id\n",
    "                     where\n",
    "                       inn.event_start_time::timestamp\n",
    "                        between\n",
    "                        (epoch_ms(out.hour_datetimeEpoch::long * 1000) - '24 HOURS'::interval)\n",
    "                            and epoch_ms(out.hour_datetimeEpoch::long * 1000)\n",
    "                     group by out.region_id, out.hour_datetimeEpoch) as alarm_count\n",
    "        on df.region_id = alarm_count.region_id and df.hour_datetimeEpoch = alarm_count.hour_datetimeEpoch;"
   ]
  },
  {
   "cell_type": "code",
   "execution_count": null,
   "id": "3d01d5b5",
   "metadata": {
    "ExecuteTime": {
     "start_time": "2023-04-08T16:29:51.671031Z",
     "end_time": "2023-04-08T16:29:51.678946Z"
    }
   },
   "outputs": [],
   "source": [
    "print(df_weather_v6.shape)\n",
    "\n",
    "df_weather_v6[['city_resolvedAddress', 'region_id', 'hour_datetimeEpoch', 'events_last_24_hrs']].tail(300)"
   ]
  },
  {
   "cell_type": "code",
   "execution_count": null,
   "id": "70d5a6d6",
   "metadata": {
    "ExecuteTime": {
     "start_time": "2023-04-08T16:29:51.935758Z",
     "end_time": "2023-04-08T16:29:53.448422Z"
    }
   },
   "outputs": [],
   "source": [
    "# Add day of week name\n",
    "df_weather_v6[\"day_of_week\"] = df_weather_v6[\"day_datetime\"].apply(\n",
    "    lambda date: pd.to_datetime(date).day_name()\n",
    ")\n",
    "\n",
    "df_weather_v6[[\"day_datetime\", \"day_of_week\"]].head(10)"
   ]
  },
  {
   "cell_type": "code",
   "execution_count": null,
   "id": "ec7d34a3",
   "metadata": {
    "ExecuteTime": {
     "start_time": "2023-04-08T16:29:53.453332Z",
     "end_time": "2023-04-08T16:29:54.107866Z"
    }
   },
   "outputs": [],
   "source": [
    "# Encode days of week into one hot encoding for linear regression\n",
    "df_weather_v6 = pd.get_dummies(\n",
    "    df_weather_v6, columns=[\"day_of_week\"], prefix=[\"day_of_week\"]\n",
    ")\n",
    "\n",
    "df_weather_v6[\n",
    "    [\n",
    "        \"day_datetime\",\n",
    "        \"day_of_week_Monday\",\n",
    "        \"day_of_week_Tuesday\",\n",
    "        \"day_of_week_Wednesday\",\n",
    "        \"day_of_week_Thursday\",\n",
    "        \"day_of_week_Friday\",\n",
    "        \"day_of_week_Saturday\",\n",
    "        \"day_of_week_Sunday\",\n",
    "    ]\n",
    "].head(10)"
   ]
  },
  {
   "cell_type": "code",
   "execution_count": null,
   "id": "6cd12c73",
   "metadata": {
    "ExecuteTime": {
     "start_time": "2023-04-08T16:29:54.114336Z",
     "end_time": "2023-04-08T16:30:27.860560Z"
    }
   },
   "outputs": [],
   "source": [
    "# Add holidays to df_weather_v6\n",
    "add_ukrainian_holidays(\n",
    "    df_weather_v6, day_datetime_column=\"day_datetime\", column_name=\"ukrainian_holiday\"\n",
    ")\n",
    "add_russian_holidays(\n",
    "    df_weather_v6, day_datetime_column=\"day_datetime\", column_name=\"russian_holiday\"\n",
    ")\n",
    "#\n",
    "print(df_weather_v6.shape)\n",
    "print(df_weather_v6.loc[df_weather_v6[\"ukrainian_holiday\"] == 1].shape)\n",
    "print(df_weather_v6.loc[df_weather_v6[\"russian_holiday\"] == 1].shape)"
   ]
  },
  {
   "cell_type": "markdown",
   "id": "9aade1ad",
   "metadata": {
    "collapsed": false
   },
   "source": [
    "### Handle categorical data"
   ]
  },
  {
   "cell_type": "code",
   "execution_count": null,
   "id": "61419e95",
   "metadata": {
    "ExecuteTime": {
     "start_time": "2023-04-08T16:30:27.846864Z",
     "end_time": "2023-04-08T16:30:27.865246Z"
    },
    "collapsed": false
   },
   "outputs": [],
   "source": [
    "df_weather_v6[\"hour_conditions\"] = pd.Categorical(df_weather_v6['hour_conditions'])\n",
    "# df_weather_v5[\"hour_conditions\"].astype('category')\n",
    "# weather_condition_categories = df_weather_v5[\"hour_conditions\"].cat.categories.values\n",
    "# weather_condition_categories\n",
    "df_weather_v6[\"hour_conditions_code\"] = df_weather_v6[\"hour_conditions\"].cat.codes\n",
    "df_weather_v6[[\"hour_conditions\", \"hour_conditions_code\"]].head(5)"
   ]
  },
  {
   "cell_type": "markdown",
   "id": "dce1b91d",
   "metadata": {
    "collapsed": false
   },
   "source": [
    "### Save final merged dataframe"
   ]
  },
  {
   "cell_type": "code",
   "execution_count": null,
   "id": "f1a432d4",
   "metadata": {
    "ExecuteTime": {
     "start_time": "2023-04-08T16:30:27.846999Z",
     "end_time": "2023-04-08T16:31:40.269561Z"
    }
   },
   "outputs": [],
   "source": [
    "df_weather_v6.to_csv(\n",
    "    f\"{OUTPUT_FOLDER}/{WEATHER_EVENTS_OUTPUT_DATA_FILE}\", sep=\";\", index=False\n",
    ")"
   ]
  },
  {
   "cell_type": "code",
   "execution_count": null,
   "id": "2f0d45ad",
   "metadata": {
    "ExecuteTime": {
     "start_time": "2023-04-08T16:31:40.314834Z",
     "end_time": "2023-04-08T16:31:40.315093Z"
    },
    "collapsed": false
   },
   "outputs": [],
   "source": [
    "# Uncomment to save final merged dataset ~4G\n",
    "# df_weather_v5.to_csv(\n",
    "#     f\"{OUTPUT_FOLDER}/all_hourly_weather_events_final.csv\", sep=\";\", index=False\n",
    "# )"
   ]
  },
  {
   "cell_type": "markdown",
   "id": "975d9b69",
   "metadata": {
    "collapsed": false
   },
   "source": [
    "### Test LinearRegression"
   ]
  },
  {
   "cell_type": "code",
   "execution_count": null,
   "id": "dfe3887a",
   "metadata": {
    "ExecuteTime": {
     "start_time": "2023-04-08T16:38:31.999436Z",
     "end_time": "2023-04-08T16:38:32.639120Z"
    },
    "collapsed": false
   },
   "outputs": [],
   "source": [
    "import numpy as np\n",
    "\n",
    "from sklearn.model_selection import train_test_split\n",
    "\n",
    "from sklearn.linear_model import LinearRegression\n",
    "\n",
    "df_final = df_weather_v6\n",
    "\n",
    "# Fill NaN values\n",
    "df_final[[\"event_all_region\"]] = df_final[[\"event_all_region\"]].fillna(value=0)\n",
    "\n",
    "# Separating the data into independent and dependent variables\n",
    "# Converting each dataframe into a numpy array\n",
    "X = np.array(\n",
    "    df_final[\n",
    "        [\n",
    "            \"region_id\",\n",
    "            \"event_all_region\",\n",
    "            \"day_datetimeEpoch\",\n",
    "            \"hour_datetimeEpoch\",\n",
    "            \"ukrainian_holiday\",\n",
    "            \"russian_holiday\",\n",
    "            \"hour_temp\",\n",
    "            \"hour_snow\",\n",
    "            \"hour_visibility\",\n",
    "            \"hour_conditions_code\",\n",
    "            \"day_of_week_Monday\",\n",
    "            \"day_of_week_Tuesday\",\n",
    "            \"day_of_week_Wednesday\",\n",
    "            \"day_of_week_Thursday\",\n",
    "            \"day_of_week_Friday\",\n",
    "            \"day_of_week_Saturday\",\n",
    "            \"day_of_week_Sunday\",\n",
    "            \"events_last_24_hrs\"\n",
    "        ]\n",
    "    ]\n",
    ")\n",
    "y = np.array(df_final[\"is_alarm\"])\n",
    "\n",
    "# Dropping any rows with Nan values\n",
    "# df_final.dropna(inplace = True)\n",
    "\n",
    "# Splitting the data into training and testing data\n",
    "X_train, X_test, y_train, y_test = train_test_split(\n",
    "    X, y, test_size=0.25, random_state=101\n",
    ")\n",
    "\n",
    "# LinerRegression\n",
    "regr = LinearRegression()\n",
    "#\n",
    "regr.fit(X_train, y_train)\n",
    "#\n",
    "print(regr.score(X_test, y_test))\n",
    "# df_weather_v4 -      0.7357812097367479\n",
    "# df_weather_v5 -      0.728836911878402\n",
    "# hours with no alarm - 0.7475497734309323"
   ]
  },
  {
   "cell_type": "markdown",
   "source": [
    "### Random Forest"
   ],
   "metadata": {
    "collapsed": false
   }
  },
  {
   "cell_type": "code",
   "execution_count": null,
   "outputs": [],
   "source": [
    "from sklearn.ensemble import RandomForestClassifier\n",
    "\n",
    "clf = RandomForestClassifier(n_estimators=10)\n",
    "clf = clf.fit(X_train, y_train)\n",
    "\n",
    "print(clf.score(X_test, y_test))"
   ],
   "metadata": {
    "collapsed": false,
    "ExecuteTime": {
     "start_time": "2023-04-08T16:38:55.060441Z",
     "end_time": "2023-04-08T16:38:55.257539Z"
    }
   }
  },
  {
   "cell_type": "code",
   "execution_count": null,
   "outputs": [],
   "source": [
    "from sklearn.metrics import confusion_matrix, ConfusionMatrixDisplay\n",
    "# Predict the labels for the test set\n",
    "y_pred = clf.predict(X_test)\n",
    "\n",
    "# Calculate the confusion matrix\n",
    "confusion_matrix = confusion_matrix(y_test, y_pred)\n",
    "print(confusion_matrix)\n",
    "disp = ConfusionMatrixDisplay(confusion_matrix=confusion_matrix,\n",
    "                             display_labels=clf.classes_)\n",
    "disp.plot()"
   ],
   "metadata": {
    "collapsed": false,
    "ExecuteTime": {
     "start_time": "2023-04-08T16:38:40.789332Z",
     "end_time": "2023-04-08T16:38:41.210955Z"
    }
   }
  },
  {
   "cell_type": "code",
   "execution_count": null,
   "outputs": [],
   "source": [],
   "metadata": {
    "collapsed": false,
    "ExecuteTime": {
     "start_time": "2023-04-08T16:38:18.983216Z",
     "end_time": "2023-04-08T16:38:18.984838Z"
    }
   }
  }
 ],
 "metadata": {
  "kernelspec": {
   "display_name": "Python 3 (ipykernel)",
   "language": "python",
   "name": "python3"
  },
  "language_info": {
   "codemirror_mode": {
    "name": "ipython",
    "version": 3
   },
   "file_extension": ".py",
   "mimetype": "text/x-python",
   "name": "python",
   "nbconvert_exporter": "python",
   "pygments_lexer": "ipython3",
   "version": "3.11.2"
  }
 },
 "nbformat": 4,
 "nbformat_minor": 5
}
