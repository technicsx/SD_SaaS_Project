{
 "cells": [
  {
   "cell_type": "code",
   "execution_count": null,
   "id": "4ba95462",
   "metadata": {
    "ExecuteTime": {
     "start_time": "2023-04-04T19:08:14.272749Z",
     "end_time": "2023-04-04T19:08:14.651823Z"
    }
   },
   "outputs": [],
   "source": [
    "import datetime\n",
    "import numpy as np\n",
    "import pandas as pd\n",
    "import os\n",
    "\n",
    "from dotenv import load_dotenv\n",
    "load_dotenv(\"../.path_env\")"
   ]
  },
  {
   "cell_type": "code",
   "execution_count": null,
   "id": "c5f8b892",
   "metadata": {
    "ExecuteTime": {
     "start_time": "2023-04-04T19:08:14.304047Z",
     "end_time": "2023-04-04T19:08:14.651823Z"
    }
   },
   "outputs": [],
   "source": [
    "pd.set_option('display.max_columns', None)\n",
    "pd.set_option('display.max_rows', None)"
   ]
  },
  {
   "cell_type": "code",
   "execution_count": null,
   "id": "c37b5162",
   "metadata": {
    "ExecuteTime": {
     "start_time": "2023-04-04T19:08:14.319638Z",
     "end_time": "2023-04-04T19:08:14.736508Z"
    }
   },
   "outputs": [],
   "source": [
    "REPORTS_DATA_FILE = \"./results/tfidf.csv\"\n",
    "\n",
    "OUTPUT_FOLDER = \"results\"\n",
    "ISW_OUTPUT_DATA_FILE = \"all_isw.csv\"\n",
    "WEATHER_EVENTS_OUTPUT_DATA_FILE = \"all_hourly_weather_events.csv\"\n",
    "\n",
    "MODEL_FOLDER = \"model\"\n",
    "\n",
    "tfidf_transformer_model = \"tfidf_transformer\"\n",
    "count_vectorizer_model = \"count_vectorizer\"\n",
    "\n",
    "tfidf_transformer_version = \"v1\"\n",
    "count_vectorizer_version = \"v1\""
   ]
  },
  {
   "cell_type": "code",
   "execution_count": null,
   "id": "699f3dc8",
   "metadata": {
    "ExecuteTime": {
     "start_time": "2023-04-04T19:08:14.335265Z",
     "end_time": "2023-04-04T19:08:14.836761Z"
    }
   },
   "outputs": [],
   "source": [
    "def isNaN(num):\n",
    "    return num != num"
   ]
  },
  {
   "cell_type": "markdown",
   "id": "c78b36e9",
   "metadata": {},
   "source": [
    "## reading data"
   ]
  },
  {
   "cell_type": "code",
   "execution_count": null,
   "id": "f2dac73d",
   "metadata": {
    "ExecuteTime": {
     "start_time": "2023-04-04T19:08:14.350888Z",
     "end_time": "2023-04-04T19:08:14.974390Z"
    }
   },
   "outputs": [],
   "source": [
    "df_isw = pd.read_csv(f\"{REPORTS_DATA_FILE}\", sep=\",\")"
   ]
  },
  {
   "cell_type": "code",
   "execution_count": null,
   "id": "028a3a1d",
   "metadata": {
    "ExecuteTime": {
     "start_time": "2023-04-04T19:08:14.489051Z",
     "end_time": "2023-04-04T19:08:14.974390Z"
    }
   },
   "outputs": [],
   "source": [
    "df_isw.head(5)"
   ]
  },
  {
   "cell_type": "markdown",
   "id": "a557a7ed",
   "metadata": {},
   "source": [
    "## preparing ISW reports"
   ]
  },
  {
   "cell_type": "markdown",
   "id": "b08a5bed",
   "metadata": {},
   "source": [
    "## reading models"
   ]
  },
  {
   "cell_type": "code",
   "execution_count": null,
   "id": "d9ddffee",
   "metadata": {
    "ExecuteTime": {
     "start_time": "2023-04-04T19:08:14.504640Z",
     "end_time": "2023-04-04T19:08:14.974390Z"
    }
   },
   "outputs": [],
   "source": [
    "# #load the content\n",
    "# tfidf = pickle.load(open(f\"{MODEL_FOLDER}/{tfidf_transformer_model}_{tfidf_transformer_version}.pkl\", \"rb\"))\n",
    "# cv = pickle.load(open(f\"{MODEL_FOLDER}/{count_vectorizer_model}_{count_vectorizer_version}.pkl\", \"rb\"))"
   ]
  },
  {
   "cell_type": "code",
   "execution_count": null,
   "id": "88a435a4",
   "metadata": {
    "ExecuteTime": {
     "start_time": "2023-04-04T19:08:14.520264Z",
     "end_time": "2023-04-04T19:08:14.974390Z"
    }
   },
   "outputs": [],
   "source": [
    "# df_isw['keywords'] = df_isw['text_preprocessed_lemm'].apply(lambda x: tf_idf.conver_doc_to_vector(x,cv,tfidf))"
   ]
  },
  {
   "cell_type": "code",
   "execution_count": null,
   "id": "6fc96d61",
   "metadata": {
    "ExecuteTime": {
     "start_time": "2023-04-04T19:08:14.535903Z",
     "end_time": "2023-04-04T19:08:14.974390Z"
    }
   },
   "outputs": [],
   "source": [
    "# df_isw.head(5)"
   ]
  },
  {
   "cell_type": "code",
   "execution_count": null,
   "id": "3d09da4f",
   "metadata": {
    "ExecuteTime": {
     "start_time": "2023-04-04T19:08:14.551554Z",
     "end_time": "2023-04-04T19:08:14.974390Z"
    }
   },
   "outputs": [],
   "source": [
    "df_isw[\"date_datetime\"] = pd.to_datetime(df_isw[\"Date\"])"
   ]
  },
  {
   "cell_type": "code",
   "execution_count": null,
   "id": "84625aed",
   "metadata": {
    "ExecuteTime": {
     "start_time": "2023-04-04T19:08:14.567140Z",
     "end_time": "2023-04-04T19:08:14.974390Z"
    }
   },
   "outputs": [],
   "source": [
    "df_isw['date_tomorrow_datetime'] = df_isw['date_datetime'].apply(lambda x: x+datetime.timedelta(days=1))\n",
    "df_isw['event_time'] = np.nan"
   ]
  },
  {
   "cell_type": "code",
   "execution_count": null,
   "id": "6c9524e5",
   "metadata": {
    "ExecuteTime": {
     "start_time": "2023-04-04T19:08:14.589332Z",
     "end_time": "2023-04-04T19:08:15.036949Z"
    }
   },
   "outputs": [],
   "source": [
    "df_isw = df_isw.rename(columns = {\"date_datetime\":\"report_date\"})\n",
    "df_isw.to_csv(f\"{OUTPUT_FOLDER}/{ISW_OUTPUT_DATA_FILE}\", sep=\";\", index=False)"
   ]
  },
  {
   "cell_type": "code",
   "execution_count": null,
   "id": "f861134e",
   "metadata": {
    "ExecuteTime": {
     "start_time": "2023-04-04T19:08:14.874566Z",
     "end_time": "2023-04-04T19:08:15.036949Z"
    }
   },
   "outputs": [],
   "source": [
    "df_isw.head(5)"
   ]
  },
  {
   "cell_type": "markdown",
   "id": "3b306d5f",
   "metadata": {},
   "source": [
    "## prepare events data"
   ]
  },
  {
   "cell_type": "code",
   "execution_count": null,
   "id": "43a0cf0e",
   "metadata": {
    "ExecuteTime": {
     "start_time": "2023-04-04T19:08:14.890204Z",
     "end_time": "2023-04-04T19:08:15.069903Z"
    }
   },
   "outputs": [],
   "source": [
    "EVENTS_DATA_FILE = \"../\" + os.getenv(\"ALARMS_DATA_FILE\")"
   ]
  },
  {
   "cell_type": "code",
   "execution_count": null,
   "id": "25edb612",
   "metadata": {
    "ExecuteTime": {
     "start_time": "2023-04-04T19:08:14.905833Z",
     "end_time": "2023-04-04T19:08:15.074413Z"
    }
   },
   "outputs": [],
   "source": [
    "df_events = pd.read_csv(f\"{EVENTS_DATA_FILE}\", sep=\";\")"
   ]
  },
  {
   "cell_type": "code",
   "execution_count": null,
   "id": "f1d9e1cd",
   "metadata": {
    "ExecuteTime": {
     "start_time": "2023-04-04T19:08:14.990070Z",
     "end_time": "2023-04-04T19:08:15.121303Z"
    }
   },
   "outputs": [],
   "source": [
    "df_events_v2 = df_events.drop([\"id\",\"region_id\"],axis=1)\n",
    "df_events_v2['event_time'] = np.nan"
   ]
  },
  {
   "cell_type": "code",
   "execution_count": null,
   "id": "07ff2ea6",
   "metadata": {
    "ExecuteTime": {
     "start_time": "2023-04-04T19:08:15.005652Z",
     "end_time": "2023-04-04T19:08:15.121303Z"
    }
   },
   "outputs": [],
   "source": [
    "df_events_v2.head(5)\n",
    "df_events_v2.shape"
   ]
  },
  {
   "cell_type": "code",
   "execution_count": null,
   "id": "47131ae1",
   "metadata": {
    "ExecuteTime": {
     "start_time": "2023-04-04T19:08:15.021278Z",
     "end_time": "2023-04-04T19:08:15.121303Z"
    }
   },
   "outputs": [],
   "source": [
    "# df_events_v2[\"start_time\"] = df_events_v2.apply(lambda x: x[\"start\"] if not isNaN(x[\"start\"]) else x[\"event_time\"] , axis=1)\n",
    "# df_events_v2[\"end_time\"] = df_events_v2.apply(lambda x: x[\"end\"] if not isNaN(x[\"end\"]) else x[\"event_time\"], axis=1)"
   ]
  },
  {
   "cell_type": "code",
   "execution_count": null,
   "id": "3b0a9a3e",
   "metadata": {
    "ExecuteTime": {
     "start_time": "2023-04-04T19:08:15.036949Z",
     "end_time": "2023-04-04T19:08:15.290646Z"
    }
   },
   "outputs": [],
   "source": [
    "df_events_v2[\"start_time\"] = pd.to_datetime(df_events_v2[\"start\"])\n",
    "df_events_v2[\"end_time\"] = pd.to_datetime(df_events_v2[\"end\"])\n",
    "df_events_v2[\"event_time\"] = pd.to_datetime(df_events_v2[\"event_time\"])"
   ]
  },
  {
   "cell_type": "code",
   "execution_count": null,
   "id": "ef3ca6ca",
   "metadata": {
    "ExecuteTime": {
     "start_time": "2023-04-04T19:08:15.090049Z",
     "end_time": "2023-04-04T19:08:15.290646Z"
    }
   },
   "outputs": [],
   "source": [
    "df_events_v2[\"start_hour\"] = df_events_v2['start_time'].dt.floor('H')\n",
    "df_events_v2[\"end_hour\"] = df_events_v2['end_time'].dt.ceil('H')\n",
    "df_events_v2[\"event_hour\"] = df_events_v2['event_time'].dt.round('H')"
   ]
  },
  {
   "cell_type": "code",
   "execution_count": null,
   "id": "a81033f5",
   "metadata": {
    "ExecuteTime": {
     "start_time": "2023-04-04T19:08:15.105701Z",
     "end_time": "2023-04-04T19:08:15.669611Z"
    }
   },
   "outputs": [],
   "source": [
    "df_events_v2[\"start_hour\"] = df_events_v2.apply(lambda x: x[\"start_hour\"] if not isNaN(x[\"start_hour\"]) else x[\"event_hour\"] , axis=1)\n",
    "df_events_v2[\"end_hour\"] = df_events_v2.apply(lambda x: x[\"end_hour\"] if not isNaN(x[\"end_hour\"]) else x[\"event_hour\"] , axis=1)"
   ]
  },
  {
   "cell_type": "code",
   "execution_count": null,
   "id": "71b0f0d4",
   "metadata": {
    "ExecuteTime": {
     "start_time": "2023-04-04T19:08:15.695832Z",
     "end_time": "2023-04-04T19:08:15.791812Z"
    }
   },
   "outputs": [],
   "source": [
    "df_events_v2[\"day_date\"] = df_events_v2[\"start_time\"].dt.date\n",
    "\n",
    "df_events_v2.head(10)\n",
    "\n",
    "df_events_v2[\"start_hour_datetimeEpoch\"] = df_events_v2['start_hour'].apply(lambda x: int(x.timestamp())  if not isNaN(x) else None)\n",
    "df_events_v2[\"end_hour_datetimeEpoch\"] = df_events_v2['end_hour'].apply(lambda x: int(x.timestamp())  if not isNaN(x) else None)\n",
    "\n",
    "# df_events_v2.head(10)"
   ]
  },
  {
   "cell_type": "code",
   "execution_count": null,
   "id": "eb0bcc6b",
   "metadata": {
    "ExecuteTime": {
     "start_time": "2023-04-04T19:08:15.791812Z",
     "end_time": "2023-04-04T19:08:15.807437Z"
    }
   },
   "outputs": [],
   "source": [
    "# df_events_v2[~(df_events_v2[\"type\"]==\"alarm\")].shape"
   ]
  },
  {
   "cell_type": "code",
   "execution_count": null,
   "id": "1a38b3c1",
   "metadata": {
    "ExecuteTime": {
     "start_time": "2023-04-04T19:08:15.807437Z",
     "end_time": "2023-04-04T19:08:15.838689Z"
    }
   },
   "outputs": [],
   "source": [
    "# df_events_v2[~(df_events_v2[\"type\"]==\"alarm\")].head(5)"
   ]
  },
  {
   "cell_type": "code",
   "execution_count": null,
   "id": "6e7ebd70",
   "metadata": {
    "ExecuteTime": {
     "start_time": "2023-04-04T19:08:15.823061Z",
     "end_time": "2023-04-04T19:08:15.838689Z"
    }
   },
   "outputs": [],
   "source": [
    "# df_events_v2[df_events_v2[\"type\"]==\"alarm\"].shape"
   ]
  },
  {
   "cell_type": "markdown",
   "id": "86c852f0",
   "metadata": {},
   "source": [
    "## prepare weather"
   ]
  },
  {
   "cell_type": "code",
   "execution_count": null,
   "id": "79829a50",
   "metadata": {
    "ExecuteTime": {
     "start_time": "2023-04-04T19:08:15.838689Z",
     "end_time": "2023-04-04T19:08:15.891944Z"
    }
   },
   "outputs": [],
   "source": [
    "WEATHER_DATA_FILE = \"../\" + os.getenv(\"WEATHER_DATA_FILE\")"
   ]
  },
  {
   "cell_type": "code",
   "execution_count": null,
   "id": "a0a04cfc",
   "metadata": {
    "ExecuteTime": {
     "start_time": "2023-04-04T19:08:15.854311Z",
     "end_time": "2023-04-04T19:08:18.414410Z"
    }
   },
   "outputs": [],
   "source": [
    "df_weather = pd.read_csv(f\"{WEATHER_DATA_FILE}\")\n",
    "df_weather[\"day_datetime\"] = pd.to_datetime(df_weather[\"day_datetime\"])"
   ]
  },
  {
   "cell_type": "code",
   "execution_count": null,
   "id": "0e649d36",
   "metadata": {
    "ExecuteTime": {
     "start_time": "2023-04-04T19:08:18.398778Z",
     "end_time": "2023-04-04T19:08:18.414410Z"
    }
   },
   "outputs": [],
   "source": [
    "df_weather.shape"
   ]
  },
  {
   "cell_type": "code",
   "execution_count": null,
   "id": "0f182f8e",
   "metadata": {
    "ExecuteTime": {
     "start_time": "2023-04-04T19:08:18.414410Z",
     "end_time": "2023-04-04T19:08:18.530309Z"
    }
   },
   "outputs": [],
   "source": [
    "df_weather.head(15)"
   ]
  },
  {
   "cell_type": "code",
   "execution_count": null,
   "id": "defcbb4d",
   "metadata": {
    "ExecuteTime": {
     "start_time": "2023-04-04T19:08:18.499085Z",
     "end_time": "2023-04-04T19:08:18.552616Z"
    }
   },
   "outputs": [],
   "source": [
    "# len(clmns)"
   ]
  },
  {
   "cell_type": "code",
   "execution_count": null,
   "id": "b2d92e99",
   "metadata": {
    "ExecuteTime": {
     "start_time": "2023-04-04T19:08:18.514798Z",
     "end_time": "2023-04-04T19:08:18.583712Z"
    }
   },
   "outputs": [],
   "source": [
    "# exclude\n",
    "weather_exclude = [\n",
    "\"day_feelslikemax\",\n",
    "\"day_feelslikemin\",\n",
    "\"day_sunriseEpoch\",\n",
    "\"day_sunsetEpoch\",\n",
    "\"day_description\",\n",
    "\"city_latitude\",\n",
    "\"city_longitude\",\n",
    "\"city_address\",\n",
    "\"city_timezone\",\n",
    "\"city_tzoffset\",\n",
    "\"day_feelslike\",\n",
    "\"day_precipprob\",\n",
    "\"day_snow\",\n",
    "\"day_snowdepth\",\n",
    "\"day_windgust\",\n",
    "\"day_windspeed\",\n",
    "\"day_winddir\",\n",
    "\"day_pressure\",\n",
    "\"day_cloudcover\",\n",
    "\"day_visibility\",\n",
    "\"day_severerisk\",\n",
    "\"day_conditions\",\n",
    "\"day_icon\",\n",
    "\"day_source\",\n",
    "\"day_preciptype\",\n",
    "\"day_stations\",\n",
    "\"hour_icon\",\n",
    "\"hour_source\",\n",
    "\"hour_stations\",\n",
    "\"hour_feelslike\"\n",
    "]"
   ]
  },
  {
   "cell_type": "code",
   "execution_count": null,
   "id": "95e9c9b9",
   "metadata": {
    "ExecuteTime": {
     "start_time": "2023-04-04T19:08:18.530309Z",
     "end_time": "2023-04-04T19:08:18.583712Z"
    }
   },
   "outputs": [],
   "source": [
    "# new_list = [x for x in clmns if (x not in weather_exclude)]\n",
    "# new_list"
   ]
  },
  {
   "cell_type": "code",
   "execution_count": null,
   "id": "0ce0ab81",
   "metadata": {
    "ExecuteTime": {
     "start_time": "2023-04-04T19:08:18.552616Z",
     "end_time": "2023-04-04T19:08:18.668368Z"
    }
   },
   "outputs": [],
   "source": [
    "df_weather_v2 = df_weather.drop(weather_exclude, axis=1)"
   ]
  },
  {
   "cell_type": "code",
   "execution_count": null,
   "id": "9fd632b4",
   "metadata": {
    "ExecuteTime": {
     "start_time": "2023-04-04T19:08:18.599378Z",
     "end_time": "2023-04-04T19:08:18.753029Z"
    }
   },
   "outputs": [],
   "source": [
    "df_weather_v2[\"city\"] = df_weather_v2[\"city_resolvedAddress\"].apply(lambda x: x.split(\",\")[0])\n",
    "df_weather_v2[\"city\"] = df_weather_v2[\"city\"].replace('Хмельницька область', \"Хмельницький\")"
   ]
  },
  {
   "cell_type": "code",
   "execution_count": null,
   "id": "453ac798",
   "metadata": {
    "ExecuteTime": {
     "start_time": "2023-04-04T19:08:18.715242Z",
     "end_time": "2023-04-04T19:08:18.784279Z"
    },
    "scrolled": true
   },
   "outputs": [],
   "source": [
    "df_weather_v2.head(5)"
   ]
  },
  {
   "cell_type": "code",
   "execution_count": null,
   "id": "3136f5e6",
   "metadata": {
    "ExecuteTime": {
     "start_time": "2023-04-04T19:08:18.768655Z",
     "end_time": "2023-04-04T19:08:18.853325Z"
    }
   },
   "outputs": [],
   "source": [
    "df_weather_v2.shape"
   ]
  },
  {
   "cell_type": "markdown",
   "id": "0659498e",
   "metadata": {},
   "source": [
    "## merging data"
   ]
  },
  {
   "cell_type": "code",
   "execution_count": null,
   "id": "a3ad87a3",
   "metadata": {
    "ExecuteTime": {
     "start_time": "2023-04-04T19:08:18.784279Z",
     "end_time": "2023-04-04T19:08:18.853325Z"
    }
   },
   "outputs": [],
   "source": [
    "REGIONS_DATA_FOLDER = \"../external_data/additions\"\n",
    "REGIONS_DATA_FILE = \"regions.csv\"\n",
    "df_regions = pd.read_csv(f\"{REGIONS_DATA_FOLDER}/{REGIONS_DATA_FILE}\")"
   ]
  },
  {
   "cell_type": "code",
   "execution_count": null,
   "id": "7975da08",
   "metadata": {
    "ExecuteTime": {
     "start_time": "2023-04-04T19:08:18.799904Z",
     "end_time": "2023-04-04T19:08:18.853325Z"
    }
   },
   "outputs": [],
   "source": [
    "df_regions.head(5)"
   ]
  },
  {
   "cell_type": "code",
   "execution_count": null,
   "id": "9bdb0c29",
   "metadata": {
    "ExecuteTime": {
     "start_time": "2023-04-04T19:08:18.815528Z",
     "end_time": "2023-04-04T19:08:19.069598Z"
    }
   },
   "outputs": [],
   "source": [
    "df_weather_reg = pd.merge(df_weather_v2, df_regions, left_on=\"city\",right_on=\"center_city_ua\")"
   ]
  },
  {
   "cell_type": "code",
   "execution_count": null,
   "id": "e732c138",
   "metadata": {
    "ExecuteTime": {
     "start_time": "2023-04-04T19:08:18.953649Z",
     "end_time": "2023-04-04T19:08:19.069598Z"
    }
   },
   "outputs": [],
   "source": [
    "df_weather_reg.head(10)"
   ]
  },
  {
   "cell_type": "code",
   "execution_count": null,
   "id": "ad392ddf",
   "metadata": {
    "ExecuteTime": {
     "start_time": "2023-04-04T19:08:19.016137Z",
     "end_time": "2023-04-04T19:08:19.069598Z"
    }
   },
   "outputs": [],
   "source": [
    "df_weather_reg.shape"
   ]
  },
  {
   "cell_type": "code",
   "execution_count": null,
   "id": "13e88911",
   "metadata": {
    "ExecuteTime": {
     "start_time": "2023-04-04T19:08:19.031780Z",
     "end_time": "2023-04-04T19:08:19.116444Z"
    }
   },
   "outputs": [],
   "source": [
    "df_weather_v2.shape"
   ]
  },
  {
   "cell_type": "markdown",
   "id": "fadce0fe",
   "metadata": {},
   "source": [
    "### Merging weather and events"
   ]
  },
  {
   "cell_type": "code",
   "execution_count": null,
   "id": "84412a7d",
   "metadata": {
    "ExecuteTime": {
     "start_time": "2023-04-04T19:08:19.053972Z",
     "end_time": "2023-04-04T19:08:19.138582Z"
    }
   },
   "outputs": [],
   "source": [
    "# df_events_v2[\"start_hour_datetimeEpoch\"] = df_events_v2['start_hour'].apply(lambda x: int(x.strftime('%s'))  if not isNaN(x) else 0)\n",
    "# df_events_v2[\"end_hour_datetimeEpoch\"] = df_events_v2['end_hour'].apply(lambda x: int(x.strftime('%s'))  if not isNaN(x) else 0)"
   ]
  },
  {
   "cell_type": "code",
   "execution_count": null,
   "id": "37b962b1",
   "metadata": {
    "ExecuteTime": {
     "start_time": "2023-04-04T19:08:19.069598Z",
     "end_time": "2023-04-04T19:08:19.169852Z"
    }
   },
   "outputs": [],
   "source": [
    "df_events_v2.dtypes"
   ]
  },
  {
   "cell_type": "code",
   "execution_count": null,
   "id": "fd62824f",
   "metadata": {
    "ExecuteTime": {
     "start_time": "2023-04-04T19:08:19.085192Z",
     "end_time": "2023-04-04T19:08:19.310135Z"
    }
   },
   "outputs": [],
   "source": [
    "df_events_v2.shape"
   ]
  },
  {
   "cell_type": "code",
   "execution_count": null,
   "id": "29cb459c",
   "metadata": {
    "ExecuteTime": {
     "start_time": "2023-04-04T19:08:19.100820Z",
     "end_time": "2023-04-04T19:08:19.310135Z"
    }
   },
   "outputs": [],
   "source": [
    "df_events_v2.head(10)"
   ]
  },
  {
   "cell_type": "code",
   "execution_count": null,
   "id": "9991fde1",
   "metadata": {
    "ExecuteTime": {
     "start_time": "2023-04-04T19:08:19.138582Z",
     "end_time": "2023-04-04T19:08:19.686424Z"
    }
   },
   "outputs": [],
   "source": [
    "# df_events_v2_sample = df_events_v2.sample(10)\n",
    "# df_events_v2_sample.shape\n",
    "\n",
    "events_dict = df_events_v2.to_dict('records')\n",
    "events_by_hour = []"
   ]
  },
  {
   "cell_type": "code",
   "execution_count": null,
   "id": "4ed1ff39",
   "metadata": {
    "ExecuteTime": {
     "start_time": "2023-04-04T19:08:19.608896Z",
     "end_time": "2023-04-04T19:08:19.686424Z"
    }
   },
   "outputs": [],
   "source": [
    "events_dict[0]"
   ]
  },
  {
   "cell_type": "code",
   "execution_count": null,
   "metadata": {
    "ExecuteTime": {
     "start_time": "2023-04-04T19:08:19.655178Z",
     "end_time": "2023-04-04T19:08:22.679211Z"
    },
    "collapsed": false
   },
   "outputs": [],
   "source": [
    "for event in events_dict:\n",
    "    for d in pd.date_range(start=event[\"start_hour\"], end=event[\"end_hour\"], freq='1H'):\n",
    "        et = event.copy()\n",
    "        et[\"hour_level_event_time\"] = d\n",
    "        events_by_hour.append(et)"
   ]
  },
  {
   "cell_type": "code",
   "execution_count": null,
   "metadata": {
    "ExecuteTime": {
     "start_time": "2023-04-04T19:08:22.676031Z",
     "end_time": "2023-04-04T19:08:23.066391Z"
    },
    "collapsed": false
   },
   "outputs": [],
   "source": [
    "df_events_v3 = pd.DataFrame.from_dict(events_by_hour)\n",
    "df_events_v3[\"hour_level_event_datetimeEpoch\"] = df_events_v3[\"hour_level_event_time\"].apply(lambda x: int(x.timestamp()) if not isNaN(x) else None)\n"
   ]
  },
  {
   "cell_type": "code",
   "execution_count": null,
   "id": "33b3c316",
   "metadata": {
    "ExecuteTime": {
     "start_time": "2023-04-04T19:08:23.071119Z",
     "end_time": "2023-04-04T19:08:23.125205Z"
    }
   },
   "outputs": [],
   "source": [
    "df_events_v3.shape"
   ]
  },
  {
   "cell_type": "code",
   "execution_count": null,
   "id": "85c85f84",
   "metadata": {
    "ExecuteTime": {
     "start_time": "2023-04-04T19:08:23.093624Z",
     "end_time": "2023-04-04T19:08:23.140550Z"
    }
   },
   "outputs": [],
   "source": [
    "df_events_v3.head(15)"
   ]
  },
  {
   "cell_type": "code",
   "execution_count": null,
   "id": "aa796999",
   "metadata": {
    "ExecuteTime": {
     "start_time": "2023-04-04T19:08:23.125205Z",
     "end_time": "2023-04-04T19:08:23.209575Z"
    }
   },
   "outputs": [],
   "source": [
    "df_weather_reg.head(5)"
   ]
  },
  {
   "cell_type": "code",
   "execution_count": null,
   "id": "7be3ae80",
   "metadata": {
    "ExecuteTime": {
     "start_time": "2023-04-04T19:08:23.171799Z",
     "end_time": "2023-04-04T19:08:23.240822Z"
    }
   },
   "outputs": [],
   "source": [
    "df_weather_reg.shape"
   ]
  },
  {
   "cell_type": "code",
   "execution_count": null,
   "id": "85b4f508",
   "metadata": {
    "ExecuteTime": {
     "start_time": "2023-04-04T19:08:23.187386Z",
     "end_time": "2023-04-04T19:08:23.309812Z"
    }
   },
   "outputs": [],
   "source": [
    "df_events_v3.head(10)\n",
    "df_weather_reg.head(10)"
   ]
  },
  {
   "cell_type": "code",
   "execution_count": null,
   "id": "cfc7e841",
   "metadata": {
    "ExecuteTime": {
     "start_time": "2023-04-04T19:08:23.240822Z",
     "end_time": "2023-04-04T19:08:23.372314Z"
    }
   },
   "outputs": [],
   "source": [
    "df_events_v4 = df_events_v3.copy().add_prefix('event_')\n",
    "df_events_v4.head(10)\n"
   ]
  },
  {
   "cell_type": "code",
   "execution_count": null,
   "id": "7c35dc66",
   "metadata": {
    "ExecuteTime": {
     "start_time": "2023-04-04T19:08:23.272034Z",
     "end_time": "2023-04-04T19:08:23.557252Z"
    }
   },
   "outputs": [],
   "source": [
    "df_weather_v4 = df_weather_reg.merge(df_events_v4, \n",
    "                                     how=\"left\", \n",
    "                                     left_on=[\"region_alt\",\"hour_datetimeEpoch\"],\n",
    "                                     right_on=[\"event_region_title\",\"event_hour_level_event_datetimeEpoch\"])"
   ]
  },
  {
   "cell_type": "code",
   "execution_count": null,
   "id": "ea0266bb",
   "metadata": {
    "ExecuteTime": {
     "start_time": "2023-04-04T19:08:23.456970Z",
     "end_time": "2023-04-04T19:08:24.337702Z"
    }
   },
   "outputs": [],
   "source": [
    "df_weather_v4.head(300)"
   ]
  },
  {
   "cell_type": "code",
   "execution_count": null,
   "id": "87a10851",
   "metadata": {
    "ExecuteTime": {
     "start_time": "2023-04-04T19:08:24.306083Z",
     "end_time": "2023-04-04T19:08:24.337702Z"
    }
   },
   "outputs": [],
   "source": [
    "df_weather_v4.shape"
   ]
  },
  {
   "cell_type": "code",
   "execution_count": null,
   "id": "f1a432d4",
   "metadata": {
    "ExecuteTime": {
     "start_time": "2023-04-04T19:08:24.306083Z",
     "end_time": "2023-04-04T19:08:31.372156Z"
    }
   },
   "outputs": [],
   "source": [
    "df_weather_v4.to_csv(f\"{OUTPUT_FOLDER}/{WEATHER_EVENTS_OUTPUT_DATA_FILE}\", sep=\";\", index=False)"
   ]
  }
 ],
 "metadata": {
  "kernelspec": {
   "display_name": "Python 3 (ipykernel)",
   "language": "python",
   "name": "python3"
  },
  "language_info": {
   "codemirror_mode": {
    "name": "ipython",
    "version": 3
   },
   "file_extension": ".py",
   "mimetype": "text/x-python",
   "name": "python",
   "nbconvert_exporter": "python",
   "pygments_lexer": "ipython3",
   "version": "3.11.2"
  }
 },
 "nbformat": 4,
 "nbformat_minor": 5
}
