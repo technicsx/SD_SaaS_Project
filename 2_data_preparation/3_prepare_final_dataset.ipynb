{
 "cells": [
  {
   "cell_type": "code",
   "execution_count": null,
   "id": "4ba95462",
   "metadata": {
    "ExecuteTime": {
     "end_time": "2023-04-05T21:11:32.998738Z",
     "start_time": "2023-04-05T21:11:32.666954Z"
    }
   },
   "outputs": [],
   "source": [
    "import datetime\n",
    "import numpy as np\n",
    "import pandas as pd\n",
    "import pickle\n",
    "import os\n",
    "import duckdb\n",
    "\n",
    "from datetime import timedelta\n",
    "\n",
    "from paths_full import *\n",
    "\n",
    "from holidays_feature.holidays_feature import add_ukrainian_holidays\n",
    "from holidays_feature.holidays_feature import add_russian_holidays\n",
    "\n",
    "\n",
    "%load_ext sql\n",
    "%config SqlMagic.autopandas = True\n",
    "%config SqlMagic.feedback = False\n",
    "%config SqlMagic.displaycon = False\n",
    "\n",
    "%sql duckdb:///:memory:"
   ]
  },
  {
   "cell_type": "code",
   "execution_count": null,
   "id": "c5f8b892",
   "metadata": {
    "ExecuteTime": {
     "end_time": "2023-04-05T21:11:32.998738Z",
     "start_time": "2023-04-05T21:11:32.682577Z"
    }
   },
   "outputs": [],
   "source": [
    "pd.set_option(\"display.max_columns\", None)\n",
    "pd.set_option(\"display.max_rows\", None)"
   ]
  },
  {
   "cell_type": "code",
   "execution_count": null,
   "id": "c37b5162",
   "metadata": {
    "ExecuteTime": {
     "end_time": "2023-04-05T21:11:33.020879Z",
     "start_time": "2023-04-05T21:11:32.698201Z"
    }
   },
   "outputs": [],
   "source": [
    "REPORTS_DATA_FILE = \"./results/tfidf.csv\"\n",
    "\n",
    "OUTPUT_FOLDER = \"results\"\n",
    "ISW_OUTPUT_DATA_FILE = \"all_isw.csv\"\n",
    "WEATHER_EVENTS_OUTPUT_DATA_FILE = \"all_hourly_weather_events.csv\"\n",
    "\n",
    "MODEL_FOLDER = \"model\"\n",
    "\n",
    "tfidf_transformer_model = \"tfidf_transformer\"\n",
    "count_vectorizer_model = \"count_vectorizer\"\n",
    "\n",
    "tfidf_transformer_version = \"v1\"\n",
    "count_vectorizer_version = \"v1\""
   ]
  },
  {
   "cell_type": "code",
   "execution_count": null,
   "id": "699f3dc8",
   "metadata": {
    "ExecuteTime": {
     "end_time": "2023-04-05T21:11:33.083395Z",
     "start_time": "2023-04-05T21:11:32.720333Z"
    }
   },
   "outputs": [],
   "source": [
    "def isNaN(num):\n",
    "    return num != num"
   ]
  },
  {
   "cell_type": "markdown",
   "id": "c78b36e9",
   "metadata": {},
   "source": [
    "## reading data"
   ]
  },
  {
   "cell_type": "code",
   "execution_count": null,
   "id": "f2dac73d",
   "metadata": {
    "ExecuteTime": {
     "end_time": "2023-04-05T21:11:33.219457Z",
     "start_time": "2023-04-05T21:11:32.735973Z"
    }
   },
   "outputs": [],
   "source": [
    "df_isw = pd.read_csv(f\"{REPORTS_DATA_FILE}\", sep=\",\")"
   ]
  },
  {
   "cell_type": "code",
   "execution_count": null,
   "id": "028a3a1d",
   "metadata": {
    "ExecuteTime": {
     "end_time": "2023-04-05T21:11:33.221468Z",
     "start_time": "2023-04-05T21:11:32.857853Z"
    }
   },
   "outputs": [],
   "source": [
    "df_isw.head(5)"
   ]
  },
  {
   "cell_type": "markdown",
   "id": "a557a7ed",
   "metadata": {},
   "source": [
    "## preparing ISW reports"
   ]
  },
  {
   "cell_type": "markdown",
   "id": "b08a5bed",
   "metadata": {},
   "source": [
    "## reading models"
   ]
  },
  {
   "cell_type": "code",
   "execution_count": null,
   "id": "d9ddffee",
   "metadata": {
    "ExecuteTime": {
     "end_time": "2023-04-05T21:11:33.221468Z",
     "start_time": "2023-04-05T21:11:32.879337Z"
    }
   },
   "outputs": [],
   "source": [
    "# #load the content\n",
    "# tfidf = pickle.load(open(f\"{MODEL_FOLDER}/{tfidf_transformer_model}_{tfidf_transformer_version}.pkl\", \"rb\"))\n",
    "# cv = pickle.load(open(f\"{MODEL_FOLDER}/{count_vectorizer_model}_{count_vectorizer_version}.pkl\", \"rb\"))"
   ]
  },
  {
   "cell_type": "code",
   "execution_count": null,
   "id": "88a435a4",
   "metadata": {
    "ExecuteTime": {
     "end_time": "2023-04-05T21:11:33.221468Z",
     "start_time": "2023-04-05T21:11:32.894962Z"
    }
   },
   "outputs": [],
   "source": [
    "# df_isw['keywords'] = df_isw['text_preprocessed_lemm'].apply(lambda x: tf_idf.conver_doc_to_vector(x,cv,tfidf))"
   ]
  },
  {
   "cell_type": "code",
   "execution_count": null,
   "id": "6fc96d61",
   "metadata": {
    "ExecuteTime": {
     "end_time": "2023-04-05T21:11:33.221468Z",
     "start_time": "2023-04-05T21:11:32.910587Z"
    }
   },
   "outputs": [],
   "source": [
    "# df_isw.head(5)"
   ]
  },
  {
   "cell_type": "code",
   "execution_count": null,
   "id": "3d09da4f",
   "metadata": {
    "ExecuteTime": {
     "end_time": "2023-04-05T21:11:33.221468Z",
     "start_time": "2023-04-05T21:11:32.936239Z"
    }
   },
   "outputs": [],
   "source": [
    "df_isw[\"date_datetime\"] = pd.to_datetime(df_isw[\"Date\"])"
   ]
  },
  {
   "cell_type": "code",
   "execution_count": null,
   "id": "84625aed",
   "metadata": {
    "ExecuteTime": {
     "end_time": "2023-04-05T21:11:33.221468Z",
     "start_time": "2023-04-05T21:11:32.951860Z"
    }
   },
   "outputs": [],
   "source": [
    "df_isw[\"date_tomorrow_datetime\"] = df_isw[\"date_datetime\"].apply(\n",
    "    lambda x: x + datetime.timedelta(days=1)\n",
    ")\n",
    "df_isw[\"event_time\"] = np.nan"
   ]
  },
  {
   "cell_type": "code",
   "execution_count": null,
   "id": "6c9524e5",
   "metadata": {
    "ExecuteTime": {
     "end_time": "2023-04-05T21:11:33.317633Z",
     "start_time": "2023-04-05T21:11:32.967486Z"
    }
   },
   "outputs": [],
   "source": [
    "df_isw = df_isw.rename(columns={\"date_datetime\": \"report_date\"})\n",
    "df_isw.to_csv(f\"{OUTPUT_FOLDER}/{ISW_OUTPUT_DATA_FILE}\", sep=\";\", index=False)"
   ]
  },
  {
   "cell_type": "code",
   "execution_count": null,
   "id": "f861134e",
   "metadata": {
    "ExecuteTime": {
     "end_time": "2023-04-05T21:11:33.653031Z",
     "start_time": "2023-04-05T21:11:33.270757Z"
    }
   },
   "outputs": [],
   "source": [
    "# Add holidays data to df_isw\n",
    "add_ukrainian_holidays(df_isw, day_datetime_column='report_date', column_name='ukrainian_holiday')\n",
    "add_russian_holidays(df_isw, day_datetime_column='report_date', column_name='russian_holiday')\n",
    "# df_isw.loc[df_isw['ukrainian_holiday'] == 1]"
   ]
  },
  {
   "cell_type": "code",
   "execution_count": null,
   "id": "26f97f8d",
   "metadata": {
    "ExecuteTime": {
     "end_time": "2023-04-05T21:11:33.653031Z",
     "start_time": "2023-04-05T21:11:33.452816Z"
    },
    "collapsed": false
   },
   "outputs": [],
   "source": [
    "# df_isw.where(df_isw['ukrainian_holiday'] == 1)\n",
    "# df_isw.sample(5)\n",
    "# df_isw.loc[df_isw['ukrainian_holiday'] == 0].shape\n",
    "# df_isw.shape\n",
    "# df_isw.loc[df_isw['russian_holiday'] == 1]\n",
    "# df_isw.loc[df_isw['ukrainian_holiday'] == 1]"
   ]
  },
  {
   "cell_type": "markdown",
   "id": "3b306d5f",
   "metadata": {},
   "source": [
    "## prepare events data"
   ]
  },
  {
   "cell_type": "code",
   "execution_count": null,
   "id": "25edb612",
   "metadata": {
    "ExecuteTime": {
     "end_time": "2023-04-05T21:11:33.877898Z",
     "start_time": "2023-04-05T21:11:33.484068Z"
    }
   },
   "outputs": [],
   "source": [
    "df_events = pd.read_csv(f\"{ALARMS_DATA_FILE}\", sep=\";\")"
   ]
  },
  {
   "cell_type": "code",
   "execution_count": null,
   "id": "f1d9e1cd",
   "metadata": {
    "ExecuteTime": {
     "end_time": "2023-04-05T21:11:33.880030Z",
     "start_time": "2023-04-05T21:11:33.568364Z"
    }
   },
   "outputs": [],
   "source": [
    "df_events_v2 = df_events.drop([\"id\", \"region_id\"], axis=1)\n",
    "df_events_v2[\"event_time\"] = np.nan"
   ]
  },
  {
   "cell_type": "code",
   "execution_count": null,
   "id": "07ff2ea6",
   "metadata": {
    "ExecuteTime": {
     "end_time": "2023-04-05T21:11:33.881066Z",
     "start_time": "2023-04-05T21:11:33.584005Z"
    }
   },
   "outputs": [],
   "source": [
    "df_events_v2.head(5)\n",
    "df_events_v2.shape"
   ]
  },
  {
   "cell_type": "code",
   "execution_count": null,
   "id": "47131ae1",
   "metadata": {
    "ExecuteTime": {
     "end_time": "2023-04-05T21:11:33.881066Z",
     "start_time": "2023-04-05T21:11:33.599613Z"
    }
   },
   "outputs": [],
   "source": [
    "# df_events_v2[\"start_time\"] = df_events_v2.apply(lambda x: x[\"start\"] if not isNaN(x[\"start\"]) else x[\"event_time\"] , axis=1)\n",
    "# df_events_v2[\"end_time\"] = df_events_v2.apply(lambda x: x[\"end\"] if not isNaN(x[\"end\"]) else x[\"event_time\"], axis=1)"
   ]
  },
  {
   "cell_type": "code",
   "execution_count": null,
   "id": "3b0a9a3e",
   "metadata": {
    "ExecuteTime": {
     "end_time": "2023-04-05T21:11:33.881066Z",
     "start_time": "2023-04-05T21:11:33.615242Z"
    }
   },
   "outputs": [],
   "source": [
    "df_events_v2[\"start_time\"] = pd.to_datetime(df_events_v2[\"start\"])\n",
    "df_events_v2[\"end_time\"] = pd.to_datetime(df_events_v2[\"end\"])\n",
    "df_events_v2[\"event_time\"] = pd.to_datetime(df_events_v2[\"event_time\"])"
   ]
  },
  {
   "cell_type": "code",
   "execution_count": null,
   "id": "ef3ca6ca",
   "metadata": {
    "ExecuteTime": {
     "end_time": "2023-04-05T21:11:34.000481Z",
     "start_time": "2023-04-05T21:11:33.653031Z"
    }
   },
   "outputs": [],
   "source": [
    "df_events_v2[\"start_hour\"] = df_events_v2[\"start_time\"].dt.floor(\"H\")\n",
    "df_events_v2[\"end_hour\"] = df_events_v2[\"end_time\"].dt.ceil(\"H\")\n",
    "df_events_v2[\"event_hour\"] = df_events_v2[\"event_time\"].dt.round(\"H\")"
   ]
  },
  {
   "cell_type": "code",
   "execution_count": null,
   "id": "a81033f5",
   "metadata": {
    "ExecuteTime": {
     "end_time": "2023-04-05T21:11:34.306478Z",
     "start_time": "2023-04-05T21:11:33.684266Z"
    }
   },
   "outputs": [],
   "source": [
    "df_events_v2[\"start_hour\"] = df_events_v2.apply(\n",
    "    lambda x: x[\"start_hour\"] if not isNaN(x[\"start_hour\"]) else x[\"event_hour\"], axis=1\n",
    ")\n",
    "df_events_v2[\"end_hour\"] = df_events_v2.apply(\n",
    "    lambda x: x[\"end_hour\"] if not isNaN(x[\"end_hour\"]) else x[\"event_hour\"], axis=1\n",
    ")"
   ]
  },
  {
   "cell_type": "code",
   "execution_count": null,
   "id": "71b0f0d4",
   "metadata": {
    "ExecuteTime": {
     "end_time": "2023-04-05T21:11:34.418502Z",
     "start_time": "2023-04-05T21:11:34.312641Z"
    }
   },
   "outputs": [],
   "source": [
    "df_events_v2[\"day_date\"] = df_events_v2[\"start_time\"].dt.date\n",
    "\n",
    "df_events_v2.head(10)\n",
    "\n",
    "df_events_v2[\"start_hour_datetimeEpoch\"] = df_events_v2[\"start_hour\"].apply(\n",
    "    lambda x: int(x.timestamp()) if not isNaN(x) else None\n",
    ")\n",
    "df_events_v2[\"end_hour_datetimeEpoch\"] = df_events_v2[\"end_hour\"].apply(\n",
    "    lambda x: int(x.timestamp()) if not isNaN(x) else None\n",
    ")\n",
    "\n",
    "# df_events_v2.head(10)"
   ]
  },
  {
   "cell_type": "code",
   "execution_count": null,
   "id": "eb0bcc6b",
   "metadata": {
    "ExecuteTime": {
     "end_time": "2023-04-05T21:11:34.448404Z",
     "start_time": "2023-04-05T21:11:34.424748Z"
    }
   },
   "outputs": [],
   "source": [
    "# df_events_v2[~(df_events_v2[\"type\"]==\"alarm\")].shape"
   ]
  },
  {
   "cell_type": "code",
   "execution_count": null,
   "id": "1a38b3c1",
   "metadata": {
    "ExecuteTime": {
     "end_time": "2023-04-05T21:11:34.464029Z",
     "start_time": "2023-04-05T21:11:34.448404Z"
    }
   },
   "outputs": [],
   "source": [
    "# df_events_v2[~(df_events_v2[\"type\"]==\"alarm\")].head(5)"
   ]
  },
  {
   "cell_type": "code",
   "execution_count": null,
   "id": "6e7ebd70",
   "metadata": {
    "ExecuteTime": {
     "end_time": "2023-04-05T21:11:34.479654Z",
     "start_time": "2023-04-05T21:11:34.464029Z"
    }
   },
   "outputs": [],
   "source": [
    "# df_events_v2[df_events_v2[\"type\"]==\"alarm\"].shape"
   ]
  },
  {
   "cell_type": "markdown",
   "id": "86c852f0",
   "metadata": {},
   "source": [
    "## prepare weather"
   ]
  },
  {
   "cell_type": "code",
   "execution_count": null,
   "id": "a0a04cfc",
   "metadata": {
    "ExecuteTime": {
     "end_time": "2023-04-05T21:11:37.058581Z",
     "start_time": "2023-04-05T21:11:34.495283Z"
    }
   },
   "outputs": [],
   "source": [
    "df_weather = pd.read_csv(f\"{WEATHER_DATA_FILE}\")\n",
    "df_weather[\"day_datetime\"] = pd.to_datetime(df_weather[\"day_datetime\"])"
   ]
  },
  {
   "cell_type": "code",
   "execution_count": null,
   "id": "0e649d36",
   "metadata": {
    "ExecuteTime": {
     "end_time": "2023-04-05T21:11:37.078974Z",
     "start_time": "2023-04-05T21:11:37.062612Z"
    }
   },
   "outputs": [],
   "source": [
    "df_weather.shape"
   ]
  },
  {
   "cell_type": "code",
   "execution_count": null,
   "id": "0f182f8e",
   "metadata": {
    "ExecuteTime": {
     "end_time": "2023-04-05T21:11:37.188787Z",
     "start_time": "2023-04-05T21:11:37.083397Z"
    }
   },
   "outputs": [],
   "source": [
    "df_weather.head(15)"
   ]
  },
  {
   "cell_type": "code",
   "execution_count": null,
   "id": "defcbb4d",
   "metadata": {
    "ExecuteTime": {
     "end_time": "2023-04-05T21:11:37.224522Z",
     "start_time": "2023-04-05T21:11:37.170409Z"
    }
   },
   "outputs": [],
   "source": [
    "# len(clmns)"
   ]
  },
  {
   "cell_type": "code",
   "execution_count": null,
   "id": "b2d92e99",
   "metadata": {
    "ExecuteTime": {
     "end_time": "2023-04-05T21:11:37.224522Z",
     "start_time": "2023-04-05T21:11:37.190815Z"
    }
   },
   "outputs": [],
   "source": [
    "# exclude\n",
    "weather_exclude = [\n",
    "    \"day_feelslikemax\",\n",
    "    \"day_feelslikemin\",\n",
    "    \"day_sunriseEpoch\",\n",
    "    \"day_sunsetEpoch\",\n",
    "    \"day_description\",\n",
    "    \"city_latitude\",\n",
    "    \"city_longitude\",\n",
    "    \"city_address\",\n",
    "    \"city_timezone\",\n",
    "    \"city_tzoffset\",\n",
    "    \"day_feelslike\",\n",
    "    \"day_precipprob\",\n",
    "    \"day_snow\",\n",
    "    \"day_snowdepth\",\n",
    "    \"day_windgust\",\n",
    "    \"day_windspeed\",\n",
    "    \"day_winddir\",\n",
    "    \"day_pressure\",\n",
    "    \"day_cloudcover\",\n",
    "    \"day_visibility\",\n",
    "    \"day_severerisk\",\n",
    "    \"day_conditions\",\n",
    "    \"day_icon\",\n",
    "    \"day_source\",\n",
    "    \"day_preciptype\",\n",
    "    \"day_stations\",\n",
    "    \"hour_icon\",\n",
    "    \"hour_source\",\n",
    "    \"hour_stations\",\n",
    "    \"hour_feelslike\",\n",
    "]"
   ]
  },
  {
   "cell_type": "code",
   "execution_count": null,
   "id": "95e9c9b9",
   "metadata": {
    "ExecuteTime": {
     "end_time": "2023-04-05T21:11:37.240144Z",
     "start_time": "2023-04-05T21:11:37.208880Z"
    }
   },
   "outputs": [],
   "source": [
    "# new_list = [x for x in clmns if (x not in weather_exclude)]\n",
    "# new_list"
   ]
  },
  {
   "cell_type": "code",
   "execution_count": null,
   "id": "0ce0ab81",
   "metadata": {
    "ExecuteTime": {
     "end_time": "2023-04-05T21:11:37.324798Z",
     "start_time": "2023-04-05T21:11:37.224522Z"
    }
   },
   "outputs": [],
   "source": [
    "df_weather_v2 = df_weather.drop(weather_exclude, axis=1)"
   ]
  },
  {
   "cell_type": "code",
   "execution_count": null,
   "id": "9fd632b4",
   "metadata": {
    "ExecuteTime": {
     "end_time": "2023-04-05T21:11:37.483985Z",
     "start_time": "2023-04-05T21:11:37.271394Z"
    }
   },
   "outputs": [],
   "source": [
    "df_weather_v2[\"city\"] = df_weather_v2[\"city_resolvedAddress\"].apply(\n",
    "    lambda x: x.split(\",\")[0]\n",
    ")\n",
    "df_weather_v2[\"city\"] = df_weather_v2[\"city\"].replace(\n",
    "    \"Хмельницька область\", \"Хмельницький\"\n",
    ")"
   ]
  },
  {
   "cell_type": "code",
   "execution_count": null,
   "id": "453ac798",
   "metadata": {
    "ExecuteTime": {
     "end_time": "2023-04-05T21:11:37.525269Z",
     "start_time": "2023-04-05T21:11:37.371668Z"
    },
    "scrolled": true
   },
   "outputs": [],
   "source": [
    "df_weather_v2.head(5)"
   ]
  },
  {
   "cell_type": "code",
   "execution_count": null,
   "id": "3136f5e6",
   "metadata": {
    "ExecuteTime": {
     "end_time": "2023-04-05T21:11:37.525269Z",
     "start_time": "2023-04-05T21:11:37.425066Z"
    }
   },
   "outputs": [],
   "source": [
    "df_weather_v2.shape"
   ]
  },
  {
   "cell_type": "markdown",
   "id": "0659498e",
   "metadata": {},
   "source": [
    "## merging data"
   ]
  },
  {
   "cell_type": "code",
   "execution_count": null,
   "id": "a3ad87a3",
   "metadata": {
    "ExecuteTime": {
     "end_time": "2023-04-05T21:11:37.525269Z",
     "start_time": "2023-04-05T21:11:37.440692Z"
    }
   },
   "outputs": [],
   "source": [
    "REGIONS_DATA_FOLDER = \"../external_data/additions\"\n",
    "REGIONS_DATA_FILE = \"regions.csv\"\n",
    "df_regions = pd.read_csv(f\"{REGIONS_DATA_FOLDER}/{REGIONS_DATA_FILE}\")"
   ]
  },
  {
   "cell_type": "code",
   "execution_count": null,
   "id": "7975da08",
   "metadata": {
    "ExecuteTime": {
     "end_time": "2023-04-05T21:11:37.525269Z",
     "start_time": "2023-04-05T21:11:37.462565Z"
    }
   },
   "outputs": [],
   "source": [
    "df_regions.head(5)"
   ]
  },
  {
   "cell_type": "code",
   "execution_count": null,
   "id": "9bdb0c29",
   "metadata": {
    "ExecuteTime": {
     "end_time": "2023-04-05T21:11:37.757078Z",
     "start_time": "2023-04-05T21:11:37.483985Z"
    }
   },
   "outputs": [],
   "source": [
    "df_weather_reg = pd.merge(\n",
    "    df_weather_v2, df_regions, left_on=\"city\", right_on=\"center_city_ua\"\n",
    ")"
   ]
  },
  {
   "cell_type": "code",
   "execution_count": null,
   "id": "e732c138",
   "metadata": {
    "ExecuteTime": {
     "end_time": "2023-04-05T21:11:37.803955Z",
     "start_time": "2023-04-05T21:11:37.603395Z"
    }
   },
   "outputs": [],
   "source": [
    "df_weather_reg.head(10)"
   ]
  },
  {
   "cell_type": "code",
   "execution_count": null,
   "id": "ad392ddf",
   "metadata": {
    "ExecuteTime": {
     "end_time": "2023-04-05T21:11:37.810469Z",
     "start_time": "2023-04-05T21:11:37.656802Z"
    }
   },
   "outputs": [],
   "source": [
    "df_weather_reg.shape"
   ]
  },
  {
   "cell_type": "code",
   "execution_count": null,
   "id": "13e88911",
   "metadata": {
    "ExecuteTime": {
     "end_time": "2023-04-05T21:11:37.810469Z",
     "start_time": "2023-04-05T21:11:37.672427Z"
    }
   },
   "outputs": [],
   "source": [
    "df_weather_v2.shape"
   ]
  },
  {
   "cell_type": "markdown",
   "id": "fadce0fe",
   "metadata": {},
   "source": [
    "### Merging weather and events"
   ]
  },
  {
   "cell_type": "code",
   "execution_count": null,
   "id": "84412a7d",
   "metadata": {
    "ExecuteTime": {
     "end_time": "2023-04-05T21:11:37.810469Z",
     "start_time": "2023-04-05T21:11:37.688052Z"
    }
   },
   "outputs": [],
   "source": [
    "# df_events_v2[\"start_hour_datetimeEpoch\"] = df_events_v2['start_hour'].apply(lambda x: int(x.strftime('%s'))  if not isNaN(x) else 0)\n",
    "# df_events_v2[\"end_hour_datetimeEpoch\"] = df_events_v2['end_hour'].apply(lambda x: int(x.strftime('%s'))  if not isNaN(x) else 0)"
   ]
  },
  {
   "cell_type": "code",
   "execution_count": null,
   "id": "37b962b1",
   "metadata": {
    "ExecuteTime": {
     "end_time": "2023-04-05T21:11:37.810469Z",
     "start_time": "2023-04-05T21:11:37.703677Z"
    }
   },
   "outputs": [],
   "source": [
    "df_events_v2.dtypes"
   ]
  },
  {
   "cell_type": "code",
   "execution_count": null,
   "id": "fd62824f",
   "metadata": {
    "ExecuteTime": {
     "end_time": "2023-04-05T21:11:37.810469Z",
     "start_time": "2023-04-05T21:11:37.725829Z"
    }
   },
   "outputs": [],
   "source": [
    "df_events_v2.shape"
   ]
  },
  {
   "cell_type": "code",
   "execution_count": null,
   "id": "29cb459c",
   "metadata": {
    "ExecuteTime": {
     "end_time": "2023-04-05T21:11:37.841734Z",
     "start_time": "2023-04-05T21:11:37.741454Z"
    }
   },
   "outputs": [],
   "source": [
    "df_events_v2.head(10)"
   ]
  },
  {
   "cell_type": "code",
   "execution_count": null,
   "id": "9991fde1",
   "metadata": {
    "ExecuteTime": {
     "end_time": "2023-04-05T21:11:38.205112Z",
     "start_time": "2023-04-05T21:11:37.772705Z"
    }
   },
   "outputs": [],
   "source": [
    "# df_events_v2_sample = df_events_v2.sample(10)\n",
    "# df_events_v2_sample.shape\n",
    "\n",
    "events_dict = df_events_v2.to_dict(\"records\")\n",
    "events_by_hour = []"
   ]
  },
  {
   "cell_type": "code",
   "execution_count": null,
   "id": "4ed1ff39",
   "metadata": {
    "ExecuteTime": {
     "end_time": "2023-04-05T21:11:38.227266Z",
     "start_time": "2023-04-05T21:11:38.142609Z"
    }
   },
   "outputs": [],
   "source": [
    "events_dict[0]"
   ]
  },
  {
   "cell_type": "code",
   "execution_count": null,
   "id": "a3af9259",
   "metadata": {
    "ExecuteTime": {
     "end_time": "2023-04-05T21:11:42.089039Z",
     "start_time": "2023-04-05T21:11:38.158237Z"
    },
    "collapsed": false
   },
   "outputs": [],
   "source": [
    "for event in events_dict:\n",
    "    for d in pd.date_range(start=event[\"start_hour\"], end=event[\"end_hour\"], freq=\"1H\"):\n",
    "        et = event.copy()\n",
    "        et[\"hour_level_event_time\"] = d\n",
    "        events_by_hour.append(et)"
   ]
  },
  {
   "cell_type": "code",
   "execution_count": null,
   "id": "5af28792",
   "metadata": {
    "ExecuteTime": {
     "end_time": "2023-04-05T21:11:42.506024Z",
     "start_time": "2023-04-05T21:11:42.089039Z"
    },
    "collapsed": false
   },
   "outputs": [],
   "source": [
    "df_events_v3 = pd.DataFrame.from_dict(events_by_hour)\n",
    "df_events_v3[\"hour_level_event_datetimeEpoch\"] = df_events_v3[\n",
    "    \"hour_level_event_time\"\n",
    "].apply(lambda x: int(x.timestamp()) if not isNaN(x) else None)"
   ]
  },
  {
   "cell_type": "code",
   "execution_count": null,
   "id": "33b3c316",
   "metadata": {
    "ExecuteTime": {
     "end_time": "2023-04-05T21:11:42.527676Z",
     "start_time": "2023-04-05T21:11:42.510789Z"
    }
   },
   "outputs": [],
   "source": [
    "df_events_v3.shape"
   ]
  },
  {
   "cell_type": "code",
   "execution_count": null,
   "id": "85c85f84",
   "metadata": {
    "ExecuteTime": {
     "end_time": "2023-04-05T21:11:42.590223Z",
     "start_time": "2023-04-05T21:11:42.527676Z"
    }
   },
   "outputs": [],
   "source": [
    "df_events_v3.head(15)"
   ]
  },
  {
   "cell_type": "code",
   "execution_count": null,
   "id": "aa796999",
   "metadata": {
    "ExecuteTime": {
     "end_time": "2023-04-05T21:11:42.605936Z",
     "start_time": "2023-04-05T21:11:42.558938Z"
    }
   },
   "outputs": [],
   "source": [
    "df_weather_reg.head(5)"
   ]
  },
  {
   "cell_type": "code",
   "execution_count": null,
   "id": "7be3ae80",
   "metadata": {
    "ExecuteTime": {
     "end_time": "2023-04-05T21:11:42.671285Z",
     "start_time": "2023-04-05T21:11:42.605936Z"
    }
   },
   "outputs": [],
   "source": [
    "df_weather_reg.shape"
   ]
  },
  {
   "cell_type": "code",
   "execution_count": null,
   "id": "85b4f508",
   "metadata": {
    "ExecuteTime": {
     "end_time": "2023-04-05T21:11:42.775065Z",
     "start_time": "2023-04-05T21:11:42.655651Z"
    }
   },
   "outputs": [],
   "source": [
    "df_events_v3.head(10)\n",
    "df_weather_reg.head(10)"
   ]
  },
  {
   "cell_type": "code",
   "execution_count": null,
   "id": "cfc7e841",
   "metadata": {
    "ExecuteTime": {
     "end_time": "2023-04-05T21:11:42.906601Z",
     "start_time": "2023-04-05T21:11:42.671285Z"
    }
   },
   "outputs": [],
   "source": [
    "df_events_v4 = df_events_v3.copy().add_prefix(\"event_\")\n",
    "df_events_v4.head(10)"
   ]
  },
  {
   "cell_type": "code",
   "execution_count": null,
   "id": "7c35dc66",
   "metadata": {
    "ExecuteTime": {
     "end_time": "2023-04-05T21:11:43.060285Z",
     "start_time": "2023-04-05T21:11:42.702539Z"
    }
   },
   "outputs": [],
   "source": [
    "df_weather_v4 = df_weather_reg.merge(\n",
    "    df_events_v4,\n",
    "    how=\"left\",\n",
    "    left_on=[\"region_alt\", \"hour_datetimeEpoch\"],\n",
    "    right_on=[\"event_region_title\", \"event_hour_level_event_datetimeEpoch\"],\n",
    ")"
   ]
  },
  {
   "cell_type": "code",
   "execution_count": null,
   "id": "ea0266bb",
   "metadata": {
    "ExecuteTime": {
     "end_time": "2023-04-05T21:11:46.189382Z",
     "start_time": "2023-04-05T21:11:42.906601Z"
    }
   },
   "outputs": [],
   "source": [
    "# Alarm data\n",
    "print(df_weather_v4.loc[~ isNaN(df_weather_v4['event_start'])].shape)\n",
    "print(df_weather_v4.loc[isNaN(df_weather_v4['event_start'])].shape)\n",
    "df_weather_v4['is_alarm'] = df_weather_v4.apply(lambda x: 0 if isNaN(x['event_start']) else 1, axis=1)\n",
    "no_alarms = df_weather_v4.loc[df_weather_v4['is_alarm'] == 0].size\n",
    "alarms = df_weather_v4.loc[df_weather_v4['is_alarm'] == 1].size\n",
    "print(f\"Alarm chane: {alarms / df_weather_v4.size}\")\n",
    "print(f\"No alarm: {no_alarms / df_weather_v4.size}\")\n",
    "# df_weather_v4.sample(5)"
   ]
  },
  {
   "cell_type": "code",
   "execution_count": null,
   "id": "de89b6e1",
   "metadata": {},
   "outputs": [],
   "source": [
    "# Merge isw data to df_weather_v4\n",
    "df_weather_v5 = pd.merge(\n",
    "    df_weather_v4,\n",
    "    df_isw[\n",
    "        [\n",
    "            \"Keywords\",\n",
    "            \"report_date\",\n",
    "            \"date_tomorrow_datetime\",\n",
    "            \"ukrainian_holiday\",\n",
    "            \"russian_holiday\",\n",
    "        ]\n",
    "    ],\n",
    "    left_on=\"day_datetime\",\n",
    "    right_on=\"report_date\",\n",
    ")\n",
    "df_weather_v6 = None\n",
    "df_weather_v5[df_weather_v5[\"event_start_time\"] > pd.to_datetime(0)].head(5)"
   ]
  },
  {
   "attachments": {},
   "cell_type": "markdown",
   "id": "971ff2a9",
   "metadata": {},
   "source": [
    "## Feature engineering"
   ]
  },
  {
   "attachments": {},
   "cell_type": "markdown",
   "id": "1762cfc0",
   "metadata": {},
   "source": [
    "### Number of alarms for this region during the last 24 hours"
   ]
  },
  {
   "attachments": {},
   "cell_type": "markdown",
   "id": "f1cddc4d",
   "metadata": {},
   "source": [
    "Use DuckDB for analytics as running with Pandas and Python taking too long."
   ]
  },
  {
   "cell_type": "code",
   "execution_count": null,
   "id": "687ca005",
   "metadata": {},
   "outputs": [],
   "source": [
    "%%sql\n",
    "df_weather_v6 << select df.*, alarm_count.events_last_24_hrs\n",
    "from df_weather_v5 df\n",
    "         inner join (select out.region_id,\n",
    "                            out.hour_datetimeEpoch,\n",
    "                            count(*) as events_last_24_hrs\n",
    "                     from df_weather_v5 out\n",
    "                              inner join df_weather_v5 inn\n",
    "                                         on out.region_id = inn.region_id\n",
    "                     where inn.is_alarm = 1\n",
    "                       and inn.event_start_time::timestamp\n",
    "                        between\n",
    "                        (epoch_ms(out.hour_datetimeEpoch * 1000) - '24 HOURS'::interval)\n",
    "                            and epoch_ms(out.hour_datetimeEpoch * 1000)\n",
    "                     group by out.region_id, out.hour_datetimeEpoch) as alarm_count\n",
    "        on df.region_id = alarm_count.region_id and df.hour_datetimeEpoch = alarm_count.hour_datetimeEpoch;"
   ]
  },
  {
   "cell_type": "code",
   "execution_count": null,
   "id": "3d01d5b5",
   "metadata": {},
   "outputs": [],
   "source": [
    "df_weather_v6.tail(100)"
   ]
  },
  {
   "cell_type": "code",
   "execution_count": null,
   "id": "70d5a6d6",
   "metadata": {},
   "outputs": [],
   "source": [
    "# Add day of week name\n",
    "df_weather_v6[\"day_of_week\"] = df_weather_v6[\"day_datetime\"].apply(\n",
    "    lambda date: pd.to_datetime(date).day_name()\n",
    ")\n",
    "\n",
    "df_weather_v6[[\"day_datetime\", \"day_of_week\"]].head(10)"
   ]
  },
  {
   "cell_type": "code",
   "execution_count": null,
   "id": "ec7d34a3",
   "metadata": {},
   "outputs": [],
   "source": [
    "# Encode days of week into one hot encoding for linear regression\n",
    "df_weather_v6 = pd.get_dummies(\n",
    "    df_weather_v6, columns=[\"day_of_week\"], prefix=[\"day_of_week\"]\n",
    ")\n",
    "\n",
    "df_weather_v6[\n",
    "    [\n",
    "        \"day_datetime\",\n",
    "        \"day_of_week_Monday\",\n",
    "        \"day_of_week_Tuesday\",\n",
    "        \"day_of_week_Wednesday\",\n",
    "        \"day_of_week_Thursday\",\n",
    "        \"day_of_week_Friday\",\n",
    "        \"day_of_week_Saturday\",\n",
    "        \"day_of_week_Sunday\",\n",
    "    ]\n",
    "].head(10)"
   ]
  },
  {
   "cell_type": "code",
   "execution_count": null,
   "id": "6cd12c73",
   "metadata": {},
   "outputs": [],
   "source": [
    "# Add holidays to df_weather_v6\n",
    "add_ukrainian_holidays(\n",
    "    df_weather_v6, day_datetime_column=\"day_datetime\", column_name=\"ukrainian_holiday\"\n",
    ")\n",
    "add_russian_holidays(\n",
    "    df_weather_v6, day_datetime_column=\"day_datetime\", column_name=\"russian_holiday\"\n",
    ")\n",
    "#\n",
    "print(df_weather_v6.shape)\n",
    "print(df_weather_v6.loc[df_weather_v6[\"ukrainian_holiday\"] == 1].shape)\n",
    "print(df_weather_v6.loc[df_weather_v6[\"russian_holiday\"] == 1].shape)"
   ]
  },
  {
   "cell_type": "markdown",
   "id": "9aade1ad",
   "metadata": {
    "collapsed": false
   },
   "source": [
    "### Handle categorical data"
   ]
  },
  {
   "cell_type": "code",
   "execution_count": null,
   "id": "61419e95",
   "metadata": {
    "ExecuteTime": {
     "end_time": "2023-04-05T21:12:23.591830Z",
     "start_time": "2023-04-05T21:12:23.467523Z"
    },
    "collapsed": false
   },
   "outputs": [],
   "source": [
    "df_weather_v6[\"hour_conditions\"] = pd.Categorical(df_weather_v6['hour_conditions'])\n",
    "# df_weather_v5[\"hour_conditions\"].astype('category')\n",
    "# weather_condition_categories = df_weather_v5[\"hour_conditions\"].cat.categories.values\n",
    "# weather_condition_categories\n",
    "df_weather_v6[\"hour_conditions_code\"] = df_weather_v6[\"hour_conditions\"].cat.codes\n",
    "df_weather_v6[[\"hour_conditions\", \"hour_conditions_code\"]].head(5)"
   ]
  },
  {
   "cell_type": "markdown",
   "id": "dce1b91d",
   "metadata": {
    "collapsed": false
   },
   "source": [
    "### Save final merged dataframe"
   ]
  },
  {
   "cell_type": "code",
   "execution_count": null,
   "id": "f1a432d4",
   "metadata": {
    "ExecuteTime": {
     "end_time": "2023-04-05T21:12:30.766373Z",
     "start_time": "2023-04-05T21:12:23.576202Z"
    }
   },
   "outputs": [],
   "source": [
    "df_weather_v6.to_csv(\n",
    "    f\"{OUTPUT_FOLDER}/{WEATHER_EVENTS_OUTPUT_DATA_FILE}\", sep=\";\", index=False\n",
    ")"
   ]
  },
  {
   "cell_type": "code",
   "execution_count": null,
   "id": "2f0d45ad",
   "metadata": {
    "ExecuteTime": {
     "end_time": "2023-04-05T21:12:30.786553Z",
     "start_time": "2023-04-05T21:12:30.770125Z"
    },
    "collapsed": false
   },
   "outputs": [],
   "source": [
    "# Uncomment to save final merged dataset ~4G\n",
    "# df_weather_v5.to_csv(\n",
    "#     f\"{OUTPUT_FOLDER}/all_hourly_weather_events_final.csv\", sep=\";\", index=False\n",
    "# )"
   ]
  },
  {
   "cell_type": "markdown",
   "id": "975d9b69",
   "metadata": {
    "collapsed": false
   },
   "source": [
    "### Test LinearRegression"
   ]
  },
  {
   "cell_type": "code",
   "execution_count": null,
   "id": "dfe3887a",
   "metadata": {
    "ExecuteTime": {
     "end_time": "2023-04-05T21:12:31.811443Z",
     "start_time": "2023-04-05T21:12:30.786553Z"
    },
    "collapsed": false
   },
   "outputs": [],
   "source": [
    "import numpy as np\n",
    "\n",
    "from sklearn.model_selection import train_test_split\n",
    "\n",
    "from sklearn.linear_model import LinearRegression\n",
    "\n",
    "df_final = df_weather_v6\n",
    "\n",
    "# Fill NaN values\n",
    "df_final[[\"event_all_region\"]] = df_final[[\"event_all_region\"]].fillna(value=0)\n",
    "\n",
    "# Separating the data into independent and dependent variables\n",
    "# Converting each dataframe into a numpy array\n",
    "X = np.array(\n",
    "    df_final[\n",
    "        [\n",
    "            \"region_id\",\n",
    "            \"event_all_region\",\n",
    "            \"day_datetimeEpoch\",\n",
    "            \"hour_datetimeEpoch\",\n",
    "            \"ukrainian_holiday\",\n",
    "            \"russian_holiday\",\n",
    "            \"hour_temp\",\n",
    "            \"hour_snow\",\n",
    "            \"hour_visibility\",\n",
    "            \"hour_conditions_code\",\n",
    "            \"day_of_week_Monday\",\n",
    "            \"day_of_week_Tuesday\",\n",
    "            \"day_of_week_Wednesday\",\n",
    "            \"day_of_week_Thursday\",\n",
    "            \"day_of_week_Friday\",\n",
    "            \"day_of_week_Saturday\",\n",
    "            \"day_of_week_Sunday\",\n",
    "        ]\n",
    "    ]\n",
    ")\n",
    "y = np.array(df_final[\"is_alarm\"])\n",
    "\n",
    "# Dropping any rows with Nan values\n",
    "# df_final.dropna(inplace = True)\n",
    "\n",
    "# Splitting the data into training and testing data\n",
    "X_train, X_test, y_train, y_test = train_test_split(\n",
    "    X, y, test_size=0.25, random_state=101\n",
    ")\n",
    "\n",
    "# LinerRegression\n",
    "regr = LinearRegression()\n",
    "#\n",
    "regr.fit(X_train, y_train)\n",
    "#\n",
    "print(regr.score(X_test, y_test))\n",
    "# df_weather_v4 -      0.7357812097367479\n",
    "# df_weather_v5 -      0.728836911878402\n",
    "# hours with no alarm - 0.7475497734309323"
   ]
  }
 ],
 "metadata": {
  "kernelspec": {
   "display_name": "Python 3 (ipykernel)",
   "language": "python",
   "name": "python3"
  },
  "language_info": {
   "codemirror_mode": {
    "name": "ipython",
    "version": 3
   },
   "file_extension": ".py",
   "mimetype": "text/x-python",
   "name": "python",
   "nbconvert_exporter": "python",
   "pygments_lexer": "ipython3",
   "version": "3.11.2"
  }
 },
 "nbformat": 4,
 "nbformat_minor": 5
}
