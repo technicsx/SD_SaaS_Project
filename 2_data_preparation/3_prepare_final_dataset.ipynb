{
 "cells": [
  {
   "cell_type": "code",
   "execution_count": null,
   "id": "4ba95462",
   "metadata": {
    "ExecuteTime": {
     "start_time": "2023-04-08T16:47:46.518183Z",
     "end_time": "2023-04-08T16:47:53.484440Z"
    }
   },
   "outputs": [],
   "source": [
    "%pip install duckdb\n",
    "%pip install jupysql\n",
    "%pip install duckdb-engine\n",
    "\n",
    "import datetime\n",
    "import numpy as np\n",
    "import pandas as pd\n",
    "import pickle\n",
    "import os\n",
    "\n",
    "from dotenv import load_dotenv\n",
    "\n",
    "from holidays_feature.holidays_feature import add_ukrainian_holidays\n",
    "from holidays_feature.holidays_feature import add_russian_holidays\n",
    "from eclipses_feature.eclipses_feature import add_lunar_eclipses\n",
    "from eclipses_feature.eclipses_feature import add_solar_eclipses\n",
    "\n",
    "import duckdb\n",
    "\n",
    "%load_ext sql\n",
    "%config SqlMagic.autopandas = True\n",
    "%config SqlMagic.feedback = False\n",
    "%config SqlMagic.displaycon = False\n",
    "\n",
    "%sql duckdb:///:memory:\n",
    "\n",
    "load_dotenv(\"../.path_env\")"
   ]
  },
  {
   "cell_type": "code",
   "execution_count": null,
   "id": "c5f8b892",
   "metadata": {
    "ExecuteTime": {
     "start_time": "2023-04-08T16:47:53.485443Z",
     "end_time": "2023-04-08T16:47:53.487226Z"
    }
   },
   "outputs": [],
   "source": [
    "pd.set_option(\"display.max_columns\", None)\n",
    "pd.set_option(\"display.max_rows\", None)"
   ]
  },
  {
   "cell_type": "code",
   "execution_count": null,
   "id": "c37b5162",
   "metadata": {
    "ExecuteTime": {
     "start_time": "2023-04-08T16:47:53.488227Z",
     "end_time": "2023-04-08T16:47:53.496393Z"
    }
   },
   "outputs": [],
   "source": [
    "REPORTS_DATA_FILE = \"./results/tfidf.csv\"\n",
    "\n",
    "# specifying the input folder\n",
    "REPORTS_DATA_FILE = \"../\" + os.getenv(\"ISW_TF_IDF_RESULT\")\n",
    "OUTPUT_FOLDER = \"results\"\n",
    "ISW_OUTPUT_DATA_FILE = \"all_isw.csv\"\n",
    "WEATHER_EVENTS_OUTPUT_DATA_FILE = \"all_hourly_weather_events.csv\"\n",
    "\n",
    "MODEL_FOLDER = \"model\"\n",
    "\n",
    "tfidf_transformer_model = \"tfidf_transformer\"\n",
    "count_vectorizer_model = \"count_vectorizer\"\n",
    "\n",
    "tfidf_transformer_version = \"v1\"\n",
    "count_vectorizer_version = \"v1\""
   ]
  },
  {
   "cell_type": "code",
   "execution_count": null,
   "id": "699f3dc8",
   "metadata": {
    "ExecuteTime": {
     "start_time": "2023-04-08T16:47:53.497393Z",
     "end_time": "2023-04-08T16:47:53.505239Z"
    }
   },
   "outputs": [],
   "source": [
    "def isNaN(num):\n",
    "    return num != num"
   ]
  },
  {
   "cell_type": "markdown",
   "id": "c78b36e9",
   "metadata": {},
   "source": [
    "## reading data"
   ]
  },
  {
   "cell_type": "code",
   "execution_count": null,
   "id": "f2dac73d",
   "metadata": {
    "ExecuteTime": {
     "start_time": "2023-04-08T16:47:53.506240Z",
     "end_time": "2023-04-08T16:47:53.571489Z"
    }
   },
   "outputs": [],
   "source": [
    "df_isw = pd.read_csv(f\"{REPORTS_DATA_FILE}\", sep=\",\")"
   ]
  },
  {
   "cell_type": "code",
   "execution_count": null,
   "id": "028a3a1d",
   "metadata": {
    "ExecuteTime": {
     "start_time": "2023-04-08T16:47:53.571489Z",
     "end_time": "2023-04-08T16:47:53.579302Z"
    }
   },
   "outputs": [],
   "source": [
    "df_isw.head(5)"
   ]
  },
  {
   "cell_type": "markdown",
   "id": "a557a7ed",
   "metadata": {},
   "source": [
    "## preparing ISW reports"
   ]
  },
  {
   "cell_type": "markdown",
   "id": "b08a5bed",
   "metadata": {},
   "source": [
    "## reading models"
   ]
  },
  {
   "cell_type": "code",
   "execution_count": null,
   "id": "d9ddffee",
   "metadata": {
    "ExecuteTime": {
     "start_time": "2023-04-08T16:47:53.578301Z",
     "end_time": "2023-04-08T16:47:53.583319Z"
    }
   },
   "outputs": [],
   "source": [
    "# #load the content\n",
    "# tfidf = pickle.load(open(f\"{MODEL_FOLDER}/{tfidf_transformer_model}_{tfidf_transformer_version}.pkl\", \"rb\"))\n",
    "# cv = pickle.load(open(f\"{MODEL_FOLDER}/{count_vectorizer_model}_{count_vectorizer_version}.pkl\", \"rb\"))"
   ]
  },
  {
   "cell_type": "code",
   "execution_count": null,
   "id": "88a435a4",
   "metadata": {
    "ExecuteTime": {
     "start_time": "2023-04-08T16:47:53.584319Z",
     "end_time": "2023-04-08T16:47:53.592319Z"
    }
   },
   "outputs": [],
   "source": [
    "# df_isw['keywords'] = df_isw['text_preprocessed_lemm'].apply(lambda x: tf_idf.conver_doc_to_vector(x,cv,tfidf))"
   ]
  },
  {
   "cell_type": "code",
   "execution_count": null,
   "id": "6fc96d61",
   "metadata": {
    "ExecuteTime": {
     "start_time": "2023-04-08T16:47:53.593319Z",
     "end_time": "2023-04-08T16:47:53.624693Z"
    }
   },
   "outputs": [],
   "source": [
    "# df_isw.head(5)"
   ]
  },
  {
   "cell_type": "code",
   "execution_count": null,
   "id": "3d09da4f",
   "metadata": {
    "ExecuteTime": {
     "start_time": "2023-04-08T16:47:53.604320Z",
     "end_time": "2023-04-08T16:47:53.647693Z"
    }
   },
   "outputs": [],
   "source": [
    "df_isw[\"date_datetime\"] = pd.to_datetime(df_isw[\"Date\"])"
   ]
  },
  {
   "cell_type": "code",
   "execution_count": null,
   "id": "84625aed",
   "metadata": {
    "ExecuteTime": {
     "start_time": "2023-04-08T16:47:53.613330Z",
     "end_time": "2023-04-08T16:47:53.671692Z"
    }
   },
   "outputs": [],
   "source": [
    "df_isw[\"date_tomorrow_datetime\"] = df_isw[\"date_datetime\"].apply(\n",
    "    lambda x: x + datetime.timedelta(days=1)\n",
    ")\n",
    "df_isw[\"event_time\"] = np.nan"
   ]
  },
  {
   "cell_type": "code",
   "execution_count": null,
   "id": "6c9524e5",
   "metadata": {
    "ExecuteTime": {
     "start_time": "2023-04-08T16:47:53.624693Z",
     "end_time": "2023-04-08T16:47:53.763883Z"
    }
   },
   "outputs": [],
   "source": [
    "df_isw = df_isw.rename(columns={\"date_datetime\": \"report_date\"})\n",
    "df_isw.to_csv(f\"{OUTPUT_FOLDER}/{ISW_OUTPUT_DATA_FILE}\", sep=\";\", index=False)"
   ]
  },
  {
   "cell_type": "code",
   "execution_count": null,
   "id": "f861134e",
   "metadata": {
    "ExecuteTime": {
     "start_time": "2023-04-08T16:47:53.764884Z",
     "end_time": "2023-04-08T16:47:53.823746Z"
    }
   },
   "outputs": [],
   "source": [
    "# Add holidays data to df_isw\n",
    "add_ukrainian_holidays(df_isw, day_datetime_column='report_date', column_name='ukrainian_holiday')\n",
    "add_russian_holidays(df_isw, day_datetime_column='report_date', column_name='russian_holiday')\n",
    "# df_isw.loc[df_isw['ukrainian_holiday'] == 1]"
   ]
  },
  {
   "cell_type": "code",
   "execution_count": null,
   "outputs": [],
   "source": [
    "# df_isw.where(df_isw['ukrainian_holiday'] == 1)\n",
    "# df_isw.sample(5)\n",
    "# df_isw.loc[df_isw['ukrainian_holiday'] == 0].shape\n",
    "# df_isw.shape\n",
    "# df_isw.loc[df_isw['russian_holiday'] == 1]\n",
    "# df_isw.loc[df_isw['ukrainian_holiday'] == 1]"
   ],
   "metadata": {
    "collapsed": false,
    "ExecuteTime": {
     "start_time": "2023-04-08T16:47:53.825110Z",
     "end_time": "2023-04-08T16:47:53.826621Z"
    }
   }
  },
  {
   "cell_type": "markdown",
   "id": "3b306d5f",
   "metadata": {},
   "source": [
    "## prepare events data"
   ]
  },
  {
   "cell_type": "code",
   "execution_count": null,
   "id": "43a0cf0e",
   "metadata": {
    "ExecuteTime": {
     "start_time": "2023-04-08T16:47:53.827620Z",
     "end_time": "2023-04-08T16:47:53.836545Z"
    }
   },
   "outputs": [],
   "source": [
    "EVENTS_DATA_FILE = \"../\" + os.getenv(\"ALARMS_DATA_FILE\")"
   ]
  },
  {
   "cell_type": "code",
   "execution_count": null,
   "id": "25edb612",
   "metadata": {
    "ExecuteTime": {
     "start_time": "2023-04-08T16:47:53.837545Z",
     "end_time": "2023-04-08T16:47:53.880675Z"
    }
   },
   "outputs": [],
   "source": [
    "df_events = pd.read_csv(f\"{EVENTS_DATA_FILE}\", sep=\";\")"
   ]
  },
  {
   "cell_type": "code",
   "execution_count": null,
   "id": "f1d9e1cd",
   "metadata": {
    "ExecuteTime": {
     "start_time": "2023-04-08T16:47:53.882675Z",
     "end_time": "2023-04-08T16:47:53.886262Z"
    }
   },
   "outputs": [],
   "source": [
    "df_events_v2 = df_events.drop([\"id\", \"region_id\"], axis=1)\n",
    "df_events_v2[\"event_time\"] = np.nan"
   ]
  },
  {
   "cell_type": "code",
   "execution_count": null,
   "id": "07ff2ea6",
   "metadata": {
    "ExecuteTime": {
     "start_time": "2023-04-08T16:47:53.887262Z",
     "end_time": "2023-04-08T16:47:53.894739Z"
    }
   },
   "outputs": [],
   "source": [
    "df_events_v2.head(5)\n",
    "df_events_v2.shape"
   ]
  },
  {
   "cell_type": "code",
   "execution_count": null,
   "id": "47131ae1",
   "metadata": {
    "ExecuteTime": {
     "start_time": "2023-04-08T16:47:53.895734Z",
     "end_time": "2023-04-08T16:47:53.903056Z"
    }
   },
   "outputs": [],
   "source": [
    "# df_events_v2[\"start_time\"] = df_events_v2.apply(lambda x: x[\"start\"] if not isNaN(x[\"start\"]) else x[\"event_time\"] , axis=1)\n",
    "# df_events_v2[\"end_time\"] = df_events_v2.apply(lambda x: x[\"end\"] if not isNaN(x[\"end\"]) else x[\"event_time\"], axis=1)"
   ]
  },
  {
   "cell_type": "code",
   "execution_count": null,
   "id": "3b0a9a3e",
   "metadata": {
    "ExecuteTime": {
     "start_time": "2023-04-08T16:47:53.904055Z",
     "end_time": "2023-04-08T16:47:53.939306Z"
    }
   },
   "outputs": [],
   "source": [
    "df_events_v2[\"start_time\"] = pd.to_datetime(df_events_v2[\"start\"])\n",
    "df_events_v2[\"end_time\"] = pd.to_datetime(df_events_v2[\"end\"])\n",
    "df_events_v2[\"event_time\"] = pd.to_datetime(df_events_v2[\"event_time\"])"
   ]
  },
  {
   "cell_type": "code",
   "execution_count": null,
   "id": "ef3ca6ca",
   "metadata": {
    "ExecuteTime": {
     "start_time": "2023-04-08T16:47:53.938305Z",
     "end_time": "2023-04-08T16:47:53.943538Z"
    }
   },
   "outputs": [],
   "source": [
    "df_events_v2[\"start_hour\"] = df_events_v2[\"start_time\"].dt.floor(\"H\")\n",
    "df_events_v2[\"end_hour\"] = df_events_v2[\"end_time\"].dt.ceil(\"H\")\n",
    "df_events_v2[\"event_hour\"] = df_events_v2[\"event_time\"].dt.round(\"H\")"
   ]
  },
  {
   "cell_type": "code",
   "execution_count": null,
   "id": "a81033f5",
   "metadata": {
    "ExecuteTime": {
     "start_time": "2023-04-08T16:47:53.944537Z",
     "end_time": "2023-04-08T16:47:54.437400Z"
    }
   },
   "outputs": [],
   "source": [
    "df_events_v2[\"start_hour\"] = df_events_v2.apply(\n",
    "    lambda x: x[\"start_hour\"] if not isNaN(x[\"start_hour\"]) else x[\"event_hour\"], axis=1\n",
    ")\n",
    "df_events_v2[\"end_hour\"] = df_events_v2.apply(\n",
    "    lambda x: x[\"end_hour\"] if not isNaN(x[\"end_hour\"]) else x[\"event_hour\"], axis=1\n",
    ")"
   ]
  },
  {
   "cell_type": "code",
   "execution_count": null,
   "id": "71b0f0d4",
   "metadata": {
    "ExecuteTime": {
     "start_time": "2023-04-08T16:47:54.428399Z",
     "end_time": "2023-04-08T16:47:54.531775Z"
    }
   },
   "outputs": [],
   "source": [
    "df_events_v2[\"day_date\"] = df_events_v2[\"start_time\"].dt.date\n",
    "\n",
    "df_events_v2.head(10)\n",
    "\n",
    "df_events_v2[\"start_hour_datetimeEpoch\"] = df_events_v2[\"start_hour\"].apply(\n",
    "    lambda x: int(x.timestamp()) if not isNaN(x) else None\n",
    ")\n",
    "df_events_v2[\"end_hour_datetimeEpoch\"] = df_events_v2[\"end_hour\"].apply(\n",
    "    lambda x: int(x.timestamp()) if not isNaN(x) else None\n",
    ")\n",
    "\n",
    "# df_events_v2.head(10)"
   ]
  },
  {
   "cell_type": "code",
   "execution_count": null,
   "id": "eb0bcc6b",
   "metadata": {
    "ExecuteTime": {
     "start_time": "2023-04-08T16:47:54.532294Z",
     "end_time": "2023-04-08T16:47:54.533810Z"
    }
   },
   "outputs": [],
   "source": [
    "# df_events_v2[~(df_events_v2[\"type\"]==\"alarm\")].shape"
   ]
  },
  {
   "cell_type": "code",
   "execution_count": null,
   "id": "1a38b3c1",
   "metadata": {
    "ExecuteTime": {
     "start_time": "2023-04-08T16:47:54.534812Z",
     "end_time": "2023-04-08T16:47:54.543285Z"
    }
   },
   "outputs": [],
   "source": [
    "# df_events_v2[~(df_events_v2[\"type\"]==\"alarm\")].head(5)"
   ]
  },
  {
   "cell_type": "code",
   "execution_count": null,
   "id": "6e7ebd70",
   "metadata": {
    "ExecuteTime": {
     "start_time": "2023-04-08T16:47:54.544283Z",
     "end_time": "2023-04-08T16:47:54.552282Z"
    }
   },
   "outputs": [],
   "source": [
    "# df_events_v2[df_events_v2[\"type\"]==\"alarm\"].shape"
   ]
  },
  {
   "cell_type": "markdown",
   "id": "86c852f0",
   "metadata": {},
   "source": [
    "## prepare weather"
   ]
  },
  {
   "cell_type": "code",
   "execution_count": null,
   "id": "79829a50",
   "metadata": {
    "ExecuteTime": {
     "start_time": "2023-04-08T16:47:54.553283Z",
     "end_time": "2023-04-08T16:47:54.572395Z"
    }
   },
   "outputs": [],
   "source": [
    "WEATHER_DATA_FILE = \"../\" + os.getenv(\"WEATHER_DATA_FILE\")"
   ]
  },
  {
   "cell_type": "code",
   "execution_count": null,
   "id": "a0a04cfc",
   "metadata": {
    "ExecuteTime": {
     "start_time": "2023-04-08T16:47:54.565395Z",
     "end_time": "2023-04-08T16:47:55.570570Z"
    }
   },
   "outputs": [],
   "source": [
    "df_weather = pd.read_csv(f\"{WEATHER_DATA_FILE}\")\n",
    "df_weather[\"day_datetime\"] = pd.to_datetime(df_weather[\"day_datetime\"])"
   ]
  },
  {
   "cell_type": "code",
   "execution_count": null,
   "id": "0e649d36",
   "metadata": {
    "ExecuteTime": {
     "start_time": "2023-04-08T16:47:55.571576Z",
     "end_time": "2023-04-08T16:47:55.575107Z"
    }
   },
   "outputs": [],
   "source": [
    "df_weather.shape"
   ]
  },
  {
   "cell_type": "code",
   "execution_count": null,
   "id": "0f182f8e",
   "metadata": {
    "ExecuteTime": {
     "start_time": "2023-04-08T16:47:55.576107Z",
     "end_time": "2023-04-08T16:47:55.643092Z"
    }
   },
   "outputs": [],
   "source": [
    "df_weather.head(15)"
   ]
  },
  {
   "cell_type": "code",
   "execution_count": null,
   "id": "defcbb4d",
   "metadata": {
    "ExecuteTime": {
     "start_time": "2023-04-08T16:47:55.628756Z",
     "end_time": "2023-04-08T16:47:55.643092Z"
    }
   },
   "outputs": [],
   "source": [
    "# len(clmns)"
   ]
  },
  {
   "cell_type": "code",
   "execution_count": null,
   "id": "b2d92e99",
   "metadata": {
    "ExecuteTime": {
     "start_time": "2023-04-08T16:47:55.631269Z",
     "end_time": "2023-04-08T16:47:55.643092Z"
    }
   },
   "outputs": [],
   "source": [
    "# exclude\n",
    "weather_exclude = [\n",
    "    \"day_feelslikemax\",\n",
    "    \"day_feelslikemin\",\n",
    "    \"day_sunriseEpoch\",\n",
    "    \"day_sunsetEpoch\",\n",
    "    \"day_description\",\n",
    "    \"city_latitude\",\n",
    "    \"city_longitude\",\n",
    "    \"city_address\",\n",
    "    \"city_timezone\",\n",
    "    \"city_tzoffset\",\n",
    "    \"day_feelslike\",\n",
    "    \"day_precipprob\",\n",
    "    \"day_snow\",\n",
    "    \"day_snowdepth\",\n",
    "    \"day_windgust\",\n",
    "    \"day_windspeed\",\n",
    "    \"day_winddir\",\n",
    "    \"day_pressure\",\n",
    "    \"day_cloudcover\",\n",
    "    \"day_visibility\",\n",
    "    \"day_severerisk\",\n",
    "    \"day_conditions\",\n",
    "    \"day_icon\",\n",
    "    \"day_source\",\n",
    "    \"day_preciptype\",\n",
    "    \"day_stations\",\n",
    "    \"hour_icon\",\n",
    "    \"hour_source\",\n",
    "    \"hour_stations\",\n",
    "    \"hour_feelslike\",\n",
    "]"
   ]
  },
  {
   "cell_type": "code",
   "execution_count": null,
   "id": "95e9c9b9",
   "metadata": {
    "ExecuteTime": {
     "start_time": "2023-04-08T16:47:55.641093Z",
     "end_time": "2023-04-08T16:47:55.649093Z"
    }
   },
   "outputs": [],
   "source": [
    "# new_list = [x for x in clmns if (x not in weather_exclude)]\n",
    "# new_list"
   ]
  },
  {
   "cell_type": "code",
   "execution_count": null,
   "id": "0ce0ab81",
   "metadata": {
    "ExecuteTime": {
     "start_time": "2023-04-08T16:47:55.649093Z",
     "end_time": "2023-04-08T16:47:55.681093Z"
    }
   },
   "outputs": [],
   "source": [
    "df_weather_v2 = df_weather.drop(weather_exclude, axis=1)"
   ]
  },
  {
   "cell_type": "code",
   "execution_count": null,
   "id": "9fd632b4",
   "metadata": {
    "ExecuteTime": {
     "start_time": "2023-04-08T16:47:55.673096Z",
     "end_time": "2023-04-08T16:47:55.763013Z"
    }
   },
   "outputs": [],
   "source": [
    "df_weather_v2[\"city\"] = df_weather_v2[\"city_resolvedAddress\"].apply(\n",
    "    lambda x: x.split(\",\")[0]\n",
    ")\n",
    "df_weather_v2[\"city\"] = df_weather_v2[\"city\"].replace(\n",
    "    \"Хмельницька область\", \"Хмельницький\"\n",
    ")"
   ]
  },
  {
   "cell_type": "code",
   "execution_count": null,
   "id": "453ac798",
   "metadata": {
    "ExecuteTime": {
     "start_time": "2023-04-08T16:47:55.730098Z",
     "end_time": "2023-04-08T16:47:55.764013Z"
    },
    "scrolled": true
   },
   "outputs": [],
   "source": [
    "df_weather_v2.head(5)"
   ]
  },
  {
   "cell_type": "code",
   "execution_count": null,
   "id": "3136f5e6",
   "metadata": {
    "ExecuteTime": {
     "start_time": "2023-04-08T16:47:55.751529Z",
     "end_time": "2023-04-08T16:47:55.764013Z"
    }
   },
   "outputs": [],
   "source": [
    "df_weather_v2.shape"
   ]
  },
  {
   "cell_type": "markdown",
   "id": "0659498e",
   "metadata": {},
   "source": [
    "## merging data"
   ]
  },
  {
   "cell_type": "code",
   "execution_count": null,
   "id": "a3ad87a3",
   "metadata": {
    "ExecuteTime": {
     "start_time": "2023-04-08T16:47:55.760014Z",
     "end_time": "2023-04-08T16:47:55.770801Z"
    }
   },
   "outputs": [],
   "source": [
    "REGIONS_DATA_FOLDER = \"../external_data/additions\"\n",
    "REGIONS_DATA_FILE = \"regions.csv\"\n",
    "df_regions = pd.read_csv(f\"{REGIONS_DATA_FOLDER}/{REGIONS_DATA_FILE}\")"
   ]
  },
  {
   "cell_type": "code",
   "execution_count": null,
   "id": "7975da08",
   "metadata": {
    "ExecuteTime": {
     "start_time": "2023-04-08T16:47:55.769800Z",
     "end_time": "2023-04-08T16:47:55.785467Z"
    }
   },
   "outputs": [],
   "source": [
    "df_regions.head(5)"
   ]
  },
  {
   "cell_type": "code",
   "execution_count": null,
   "id": "9bdb0c29",
   "metadata": {
    "ExecuteTime": {
     "start_time": "2023-04-08T16:47:55.780467Z",
     "end_time": "2023-04-08T16:47:55.883277Z"
    }
   },
   "outputs": [],
   "source": [
    "df_weather_reg = pd.merge(\n",
    "    df_weather_v2, df_regions, left_on=\"city\", right_on=\"center_city_ua\"\n",
    ")"
   ]
  },
  {
   "cell_type": "code",
   "execution_count": null,
   "id": "e732c138",
   "metadata": {
    "ExecuteTime": {
     "start_time": "2023-04-08T16:47:55.823163Z",
     "end_time": "2023-04-08T16:47:55.933521Z"
    }
   },
   "outputs": [],
   "source": [
    "df_weather_reg.head(10)"
   ]
  },
  {
   "cell_type": "code",
   "execution_count": null,
   "id": "ad392ddf",
   "metadata": {
    "ExecuteTime": {
     "start_time": "2023-04-08T16:47:55.851171Z",
     "end_time": "2023-04-08T16:47:55.933521Z"
    }
   },
   "outputs": [],
   "source": [
    "df_weather_reg.shape"
   ]
  },
  {
   "cell_type": "code",
   "execution_count": null,
   "id": "13e88911",
   "metadata": {
    "ExecuteTime": {
     "start_time": "2023-04-08T16:47:55.855246Z",
     "end_time": "2023-04-08T16:47:55.933521Z"
    }
   },
   "outputs": [],
   "source": [
    "df_weather_v2.shape"
   ]
  },
  {
   "cell_type": "markdown",
   "id": "fadce0fe",
   "metadata": {},
   "source": [
    "### Merging weather and events"
   ]
  },
  {
   "cell_type": "code",
   "execution_count": null,
   "id": "84412a7d",
   "metadata": {
    "ExecuteTime": {
     "start_time": "2023-04-08T16:47:55.864277Z",
     "end_time": "2023-04-08T16:47:55.934521Z"
    }
   },
   "outputs": [],
   "source": [
    "# df_events_v2[\"start_hour_datetimeEpoch\"] = df_events_v2['start_hour'].apply(lambda x: int(x.strftime('%s'))  if not isNaN(x) else 0)\n",
    "# df_events_v2[\"end_hour_datetimeEpoch\"] = df_events_v2['end_hour'].apply(lambda x: int(x.strftime('%s'))  if not isNaN(x) else 0)"
   ]
  },
  {
   "cell_type": "code",
   "execution_count": null,
   "id": "37b962b1",
   "metadata": {
    "ExecuteTime": {
     "start_time": "2023-04-08T16:47:55.873278Z",
     "end_time": "2023-04-08T16:47:55.943519Z"
    }
   },
   "outputs": [],
   "source": [
    "df_events_v2.dtypes"
   ]
  },
  {
   "cell_type": "code",
   "execution_count": null,
   "id": "fd62824f",
   "metadata": {
    "ExecuteTime": {
     "start_time": "2023-04-08T16:47:55.883277Z",
     "end_time": "2023-04-08T16:47:55.943519Z"
    }
   },
   "outputs": [],
   "source": [
    "df_events_v2.shape"
   ]
  },
  {
   "cell_type": "code",
   "execution_count": null,
   "id": "29cb459c",
   "metadata": {
    "ExecuteTime": {
     "start_time": "2023-04-08T16:47:55.890326Z",
     "end_time": "2023-04-08T16:47:55.944520Z"
    }
   },
   "outputs": [],
   "source": [
    "df_events_v2.head(10)"
   ]
  },
  {
   "cell_type": "code",
   "execution_count": null,
   "id": "9991fde1",
   "metadata": {
    "ExecuteTime": {
     "start_time": "2023-04-08T16:47:55.906522Z",
     "end_time": "2023-04-08T16:47:56.092759Z"
    }
   },
   "outputs": [],
   "source": [
    "# df_events_v2_sample = df_events_v2.sample(10)\n",
    "# df_events_v2_sample.shape\n",
    "\n",
    "events_dict = df_events_v2.to_dict(\"records\")\n",
    "events_by_hour = []"
   ]
  },
  {
   "cell_type": "code",
   "execution_count": null,
   "id": "4ed1ff39",
   "metadata": {
    "ExecuteTime": {
     "start_time": "2023-04-08T16:47:56.067239Z",
     "end_time": "2023-04-08T16:47:56.092759Z"
    }
   },
   "outputs": [],
   "source": [
    "events_dict[0]"
   ]
  },
  {
   "cell_type": "code",
   "execution_count": null,
   "metadata": {
    "ExecuteTime": {
     "start_time": "2023-04-08T16:47:56.072760Z",
     "end_time": "2023-04-08T16:47:58.230515Z"
    },
    "collapsed": false
   },
   "outputs": [],
   "source": [
    "for event in events_dict:\n",
    "    for d in pd.date_range(start=event[\"start_hour\"], end=event[\"end_hour\"], freq=\"1H\"):\n",
    "        et = event.copy()\n",
    "        et[\"hour_level_event_time\"] = d\n",
    "        events_by_hour.append(et)"
   ]
  },
  {
   "cell_type": "code",
   "execution_count": null,
   "metadata": {
    "ExecuteTime": {
     "start_time": "2023-04-08T16:47:58.270513Z",
     "end_time": "2023-04-08T16:47:58.738371Z"
    },
    "collapsed": false
   },
   "outputs": [],
   "source": [
    "df_events_v3 = pd.DataFrame.from_dict(events_by_hour)\n",
    "df_events_v3[\"hour_level_event_datetimeEpoch\"] = df_events_v3[\n",
    "    \"hour_level_event_time\"\n",
    "].apply(lambda x: int(x.timestamp()) if not isNaN(x) else None)"
   ]
  },
  {
   "cell_type": "code",
   "execution_count": null,
   "id": "33b3c316",
   "metadata": {
    "ExecuteTime": {
     "start_time": "2023-04-08T16:47:58.739372Z",
     "end_time": "2023-04-08T16:47:58.743469Z"
    }
   },
   "outputs": [],
   "source": [
    "df_events_v3.shape"
   ]
  },
  {
   "cell_type": "code",
   "execution_count": null,
   "id": "85c85f84",
   "metadata": {
    "ExecuteTime": {
     "start_time": "2023-04-08T16:47:58.743469Z",
     "end_time": "2023-04-08T16:47:58.761479Z"
    }
   },
   "outputs": [],
   "source": [
    "df_events_v3.head(15)"
   ]
  },
  {
   "cell_type": "code",
   "execution_count": null,
   "id": "aa796999",
   "metadata": {
    "ExecuteTime": {
     "start_time": "2023-04-08T16:47:58.762480Z",
     "end_time": "2023-04-08T16:47:58.842862Z"
    }
   },
   "outputs": [],
   "source": [
    "df_weather_reg.head(5)"
   ]
  },
  {
   "cell_type": "code",
   "execution_count": null,
   "id": "7be3ae80",
   "metadata": {
    "ExecuteTime": {
     "start_time": "2023-04-08T16:47:58.790329Z",
     "end_time": "2023-04-08T16:47:58.852863Z"
    }
   },
   "outputs": [],
   "source": [
    "df_weather_reg.shape"
   ]
  },
  {
   "cell_type": "code",
   "execution_count": null,
   "id": "85b4f508",
   "metadata": {
    "ExecuteTime": {
     "start_time": "2023-04-08T16:47:58.794179Z",
     "end_time": "2023-04-08T16:47:58.867862Z"
    }
   },
   "outputs": [],
   "source": [
    "df_events_v3.head(10)\n",
    "df_weather_reg.head(10)"
   ]
  },
  {
   "cell_type": "code",
   "execution_count": null,
   "id": "cfc7e841",
   "metadata": {
    "ExecuteTime": {
     "start_time": "2023-04-08T16:47:58.826863Z",
     "end_time": "2023-04-08T16:47:58.868863Z"
    }
   },
   "outputs": [],
   "source": [
    "df_events_v4 = df_events_v3.copy().add_prefix(\"event_\")\n",
    "df_events_v4.head(10)"
   ]
  },
  {
   "cell_type": "code",
   "execution_count": null,
   "id": "7c35dc66",
   "metadata": {
    "ExecuteTime": {
     "start_time": "2023-04-08T16:47:58.844862Z",
     "end_time": "2023-04-08T16:47:59.042862Z"
    }
   },
   "outputs": [],
   "source": [
    "df_weather_v4 = df_weather_reg.merge(\n",
    "    df_events_v4,\n",
    "    how=\"left\",\n",
    "    left_on=[\"region_alt\", \"hour_datetimeEpoch\"],\n",
    "    right_on=[\"event_region_title\", \"event_hour_level_event_datetimeEpoch\"],\n",
    ")"
   ]
  },
  {
   "cell_type": "code",
   "execution_count": null,
   "id": "ea0266bb",
   "metadata": {
    "ExecuteTime": {
     "start_time": "2023-04-08T16:47:58.944863Z",
     "end_time": "2023-04-08T16:48:00.389166Z"
    }
   },
   "outputs": [],
   "source": [
    "# Alarm data\n",
    "print(df_weather_v4.loc[~ isNaN(df_weather_v4['event_start'])].shape)\n",
    "print(df_weather_v4.loc[isNaN(df_weather_v4['event_start'])].shape)\n",
    "df_weather_v4['is_alarm'] = df_weather_v4.apply(lambda x: 0 if isNaN(x['event_start']) else 1, axis=1)\n",
    "no_alarms = df_weather_v4.loc[df_weather_v4['is_alarm'] == 0].size\n",
    "alarms = df_weather_v4.loc[df_weather_v4['is_alarm'] == 1].size\n",
    "print(f\"Alarm chane: {alarms / df_weather_v4.size}\")\n",
    "print(f\"No alarm: {no_alarms / df_weather_v4.size}\")\n",
    "# df_weather_v4.sample(5)"
   ]
  },
  {
   "cell_type": "code",
   "execution_count": null,
   "outputs": [],
   "source": [
    "# Merge isw data to df_weather_v4\n",
    "df_weather_v5 = pd.merge(\n",
    "    df_weather_v4, df_isw[['Keywords','report_date', 'date_tomorrow_datetime', 'ukrainian_holiday', 'russian_holiday']], left_on=\"day_datetime\", right_on=\"report_date\"\n",
    ")\n",
    "df_weather_v5.head(5)"
   ],
   "metadata": {
    "collapsed": false,
    "ExecuteTime": {
     "start_time": "2023-04-08T16:48:00.389166Z",
     "end_time": "2023-04-08T16:48:00.509532Z"
    }
   }
  },
  {
   "cell_type": "code",
   "execution_count": null,
   "id": "87a10851",
   "metadata": {
    "ExecuteTime": {
     "start_time": "2023-04-08T16:48:00.509532Z",
     "end_time": "2023-04-08T16:48:37.423586Z"
    }
   },
   "outputs": [],
   "source": [
    "# Add holidays to df_weather_v4\n",
    "add_ukrainian_holidays(df_weather_v5, day_datetime_column='day_datetime', column_name='ukrainian_holiday')\n",
    "add_russian_holidays(df_weather_v5, day_datetime_column='day_datetime', column_name='russian_holiday')\n",
    "add_lunar_eclipses(df_weather_v5, day_datetime_column='day_datetime')\n",
    "add_solar_eclipses(df_weather_v5, day_datetime_column='day_datetime')\n",
    "\n",
    "\n",
    "df_weather_v5.head(5)\n",
    "\n",
    "# print(df_weather_v4.shape)\n",
    "# print(df_weather_v4.loc[df_weather_v4['ukrainian_holiday'] == 1].shape)\n",
    "# print(df_weather_v4.loc[df_weather_v4['russian_holiday'] == 1].shape)\n",
    "# #\n",
    "# print(df_weather_v5.shape)\n",
    "# print(df_weather_v5.loc[df_weather_v5['ukrainian_holiday'] == 1].shape)\n",
    "# print(df_weather_v5.loc[df_weather_v5['russian_holiday'] == 1].shape)\n",
    "\n",
    "df_weather_v4[\"hour_conditions\"] = pd.Categorical(df_weather_v4['hour_conditions'])\n",
    "df_weather_v4[\"hour_conditions_code\"] = df_weather_v4[\"hour_conditions\"].cat.codes\n",
    "#\n",
    "df_weather_v5[\"hour_conditions\"] = pd.Categorical(df_weather_v5['hour_conditions'])\n",
    "# df_weather_v5[\"hour_conditions\"].astype('category')\n",
    "# weather_condition_categories = df_weather_v5[\"hour_conditions\"].cat.categories.values\n",
    "# weather_condition_categories\n",
    "df_weather_v5[\"hour_conditions_code\"] = df_weather_v5[\"hour_conditions\"].cat.codes\n",
    "df_weather_v5[[\"hour_conditions\", \"hour_conditions_code\"]].head(5)\n",
    "\n",
    "df_weather_v6 = None\n"
   ]
  },
  {
   "cell_type": "markdown",
   "source": [
    "### Handle categorical data"
   ],
   "metadata": {
    "collapsed": false
   }
  },
  {
   "cell_type": "code",
   "execution_count": null,
   "outputs": [],
   "source": [
    "df_weather_v5.head(5)"
   ],
   "metadata": {
    "collapsed": false,
    "ExecuteTime": {
     "start_time": "2023-04-08T16:48:37.424009Z",
     "end_time": "2023-04-08T16:48:37.468608Z"
    }
   }
  },
  {
   "cell_type": "code",
   "execution_count": null,
   "outputs": [],
   "source": [
    "%%sql\n",
    "df_weather_v6 << select df.*, coalesce(alarmed_count.alarmed_regions_count, 0) as alarmed_regions_count\n",
    "from df_weather_v5 df\n",
    "         left join (select out.day_datetimeEpoch,\n",
    "                                            out.hour_datetimeEpoch,\n",
    "                                            count(*) as alarmed_regions_count\n",
    "                                    from df_weather_v5 out left join df_weather_v5 inn\n",
    "                                         on out.day_datetimeEpoch = inn.day_datetimeEpoch and out.hour_datetimeEpoch = inn.hour_datetimeEpoch\n",
    "                                    where inn.is_alarm = 1 and inn.hour_datetimeEpoch\n",
    "                                                               between out.event_start_hour_datetimeEpoch and out.event_start_hour_datetimeEpoch\n",
    "                                    group by out.day_datetimeEpoch, out.hour_datetimeEpoch) as alarmed_count\n",
    "        on df.day_datetimeEpoch = alarmed_count.day_datetimeEpoch and df.hour_datetimeEpoch = alarmed_count.hour_datetimeEpoch;\n"
   ],
   "metadata": {
    "collapsed": false,
    "ExecuteTime": {
     "start_time": "2023-04-08T16:48:37.454098Z",
     "end_time": "2023-04-08T16:48:46.764176Z"
    }
   }
  },
  {
   "cell_type": "code",
   "execution_count": null,
   "outputs": [],
   "source": [
    "df_weather_v6.head(10)"
   ],
   "metadata": {
    "collapsed": false,
    "ExecuteTime": {
     "start_time": "2023-04-08T16:48:46.764176Z",
     "end_time": "2023-04-08T16:48:46.806370Z"
    }
   }
  },
  {
   "cell_type": "code",
   "execution_count": null,
   "outputs": [],
   "source": [],
   "metadata": {
    "collapsed": false,
    "ExecuteTime": {
     "start_time": "2023-04-08T16:48:46.801859Z",
     "end_time": "2023-04-08T16:48:46.806370Z"
    }
   }
  },
  {
   "cell_type": "markdown",
   "source": [
    "### Save final merged dataframe"
   ],
   "metadata": {
    "collapsed": false
   }
  },
  {
   "cell_type": "code",
   "execution_count": null,
   "id": "f1a432d4",
   "metadata": {
    "ExecuteTime": {
     "start_time": "2023-04-08T16:48:46.804371Z",
     "end_time": "2023-04-08T16:48:50.820859Z"
    }
   },
   "outputs": [],
   "source": [
    "df_weather_v4.to_csv(\n",
    "    f\"{OUTPUT_FOLDER}/{WEATHER_EVENTS_OUTPUT_DATA_FILE}\", sep=\";\", index=False\n",
    ")"
   ]
  },
  {
   "cell_type": "code",
   "execution_count": null,
   "outputs": [],
   "source": [
    "# Uncomment to save final merged dataset ~4G\n",
    "# df_weather_v5.to_csv(\n",
    "#     f\"{OUTPUT_FOLDER}/all_hourly_weather_events_final.csv\", sep=\";\", index=False\n",
    "# )"
   ],
   "metadata": {
    "collapsed": false,
    "ExecuteTime": {
     "start_time": "2023-04-08T16:48:50.821337Z",
     "end_time": "2023-04-08T16:48:50.822529Z"
    }
   }
  },
  {
   "cell_type": "markdown",
   "source": [
    "### Test LinearRegression"
   ],
   "metadata": {
    "collapsed": false
   }
  },
  {
   "cell_type": "code",
   "execution_count": null,
   "outputs": [],
   "source": [
    "import numpy as np\n",
    "\n",
    "from sklearn.model_selection import train_test_split\n",
    "\n",
    "from sklearn.linear_model import LinearRegression\n",
    "\n",
    "df_final = df_weather_v6\n",
    "\n",
    "# Fill NaN values\n",
    "df_final[['event_all_region']] = df_final[['event_all_region']].fillna(value=0)\n",
    "\n",
    "# Separating the data into independent and dependent variables\n",
    "# Converting each dataframe into a numpy array\n",
    "X = np.array(df_final[['region_id', 'event_all_region', 'day_datetimeEpoch', 'hour_datetimeEpoch', 'ukrainian_holiday', 'russian_holiday', 'hour_temp', 'hour_snow', 'hour_visibility', 'hour_conditions_code', 'lunar_eclipse', 'solar_eclipse', 'moonphased_eclipse','alarmed_regions_count']])\n",
    "y = np.array(df_final['is_alarm'])\n",
    "\n",
    "# Dropping any rows with Nan values\n",
    "# df_final.dropna(inplace = True)\n",
    "\n",
    "# Splitting the data into training and testing data\n",
    "X_train, X_test, y_train, y_test = train_test_split(X, y, test_size=0.25, random_state=101)\n",
    "\n",
    "# LinerRegression\n",
    "regr = LinearRegression()\n",
    "#\n",
    "regr.fit(X_train, y_train)\n",
    "#\n",
    "print(regr.score(X_test, y_test))\n",
    "# df_weather_v4 -      0.7357812097367479\n",
    "# df_weather_v5 -      0.728836911878402\n",
    "# hours with no alarm - 0.7475497734309323\n"
   ],
   "metadata": {
    "collapsed": false,
    "ExecuteTime": {
     "start_time": "2023-04-08T16:49:27.913130Z",
     "end_time": "2023-04-08T16:49:28.016015Z"
    }
   }
  },
  {
   "cell_type": "code",
   "execution_count": null,
   "outputs": [],
   "source": [
    "from sklearn.linear_model import SGDClassifier\n",
    "from sklearn.linear_model import SGDRegressor\n",
    "\n",
    "sgd = SGDClassifier(loss='log_loss', max_iter=1000, tol=1e-3, random_state=42)\n",
    "sgd.fit(X_train, y_train)\n",
    "\n",
    "# Evaluate the model\n",
    "accuracy = sgd.score(X_test, y_test)\n",
    "print(accuracy)\n",
    "\n"
   ],
   "metadata": {
    "collapsed": false,
    "ExecuteTime": {
     "start_time": "2023-04-08T16:43:40.457948Z",
     "end_time": "2023-04-08T16:43:55.342609Z"
    }
   }
  },
  {
   "cell_type": "code",
   "execution_count": null,
   "outputs": [],
   "source": [
    "%pip install matplotlib\n",
    "from sklearn.metrics import confusion_matrix, ConfusionMatrixDisplay\n",
    "# Predict the labels for the test set\n",
    "y_pred = sgd.predict(X_test)\n",
    "\n",
    "# Calculate the confusion matrix\n",
    "confusion_matrix = confusion_matrix(y_test, y_pred)\n",
    "print(confusion_matrix)\n"
   ],
   "metadata": {
    "collapsed": false,
    "ExecuteTime": {
     "start_time": "2023-04-08T16:43:55.344609Z",
     "end_time": "2023-04-08T16:43:56.947563Z"
    }
   }
  },
  {
   "cell_type": "code",
   "execution_count": null,
   "outputs": [],
   "source": [
    "disp = ConfusionMatrixDisplay(confusion_matrix=confusion_matrix,\n",
    "                             display_labels=sgd.classes_)\n",
    "disp.plot()"
   ],
   "metadata": {
    "collapsed": false,
    "ExecuteTime": {
     "start_time": "2023-04-08T16:43:56.948564Z",
     "end_time": "2023-04-08T16:43:57.082318Z"
    }
   }
  },
  {
   "cell_type": "code",
   "execution_count": null,
   "outputs": [],
   "source": [
    "# Creating Our First Decision Tree Classifier\n",
    "from sklearn.tree import DecisionTreeClassifier\n",
    "clf = DecisionTreeClassifier()\n",
    "clf.fit(X_train, y_train)\n",
    "accuracy = clf.score(X_test, y_test)\n",
    "print(accuracy)\n",
    "y_pred = clf.predict(X_test)\n",
    "confusion_matrix = confusion_matrix(y_test, y_pred)\n",
    "disp = ConfusionMatrixDisplay(confusion_matrix=confusion_matrix,\n",
    "                             display_labels=sgd.classes_)\n",
    "disp.plot()"
   ],
   "metadata": {
    "collapsed": false,
    "ExecuteTime": {
     "start_time": "2023-04-08T16:01:26.240181Z",
     "end_time": "2023-04-08T16:01:26.390198Z"
    }
   }
  },
  {
   "cell_type": "code",
   "execution_count": null,
   "outputs": [],
   "source": [],
   "metadata": {
    "collapsed": false,
    "ExecuteTime": {
     "start_time": "2023-04-08T16:00:21.739620Z",
     "end_time": "2023-04-08T16:00:21.790129Z"
    }
   }
  },
  {
   "cell_type": "code",
   "execution_count": null,
   "outputs": [],
   "source": [],
   "metadata": {
    "collapsed": false
   }
  }
 ],
 "metadata": {
  "kernelspec": {
   "display_name": "Python 3 (ipykernel)",
   "language": "python",
   "name": "python3"
  },
  "language_info": {
   "codemirror_mode": {
    "name": "ipython",
    "version": 3
   },
   "file_extension": ".py",
   "mimetype": "text/x-python",
   "name": "python",
   "nbconvert_exporter": "python",
   "pygments_lexer": "ipython3",
   "version": "3.11.2"
  }
 },
 "nbformat": 4,
 "nbformat_minor": 5
}
