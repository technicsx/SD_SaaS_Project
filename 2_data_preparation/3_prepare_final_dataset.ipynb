{
 "cells": [
  {
   "cell_type": "code",
   "execution_count": null,
   "id": "4ba95462",
   "metadata": {
    "ExecuteTime": {
     "end_time": "2023-04-03T22:46:27.438338Z",
     "start_time": "2023-04-03T22:46:26.699732Z"
    }
   },
   "outputs": [],
   "source": [
    "import datetime\n",
    "import numpy as np\n",
    "import pandas as pd\n",
    "import pickle\n",
    "import os\n",
    "\n",
    "from dotenv import load_dotenv\n",
    "\n",
    "load_dotenv(\"../.path_env\")"
   ]
  },
  {
   "cell_type": "code",
   "execution_count": null,
   "id": "c5f8b892",
   "metadata": {
    "ExecuteTime": {
     "end_time": "2023-04-03T22:29:35.378607Z",
     "start_time": "2023-04-03T22:29:35.351834Z"
    }
   },
   "outputs": [],
   "source": [
    "pd.set_option(\"display.max_columns\", None)\n",
    "pd.set_option(\"display.max_rows\", None)"
   ]
  },
  {
   "cell_type": "code",
   "execution_count": null,
   "id": "c37b5162",
   "metadata": {
    "ExecuteTime": {
     "end_time": "2023-04-03T22:46:30.774008Z",
     "start_time": "2023-04-03T22:46:30.748007Z"
    }
   },
   "outputs": [],
   "source": [
    "REPORTS_DATA_FILE = \"./results/tfidf.csv\"\n",
    "\n",
    "OUTPUT_FOLDER = \"results\"\n",
    "ISW_OUTPUT_DATA_FILE = \"all_isw.csv\"\n",
    "WEATHER_EVENTS_OUTPUT_DATA_FILE = \"all_hourly_weather_events.csv\"\n",
    "\n",
    "MODEL_FOLDER = \"model\"\n",
    "\n",
    "tfidf_transformer_model = \"tfidf_transformer\"\n",
    "count_vectorizer_model = \"count_vectorizer\"\n",
    "\n",
    "tfidf_transformer_version = \"v1\"\n",
    "count_vectorizer_version = \"v1\""
   ]
  },
  {
   "cell_type": "code",
   "execution_count": null,
   "id": "699f3dc8",
   "metadata": {
    "ExecuteTime": {
     "end_time": "2023-04-03T22:46:34.450030Z",
     "start_time": "2023-04-03T22:46:34.414035Z"
    }
   },
   "outputs": [],
   "source": [
    "def isNaN(num):\n",
    "    return num != num"
   ]
  },
  {
   "cell_type": "markdown",
   "id": "c78b36e9",
   "metadata": {},
   "source": [
    "## reading data"
   ]
  },
  {
   "cell_type": "code",
   "execution_count": null,
   "id": "f2dac73d",
   "metadata": {
    "ExecuteTime": {
     "end_time": "2023-04-03T22:30:15.714244Z",
     "start_time": "2023-04-03T22:30:15.576585Z"
    }
   },
   "outputs": [],
   "source": [
    "df_isw = pd.read_csv(f\"{REPORTS_DATA_FILE}\", sep=\",\")"
   ]
  },
  {
   "cell_type": "code",
   "execution_count": null,
   "id": "028a3a1d",
   "metadata": {
    "ExecuteTime": {
     "end_time": "2023-04-03T22:30:18.904871Z",
     "start_time": "2023-04-03T22:30:18.876209Z"
    }
   },
   "outputs": [],
   "source": [
    "df_isw.head(5)"
   ]
  },
  {
   "cell_type": "markdown",
   "id": "a557a7ed",
   "metadata": {},
   "source": [
    "## preparing ISW reports"
   ]
  },
  {
   "cell_type": "markdown",
   "id": "b08a5bed",
   "metadata": {},
   "source": [
    "## reading models"
   ]
  },
  {
   "cell_type": "code",
   "execution_count": null,
   "id": "d9ddffee",
   "metadata": {
    "ExecuteTime": {
     "end_time": "2023-04-02T22:58:03.313780Z",
     "start_time": "2023-04-02T22:58:03.309772Z"
    }
   },
   "outputs": [],
   "source": [
    "# #load the content\n",
    "# tfidf = pickle.load(open(f\"{MODEL_FOLDER}/{tfidf_transformer_model}_{tfidf_transformer_version}.pkl\", \"rb\"))\n",
    "# cv = pickle.load(open(f\"{MODEL_FOLDER}/{count_vectorizer_model}_{count_vectorizer_version}.pkl\", \"rb\"))"
   ]
  },
  {
   "cell_type": "code",
   "execution_count": null,
   "id": "88a435a4",
   "metadata": {
    "ExecuteTime": {
     "end_time": "2023-04-02T22:58:03.321382Z",
     "start_time": "2023-04-02T22:58:03.312778Z"
    }
   },
   "outputs": [],
   "source": [
    "# df_isw['keywords'] = df_isw['text_preprocessed_lemm'].apply(lambda x: tf_idf.conver_doc_to_vector(x,cv,tfidf))"
   ]
  },
  {
   "cell_type": "code",
   "execution_count": null,
   "id": "6fc96d61",
   "metadata": {
    "ExecuteTime": {
     "end_time": "2023-04-02T22:58:03.385062Z",
     "start_time": "2023-04-02T22:58:03.321382Z"
    }
   },
   "outputs": [],
   "source": [
    "# df_isw.head(5)"
   ]
  },
  {
   "cell_type": "code",
   "execution_count": null,
   "id": "3d09da4f",
   "metadata": {
    "ExecuteTime": {
     "end_time": "2023-04-03T22:30:26.107695Z",
     "start_time": "2023-04-03T22:30:26.088695Z"
    }
   },
   "outputs": [],
   "source": [
    "df_isw[\"date_datetime\"] = pd.to_datetime(df_isw[\"Date\"])"
   ]
  },
  {
   "cell_type": "code",
   "execution_count": null,
   "id": "84625aed",
   "metadata": {
    "ExecuteTime": {
     "end_time": "2023-04-03T22:30:27.060688Z",
     "start_time": "2023-04-03T22:30:27.033593Z"
    }
   },
   "outputs": [],
   "source": [
    "df_isw[\"date_tomorrow_datetime\"] = df_isw[\"date_datetime\"].apply(\n",
    "    lambda x: x + datetime.timedelta(days=1)\n",
    ")\n",
    "df_isw[\"event_time\"] = np.nan"
   ]
  },
  {
   "cell_type": "code",
   "execution_count": null,
   "id": "6c9524e5",
   "metadata": {
    "ExecuteTime": {
     "end_time": "2023-04-03T22:32:37.965641Z",
     "start_time": "2023-04-03T22:32:37.723554Z"
    }
   },
   "outputs": [],
   "source": [
    "df_isw = df_isw.rename(columns={\"date_datetime\": \"report_date\"})\n",
    "df_isw.to_csv(f\"{OUTPUT_FOLDER}/{ISW_OUTPUT_DATA_FILE}\", sep=\";\", index=False)"
   ]
  },
  {
   "cell_type": "code",
   "execution_count": null,
   "id": "f861134e",
   "metadata": {
    "ExecuteTime": {
     "end_time": "2023-04-03T22:33:21.011512Z",
     "start_time": "2023-04-03T22:33:20.999807Z"
    }
   },
   "outputs": [],
   "source": [
    "df_isw.head(5)"
   ]
  },
  {
   "cell_type": "markdown",
   "id": "3b306d5f",
   "metadata": {},
   "source": [
    "## prepare events data"
   ]
  },
  {
   "cell_type": "code",
   "execution_count": null,
   "id": "43a0cf0e",
   "metadata": {
    "ExecuteTime": {
     "end_time": "2023-04-03T22:33:31.175338Z",
     "start_time": "2023-04-03T22:33:31.162342Z"
    }
   },
   "outputs": [],
   "source": [
    "EVENTS_DATA_FILE = \"../\" + os.getenv(\"ALARMS_DATA_FILE\")"
   ]
  },
  {
   "cell_type": "code",
   "execution_count": null,
   "id": "25edb612",
   "metadata": {
    "ExecuteTime": {
     "end_time": "2023-04-03T22:33:32.385237Z",
     "start_time": "2023-04-03T22:33:32.285199Z"
    }
   },
   "outputs": [],
   "source": [
    "df_events = pd.read_csv(f\"{EVENTS_DATA_FILE}\", sep=\";\")"
   ]
  },
  {
   "cell_type": "code",
   "execution_count": null,
   "id": "f1d9e1cd",
   "metadata": {
    "ExecuteTime": {
     "end_time": "2023-04-03T22:33:33.940645Z",
     "start_time": "2023-04-03T22:33:33.911470Z"
    }
   },
   "outputs": [],
   "source": [
    "df_events_v2 = df_events.drop([\"id\", \"region_id\"], axis=1)\n",
    "df_events_v2[\"event_time\"] = np.nan"
   ]
  },
  {
   "cell_type": "code",
   "execution_count": null,
   "id": "07ff2ea6",
   "metadata": {
    "ExecuteTime": {
     "end_time": "2023-04-03T22:33:38.279733Z",
     "start_time": "2023-04-03T22:33:38.253109Z"
    }
   },
   "outputs": [],
   "source": [
    "df_events_v2.head(5)\n",
    "df_events_v2.shape"
   ]
  },
  {
   "cell_type": "code",
   "execution_count": null,
   "id": "47131ae1",
   "metadata": {
    "ExecuteTime": {
     "end_time": "2023-04-02T22:58:03.640596Z",
     "start_time": "2023-04-02T22:58:03.609043Z"
    }
   },
   "outputs": [],
   "source": [
    "# df_events_v2[\"start_time\"] = df_events_v2.apply(lambda x: x[\"start\"] if not isNaN(x[\"start\"]) else x[\"event_time\"] , axis=1)\n",
    "# df_events_v2[\"end_time\"] = df_events_v2.apply(lambda x: x[\"end\"] if not isNaN(x[\"end\"]) else x[\"event_time\"], axis=1)"
   ]
  },
  {
   "cell_type": "code",
   "execution_count": null,
   "id": "3b0a9a3e",
   "metadata": {
    "ExecuteTime": {
     "end_time": "2023-04-03T22:33:41.276030Z",
     "start_time": "2023-04-03T22:33:41.206032Z"
    }
   },
   "outputs": [],
   "source": [
    "df_events_v2[\"start_time\"] = pd.to_datetime(df_events_v2[\"start\"])\n",
    "df_events_v2[\"end_time\"] = pd.to_datetime(df_events_v2[\"end\"])\n",
    "df_events_v2[\"event_time\"] = pd.to_datetime(df_events_v2[\"event_time\"])"
   ]
  },
  {
   "cell_type": "code",
   "execution_count": null,
   "id": "ef3ca6ca",
   "metadata": {
    "ExecuteTime": {
     "end_time": "2023-04-03T22:33:44.062052Z",
     "start_time": "2023-04-03T22:33:44.033857Z"
    }
   },
   "outputs": [],
   "source": [
    "df_events_v2[\"start_hour\"] = df_events_v2[\"start_time\"].dt.floor(\"H\")\n",
    "df_events_v2[\"end_hour\"] = df_events_v2[\"end_time\"].dt.ceil(\"H\")\n",
    "df_events_v2[\"event_hour\"] = df_events_v2[\"event_time\"].dt.round(\"H\")"
   ]
  },
  {
   "cell_type": "code",
   "execution_count": null,
   "id": "a81033f5",
   "metadata": {
    "ExecuteTime": {
     "end_time": "2023-04-03T22:33:47.113387Z",
     "start_time": "2023-04-03T22:33:46.374673Z"
    }
   },
   "outputs": [],
   "source": [
    "df_events_v2[\"start_hour\"] = df_events_v2.apply(\n",
    "    lambda x: x[\"start_hour\"] if not isNaN(x[\"start_hour\"]) else x[\"event_hour\"], axis=1\n",
    ")\n",
    "df_events_v2[\"end_hour\"] = df_events_v2.apply(\n",
    "    lambda x: x[\"end_hour\"] if not isNaN(x[\"end_hour\"]) else x[\"event_hour\"], axis=1\n",
    ")"
   ]
  },
  {
   "cell_type": "code",
   "execution_count": null,
   "id": "71b0f0d4",
   "metadata": {
    "ExecuteTime": {
     "end_time": "2023-04-03T22:33:49.723651Z",
     "start_time": "2023-04-03T22:33:49.647647Z"
    }
   },
   "outputs": [],
   "source": [
    "df_events_v2[\"day_date\"] = df_events_v2[\"start_time\"].dt.date\n",
    "\n",
    "df_events_v2.head(10)\n",
    "\n",
    "df_events_v2[\"start_hour_datetimeEpoch\"] = df_events_v2[\"start_hour\"].apply(\n",
    "    lambda x: int(x.timestamp()) if not isNaN(x) else None\n",
    ")\n",
    "df_events_v2[\"end_hour_datetimeEpoch\"] = df_events_v2[\"end_hour\"].apply(\n",
    "    lambda x: int(x.timestamp()) if not isNaN(x) else None\n",
    ")\n",
    "\n",
    "# df_events_v2.head(10)"
   ]
  },
  {
   "cell_type": "code",
   "execution_count": null,
   "id": "eb0bcc6b",
   "metadata": {
    "ExecuteTime": {
     "end_time": "2023-04-02T22:58:04.088041Z",
     "start_time": "2023-04-02T22:58:04.084053Z"
    }
   },
   "outputs": [],
   "source": [
    "# df_events_v2[~(df_events_v2[\"type\"]==\"alarm\")].shape"
   ]
  },
  {
   "cell_type": "code",
   "execution_count": null,
   "id": "1a38b3c1",
   "metadata": {
    "ExecuteTime": {
     "end_time": "2023-04-02T22:58:04.100046Z",
     "start_time": "2023-04-02T22:58:04.087041Z"
    }
   },
   "outputs": [],
   "source": [
    "# df_events_v2[~(df_events_v2[\"type\"]==\"alarm\")].head(5)"
   ]
  },
  {
   "cell_type": "code",
   "execution_count": null,
   "id": "6e7ebd70",
   "metadata": {
    "ExecuteTime": {
     "end_time": "2023-04-02T22:58:04.108561Z",
     "start_time": "2023-04-02T22:58:04.101047Z"
    }
   },
   "outputs": [],
   "source": [
    "# df_events_v2[df_events_v2[\"type\"]==\"alarm\"].shape"
   ]
  },
  {
   "cell_type": "markdown",
   "id": "86c852f0",
   "metadata": {},
   "source": [
    "## prepare weather"
   ]
  },
  {
   "cell_type": "code",
   "execution_count": null,
   "id": "79829a50",
   "metadata": {
    "ExecuteTime": {
     "end_time": "2023-04-03T22:34:12.293925Z",
     "start_time": "2023-04-03T22:34:12.272680Z"
    }
   },
   "outputs": [],
   "source": [
    "WEATHER_DATA_FILE = \"../\" + os.getenv(\"WEATHER_DATA_FILE\")"
   ]
  },
  {
   "cell_type": "code",
   "execution_count": null,
   "id": "a0a04cfc",
   "metadata": {
    "ExecuteTime": {
     "end_time": "2023-04-03T22:34:16.493553Z",
     "start_time": "2023-04-03T22:34:14.845353Z"
    }
   },
   "outputs": [],
   "source": [
    "df_weather = pd.read_csv(f\"{WEATHER_DATA_FILE}\")\n",
    "df_weather[\"day_datetime\"] = pd.to_datetime(df_weather[\"day_datetime\"])"
   ]
  },
  {
   "cell_type": "code",
   "execution_count": null,
   "id": "0e649d36",
   "metadata": {
    "ExecuteTime": {
     "end_time": "2023-04-03T22:37:28.651165Z",
     "start_time": "2023-04-03T22:37:28.638167Z"
    }
   },
   "outputs": [],
   "source": [
    "df_weather.shape"
   ]
  },
  {
   "cell_type": "code",
   "execution_count": null,
   "id": "0f182f8e",
   "metadata": {
    "ExecuteTime": {
     "end_time": "2023-04-03T22:40:46.051927Z",
     "start_time": "2023-04-03T22:40:45.974694Z"
    }
   },
   "outputs": [],
   "source": [
    "df_weather.head(15)"
   ]
  },
  {
   "cell_type": "code",
   "execution_count": null,
   "id": "defcbb4d",
   "metadata": {
    "ExecuteTime": {
     "end_time": "2023-04-02T22:58:05.286644Z",
     "start_time": "2023-04-02T22:58:05.283151Z"
    }
   },
   "outputs": [],
   "source": [
    "# len(clmns)"
   ]
  },
  {
   "cell_type": "code",
   "execution_count": null,
   "id": "b2d92e99",
   "metadata": {
    "ExecuteTime": {
     "end_time": "2023-04-03T22:44:43.892384Z",
     "start_time": "2023-04-03T22:44:43.880963Z"
    }
   },
   "outputs": [],
   "source": [
    "# exclude\n",
    "weather_exclude = [\n",
    "    \"day_feelslikemax\",\n",
    "    \"day_feelslikemin\",\n",
    "    \"day_sunriseEpoch\",\n",
    "    \"day_sunsetEpoch\",\n",
    "    \"day_description\",\n",
    "    \"city_latitude\",\n",
    "    \"city_longitude\",\n",
    "    \"city_address\",\n",
    "    \"city_timezone\",\n",
    "    \"city_tzoffset\",\n",
    "    \"day_feelslike\",\n",
    "    \"day_precipprob\",\n",
    "    \"day_snow\",\n",
    "    \"day_snowdepth\",\n",
    "    \"day_windgust\",\n",
    "    \"day_windspeed\",\n",
    "    \"day_winddir\",\n",
    "    \"day_pressure\",\n",
    "    \"day_cloudcover\",\n",
    "    \"day_visibility\",\n",
    "    \"day_severerisk\",\n",
    "    \"day_conditions\",\n",
    "    \"day_icon\",\n",
    "    \"day_source\",\n",
    "    \"day_preciptype\",\n",
    "    \"day_stations\",\n",
    "    \"hour_icon\",\n",
    "    \"hour_source\",\n",
    "    \"hour_stations\",\n",
    "    \"hour_feelslike\",\n",
    "]"
   ]
  },
  {
   "cell_type": "code",
   "execution_count": null,
   "id": "95e9c9b9",
   "metadata": {
    "ExecuteTime": {
     "end_time": "2023-04-03T22:44:43.988660Z",
     "start_time": "2023-04-03T22:44:43.974857Z"
    }
   },
   "outputs": [],
   "source": [
    "# new_list = [x for x in clmns if (x not in weather_exclude)]\n",
    "# new_list"
   ]
  },
  {
   "cell_type": "code",
   "execution_count": null,
   "id": "0ce0ab81",
   "metadata": {
    "ExecuteTime": {
     "end_time": "2023-04-02T22:58:05.345981Z",
     "start_time": "2023-04-02T22:58:05.304998Z"
    }
   },
   "outputs": [],
   "source": [
    "df_weather_v2 = df_weather.drop(weather_exclude, axis=1)"
   ]
  },
  {
   "cell_type": "code",
   "execution_count": null,
   "id": "9fd632b4",
   "metadata": {
    "ExecuteTime": {
     "end_time": "2023-04-02T22:58:05.494073Z",
     "start_time": "2023-04-02T22:58:05.369987Z"
    }
   },
   "outputs": [],
   "source": [
    "df_weather_v2[\"city\"] = df_weather_v2[\"city_resolvedAddress\"].apply(\n",
    "    lambda x: x.split(\",\")[0]\n",
    ")\n",
    "df_weather_v2[\"city\"] = df_weather_v2[\"city\"].replace(\n",
    "    \"Хмельницька область\", \"Хмельницький\"\n",
    ")"
   ]
  },
  {
   "cell_type": "code",
   "execution_count": null,
   "id": "453ac798",
   "metadata": {
    "ExecuteTime": {
     "end_time": "2023-04-02T22:58:05.495074Z",
     "start_time": "2023-04-02T22:58:05.384492Z"
    },
    "scrolled": true
   },
   "outputs": [],
   "source": [
    "df_weather_v2.head(5)"
   ]
  },
  {
   "cell_type": "code",
   "execution_count": null,
   "id": "3136f5e6",
   "metadata": {
    "ExecuteTime": {
     "end_time": "2023-04-02T22:58:05.495074Z",
     "start_time": "2023-04-02T22:58:05.412769Z"
    }
   },
   "outputs": [],
   "source": [
    "df_weather_v2.shape"
   ]
  },
  {
   "cell_type": "markdown",
   "id": "0659498e",
   "metadata": {},
   "source": [
    "## merging data"
   ]
  },
  {
   "cell_type": "code",
   "execution_count": null,
   "id": "a3ad87a3",
   "metadata": {
    "ExecuteTime": {
     "end_time": "2023-04-03T22:46:49.225741Z",
     "start_time": "2023-04-03T22:46:49.175709Z"
    }
   },
   "outputs": [],
   "source": [
    "REGIONS_DATA_FOLDER = \"../external_data/additions\"\n",
    "REGIONS_DATA_FILE = \"regions.csv\"\n",
    "df_regions = pd.read_csv(f\"{REGIONS_DATA_FOLDER}/{REGIONS_DATA_FILE}\")"
   ]
  },
  {
   "cell_type": "code",
   "execution_count": null,
   "id": "7975da08",
   "metadata": {
    "ExecuteTime": {
     "end_time": "2023-04-03T22:47:02.904686Z",
     "start_time": "2023-04-03T22:47:02.888651Z"
    }
   },
   "outputs": [],
   "source": [
    "df_regions.head(5)"
   ]
  },
  {
   "cell_type": "code",
   "execution_count": null,
   "id": "9bdb0c29",
   "metadata": {
    "ExecuteTime": {
     "end_time": "2023-04-02T22:58:05.638888Z",
     "start_time": "2023-04-02T22:58:05.435521Z"
    }
   },
   "outputs": [],
   "source": [
    "df_weather_reg = pd.merge(\n",
    "    df_weather_v2, df_regions, left_on=\"city\", right_on=\"center_city_ua\"\n",
    ")"
   ]
  },
  {
   "cell_type": "code",
   "execution_count": null,
   "id": "e732c138",
   "metadata": {
    "ExecuteTime": {
     "end_time": "2023-04-02T22:58:05.638888Z",
     "start_time": "2023-04-02T22:58:05.536653Z"
    }
   },
   "outputs": [],
   "source": [
    "df_weather_reg.head(10)"
   ]
  },
  {
   "cell_type": "code",
   "execution_count": null,
   "id": "ad392ddf",
   "metadata": {
    "ExecuteTime": {
     "end_time": "2023-04-02T22:58:05.639889Z",
     "start_time": "2023-04-02T22:58:05.538652Z"
    }
   },
   "outputs": [],
   "source": [
    "df_weather_reg.shape"
   ]
  },
  {
   "cell_type": "code",
   "execution_count": null,
   "id": "13e88911",
   "metadata": {
    "ExecuteTime": {
     "end_time": "2023-04-02T22:58:05.639889Z",
     "start_time": "2023-04-02T22:58:05.545666Z"
    }
   },
   "outputs": [],
   "source": [
    "df_weather_v2.shape"
   ]
  },
  {
   "cell_type": "markdown",
   "id": "fadce0fe",
   "metadata": {},
   "source": [
    "### Merging weather and events"
   ]
  },
  {
   "cell_type": "code",
   "execution_count": null,
   "id": "84412a7d",
   "metadata": {
    "ExecuteTime": {
     "end_time": "2023-04-02T22:58:05.639889Z",
     "start_time": "2023-04-02T22:58:05.555684Z"
    }
   },
   "outputs": [],
   "source": [
    "# df_events_v2[\"start_hour_datetimeEpoch\"] = df_events_v2['start_hour'].apply(lambda x: int(x.strftime('%s'))  if not isNaN(x) else 0)\n",
    "# df_events_v2[\"end_hour_datetimeEpoch\"] = df_events_v2['end_hour'].apply(lambda x: int(x.strftime('%s'))  if not isNaN(x) else 0)"
   ]
  },
  {
   "cell_type": "code",
   "execution_count": null,
   "id": "37b962b1",
   "metadata": {
    "ExecuteTime": {
     "end_time": "2023-04-02T22:58:05.640889Z",
     "start_time": "2023-04-02T22:58:05.564698Z"
    }
   },
   "outputs": [],
   "source": [
    "df_events_v2.dtypes"
   ]
  },
  {
   "cell_type": "code",
   "execution_count": null,
   "id": "fd62824f",
   "metadata": {
    "ExecuteTime": {
     "end_time": "2023-04-02T22:58:05.640889Z",
     "start_time": "2023-04-02T22:58:05.575693Z"
    }
   },
   "outputs": [],
   "source": [
    "df_events_v2.shape"
   ]
  },
  {
   "cell_type": "code",
   "execution_count": null,
   "id": "29cb459c",
   "metadata": {
    "ExecuteTime": {
     "end_time": "2023-04-02T22:58:05.641889Z",
     "start_time": "2023-04-02T22:58:05.584506Z"
    }
   },
   "outputs": [],
   "source": [
    "df_events_v2.head(10)"
   ]
  },
  {
   "cell_type": "code",
   "execution_count": null,
   "id": "9991fde1",
   "metadata": {
    "ExecuteTime": {
     "end_time": "2023-04-02T22:58:05.863339Z",
     "start_time": "2023-04-02T22:58:05.605841Z"
    }
   },
   "outputs": [],
   "source": [
    "# df_events_v2_sample = df_events_v2.sample(10)\n",
    "# df_events_v2_sample.shape\n",
    "\n",
    "events_dict = df_events_v2.to_dict(\"records\")\n",
    "events_by_hour = []"
   ]
  },
  {
   "cell_type": "code",
   "execution_count": null,
   "id": "4ed1ff39",
   "metadata": {
    "ExecuteTime": {
     "end_time": "2023-04-02T22:58:05.941867Z",
     "start_time": "2023-04-02T22:58:05.809221Z"
    }
   },
   "outputs": [],
   "source": [
    "events_dict[0]"
   ]
  },
  {
   "cell_type": "code",
   "execution_count": null,
   "metadata": {
    "ExecuteTime": {
     "end_time": "2023-04-02T22:58:07.894598Z",
     "start_time": "2023-04-02T22:58:05.816341Z"
    },
    "collapsed": false
   },
   "outputs": [],
   "source": [
    "for event in events_dict:\n",
    "    for d in pd.date_range(start=event[\"start_hour\"], end=event[\"end_hour\"], freq=\"1H\"):\n",
    "        et = event.copy()\n",
    "        et[\"hour_level_event_time\"] = d\n",
    "        events_by_hour.append(et)"
   ]
  },
  {
   "cell_type": "code",
   "execution_count": null,
   "metadata": {
    "ExecuteTime": {
     "end_time": "2023-04-02T22:58:08.228476Z",
     "start_time": "2023-04-02T22:58:07.895599Z"
    },
    "collapsed": false
   },
   "outputs": [],
   "source": [
    "df_events_v3 = pd.DataFrame.from_dict(events_by_hour)\n",
    "df_events_v3[\"hour_level_event_datetimeEpoch\"] = df_events_v3[\n",
    "    \"hour_level_event_time\"\n",
    "].apply(lambda x: int(x.timestamp()) if not isNaN(x) else None)"
   ]
  },
  {
   "cell_type": "code",
   "execution_count": null,
   "id": "33b3c316",
   "metadata": {
    "ExecuteTime": {
     "end_time": "2023-04-02T22:58:08.228476Z",
     "start_time": "2023-04-02T22:58:08.212963Z"
    }
   },
   "outputs": [],
   "source": [
    "df_events_v3.shape"
   ]
  },
  {
   "cell_type": "code",
   "execution_count": null,
   "id": "85c85f84",
   "metadata": {
    "ExecuteTime": {
     "end_time": "2023-04-02T22:58:08.240476Z",
     "start_time": "2023-04-02T22:58:08.217476Z"
    }
   },
   "outputs": [],
   "source": [
    "df_events_v3.head(15)"
   ]
  },
  {
   "cell_type": "code",
   "execution_count": null,
   "id": "aa796999",
   "metadata": {
    "ExecuteTime": {
     "end_time": "2023-04-02T22:58:08.299640Z",
     "start_time": "2023-04-02T22:58:08.239476Z"
    }
   },
   "outputs": [],
   "source": [
    "df_weather_reg.head(5)"
   ]
  },
  {
   "cell_type": "code",
   "execution_count": null,
   "id": "7be3ae80",
   "metadata": {
    "ExecuteTime": {
     "end_time": "2023-04-02T22:58:08.380690Z",
     "start_time": "2023-04-02T22:58:08.269231Z"
    }
   },
   "outputs": [],
   "source": [
    "df_weather_reg.shape"
   ]
  },
  {
   "cell_type": "code",
   "execution_count": null,
   "id": "85b4f508",
   "metadata": {
    "ExecuteTime": {
     "end_time": "2023-04-02T22:58:08.408703Z",
     "start_time": "2023-04-02T22:58:08.278642Z"
    }
   },
   "outputs": [],
   "source": [
    "df_events_v3.head(10)\n",
    "df_weather_reg.head(10)"
   ]
  },
  {
   "cell_type": "code",
   "execution_count": null,
   "id": "cfc7e841",
   "metadata": {
    "ExecuteTime": {
     "end_time": "2023-04-02T22:58:08.444229Z",
     "start_time": "2023-04-02T22:58:08.313149Z"
    }
   },
   "outputs": [],
   "source": [
    "df_events_v4 = df_events_v3.copy().add_prefix(\"event_\")\n",
    "df_events_v4.head(10)"
   ]
  },
  {
   "cell_type": "code",
   "execution_count": null,
   "id": "7c35dc66",
   "metadata": {
    "ExecuteTime": {
     "end_time": "2023-04-02T22:58:08.537829Z",
     "start_time": "2023-04-02T22:58:08.337692Z"
    }
   },
   "outputs": [],
   "source": [
    "df_weather_v4 = df_weather_reg.merge(\n",
    "    df_events_v4,\n",
    "    how=\"left\",\n",
    "    left_on=[\"region_alt\", \"hour_datetimeEpoch\"],\n",
    "    right_on=[\"event_region_title\", \"event_hour_level_event_datetimeEpoch\"],\n",
    ")"
   ]
  },
  {
   "cell_type": "code",
   "execution_count": null,
   "id": "ea0266bb",
   "metadata": {
    "ExecuteTime": {
     "end_time": "2023-04-02T22:58:08.910187Z",
     "start_time": "2023-04-02T22:58:08.447241Z"
    }
   },
   "outputs": [],
   "source": [
    "df_weather_v4.head(300)"
   ]
  },
  {
   "cell_type": "code",
   "execution_count": null,
   "id": "87a10851",
   "metadata": {
    "ExecuteTime": {
     "end_time": "2023-04-02T22:58:08.910187Z",
     "start_time": "2023-04-02T22:58:08.850162Z"
    }
   },
   "outputs": [],
   "source": [
    "df_weather_v4.shape"
   ]
  },
  {
   "cell_type": "code",
   "execution_count": null,
   "id": "f1a432d4",
   "metadata": {
    "ExecuteTime": {
     "end_time": "2023-04-02T22:58:13.017710Z",
     "start_time": "2023-04-02T22:58:08.853160Z"
    }
   },
   "outputs": [],
   "source": [
    "df_weather_v4.to_csv(\n",
    "    f\"{OUTPUT_FOLDER}/{WEATHER_EVENTS_OUTPUT_DATA_FILE}\", sep=\";\", index=False\n",
    ")"
   ]
  }
 ],
 "metadata": {
  "kernelspec": {
   "display_name": "Python 3 (ipykernel)",
   "language": "python",
   "name": "python3"
  },
  "language_info": {
   "codemirror_mode": {
    "name": "ipython",
    "version": 3
   },
   "file_extension": ".py",
   "mimetype": "text/x-python",
   "name": "python",
   "nbconvert_exporter": "python",
   "pygments_lexer": "ipython3",
   "version": "3.11.2"
  }
 },
 "nbformat": 4,
 "nbformat_minor": 5
}
